{
  "nbformat": 4,
  "nbformat_minor": 0,
  "metadata": {
    "colab": {
      "name": "Исследование объявлений о продаже квартир.ipynb",
      "provenance": [],
      "toc_visible": true
    },
    "kernelspec": {
      "name": "python3",
      "display_name": "Python 3"
    }
  },
  "cells": [
    {
      "cell_type": "markdown",
      "metadata": {
        "id": "U_9gXhp1ZfSk"
      },
      "source": [
        "#Исследование обьявлений о продаже квартир\r\n",
        "\r\n",
        ">В вашем распоряжении данные сервиса Яндекс.Недвижимость — архив объявлений о продаже квартир в Санкт-Петербурге и соседних населённых пунктов за несколько лет. Нужно научиться определять рыночную стоимость объектов недвижимости. Ваша задача — установить параметры. Это позволит построить автоматизированную систему: она отследит аномалии и мошенническую деятельность. \r\n",
        "\r\n",
        ">По каждой квартире на продажу доступны два вида данных. Первые вписаны пользователем, вторые — получены автоматически на основе картографических данных. Например, расстояние до центра, аэропорта, ближайшего парка и водоёма."
      ]
    },
    {
      "cell_type": "markdown",
      "metadata": {
        "id": "BQRFj3srxYi5"
      },
      "source": [
        "### Открываем файл с данными и изучаем общую информацию. "
      ]
    },
    {
      "cell_type": "code",
      "metadata": {
        "colab": {
          "base_uri": "https://localhost:8080/"
        },
        "id": "qlX9JluCZWud",
        "outputId": "efa7d2d3-280d-463c-9bbc-7f403d4085bd"
      },
      "source": [
        "import pandas as pd\r\n",
        "df = pd.read_csv('/content/2_real_estate_data.csv', sep = '\\t')\r\n",
        "\r\n",
        "df.info()"
      ],
      "execution_count": 8,
      "outputs": [
        {
          "output_type": "stream",
          "text": [
            "<class 'pandas.core.frame.DataFrame'>\n",
            "RangeIndex: 23699 entries, 0 to 23698\n",
            "Data columns (total 22 columns):\n",
            " #   Column                Non-Null Count  Dtype  \n",
            "---  ------                --------------  -----  \n",
            " 0   total_images          23699 non-null  int64  \n",
            " 1   last_price            23699 non-null  float64\n",
            " 2   total_area            23699 non-null  float64\n",
            " 3   first_day_exposition  23699 non-null  object \n",
            " 4   rooms                 23699 non-null  int64  \n",
            " 5   ceiling_height        14504 non-null  float64\n",
            " 6   floors_total          23613 non-null  float64\n",
            " 7   living_area           21796 non-null  float64\n",
            " 8   floor                 23699 non-null  int64  \n",
            " 9   is_apartment          2775 non-null   object \n",
            " 10  studio                23699 non-null  bool   \n",
            " 11  open_plan             23699 non-null  bool   \n",
            " 12  kitchen_area          21421 non-null  float64\n",
            " 13  balcony               12180 non-null  float64\n",
            " 14  locality_name         23650 non-null  object \n",
            " 15  airports_nearest      18157 non-null  float64\n",
            " 16  cityCenters_nearest   18180 non-null  float64\n",
            " 17  parks_around3000      18181 non-null  float64\n",
            " 18  parks_nearest         8079 non-null   float64\n",
            " 19  ponds_around3000      18181 non-null  float64\n",
            " 20  ponds_nearest         9110 non-null   float64\n",
            " 21  days_exposition       20518 non-null  float64\n",
            "dtypes: bool(2), float64(14), int64(3), object(3)\n",
            "memory usage: 3.7+ MB\n"
          ],
          "name": "stdout"
        }
      ]
    },
    {
      "cell_type": "markdown",
      "metadata": {
        "id": "44B9n0jw4KPq"
      },
      "source": [
        "Заметил следующее:\r\n",
        "1. first_day_exposition - object - должен быть тип datetime\r\n",
        "2. ceiling_height - нулевые значения\r\n",
        "3. floors_total - должен быть тип int, т.к. количество этажей - целое значение + нулевые значения\r\n",
        "4. is_apartment - должен быть тип bool + нулевые значения\r\n",
        "5. living_area - нулевые значения\r\n",
        "6. kitchen_area - нулевые значения\r\n",
        "7. balcony - нулевые значения\r\n",
        "8. locality_name  - нулевые значения\r\n",
        "9. airports_nearest - нулевые значения\r\n",
        "10. cityCenters_nearest - нулевые значения\r\n",
        "11. parks_around3000 - тип должен быть int + нулевые значения\r\n",
        "12. parks_nearest  - нулевые значения\r\n",
        "13. ponds_around3000 - тип должен быть int + нулевые значения\r\n",
        "14. ponds_nearest - нулевые значения\r\n",
        "15. days_exposition - тип должен быть int + нулевые значения "
      ]
    },
    {
      "cell_type": "code",
      "metadata": {
        "colab": {
          "base_uri": "https://localhost:8080/",
          "height": 548
        },
        "id": "0S08wTD_3nkI",
        "outputId": "04793a8d-59ae-45d8-8b93-1f3245989327"
      },
      "source": [
        "print(df.columns)\r\n",
        "# оставляем без изменения столбцы\r\n",
        "df['total_images'].value_counts()\r\n",
        "df['ceiling_height'].value_counts()\r\n",
        "df['floor'].value_counts()\r\n",
        "df['is_apartment'].value_counts()\r\n",
        "df['total_area'].value_counts()\r\n",
        "df['rooms'].value_counts()\r\n",
        "df['airports_nearest'].value_counts()\r\n",
        "df['cityCenters_nearest'].value_counts()\r\n",
        "df['parks_around3000'].value_counts()\r\n",
        "df['parks_nearest'].value_counts()\r\n",
        "df['ponds_around3000'].value_counts()\r\n",
        "df['balcony'].value_counts()\r\n",
        "df['locality_name'].value_counts()\r\n",
        "\r\n",
        "# заменим нулевые значения + изменим тип данных\r\n",
        "df['days_exposition'] = df['days_exposition'].fillna(0).astype('int')\r\n",
        "\r\n",
        "# переведем столбец с датой в формат даты без времени, т.к. время не указано\r\n",
        "df['first_day_exposition'] = pd.to_datetime(df['first_day_exposition'] , format='%Y-%m-%d')\r\n",
        "\r\n",
        "# заменим пропуски в balcony на 0 и изменим тип данных на int\r\n",
        "df['balcony'] = df['balcony'].fillna(0).astype('int')\r\n",
        "\r\n",
        "# посмотрим параметр ceiling_height, видим что есть необоснованно большие значения но пока оставим их как есть,\r\n",
        "# медиана от среднего отличается не сильно из-за этих выбросов во всей выборке\r\n",
        "df['ceiling_height'].sort_values().plot(y = 'ceiling_height', kind = 'hist', bins = 30, range=(2,5))\r\n",
        "df['ceiling_height'].value_counts()\r\n",
        "df['ceiling_height'].describe()\r\n",
        "df[df['ceiling_height'] > 4].sort_values('ceiling_height').tail(20)\r\n",
        "\r\n",
        "# столбец апартаменты видимо появился не вместе с началом ведения записей, все пропущенные значения заменим на False, \r\n",
        "# апартаменты появились относительно недавно\r\n",
        "df['is_apartment'] = df['is_apartment'].fillna(False)\r\n",
        "\r\n",
        "# изменим цену на тип int для удобства просмотра\r\n",
        "df['last_price'] = df['last_price'].astype('int')\r\n",
        "\r\n",
        "# посмотрим данные с пропущенными значениями в floors_total- ничего общего между ними нет, оставим как есть\r\n",
        "df[df['floors_total'].isna()]\r\n",
        "\r\n",
        "# living_area слишком много знаков после запятой и есть пропущенные значения, \r\n",
        "# можно посчитать средний процент жилой площади от всей площади по всей выборке\r\n",
        "# и высчитать для строк с пропусками жилую площадь как вариант но мы не будем тратить на это время\r\n",
        "df['living_area'].value_counts()\r\n",
        "df['living_area'].describe()"
      ],
      "execution_count": 18,
      "outputs": [
        {
          "output_type": "stream",
          "text": [
            "Index(['total_images', 'last_price', 'total_area', 'first_day_exposition',\n",
            "       'rooms', 'ceiling_height', 'floors_total', 'living_area', 'floor',\n",
            "       'is_apartment', 'studio', 'open_plan', 'kitchen_area', 'balcony',\n",
            "       'locality_name', 'airports_nearest', 'cityCenters_nearest',\n",
            "       'parks_around3000', 'parks_nearest', 'ponds_around3000',\n",
            "       'ponds_nearest', 'days_exposition'],\n",
            "      dtype='object')\n"
          ],
          "name": "stdout"
        },
        {
          "output_type": "execute_result",
          "data": {
            "text/plain": [
              "count    21796.000000\n",
              "mean        34.457852\n",
              "std         22.030445\n",
              "min          2.000000\n",
              "25%         18.600000\n",
              "50%         30.000000\n",
              "75%         42.300000\n",
              "max        409.700000\n",
              "Name: living_area, dtype: float64"
            ]
          },
          "metadata": {
            "tags": []
          },
          "execution_count": 18
        },
        {
          "output_type": "display_data",
          "data": {
            "image/png": "[encoded data removed]",
            "text/plain": [
              "<Figure size 432x288 with 1 Axes>"
            ]
          },
          "metadata": {
            "tags": [],
            "needs_background": "light"
          }
        }
      ]
    },
    {
      "cell_type": "markdown",
      "metadata": {
        "id": "jj106lLt8qnz"
      },
      "source": [
        "### Посчитайте и добавьте в таблицу\r\n",
        "\r\n",
        "1. цену квадратного метра;\r\n",
        "2. день недели, месяц и год публикации объявления;\r\n",
        "3. этаж квартиры; варианты — первый, последний, другой;\r\n",
        "4. соотношение жилой и общей площади, а также отношение площади кухни к общей."
      ]
    },
    {
      "cell_type": "code",
      "metadata": {
        "id": "-gqLq5XT7hnz"
      },
      "source": [
        "# посчитаем цену квадратного метра\r\n",
        "df['price_per_square_meter'] = df['last_price'] / df['total_area']\r\n",
        "df['price_per_square_meter'] = df['price_per_square_meter'].astype('int')\r\n",
        "\r\n",
        "# создаю столбец дня недели\r\n",
        "df['weekday_exposition'] = df['first_day_exposition'].dt.weekday\r\n",
        "\r\n",
        "# создаю столбец месяца\r\n",
        "df['month_exposition'] = df['first_day_exposition'].dt.month\r\n",
        "\r\n",
        "# создаю столбец года\r\n",
        "df['year_exposition'] = df['first_day_exposition'].dt.year\r\n",
        "\r\n",
        "# напишем функцию категоризации по этажам, используя метод apply применимо к каждой строке датафрейма через axis = 1\r\n",
        "def floor_category(row):\r\n",
        "    floors_total = row['floors_total']\r\n",
        "    floor = row['floor']\r\n",
        "    if floor == 1:\r\n",
        "        return 'первый'\r\n",
        "    elif floor == floors_total:\r\n",
        "        return 'последний'\r\n",
        "    elif 1 < floor < floors_total:\r\n",
        "        return 'другой'\r\n",
        "    \r\n",
        "# категоризуем этажи с помощью функции  \r\n",
        "df['floor_category'] = df.apply(floor_category, axis = 1)\r\n",
        "\r\n",
        "# добавим столбец соотношения жилой площади к общей\r\n",
        "df['useful_area_ratio'] = df['living_area'] / df['total_area']\r\n",
        "\r\n",
        "# добавим столбец отношения площади кухни к общей\r\n",
        "df['kitchen_area_ratio'] = df['kitchen_area'] / df['total_area']"
      ],
      "execution_count": 71,
      "outputs": []
    },
    {
      "cell_type": "markdown",
      "metadata": {
        "id": "1snsd6ln-yrL"
      },
      "source": [
        "### Проведите исследовательский анализ данных и выполните инструкции:\r\n",
        "#### 1. Изучение следующих параметров: площадь, цена, число комнат, высота потолков. Гистограммы для каждого параметра."
      ]
    },
    {
      "cell_type": "code",
      "metadata": {
        "colab": {
          "base_uri": "https://localhost:8080/",
          "height": 1000
        },
        "id": "Lt9CLez-7hlA",
        "outputId": "8d79bd87-6f25-4747-851a-dc85484d452a"
      },
      "source": [
        "# Изучение площади\r\n",
        "df.plot(y= 'total_area', kind='hist', bins = 100, grid = True, figsize = (6,5),  range = (0,450))\r\n",
        "df['total_area'].describe()\r\n",
        "# распределение данных нормальное, есть выбросы но они не сильно влияют на данные \r\n",
        "\r\n",
        "# Изучение цены\r\n",
        "df.plot( y= 'last_price', kind='hist', bins = 100, grid = True, figsize = (6,5),  range = (0,15000000))\r\n",
        "df['last_price'].describe()\r\n",
        "# с данными все впорядке но значения выводятся в экспоненциальной записи чисел\r\n",
        "\r\n",
        "# Изучение количества комнат\r\n",
        "df.plot( y= 'rooms', kind='hist', bins = 30, grid = True, figsize = (6,5), range = (0, 10))\r\n",
        "df['rooms'].describe()\r\n",
        "# с данными все впорядке\r\n",
        "\r\n",
        "# Изучение высоты потолков\r\n",
        "df.plot(y = 'ceiling_height', kind = 'hist', bins = 30, range = (2,5), grid=True, figsize = (5,3))\r\n",
        "df['ceiling_height'].describe()\r\n",
        "# с данными все впорядк"
      ],
      "execution_count": 43,
      "outputs": [
        {
          "output_type": "execute_result",
          "data": {
            "text/plain": [
              "count    14504.000000\n",
              "mean         2.771499\n",
              "std          1.261056\n",
              "min          1.000000\n",
              "25%          2.520000\n",
              "50%          2.650000\n",
              "75%          2.800000\n",
              "max        100.000000\n",
              "Name: ceiling_height, dtype: float64"
            ]
          },
          "metadata": {
            "tags": []
          },
          "execution_count": 43
        },
        {
          "output_type": "display_data",
          "data": {
            "image/png": "[encoded data removed]",
            "text/plain": [
              "<Figure size 432x360 with 1 Axes>"
            ]
          },
          "metadata": {
            "tags": [],
            "needs_background": "light"
          }
        },
        {
          "output_type": "display_data",
          "data": {
            "image/png": "[encoded data removed]",
            "text/plain": [
              "<Figure size 432x360 with 1 Axes>"
            ]
          },
          "metadata": {
            "tags": [],
            "needs_background": "light"
          }
        },
        {
          "output_type": "display_data",
          "data": {
            "image/png": "[encoded data removed]",
            "text/plain": [
              "<Figure size 432x360 with 1 Axes>"
            ]
          },
          "metadata": {
            "tags": [],
            "needs_background": "light"
          }
        },
        {
          "output_type": "display_data",
          "data": {
            "image/png": "[encoded data removed]",
            "text/plain": [
              "<Figure size 360x216 with 1 Axes>"
            ]
          },
          "metadata": {
            "tags": [],
            "needs_background": "light"
          }
        }
      ]
    },
    {
      "cell_type": "markdown",
      "metadata": {
        "id": "5URPc9iCDMaf"
      },
      "source": [
        "**Вывод:** \r\n",
        "1. Общая площадь в нашей выборке колеблется от 12 до 900 м2, среднее значение 60, а медиана 52 м2. Распределение данных по Гауссу.\r\n",
        "\r\n",
        "2. Цены на недвижимость имеют среднее значение в 6,5 млн руб., медиана 4,6 млн руб. Распределение данных по Гауссу.\r\n",
        "\r\n",
        "3. Количество комнат колеблется от 1 до 19. Больше всего однокомнатных квартир.\r\n",
        "\r\n",
        "4. Высота потолков в среднем составляет 2,77 м, медиана 2,65 м.\r\n",
        "\r\n",
        "Во всех данных есть неадекватные значения: 0 комнат, высоты потолков в 1 или 100 метров, а также цена квартиры в 12190 рублей. О данных неадекватных значениях мы спросим у сотрудников, предоставивших нам выборку данных, для общего изучения данных, мы не станем убирать эти выбивающиеся значения."
      ]
    },
    {
      "cell_type": "markdown",
      "metadata": {
        "id": "q_cuWUzpFRWO"
      },
      "source": [
        "#### 2. Изучите время продажи квартиры. Постройте гистограмму. Посчитайте среднее и медиану. Опишите, сколько обычно занимает продажа. Когда можно считать, что продажи прошли очень быстро, а когда необычно долго?\r\n",
        "\r\n",
        "Прежде чем начать выполнять это задание сделаем предположение, что дата снятия объявления может не считаться датой продажи, причем в непонятном для нас количестве случаев..."
      ]
    },
    {
      "cell_type": "code",
      "metadata": {
        "colab": {
          "base_uri": "https://localhost:8080/",
          "height": 928
        },
        "id": "vJG630sB7hZh",
        "outputId": "f0cce04d-6929-4ce7-ab7e-dedce717924f"
      },
      "source": [
        "import matplotlib.pyplot as plt\r\n",
        "# диаграмма размаха\r\n",
        "plt.boxplot(df[df['days_exposition'] != 0]['days_exposition'])\r\n",
        "plt.ylim(1,1000)\r\n",
        "\r\n",
        "df.plot(y = 'days_exposition', kind = 'hist', bins = 30, grid = True, range = (1,1600))\r\n",
        "df.plot(y = 'days_exposition', kind = 'hist', bins = 100, grid = True, range = (1,200))\r\n",
        "\r\n",
        "# среднее значение, медиана и межквартильный размах\r\n",
        "df[df['days_exposition']!=0]['days_exposition'].describe()\r\n",
        "#df[df['days_exposition']!=0]['days_exposition'].value_counts()\r\n"
      ],
      "execution_count": 56,
      "outputs": [
        {
          "output_type": "execute_result",
          "data": {
            "text/plain": [
              "count    20518.000000\n",
              "mean       180.888634\n",
              "std        219.727988\n",
              "min          1.000000\n",
              "25%         45.000000\n",
              "50%         95.000000\n",
              "75%        232.000000\n",
              "max       1580.000000\n",
              "Name: days_exposition, dtype: float64"
            ]
          },
          "metadata": {
            "tags": []
          },
          "execution_count": 56
        },
        {
          "output_type": "display_data",
          "data": {
            "image/png": "[encoded data removed]",
            "text/plain": [
              "<Figure size 432x288 with 1 Axes>"
            ]
          },
          "metadata": {
            "tags": [],
            "needs_background": "light"
          }
        },
        {
          "output_type": "display_data",
          "data": {
            "image/png": "[encoded data removed]",
            "text/plain": [
              "<Figure size 432x288 with 1 Axes>"
            ]
          },
          "metadata": {
            "tags": [],
            "needs_background": "light"
          }
        },
        {
          "output_type": "display_data",
          "data": {
            "image/png": "[encoded data removed]",
            "text/plain": [
              "<Figure size 432x288 with 1 Axes>"
            ]
          },
          "metadata": {
            "tags": [],
            "needs_background": "light"
          }
        }
      ]
    },
    {
      "cell_type": "markdown",
      "metadata": {
        "id": "-ujnX9SCGvc3"
      },
      "source": [
        "**Вывод:** судя по гистограмме - мы имеем распределение Пуассона. Среднее значение - 180 дней, а медиана - 95 дней.\r\n",
        "Сделав гистограмму со значениями от 0 до 200 с кол-вом корзин 100, обнаружили выбивающиеся значения и методом value_counts убедились в этом - у нас аномалии на 45, 60, 7, 30, 90 днях - это наиболее популярное количество дней до снятия объявления.\r\n",
        "\r\n",
        "Загуглил правила размещения объявлений в Яндекс Недвижимость, оказалось что именно после этих сроков объявление считается неактуальным и снимается автоматически.\r\n",
        "https://yandex.ru/support/realty/owner/home/add-ads-housing.html\r\n",
        "Наверное, нам нужно убрать эти значения из выборки, но нужно подумать есть ли еще критерии для снятия таких объявлений, ведь часть из таких квартир могла и правда продаться в этот срок.\r\n"
      ]
    },
    {
      "cell_type": "code",
      "metadata": {
        "colab": {
          "base_uri": "https://localhost:8080/",
          "height": 610
        },
        "id": "l-8NHV8NDMLr",
        "outputId": "752a0e2c-b796-4c99-c448-3bee1e3d84ef"
      },
      "source": [
        "df[df['days_exposition']==45]"
      ],
      "execution_count": 58,
      "outputs": [
        {
          "output_type": "execute_result",
          "data": {
            "text/html": [
              "<div>\n",
              "<style scoped>\n",
              "    .dataframe tbody tr th:only-of-type {\n",
              "        vertical-align: middle;\n",
              "    }\n",
              "\n",
              "    .dataframe tbody tr th {\n",
              "        vertical-align: top;\n",
              "    }\n",
              "\n",
              "    .dataframe thead th {\n",
              "        text-align: right;\n",
              "    }\n",
              "</style>\n",
              "<table border=\"1\" class=\"dataframe\">\n",
              "  <thead>\n",
              "    <tr style=\"text-align: right;\">\n",
              "      <th></th>\n",
              "      <th>total_images</th>\n",
              "      <th>last_price</th>\n",
              "      <th>total_area</th>\n",
              "      <th>first_day_exposition</th>\n",
              "      <th>rooms</th>\n",
              "      <th>ceiling_height</th>\n",
              "      <th>floors_total</th>\n",
              "      <th>living_area</th>\n",
              "      <th>floor</th>\n",
              "      <th>is_apartment</th>\n",
              "      <th>studio</th>\n",
              "      <th>open_plan</th>\n",
              "      <th>kitchen_area</th>\n",
              "      <th>balcony</th>\n",
              "      <th>locality_name</th>\n",
              "      <th>airports_nearest</th>\n",
              "      <th>cityCenters_nearest</th>\n",
              "      <th>parks_around3000</th>\n",
              "      <th>parks_nearest</th>\n",
              "      <th>ponds_around3000</th>\n",
              "      <th>ponds_nearest</th>\n",
              "      <th>days_exposition</th>\n",
              "      <th>price_per_square_meter</th>\n",
              "    </tr>\n",
              "  </thead>\n",
              "  <tbody>\n",
              "    <tr>\n",
              "      <th>78</th>\n",
              "      <td>9</td>\n",
              "      <td>4350000</td>\n",
              "      <td>37.0</td>\n",
              "      <td>2018-02-22</td>\n",
              "      <td>1</td>\n",
              "      <td>NaN</td>\n",
              "      <td>19.0</td>\n",
              "      <td>18.0</td>\n",
              "      <td>6</td>\n",
              "      <td>False</td>\n",
              "      <td>False</td>\n",
              "      <td>False</td>\n",
              "      <td>10.7</td>\n",
              "      <td>0</td>\n",
              "      <td>Санкт-Петербург</td>\n",
              "      <td>34324.0</td>\n",
              "      <td>14192.0</td>\n",
              "      <td>0.0</td>\n",
              "      <td>NaN</td>\n",
              "      <td>0.0</td>\n",
              "      <td>NaN</td>\n",
              "      <td>45</td>\n",
              "      <td>117567</td>\n",
              "    </tr>\n",
              "    <tr>\n",
              "      <th>89</th>\n",
              "      <td>9</td>\n",
              "      <td>2500000</td>\n",
              "      <td>63.0</td>\n",
              "      <td>2018-10-25</td>\n",
              "      <td>3</td>\n",
              "      <td>2.50</td>\n",
              "      <td>5.0</td>\n",
              "      <td>43.0</td>\n",
              "      <td>4</td>\n",
              "      <td>False</td>\n",
              "      <td>False</td>\n",
              "      <td>False</td>\n",
              "      <td>9.0</td>\n",
              "      <td>0</td>\n",
              "      <td>посёлок городского типа Сиверский</td>\n",
              "      <td>NaN</td>\n",
              "      <td>NaN</td>\n",
              "      <td>NaN</td>\n",
              "      <td>NaN</td>\n",
              "      <td>NaN</td>\n",
              "      <td>NaN</td>\n",
              "      <td>45</td>\n",
              "      <td>39682</td>\n",
              "    </tr>\n",
              "    <tr>\n",
              "      <th>110</th>\n",
              "      <td>6</td>\n",
              "      <td>3850000</td>\n",
              "      <td>72.3</td>\n",
              "      <td>2017-09-29</td>\n",
              "      <td>2</td>\n",
              "      <td>NaN</td>\n",
              "      <td>3.0</td>\n",
              "      <td>27.4</td>\n",
              "      <td>2</td>\n",
              "      <td>False</td>\n",
              "      <td>False</td>\n",
              "      <td>False</td>\n",
              "      <td>23.6</td>\n",
              "      <td>0</td>\n",
              "      <td>деревня Пикколово</td>\n",
              "      <td>NaN</td>\n",
              "      <td>NaN</td>\n",
              "      <td>NaN</td>\n",
              "      <td>NaN</td>\n",
              "      <td>NaN</td>\n",
              "      <td>NaN</td>\n",
              "      <td>45</td>\n",
              "      <td>53250</td>\n",
              "    </tr>\n",
              "    <tr>\n",
              "      <th>153</th>\n",
              "      <td>12</td>\n",
              "      <td>4350000</td>\n",
              "      <td>55.0</td>\n",
              "      <td>2017-05-21</td>\n",
              "      <td>2</td>\n",
              "      <td>2.57</td>\n",
              "      <td>9.0</td>\n",
              "      <td>31.2</td>\n",
              "      <td>2</td>\n",
              "      <td>False</td>\n",
              "      <td>False</td>\n",
              "      <td>False</td>\n",
              "      <td>8.3</td>\n",
              "      <td>0</td>\n",
              "      <td>Петергоф</td>\n",
              "      <td>45958.0</td>\n",
              "      <td>34425.0</td>\n",
              "      <td>1.0</td>\n",
              "      <td>589.0</td>\n",
              "      <td>0.0</td>\n",
              "      <td>NaN</td>\n",
              "      <td>45</td>\n",
              "      <td>79090</td>\n",
              "    </tr>\n",
              "    <tr>\n",
              "      <th>158</th>\n",
              "      <td>15</td>\n",
              "      <td>3100000</td>\n",
              "      <td>47.3</td>\n",
              "      <td>2017-11-07</td>\n",
              "      <td>2</td>\n",
              "      <td>NaN</td>\n",
              "      <td>5.0</td>\n",
              "      <td>27.5</td>\n",
              "      <td>2</td>\n",
              "      <td>False</td>\n",
              "      <td>False</td>\n",
              "      <td>False</td>\n",
              "      <td>8.5</td>\n",
              "      <td>0</td>\n",
              "      <td>городской посёлок Янино-1</td>\n",
              "      <td>NaN</td>\n",
              "      <td>NaN</td>\n",
              "      <td>NaN</td>\n",
              "      <td>NaN</td>\n",
              "      <td>NaN</td>\n",
              "      <td>NaN</td>\n",
              "      <td>45</td>\n",
              "      <td>65539</td>\n",
              "    </tr>\n",
              "    <tr>\n",
              "      <th>...</th>\n",
              "      <td>...</td>\n",
              "      <td>...</td>\n",
              "      <td>...</td>\n",
              "      <td>...</td>\n",
              "      <td>...</td>\n",
              "      <td>...</td>\n",
              "      <td>...</td>\n",
              "      <td>...</td>\n",
              "      <td>...</td>\n",
              "      <td>...</td>\n",
              "      <td>...</td>\n",
              "      <td>...</td>\n",
              "      <td>...</td>\n",
              "      <td>...</td>\n",
              "      <td>...</td>\n",
              "      <td>...</td>\n",
              "      <td>...</td>\n",
              "      <td>...</td>\n",
              "      <td>...</td>\n",
              "      <td>...</td>\n",
              "      <td>...</td>\n",
              "      <td>...</td>\n",
              "      <td>...</td>\n",
              "    </tr>\n",
              "    <tr>\n",
              "      <th>23601</th>\n",
              "      <td>10</td>\n",
              "      <td>2900000</td>\n",
              "      <td>43.4</td>\n",
              "      <td>2018-01-11</td>\n",
              "      <td>2</td>\n",
              "      <td>NaN</td>\n",
              "      <td>5.0</td>\n",
              "      <td>NaN</td>\n",
              "      <td>1</td>\n",
              "      <td>False</td>\n",
              "      <td>False</td>\n",
              "      <td>False</td>\n",
              "      <td>NaN</td>\n",
              "      <td>0</td>\n",
              "      <td>Санкт-Петербург</td>\n",
              "      <td>22001.0</td>\n",
              "      <td>14193.0</td>\n",
              "      <td>1.0</td>\n",
              "      <td>202.0</td>\n",
              "      <td>2.0</td>\n",
              "      <td>397.0</td>\n",
              "      <td>45</td>\n",
              "      <td>66820</td>\n",
              "    </tr>\n",
              "    <tr>\n",
              "      <th>23613</th>\n",
              "      <td>4</td>\n",
              "      <td>3950000</td>\n",
              "      <td>52.0</td>\n",
              "      <td>2018-03-04</td>\n",
              "      <td>3</td>\n",
              "      <td>NaN</td>\n",
              "      <td>5.0</td>\n",
              "      <td>NaN</td>\n",
              "      <td>2</td>\n",
              "      <td>False</td>\n",
              "      <td>False</td>\n",
              "      <td>False</td>\n",
              "      <td>NaN</td>\n",
              "      <td>0</td>\n",
              "      <td>посёлок Парголово</td>\n",
              "      <td>55549.0</td>\n",
              "      <td>21223.0</td>\n",
              "      <td>0.0</td>\n",
              "      <td>NaN</td>\n",
              "      <td>0.0</td>\n",
              "      <td>NaN</td>\n",
              "      <td>45</td>\n",
              "      <td>75961</td>\n",
              "    </tr>\n",
              "    <tr>\n",
              "      <th>23670</th>\n",
              "      <td>9</td>\n",
              "      <td>2450000</td>\n",
              "      <td>45.6</td>\n",
              "      <td>2018-02-08</td>\n",
              "      <td>1</td>\n",
              "      <td>2.80</td>\n",
              "      <td>9.0</td>\n",
              "      <td>NaN</td>\n",
              "      <td>2</td>\n",
              "      <td>False</td>\n",
              "      <td>False</td>\n",
              "      <td>False</td>\n",
              "      <td>NaN</td>\n",
              "      <td>0</td>\n",
              "      <td>поселок городского типа Синявино</td>\n",
              "      <td>NaN</td>\n",
              "      <td>NaN</td>\n",
              "      <td>NaN</td>\n",
              "      <td>NaN</td>\n",
              "      <td>NaN</td>\n",
              "      <td>NaN</td>\n",
              "      <td>45</td>\n",
              "      <td>53728</td>\n",
              "    </tr>\n",
              "    <tr>\n",
              "      <th>23679</th>\n",
              "      <td>0</td>\n",
              "      <td>2500000</td>\n",
              "      <td>35.0</td>\n",
              "      <td>2017-12-08</td>\n",
              "      <td>1</td>\n",
              "      <td>NaN</td>\n",
              "      <td>9.0</td>\n",
              "      <td>NaN</td>\n",
              "      <td>4</td>\n",
              "      <td>False</td>\n",
              "      <td>False</td>\n",
              "      <td>False</td>\n",
              "      <td>NaN</td>\n",
              "      <td>0</td>\n",
              "      <td>Сосновый Бор</td>\n",
              "      <td>NaN</td>\n",
              "      <td>NaN</td>\n",
              "      <td>NaN</td>\n",
              "      <td>NaN</td>\n",
              "      <td>NaN</td>\n",
              "      <td>NaN</td>\n",
              "      <td>45</td>\n",
              "      <td>71428</td>\n",
              "    </tr>\n",
              "    <tr>\n",
              "      <th>23695</th>\n",
              "      <td>14</td>\n",
              "      <td>3100000</td>\n",
              "      <td>59.0</td>\n",
              "      <td>2018-01-15</td>\n",
              "      <td>3</td>\n",
              "      <td>NaN</td>\n",
              "      <td>5.0</td>\n",
              "      <td>38.0</td>\n",
              "      <td>4</td>\n",
              "      <td>False</td>\n",
              "      <td>False</td>\n",
              "      <td>False</td>\n",
              "      <td>8.5</td>\n",
              "      <td>0</td>\n",
              "      <td>Тосно</td>\n",
              "      <td>NaN</td>\n",
              "      <td>NaN</td>\n",
              "      <td>NaN</td>\n",
              "      <td>NaN</td>\n",
              "      <td>NaN</td>\n",
              "      <td>NaN</td>\n",
              "      <td>45</td>\n",
              "      <td>52542</td>\n",
              "    </tr>\n",
              "  </tbody>\n",
              "</table>\n",
              "<p>880 rows × 23 columns</p>\n",
              "</div>"
            ],
            "text/plain": [
              "       total_images  last_price  ...  days_exposition price_per_square_meter\n",
              "78                9     4350000  ...               45                 117567\n",
              "89                9     2500000  ...               45                  39682\n",
              "110               6     3850000  ...               45                  53250\n",
              "153              12     4350000  ...               45                  79090\n",
              "158              15     3100000  ...               45                  65539\n",
              "...             ...         ...  ...              ...                    ...\n",
              "23601            10     2900000  ...               45                  66820\n",
              "23613             4     3950000  ...               45                  75961\n",
              "23670             9     2450000  ...               45                  53728\n",
              "23679             0     2500000  ...               45                  71428\n",
              "23695            14     3100000  ...               45                  52542\n",
              "\n",
              "[880 rows x 23 columns]"
            ]
          },
          "metadata": {
            "tags": []
          },
          "execution_count": 58
        }
      ]
    },
    {
      "cell_type": "markdown",
      "metadata": {
        "id": "BLkse8ewHwvd"
      },
      "source": [
        "**Вывод:** никаких общих особенностей в обьявлениях, снятых через 45 дней не выявлено, потому будем убирать эти данные из наших расчетов, как и данные с 60, 90, 30 и 7 дней в столбце days_exposition, так как это аномалии.\r\n",
        "\r\n",
        "До того, как мы очистим наши данные от аномалий, нам нужно дать ответ на вопрос, какое количество дней считать нормальным, а какое выбросом на текущий момент до очистки данных.\r\n",
        "Исходя из метода describe, межквартильный размах - от 45 до 232 дней, исходя же из метода boxplot - диаграмма размаха у нас от минимального значения до примерно 500 дней. Значит необоснованно быстрых значений у нас нет, а необоснованно долгие - от 500 дней и выше. Значит нормальные значения у нас лежат от 1 до 500.\r\n",
        "\r\n",
        "На текущий момент мы уже знаем, что эти данные неправильные, но они нам нужны, чтобы сравнить с данными, очищенными от аномалий далее.\r\n",
        "\r\n",
        "Считаю важным уточнить у сотрудников насчет выбивающихся значений по датам снятия объявлений, чтобы убедиться в том, какие данные необходимо исключить из выборки."
      ]
    },
    {
      "cell_type": "markdown",
      "metadata": {
        "id": "PjdCAok1H-cH"
      },
      "source": [
        "#### 3. Уберите редкие и выбивающиеся значения. Опишите, какие особенности обнаружили."
      ]
    },
    {
      "cell_type": "code",
      "metadata": {
        "colab": {
          "base_uri": "https://localhost:8080/",
          "height": 928
        },
        "id": "v9cspUCYDMIj",
        "outputId": "544cd073-e4c9-4be9-bf4c-ed8bf53fa621"
      },
      "source": [
        "# отфильтруем данные от аномалий и запишем их в новый датафрейм good_data\r\n",
        "good_df = df.query('days_exposition != 45 and days_exposition != 30 and days_exposition != 60 and days_exposition != 90 and days_exposition != 7 and days_exposition != 0')\r\n",
        "\r\n",
        "# диаграмма размаха\r\n",
        "plt.boxplot(good_df['days_exposition'])\r\n",
        "plt.ylim(1,1000)\r\n",
        "\r\n",
        "# гистограммы\r\n",
        "good_df.plot(y = 'days_exposition', kind = 'hist', bins = 30, grid = True, range = (1,1600))\r\n",
        "good_df.plot(y = 'days_exposition', kind = 'hist', bins = 100, grid = True, range = (1,200))\r\n",
        "\r\n",
        "# среднее значение, медиана и межквартильный размах\r\n",
        "#good_df['days_exposition'].value_counts()\r\n",
        "good_df['days_exposition'].describe()\r\n"
      ],
      "execution_count": 59,
      "outputs": [
        {
          "output_type": "execute_result",
          "data": {
            "text/plain": [
              "count    18454.000000\n",
              "mean       195.803349\n",
              "std        226.760010\n",
              "min          1.000000\n",
              "25%         44.000000\n",
              "50%        114.000000\n",
              "75%        259.000000\n",
              "max       1580.000000\n",
              "Name: days_exposition, dtype: float64"
            ]
          },
          "metadata": {
            "tags": []
          },
          "execution_count": 59
        },
        {
          "output_type": "display_data",
          "data": {
            "image/png": "[encoded data removed]",
            "text/plain": [
              "<Figure size 432x288 with 1 Axes>"
            ]
          },
          "metadata": {
            "tags": [],
            "needs_background": "light"
          }
        },
        {
          "output_type": "display_data",
          "data": {
            "image/png": "[encoded data removed]",
            "text/plain": [
              "<Figure size 432x288 with 1 Axes>"
            ]
          },
          "metadata": {
            "tags": [],
            "needs_background": "light"
          }
        },
        {
          "output_type": "display_data",
          "data": {
            "image/png": "[encoded data removed]",
            "text/plain": [
              "<Figure size 432x288 with 1 Axes>"
            ]
          },
          "metadata": {
            "tags": [],
            "needs_background": "light"
          }
        }
      ]
    },
    {
      "cell_type": "markdown",
      "metadata": {
        "id": "e7mVj-FzITTg"
      },
      "source": [
        "**Вывод**: ожидаемо, в очищенных данных с аномалиями в значениях меньших медианы получаем бОльшие значения медианы и среднего значения - 114 и 195 соответственно, вместо 95 и 180. Аналогично, теперь нормальные значения располагаются от 1 до 600 дней вместо от 1 до 500 дней."
      ]
    },
    {
      "cell_type": "markdown",
      "metadata": {
        "id": "QRpiNWsoIbZ-"
      },
      "source": [
        "#### 4. Какие факторы больше всего влияют на стоимость квартиры? Изучите, зависит ли цена квадратного метра от общей площади квартиры, числа комнат, этажа (первого или последнего), удалённости от центра. Также изучите зависимость от даты размещения: дня недели, месяца и года."
      ]
    },
    {
      "cell_type": "markdown",
      "metadata": {
        "id": "8wiyCgS5KDtW"
      },
      "source": [
        "**Изучим зависимость цены квадратного метра от общей площади квартиры.**"
      ]
    },
    {
      "cell_type": "code",
      "metadata": {
        "colab": {
          "base_uri": "https://localhost:8080/",
          "height": 382
        },
        "id": "n1M2O_8EDMFa",
        "outputId": "1ffe8dc2-13b3-4d3b-be73-cc7562719ee7"
      },
      "source": [
        "pivot_table_total_area = df.pivot_table(index = 'total_area', values = 'price_per_square_meter', aggfunc = ['mean', 'count', 'median'])\r\n",
        "pivot_table_total_area.columns = ['mean', 'count', 'median']\r\n",
        "pivot_table_total_area.plot(y = 'median', style = 'o')\r\n",
        "\r\n",
        "df[['price_per_square_meter', 'total_area']].corr()"
      ],
      "execution_count": 62,
      "outputs": [
        {
          "output_type": "execute_result",
          "data": {
            "text/html": [
              "<div>\n",
              "<style scoped>\n",
              "    .dataframe tbody tr th:only-of-type {\n",
              "        vertical-align: middle;\n",
              "    }\n",
              "\n",
              "    .dataframe tbody tr th {\n",
              "        vertical-align: top;\n",
              "    }\n",
              "\n",
              "    .dataframe thead th {\n",
              "        text-align: right;\n",
              "    }\n",
              "</style>\n",
              "<table border=\"1\" class=\"dataframe\">\n",
              "  <thead>\n",
              "    <tr style=\"text-align: right;\">\n",
              "      <th></th>\n",
              "      <th>price_per_square_meter</th>\n",
              "      <th>total_area</th>\n",
              "    </tr>\n",
              "  </thead>\n",
              "  <tbody>\n",
              "    <tr>\n",
              "      <th>price_per_square_meter</th>\n",
              "      <td>1.00000</td>\n",
              "      <td>0.30196</td>\n",
              "    </tr>\n",
              "    <tr>\n",
              "      <th>total_area</th>\n",
              "      <td>0.30196</td>\n",
              "      <td>1.00000</td>\n",
              "    </tr>\n",
              "  </tbody>\n",
              "</table>\n",
              "</div>"
            ],
            "text/plain": [
              "                        price_per_square_meter  total_area\n",
              "price_per_square_meter                 1.00000     0.30196\n",
              "total_area                             0.30196     1.00000"
            ]
          },
          "metadata": {
            "tags": []
          },
          "execution_count": 62
        },
        {
          "output_type": "display_data",
          "data": {
            "image/png": "[encoded data removed]",
            "text/plain": [
              "<Figure size 432x288 with 1 Axes>"
            ]
          },
          "metadata": {
            "tags": [],
            "needs_background": "light"
          }
        }
      ]
    },
    {
      "cell_type": "markdown",
      "metadata": {
        "id": "eTrn-m73KTQO"
      },
      "source": [
        "**Вывод:** видим, что зависимость очень слабая - согласно корреляции Пирсона - 0.3! То есть, чем больше площадь тем немного выше стоимость!"
      ]
    },
    {
      "cell_type": "markdown",
      "metadata": {
        "id": "AfV0QArbK9k2"
      },
      "source": [
        "**Изучим зависимость цены квадратного метра от числа комнат.**\r\n"
      ]
    },
    {
      "cell_type": "code",
      "metadata": {
        "colab": {
          "base_uri": "https://localhost:8080/",
          "height": 370
        },
        "id": "A0SLF53KDMCj",
        "outputId": "595f7ce6-dd54-42a1-f51e-a6d3de240e3f"
      },
      "source": [
        "pivot_table_rooms = df.pivot_table(index = 'rooms', values = 'price_per_square_meter', aggfunc = ['mean', 'count', 'median'])\r\n",
        "pivot_table_rooms.columns = ['mean', 'count', 'median']\r\n",
        "pivot_table_rooms.query('count > 50').plot(y = 'median')\r\n",
        "\r\n",
        "df[['rooms', 'price_per_square_meter']].corr()"
      ],
      "execution_count": 64,
      "outputs": [
        {
          "output_type": "execute_result",
          "data": {
            "text/html": [
              "<div>\n",
              "<style scoped>\n",
              "    .dataframe tbody tr th:only-of-type {\n",
              "        vertical-align: middle;\n",
              "    }\n",
              "\n",
              "    .dataframe tbody tr th {\n",
              "        vertical-align: top;\n",
              "    }\n",
              "\n",
              "    .dataframe thead th {\n",
              "        text-align: right;\n",
              "    }\n",
              "</style>\n",
              "<table border=\"1\" class=\"dataframe\">\n",
              "  <thead>\n",
              "    <tr style=\"text-align: right;\">\n",
              "      <th></th>\n",
              "      <th>rooms</th>\n",
              "      <th>price_per_square_meter</th>\n",
              "    </tr>\n",
              "  </thead>\n",
              "  <tbody>\n",
              "    <tr>\n",
              "      <th>rooms</th>\n",
              "      <td>1.000000</td>\n",
              "      <td>0.055419</td>\n",
              "    </tr>\n",
              "    <tr>\n",
              "      <th>price_per_square_meter</th>\n",
              "      <td>0.055419</td>\n",
              "      <td>1.000000</td>\n",
              "    </tr>\n",
              "  </tbody>\n",
              "</table>\n",
              "</div>"
            ],
            "text/plain": [
              "                           rooms  price_per_square_meter\n",
              "rooms                   1.000000                0.055419\n",
              "price_per_square_meter  0.055419                1.000000"
            ]
          },
          "metadata": {
            "tags": []
          },
          "execution_count": 64
        },
        {
          "output_type": "display_data",
          "data": {
            "image/png": "[encoded data removed]",
            "text/plain": [
              "<Figure size 432x288 with 1 Axes>"
            ]
          },
          "metadata": {
            "tags": [],
            "needs_background": "light"
          }
        }
      ]
    },
    {
      "cell_type": "markdown",
      "metadata": {
        "id": "pNezDfqoLJu1"
      },
      "source": [
        "**Вывод:** чем ближе количество комнат к 3 тем ниже стоимость квадратного метра."
      ]
    },
    {
      "cell_type": "markdown",
      "metadata": {
        "id": "ZWuxCO4EXL1S"
      },
      "source": [
        "**Изучим зависимость цены квадратного метра от этажа (первого или последнего).**"
      ]
    },
    {
      "cell_type": "code",
      "metadata": {
        "colab": {
          "base_uri": "https://localhost:8080/",
          "height": 402
        },
        "id": "o0C8xUuoXF3R",
        "outputId": "23fabfcf-47ca-4197-fad7-037bf13e2378"
      },
      "source": [
        "pivot_table_floor_category = df.query('floor_category != \"другой\"').pivot_table(index = 'floor_category', values = 'price_per_square_meter', aggfunc = ['mean', 'count', 'median'])\r\n",
        "pivot_table_floor_category.columns = ['mean', 'count', 'median']\r\n",
        "pivot_table_floor_category.plot(y = 'median')\r\n",
        "pivot_table_floor_category"
      ],
      "execution_count": 90,
      "outputs": [
        {
          "output_type": "execute_result",
          "data": {
            "text/html": [
              "<div>\n",
              "<style scoped>\n",
              "    .dataframe tbody tr th:only-of-type {\n",
              "        vertical-align: middle;\n",
              "    }\n",
              "\n",
              "    .dataframe tbody tr th {\n",
              "        vertical-align: top;\n",
              "    }\n",
              "\n",
              "    .dataframe thead th {\n",
              "        text-align: right;\n",
              "    }\n",
              "</style>\n",
              "<table border=\"1\" class=\"dataframe\">\n",
              "  <thead>\n",
              "    <tr style=\"text-align: right;\">\n",
              "      <th></th>\n",
              "      <th>mean</th>\n",
              "      <th>count</th>\n",
              "      <th>median</th>\n",
              "    </tr>\n",
              "    <tr>\n",
              "      <th>floor_category</th>\n",
              "      <th></th>\n",
              "      <th></th>\n",
              "      <th></th>\n",
              "    </tr>\n",
              "  </thead>\n",
              "  <tbody>\n",
              "    <tr>\n",
              "      <th>первый</th>\n",
              "      <td>81983.111759</td>\n",
              "      <td>2917</td>\n",
              "      <td>81223</td>\n",
              "    </tr>\n",
              "    <tr>\n",
              "      <th>последний</th>\n",
              "      <td>93410.267686</td>\n",
              "      <td>3336</td>\n",
              "      <td>87777</td>\n",
              "    </tr>\n",
              "  </tbody>\n",
              "</table>\n",
              "</div>"
            ],
            "text/plain": [
              "                        mean  count  median\n",
              "floor_category                             \n",
              "первый          81983.111759   2917   81223\n",
              "последний       93410.267686   3336   87777"
            ]
          },
          "metadata": {
            "tags": []
          },
          "execution_count": 90
        },
        {
          "output_type": "display_data",
          "data": {
            "image/png": "[encoded data removed]",
            "text/plain": [
              "<Figure size 432x288 with 1 Axes>"
            ]
          },
          "metadata": {
            "tags": [],
            "needs_background": "light"
          }
        }
      ]
    },
    {
      "cell_type": "markdown",
      "metadata": {
        "id": "_uVFEBTnXJe5"
      },
      "source": [
        "**Вывод:** из графика ничего не понятно! Согласно медиане - как правило квартиры на первом этаже дешевле квартир на последнем этаже - в среднем на 10%!"
      ]
    },
    {
      "cell_type": "markdown",
      "metadata": {
        "id": "GWpSxbskL-Nq"
      },
      "source": [
        "**Изучим зависимость цены квадратного метра от удалённости от центра.**"
      ]
    },
    {
      "cell_type": "code",
      "metadata": {
        "colab": {
          "base_uri": "https://localhost:8080/",
          "height": 382
        },
        "id": "V6pzz3D0DL_2",
        "outputId": "2cac7d5e-f4ea-451b-9f2f-d95b56c39309"
      },
      "source": [
        "df.plot(kind = 'scatter', y = 'price_per_square_meter', x = 'cityCenters_nearest', alpha = 0.3)\r\n",
        "\r\n",
        "df[['cityCenters_nearest', 'price_per_square_meter']].corr()"
      ],
      "execution_count": 66,
      "outputs": [
        {
          "output_type": "execute_result",
          "data": {
            "text/html": [
              "<div>\n",
              "<style scoped>\n",
              "    .dataframe tbody tr th:only-of-type {\n",
              "        vertical-align: middle;\n",
              "    }\n",
              "\n",
              "    .dataframe tbody tr th {\n",
              "        vertical-align: top;\n",
              "    }\n",
              "\n",
              "    .dataframe thead th {\n",
              "        text-align: right;\n",
              "    }\n",
              "</style>\n",
              "<table border=\"1\" class=\"dataframe\">\n",
              "  <thead>\n",
              "    <tr style=\"text-align: right;\">\n",
              "      <th></th>\n",
              "      <th>cityCenters_nearest</th>\n",
              "      <th>price_per_square_meter</th>\n",
              "    </tr>\n",
              "  </thead>\n",
              "  <tbody>\n",
              "    <tr>\n",
              "      <th>cityCenters_nearest</th>\n",
              "      <td>1.000000</td>\n",
              "      <td>-0.317951</td>\n",
              "    </tr>\n",
              "    <tr>\n",
              "      <th>price_per_square_meter</th>\n",
              "      <td>-0.317951</td>\n",
              "      <td>1.000000</td>\n",
              "    </tr>\n",
              "  </tbody>\n",
              "</table>\n",
              "</div>"
            ],
            "text/plain": [
              "                        cityCenters_nearest  price_per_square_meter\n",
              "cityCenters_nearest                1.000000               -0.317951\n",
              "price_per_square_meter            -0.317951                1.000000"
            ]
          },
          "metadata": {
            "tags": []
          },
          "execution_count": 66
        },
        {
          "output_type": "display_data",
          "data": {
            "image/png": "[encoded data removed]",
            "text/plain": [
              "<Figure size 432x288 with 1 Axes>"
            ]
          },
          "metadata": {
            "tags": [],
            "needs_background": "light"
          }
        }
      ]
    },
    {
      "cell_type": "markdown",
      "metadata": {
        "id": "bXAUW8R9MYX_"
      },
      "source": [
        "**Вывод**: Чем ближе к центру, тем цена квадратного метра выше."
      ]
    },
    {
      "cell_type": "markdown",
      "metadata": {
        "id": "CBfgS6BvMr4X"
      },
      "source": [
        "**Изучим зависимость цены квадратного метра от даты размещения: дня недели.**"
      ]
    },
    {
      "cell_type": "code",
      "metadata": {
        "colab": {
          "base_uri": "https://localhost:8080/",
          "height": 551
        },
        "id": "ynhYOZNlDL9j",
        "outputId": "7eafbc0f-7100-43fc-d5f6-6c846e65d696"
      },
      "source": [
        "pivot_table_weekday_exposition = df.pivot_table(index = 'weekday_exposition', values = 'price_per_square_meter', aggfunc = ['mean', 'count', 'median'])\r\n",
        "pivot_table_weekday_exposition.columns = ['mean', 'count', 'median']\r\n",
        "pivot_table_weekday_exposition.plot(y = 'median')\r\n",
        "\r\n",
        "pivot_table_weekday_exposition.sort_values('median', ascending = False)"
      ],
      "execution_count": 72,
      "outputs": [
        {
          "output_type": "execute_result",
          "data": {
            "text/html": [
              "<div>\n",
              "<style scoped>\n",
              "    .dataframe tbody tr th:only-of-type {\n",
              "        vertical-align: middle;\n",
              "    }\n",
              "\n",
              "    .dataframe tbody tr th {\n",
              "        vertical-align: top;\n",
              "    }\n",
              "\n",
              "    .dataframe thead th {\n",
              "        text-align: right;\n",
              "    }\n",
              "</style>\n",
              "<table border=\"1\" class=\"dataframe\">\n",
              "  <thead>\n",
              "    <tr style=\"text-align: right;\">\n",
              "      <th></th>\n",
              "      <th>mean</th>\n",
              "      <th>count</th>\n",
              "      <th>median</th>\n",
              "    </tr>\n",
              "    <tr>\n",
              "      <th>weekday_exposition</th>\n",
              "      <th></th>\n",
              "      <th></th>\n",
              "      <th></th>\n",
              "    </tr>\n",
              "  </thead>\n",
              "  <tbody>\n",
              "    <tr>\n",
              "      <th>1</th>\n",
              "      <td>99734.089410</td>\n",
              "      <td>4183</td>\n",
              "      <td>95634.0</td>\n",
              "    </tr>\n",
              "    <tr>\n",
              "      <th>2</th>\n",
              "      <td>99616.731002</td>\n",
              "      <td>3974</td>\n",
              "      <td>95473.0</td>\n",
              "    </tr>\n",
              "    <tr>\n",
              "      <th>3</th>\n",
              "      <td>100162.466356</td>\n",
              "      <td>4295</td>\n",
              "      <td>95143.0</td>\n",
              "    </tr>\n",
              "    <tr>\n",
              "      <th>0</th>\n",
              "      <td>99437.994463</td>\n",
              "      <td>3612</td>\n",
              "      <td>94688.0</td>\n",
              "    </tr>\n",
              "    <tr>\n",
              "      <th>4</th>\n",
              "      <td>99011.697000</td>\n",
              "      <td>4000</td>\n",
              "      <td>94616.0</td>\n",
              "    </tr>\n",
              "    <tr>\n",
              "      <th>6</th>\n",
              "      <td>97707.917010</td>\n",
              "      <td>1699</td>\n",
              "      <td>94501.0</td>\n",
              "    </tr>\n",
              "    <tr>\n",
              "      <th>5</th>\n",
              "      <td>99017.722107</td>\n",
              "      <td>1936</td>\n",
              "      <td>93545.5</td>\n",
              "    </tr>\n",
              "  </tbody>\n",
              "</table>\n",
              "</div>"
            ],
            "text/plain": [
              "                             mean  count   median\n",
              "weekday_exposition                               \n",
              "1                    99734.089410   4183  95634.0\n",
              "2                    99616.731002   3974  95473.0\n",
              "3                   100162.466356   4295  95143.0\n",
              "0                    99437.994463   3612  94688.0\n",
              "4                    99011.697000   4000  94616.0\n",
              "6                    97707.917010   1699  94501.0\n",
              "5                    99017.722107   1936  93545.5"
            ]
          },
          "metadata": {
            "tags": []
          },
          "execution_count": 72
        },
        {
          "output_type": "display_data",
          "data": {
            "image/png": "[encoded data removed]",
            "text/plain": [
              "<Figure size 432x288 with 1 Axes>"
            ]
          },
          "metadata": {
            "tags": [],
            "needs_background": "light"
          }
        }
      ]
    },
    {
      "cell_type": "markdown",
      "metadata": {
        "id": "hIoSISjeNlHI"
      },
      "source": [
        "**Вывод:** видим, что чем ближе ко вторнику выставлены объявления тем в среднем выше стоимость, но незначительно! По субботам стоимость самая низкая!\r\n",
        "\r\n",
        "Полагаю, что стоимость выставленной на продажу недвижимости зависит от общей активности людей, так как именно в рабочие дни мы видим более высокие цены."
      ]
    },
    {
      "cell_type": "markdown",
      "metadata": {
        "id": "qSQS-9u_NsSR"
      },
      "source": [
        "**Изучим зависимость цены квадратного метра от даты размещения: месяца.**\r\n"
      ]
    },
    {
      "cell_type": "code",
      "metadata": {
        "colab": {
          "base_uri": "https://localhost:8080/",
          "height": 701
        },
        "id": "6GAlfGYgDL6-",
        "outputId": "38a88c38-eaa8-4aca-ca2d-35a11ee1e200"
      },
      "source": [
        "pivot_table_month_exposition = df.pivot_table(index = 'month_exposition', values = 'price_per_square_meter', aggfunc = ['mean', 'count', 'median'])\r\n",
        "pivot_table_month_exposition.columns = ['mean', 'count', 'median']\r\n",
        "pivot_table_month_exposition.plot(y = 'median')\r\n",
        "\r\n",
        "pivot_table_month_exposition.sort_values('median', ascending = False)"
      ],
      "execution_count": 74,
      "outputs": [
        {
          "output_type": "execute_result",
          "data": {
            "text/html": [
              "<div>\n",
              "<style scoped>\n",
              "    .dataframe tbody tr th:only-of-type {\n",
              "        vertical-align: middle;\n",
              "    }\n",
              "\n",
              "    .dataframe tbody tr th {\n",
              "        vertical-align: top;\n",
              "    }\n",
              "\n",
              "    .dataframe thead th {\n",
              "        text-align: right;\n",
              "    }\n",
              "</style>\n",
              "<table border=\"1\" class=\"dataframe\">\n",
              "  <thead>\n",
              "    <tr style=\"text-align: right;\">\n",
              "      <th></th>\n",
              "      <th>mean</th>\n",
              "      <th>count</th>\n",
              "      <th>median</th>\n",
              "    </tr>\n",
              "    <tr>\n",
              "      <th>month_exposition</th>\n",
              "      <th></th>\n",
              "      <th></th>\n",
              "      <th></th>\n",
              "    </tr>\n",
              "  </thead>\n",
              "  <tbody>\n",
              "    <tr>\n",
              "      <th>4</th>\n",
              "      <td>101948.567045</td>\n",
              "      <td>2379</td>\n",
              "      <td>96451</td>\n",
              "    </tr>\n",
              "    <tr>\n",
              "      <th>8</th>\n",
              "      <td>100110.094037</td>\n",
              "      <td>1744</td>\n",
              "      <td>96026</td>\n",
              "    </tr>\n",
              "    <tr>\n",
              "      <th>9</th>\n",
              "      <td>100463.814740</td>\n",
              "      <td>1981</td>\n",
              "      <td>95607</td>\n",
              "    </tr>\n",
              "    <tr>\n",
              "      <th>11</th>\n",
              "      <td>99230.427246</td>\n",
              "      <td>2371</td>\n",
              "      <td>95588</td>\n",
              "    </tr>\n",
              "    <tr>\n",
              "      <th>3</th>\n",
              "      <td>98972.768844</td>\n",
              "      <td>2587</td>\n",
              "      <td>95238</td>\n",
              "    </tr>\n",
              "    <tr>\n",
              "      <th>1</th>\n",
              "      <td>99862.139333</td>\n",
              "      <td>1500</td>\n",
              "      <td>95222</td>\n",
              "    </tr>\n",
              "    <tr>\n",
              "      <th>2</th>\n",
              "      <td>98768.292045</td>\n",
              "      <td>2640</td>\n",
              "      <td>95000</td>\n",
              "    </tr>\n",
              "    <tr>\n",
              "      <th>7</th>\n",
              "      <td>99625.190560</td>\n",
              "      <td>1695</td>\n",
              "      <td>95000</td>\n",
              "    </tr>\n",
              "    <tr>\n",
              "      <th>12</th>\n",
              "      <td>99574.280926</td>\n",
              "      <td>1641</td>\n",
              "      <td>94262</td>\n",
              "    </tr>\n",
              "    <tr>\n",
              "      <th>10</th>\n",
              "      <td>97933.448049</td>\n",
              "      <td>2127</td>\n",
              "      <td>94202</td>\n",
              "    </tr>\n",
              "    <tr>\n",
              "      <th>5</th>\n",
              "      <td>98543.340659</td>\n",
              "      <td>1274</td>\n",
              "      <td>92857</td>\n",
              "    </tr>\n",
              "    <tr>\n",
              "      <th>6</th>\n",
              "      <td>97762.870455</td>\n",
              "      <td>1760</td>\n",
              "      <td>92799</td>\n",
              "    </tr>\n",
              "  </tbody>\n",
              "</table>\n",
              "</div>"
            ],
            "text/plain": [
              "                           mean  count  median\n",
              "month_exposition                              \n",
              "4                 101948.567045   2379   96451\n",
              "8                 100110.094037   1744   96026\n",
              "9                 100463.814740   1981   95607\n",
              "11                 99230.427246   2371   95588\n",
              "3                  98972.768844   2587   95238\n",
              "1                  99862.139333   1500   95222\n",
              "2                  98768.292045   2640   95000\n",
              "7                  99625.190560   1695   95000\n",
              "12                 99574.280926   1641   94262\n",
              "10                 97933.448049   2127   94202\n",
              "5                  98543.340659   1274   92857\n",
              "6                  97762.870455   1760   92799"
            ]
          },
          "metadata": {
            "tags": []
          },
          "execution_count": 74
        },
        {
          "output_type": "display_data",
          "data": {
            "image/png": "[encoded data removed]",
            "text/plain": [
              "<Figure size 432x288 with 1 Axes>"
            ]
          },
          "metadata": {
            "tags": [],
            "needs_background": "light"
          }
        }
      ]
    },
    {
      "cell_type": "markdown",
      "metadata": {
        "id": "XJz5Gd93N2oo"
      },
      "source": [
        "**Вывод:** самая высокая стоимость метра в апреле и августе! Самая низкая стоимость в мае и июне!\r\n",
        "На рынке недвижимости, как и во многих других сферах присутствует сезонность - в начале лета мы видим наименьшее предложение как по количеству, так и по стоимости недвижимости. Высокий сезон - весна и осень, низкий сезон лето."
      ]
    },
    {
      "cell_type": "markdown",
      "metadata": {
        "id": "Fli3qU0oOaLq"
      },
      "source": [
        "**Изучим зависимость цены квадратного метра от даты размещения: года.**\r\n"
      ]
    },
    {
      "cell_type": "code",
      "metadata": {
        "colab": {
          "base_uri": "https://localhost:8080/",
          "height": 521
        },
        "id": "MqiIKBJcDL3z",
        "outputId": "23b75308-6704-4eb6-e7d3-6dece53eae89"
      },
      "source": [
        "pivot_table_year_exposition = df.pivot_table(index = 'year_exposition', values = 'price_per_square_meter', aggfunc = ['mean', 'count', 'median'])\r\n",
        "pivot_table_year_exposition.columns = ['mean', 'count', 'median']\r\n",
        "pivot_table_year_exposition.plot(y = 'median')\r\n",
        "\r\n",
        "pivot_table_year_exposition.sort_values('median', ascending = False)"
      ],
      "execution_count": 75,
      "outputs": [
        {
          "output_type": "execute_result",
          "data": {
            "text/html": [
              "<div>\n",
              "<style scoped>\n",
              "    .dataframe tbody tr th:only-of-type {\n",
              "        vertical-align: middle;\n",
              "    }\n",
              "\n",
              "    .dataframe tbody tr th {\n",
              "        vertical-align: top;\n",
              "    }\n",
              "\n",
              "    .dataframe thead th {\n",
              "        text-align: right;\n",
              "    }\n",
              "</style>\n",
              "<table border=\"1\" class=\"dataframe\">\n",
              "  <thead>\n",
              "    <tr style=\"text-align: right;\">\n",
              "      <th></th>\n",
              "      <th>mean</th>\n",
              "      <th>count</th>\n",
              "      <th>median</th>\n",
              "    </tr>\n",
              "    <tr>\n",
              "      <th>year_exposition</th>\n",
              "      <th></th>\n",
              "      <th></th>\n",
              "      <th></th>\n",
              "    </tr>\n",
              "  </thead>\n",
              "  <tbody>\n",
              "    <tr>\n",
              "      <th>2014</th>\n",
              "      <td>124830.000000</td>\n",
              "      <td>137</td>\n",
              "      <td>107000.0</td>\n",
              "    </tr>\n",
              "    <tr>\n",
              "      <th>2019</th>\n",
              "      <td>107123.332060</td>\n",
              "      <td>2879</td>\n",
              "      <td>103305.0</td>\n",
              "    </tr>\n",
              "    <tr>\n",
              "      <th>2018</th>\n",
              "      <td>97773.107290</td>\n",
              "      <td>8519</td>\n",
              "      <td>95689.0</td>\n",
              "    </tr>\n",
              "    <tr>\n",
              "      <th>2015</th>\n",
              "      <td>104613.756507</td>\n",
              "      <td>1191</td>\n",
              "      <td>93414.0</td>\n",
              "    </tr>\n",
              "    <tr>\n",
              "      <th>2017</th>\n",
              "      <td>97621.434188</td>\n",
              "      <td>8190</td>\n",
              "      <td>92564.5</td>\n",
              "    </tr>\n",
              "    <tr>\n",
              "      <th>2016</th>\n",
              "      <td>98321.900467</td>\n",
              "      <td>2783</td>\n",
              "      <td>91743.0</td>\n",
              "    </tr>\n",
              "  </tbody>\n",
              "</table>\n",
              "</div>"
            ],
            "text/plain": [
              "                          mean  count    median\n",
              "year_exposition                                \n",
              "2014             124830.000000    137  107000.0\n",
              "2019             107123.332060   2879  103305.0\n",
              "2018              97773.107290   8519   95689.0\n",
              "2015             104613.756507   1191   93414.0\n",
              "2017              97621.434188   8190   92564.5\n",
              "2016              98321.900467   2783   91743.0"
            ]
          },
          "metadata": {
            "tags": []
          },
          "execution_count": 75
        },
        {
          "output_type": "display_data",
          "data": {
            "image/png": "[encoded data removed]",
            "text/plain": [
              "<Figure size 432x288 with 1 Axes>"
            ]
          },
          "metadata": {
            "tags": [],
            "needs_background": "light"
          }
        }
      ]
    },
    {
      "cell_type": "markdown",
      "metadata": {
        "id": "sANbWrxoOm5m"
      },
      "source": [
        "**Вывод:** видим, что с 2014 до 2016 года цена падала, но далее начала увеличиваться! В СРЕДНЕМ! Мы не рассматриваем сегментацию рынка и по факту стоимость аналогичных квартир могла себя вести абсолютно иначе от года к году!\r\n",
        "В выводе присутствует реальный пример."
      ]
    },
    {
      "cell_type": "markdown",
      "metadata": {
        "id": "rP-pK2_HOxAS"
      },
      "source": [
        "#### 5. Выберите 10 населённых пунктов с наибольшим числом объявлений. Посчитайте среднюю цену квадратного метра в этих населённых пунктах. Выделите населённые пункты с самой высокой и низкой стоимостью жилья. Эти данные можно найти по имени в столбце 'locality_name'."
      ]
    },
    {
      "cell_type": "code",
      "metadata": {
        "colab": {
          "base_uri": "https://localhost:8080/",
          "height": 107
        },
        "id": "9U3C1-J0DL0h",
        "outputId": "da268370-05e0-4731-dff0-c444de18bd79"
      },
      "source": [
        "locality_pivot_table = df.pivot_table(index = 'locality_name', values = 'price_per_square_meter', aggfunc=['count', 'mean'])\r\n",
        "locality_pivot_table.columns = ['count', 'mean']\r\n",
        "locality_pivot_table = locality_pivot_table.sort_values('count', ascending = False).head(10)\r\n",
        "locality_pivot_table\r\n",
        "#самая высокая стоимость\r\n",
        "locality_pivot_table[locality_pivot_table['mean']==locality_pivot_table['mean'].max()]\r\n",
        "#самая низкая стоимость\r\n",
        "#locality_pivot_table[locality_pivot_table['mean']==locality_pivot_table['mean'].min()]"
      ],
      "execution_count": 78,
      "outputs": [
        {
          "output_type": "execute_result",
          "data": {
            "text/html": [
              "<div>\n",
              "<style scoped>\n",
              "    .dataframe tbody tr th:only-of-type {\n",
              "        vertical-align: middle;\n",
              "    }\n",
              "\n",
              "    .dataframe tbody tr th {\n",
              "        vertical-align: top;\n",
              "    }\n",
              "\n",
              "    .dataframe thead th {\n",
              "        text-align: right;\n",
              "    }\n",
              "</style>\n",
              "<table border=\"1\" class=\"dataframe\">\n",
              "  <thead>\n",
              "    <tr style=\"text-align: right;\">\n",
              "      <th></th>\n",
              "      <th>count</th>\n",
              "      <th>mean</th>\n",
              "    </tr>\n",
              "    <tr>\n",
              "      <th>locality_name</th>\n",
              "      <th></th>\n",
              "      <th></th>\n",
              "    </tr>\n",
              "  </thead>\n",
              "  <tbody>\n",
              "    <tr>\n",
              "      <th>Санкт-Петербург</th>\n",
              "      <td>15721</td>\n",
              "      <td>114848.565231</td>\n",
              "    </tr>\n",
              "  </tbody>\n",
              "</table>\n",
              "</div>"
            ],
            "text/plain": [
              "                 count           mean\n",
              "locality_name                        \n",
              "Санкт-Петербург  15721  114848.565231"
            ]
          },
          "metadata": {
            "tags": []
          },
          "execution_count": 78
        }
      ]
    },
    {
      "cell_type": "markdown",
      "metadata": {
        "id": "w7aUufF3SNMT"
      },
      "source": [
        "**Вывод:** самая высокая стоимость жилья из 10 населённых пунктов с самым большим количеством объявлений в Санкт-Петербурге, тогда как самая низкая стоимость в Выборге."
      ]
    },
    {
      "cell_type": "markdown",
      "metadata": {
        "id": "TuSxqjjkUKjJ"
      },
      "source": [
        "#### 6. Изучите предложения квартир: для каждой квартиры есть информация о расстоянии до центра. Выделите квартиры в Санкт-Петербурге ('locality_name'). Ваша задача — выяснить, какая область входит в центр. Создайте столбец с расстоянием до центра в километрах: округлите до целых значений. После этого посчитайте среднюю цену для каждого километра. Постройте график: он должен показывать, как цена зависит от удалённости от центра. Определите границу, где график сильно меняется — это и будет центральная зона."
      ]
    },
    {
      "cell_type": "code",
      "metadata": {
        "colab": {
          "base_uri": "https://localhost:8080/",
          "height": 1000
        },
        "id": "tZxkHL2l7hWm",
        "outputId": "cc790552-aefa-45e5-c36e-306f49630714"
      },
      "source": [
        "df['cityCenters_nearest_km'] = df['cityCenters_nearest']/1000\r\n",
        "df['cityCenters_nearest_km'] = df['cityCenters_nearest_km'].fillna(999999)\r\n",
        "df['cityCenters_nearest_km'] = df['cityCenters_nearest_km'].astype('int')\r\n",
        "pivot_table_km = df.query('locality_name == \"Санкт-Петербург\" and cityCenters_nearest_km !=999999').pivot_table(index = 'cityCenters_nearest_km', values = 'price_per_square_meter', aggfunc = 'mean')\r\n",
        "pivot_table_km.plot()\r\n",
        "pivot_table_km"
      ],
      "execution_count": 79,
      "outputs": [
        {
          "output_type": "execute_result",
          "data": {
            "text/html": [
              "<div>\n",
              "<style scoped>\n",
              "    .dataframe tbody tr th:only-of-type {\n",
              "        vertical-align: middle;\n",
              "    }\n",
              "\n",
              "    .dataframe tbody tr th {\n",
              "        vertical-align: top;\n",
              "    }\n",
              "\n",
              "    .dataframe thead th {\n",
              "        text-align: right;\n",
              "    }\n",
              "</style>\n",
              "<table border=\"1\" class=\"dataframe\">\n",
              "  <thead>\n",
              "    <tr style=\"text-align: right;\">\n",
              "      <th></th>\n",
              "      <th>price_per_square_meter</th>\n",
              "    </tr>\n",
              "    <tr>\n",
              "      <th>cityCenters_nearest_km</th>\n",
              "      <th></th>\n",
              "    </tr>\n",
              "  </thead>\n",
              "  <tbody>\n",
              "    <tr>\n",
              "      <th>0</th>\n",
              "      <td>187323.674419</td>\n",
              "    </tr>\n",
              "    <tr>\n",
              "      <th>1</th>\n",
              "      <td>166603.312500</td>\n",
              "    </tr>\n",
              "    <tr>\n",
              "      <th>2</th>\n",
              "      <td>146662.420195</td>\n",
              "    </tr>\n",
              "    <tr>\n",
              "      <th>3</th>\n",
              "      <td>129415.891635</td>\n",
              "    </tr>\n",
              "    <tr>\n",
              "      <th>4</th>\n",
              "      <td>137475.039691</td>\n",
              "    </tr>\n",
              "    <tr>\n",
              "      <th>5</th>\n",
              "      <td>146978.789337</td>\n",
              "    </tr>\n",
              "    <tr>\n",
              "      <th>6</th>\n",
              "      <td>152277.455319</td>\n",
              "    </tr>\n",
              "    <tr>\n",
              "      <th>7</th>\n",
              "      <td>141399.287469</td>\n",
              "    </tr>\n",
              "    <tr>\n",
              "      <th>8</th>\n",
              "      <td>120580.929851</td>\n",
              "    </tr>\n",
              "    <tr>\n",
              "      <th>9</th>\n",
              "      <td>110012.108696</td>\n",
              "    </tr>\n",
              "    <tr>\n",
              "      <th>10</th>\n",
              "      <td>111640.850877</td>\n",
              "    </tr>\n",
              "    <tr>\n",
              "      <th>11</th>\n",
              "      <td>106790.438163</td>\n",
              "    </tr>\n",
              "    <tr>\n",
              "      <th>12</th>\n",
              "      <td>108295.312211</td>\n",
              "    </tr>\n",
              "    <tr>\n",
              "      <th>13</th>\n",
              "      <td>107208.716120</td>\n",
              "    </tr>\n",
              "    <tr>\n",
              "      <th>14</th>\n",
              "      <td>104986.032407</td>\n",
              "    </tr>\n",
              "    <tr>\n",
              "      <th>15</th>\n",
              "      <td>101882.678077</td>\n",
              "    </tr>\n",
              "    <tr>\n",
              "      <th>16</th>\n",
              "      <td>100085.150995</td>\n",
              "    </tr>\n",
              "    <tr>\n",
              "      <th>17</th>\n",
              "      <td>94095.434457</td>\n",
              "    </tr>\n",
              "    <tr>\n",
              "      <th>18</th>\n",
              "      <td>94831.528736</td>\n",
              "    </tr>\n",
              "    <tr>\n",
              "      <th>19</th>\n",
              "      <td>95433.951220</td>\n",
              "    </tr>\n",
              "    <tr>\n",
              "      <th>20</th>\n",
              "      <td>107045.773810</td>\n",
              "    </tr>\n",
              "    <tr>\n",
              "      <th>21</th>\n",
              "      <td>91492.220513</td>\n",
              "    </tr>\n",
              "    <tr>\n",
              "      <th>22</th>\n",
              "      <td>88714.237410</td>\n",
              "    </tr>\n",
              "    <tr>\n",
              "      <th>23</th>\n",
              "      <td>92720.233333</td>\n",
              "    </tr>\n",
              "    <tr>\n",
              "      <th>24</th>\n",
              "      <td>82439.909091</td>\n",
              "    </tr>\n",
              "    <tr>\n",
              "      <th>25</th>\n",
              "      <td>91135.600000</td>\n",
              "    </tr>\n",
              "    <tr>\n",
              "      <th>26</th>\n",
              "      <td>75171.333333</td>\n",
              "    </tr>\n",
              "    <tr>\n",
              "      <th>27</th>\n",
              "      <td>132115.000000</td>\n",
              "    </tr>\n",
              "    <tr>\n",
              "      <th>28</th>\n",
              "      <td>81840.200000</td>\n",
              "    </tr>\n",
              "    <tr>\n",
              "      <th>29</th>\n",
              "      <td>62481.666667</td>\n",
              "    </tr>\n",
              "  </tbody>\n",
              "</table>\n",
              "</div>"
            ],
            "text/plain": [
              "                        price_per_square_meter\n",
              "cityCenters_nearest_km                        \n",
              "0                                187323.674419\n",
              "1                                166603.312500\n",
              "2                                146662.420195\n",
              "3                                129415.891635\n",
              "4                                137475.039691\n",
              "5                                146978.789337\n",
              "6                                152277.455319\n",
              "7                                141399.287469\n",
              "8                                120580.929851\n",
              "9                                110012.108696\n",
              "10                               111640.850877\n",
              "11                               106790.438163\n",
              "12                               108295.312211\n",
              "13                               107208.716120\n",
              "14                               104986.032407\n",
              "15                               101882.678077\n",
              "16                               100085.150995\n",
              "17                                94095.434457\n",
              "18                                94831.528736\n",
              "19                                95433.951220\n",
              "20                               107045.773810\n",
              "21                                91492.220513\n",
              "22                                88714.237410\n",
              "23                                92720.233333\n",
              "24                                82439.909091\n",
              "25                                91135.600000\n",
              "26                                75171.333333\n",
              "27                               132115.000000\n",
              "28                                81840.200000\n",
              "29                                62481.666667"
            ]
          },
          "metadata": {
            "tags": []
          },
          "execution_count": 79
        },
        {
          "output_type": "display_data",
          "data": {
            "image/png": "[encoded data removed]",
            "text/plain": [
              "<Figure size 432x288 with 1 Axes>"
            ]
          },
          "metadata": {
            "tags": [],
            "needs_background": "light"
          }
        }
      ]
    },
    {
      "cell_type": "markdown",
      "metadata": {
        "id": "vXkUasHoUXar"
      },
      "source": [
        "**Вывод:** судя по графику центром считать будем радиус в 2 километра!"
      ]
    },
    {
      "cell_type": "markdown",
      "metadata": {
        "id": "wpRTIb41UhuY"
      },
      "source": [
        "#### 7. Выделите сегмент квартир в центре. Проанализируйте эту территорию и изучите следующие параметры: площадь, цена, число комнат, высота потолков. Также выделите факторы, которые влияют на стоимость квартиры (число комнат, этаж, удалённость от центра, дата размещения объявления). Сделайте выводы. Отличаются ли они от общих выводов по всему городу?"
      ]
    },
    {
      "cell_type": "code",
      "metadata": {
        "id": "OX9Pk0js7hUK"
      },
      "source": [
        "#выделим квартиры в центре, беря за радиус 2 км\r\n",
        "center_spb_df = df.query('cityCenters_nearest_km <= 2 and locality_name == \"Санкт-Петербург\"')"
      ],
      "execution_count": 91,
      "outputs": []
    },
    {
      "cell_type": "markdown",
      "metadata": {
        "id": "rsbshWObUyca"
      },
      "source": [
        "**Зависимость стоимости квадратного метра от количества комнат.**"
      ]
    },
    {
      "cell_type": "code",
      "metadata": {
        "colab": {
          "base_uri": "https://localhost:8080/",
          "height": 301
        },
        "id": "2skHFlVt7hQp",
        "outputId": "2dc6ed36-81d6-4434-aa8e-8acdad3e1b45"
      },
      "source": [
        "center_spb_rooms = center_spb_df.pivot_table(index = 'rooms', values = 'price_per_square_meter', aggfunc = ['mean', 'count', 'median'])\r\n",
        "center_spb_rooms.columns = ['mean', 'count', 'median']\r\n",
        "center_spb_rooms.query('count > 50').plot(y = 'median')\r\n",
        "\r\n",
        "center_spb_rooms.query('count > 50').sort_values('median', ascending = False)\r\n",
        "\r\n",
        "center_spb_df['rooms'].corr(center_spb_df['price_per_square_meter'])"
      ],
      "execution_count": 92,
      "outputs": [
        {
          "output_type": "execute_result",
          "data": {
            "text/plain": [
              "-0.049720723890895394"
            ]
          },
          "metadata": {
            "tags": []
          },
          "execution_count": 92
        },
        {
          "output_type": "display_data",
          "data": {
            "image/png": "[encoded data removed]",
            "text/plain": [
              "<Figure size 432x288 with 1 Axes>"
            ]
          },
          "metadata": {
            "tags": [],
            "needs_background": "light"
          }
        }
      ]
    },
    {
      "cell_type": "markdown",
      "metadata": {
        "id": "n1H7HuHXU4fh"
      },
      "source": [
        "**Вывод**: в центре СПБ чем меньше комнат тем дороже стоимость метра квадратного, в отличие от всей выборки, где стоимость уменьшается в зависимости от близости кол-ва комнат к 3! Так мы считаем, исходя из поведения медианной стоимости, в зависимости от количества комнат. Хотя корреляция маленькая, правильнее смотреть именно на график."
      ]
    },
    {
      "cell_type": "markdown",
      "metadata": {
        "id": "nuqPqhjoVslc"
      },
      "source": [
        "**Зависимость стоимости квадратного метра от удаленности от центра.**"
      ]
    },
    {
      "cell_type": "code",
      "metadata": {
        "colab": {
          "base_uri": "https://localhost:8080/",
          "height": 308
        },
        "id": "gFgNGQIJVr69",
        "outputId": "7b91bbec-823d-421f-dcf2-a7c9d1ccb22b"
      },
      "source": [
        "center_spb_df.plot(kind = 'scatter', y = 'price_per_square_meter', x = 'cityCenters_nearest', alpha = 0.3)\r\n",
        "\r\n",
        "center_spb_df['cityCenters_nearest'].corr(center_spb_df['price_per_square_meter'])"
      ],
      "execution_count": 93,
      "outputs": [
        {
          "output_type": "execute_result",
          "data": {
            "text/plain": [
              "-0.16185788050048733"
            ]
          },
          "metadata": {
            "tags": []
          },
          "execution_count": 93
        },
        {
          "output_type": "display_data",
          "data": {
            "image/png": "[encoded data removed]",
            "text/plain": [
              "<Figure size 432x288 with 1 Axes>"
            ]
          },
          "metadata": {
            "tags": [],
            "needs_background": "light"
          }
        }
      ]
    },
    {
      "cell_type": "markdown",
      "metadata": {
        "id": "WlJo1TNNV1iY"
      },
      "source": [
        "**Вывод:** ожидаемо, четкой зависимости нет, так как у нас уже сделана выборка "
      ]
    },
    {
      "cell_type": "markdown",
      "metadata": {
        "id": "36OCHEhLV8to"
      },
      "source": [
        "**Зависимость стоимости квадратного метра от дня недели размещения объявления.**"
      ]
    },
    {
      "cell_type": "code",
      "metadata": {
        "colab": {
          "base_uri": "https://localhost:8080/",
          "height": 551
        },
        "id": "Lj4s2kTQVr5F",
        "outputId": "d6e11228-8e6f-4d34-e5b4-f277ff96578c"
      },
      "source": [
        "center_spb_weekday_exposition = center_spb_df.pivot_table(index = 'weekday_exposition', values = 'price_per_square_meter', aggfunc = ['mean', 'count', 'median'])\r\n",
        "center_spb_weekday_exposition.columns = ['mean', 'count', 'median']\r\n",
        "center_spb_weekday_exposition.plot(y = 'median')\r\n",
        "\r\n",
        "center_spb_weekday_exposition.sort_values('median', ascending = False)"
      ],
      "execution_count": 94,
      "outputs": [
        {
          "output_type": "execute_result",
          "data": {
            "text/html": [
              "<div>\n",
              "<style scoped>\n",
              "    .dataframe tbody tr th:only-of-type {\n",
              "        vertical-align: middle;\n",
              "    }\n",
              "\n",
              "    .dataframe tbody tr th {\n",
              "        vertical-align: top;\n",
              "    }\n",
              "\n",
              "    .dataframe thead th {\n",
              "        text-align: right;\n",
              "    }\n",
              "</style>\n",
              "<table border=\"1\" class=\"dataframe\">\n",
              "  <thead>\n",
              "    <tr style=\"text-align: right;\">\n",
              "      <th></th>\n",
              "      <th>mean</th>\n",
              "      <th>count</th>\n",
              "      <th>median</th>\n",
              "    </tr>\n",
              "    <tr>\n",
              "      <th>weekday_exposition</th>\n",
              "      <th></th>\n",
              "      <th></th>\n",
              "      <th></th>\n",
              "    </tr>\n",
              "  </thead>\n",
              "  <tbody>\n",
              "    <tr>\n",
              "      <th>0</th>\n",
              "      <td>167291.467391</td>\n",
              "      <td>92</td>\n",
              "      <td>134285.5</td>\n",
              "    </tr>\n",
              "    <tr>\n",
              "      <th>5</th>\n",
              "      <td>148010.888889</td>\n",
              "      <td>45</td>\n",
              "      <td>125000.0</td>\n",
              "    </tr>\n",
              "    <tr>\n",
              "      <th>4</th>\n",
              "      <td>146387.245902</td>\n",
              "      <td>122</td>\n",
              "      <td>123656.0</td>\n",
              "    </tr>\n",
              "    <tr>\n",
              "      <th>3</th>\n",
              "      <td>170095.666667</td>\n",
              "      <td>141</td>\n",
              "      <td>116784.0</td>\n",
              "    </tr>\n",
              "    <tr>\n",
              "      <th>1</th>\n",
              "      <td>173952.566667</td>\n",
              "      <td>90</td>\n",
              "      <td>116055.0</td>\n",
              "    </tr>\n",
              "    <tr>\n",
              "      <th>2</th>\n",
              "      <td>149614.817308</td>\n",
              "      <td>104</td>\n",
              "      <td>115524.5</td>\n",
              "    </tr>\n",
              "    <tr>\n",
              "      <th>6</th>\n",
              "      <td>154109.846154</td>\n",
              "      <td>39</td>\n",
              "      <td>110843.0</td>\n",
              "    </tr>\n",
              "  </tbody>\n",
              "</table>\n",
              "</div>"
            ],
            "text/plain": [
              "                             mean  count    median\n",
              "weekday_exposition                                \n",
              "0                   167291.467391     92  134285.5\n",
              "5                   148010.888889     45  125000.0\n",
              "4                   146387.245902    122  123656.0\n",
              "3                   170095.666667    141  116784.0\n",
              "1                   173952.566667     90  116055.0\n",
              "2                   149614.817308    104  115524.5\n",
              "6                   154109.846154     39  110843.0"
            ]
          },
          "metadata": {
            "tags": []
          },
          "execution_count": 94
        },
        {
          "output_type": "display_data",
          "data": {
            "image/png": "[encoded data removed]",
            "text/plain": [
              "<Figure size 432x288 with 1 Axes>"
            ]
          },
          "metadata": {
            "tags": [],
            "needs_background": "light"
          }
        }
      ]
    },
    {
      "cell_type": "markdown",
      "metadata": {
        "id": "DbhiOBY6WEhh"
      },
      "source": [
        "**Вывод**: ситуация отличается от всей выборки, минимальные средние цены в четверг и воскресенье, самые высокие - в понедельник и субботу!"
      ]
    },
    {
      "cell_type": "markdown",
      "metadata": {
        "id": "ZvCKim99WMUo"
      },
      "source": [
        "**Зависимость стоимости квадратного метра от месяца размещения объявления.**"
      ]
    },
    {
      "cell_type": "code",
      "metadata": {
        "colab": {
          "base_uri": "https://localhost:8080/",
          "height": 701
        },
        "id": "3EB0ZGlGVrzi",
        "outputId": "026f16c6-8a21-4389-8595-a73875cfbef0"
      },
      "source": [
        "center_spb_month_exposition = center_spb_df.pivot_table(index = 'month_exposition', values = 'price_per_square_meter', aggfunc = ['mean', 'count', 'median'])\r\n",
        "center_spb_month_exposition.columns = ['mean', 'count', 'median']\r\n",
        "center_spb_month_exposition.plot(y = 'median')\r\n",
        "\r\n",
        "center_spb_month_exposition.sort_values('median', ascending = False)"
      ],
      "execution_count": 95,
      "outputs": [
        {
          "output_type": "execute_result",
          "data": {
            "text/html": [
              "<div>\n",
              "<style scoped>\n",
              "    .dataframe tbody tr th:only-of-type {\n",
              "        vertical-align: middle;\n",
              "    }\n",
              "\n",
              "    .dataframe tbody tr th {\n",
              "        vertical-align: top;\n",
              "    }\n",
              "\n",
              "    .dataframe thead th {\n",
              "        text-align: right;\n",
              "    }\n",
              "</style>\n",
              "<table border=\"1\" class=\"dataframe\">\n",
              "  <thead>\n",
              "    <tr style=\"text-align: right;\">\n",
              "      <th></th>\n",
              "      <th>mean</th>\n",
              "      <th>count</th>\n",
              "      <th>median</th>\n",
              "    </tr>\n",
              "    <tr>\n",
              "      <th>month_exposition</th>\n",
              "      <th></th>\n",
              "      <th></th>\n",
              "      <th></th>\n",
              "    </tr>\n",
              "  </thead>\n",
              "  <tbody>\n",
              "    <tr>\n",
              "      <th>4</th>\n",
              "      <td>205662.936508</td>\n",
              "      <td>63</td>\n",
              "      <td>131034.0</td>\n",
              "    </tr>\n",
              "    <tr>\n",
              "      <th>10</th>\n",
              "      <td>162445.152174</td>\n",
              "      <td>46</td>\n",
              "      <td>130028.5</td>\n",
              "    </tr>\n",
              "    <tr>\n",
              "      <th>1</th>\n",
              "      <td>155503.333333</td>\n",
              "      <td>48</td>\n",
              "      <td>125000.0</td>\n",
              "    </tr>\n",
              "    <tr>\n",
              "      <th>12</th>\n",
              "      <td>172826.442308</td>\n",
              "      <td>52</td>\n",
              "      <td>123952.5</td>\n",
              "    </tr>\n",
              "    <tr>\n",
              "      <th>3</th>\n",
              "      <td>164486.859375</td>\n",
              "      <td>64</td>\n",
              "      <td>121168.0</td>\n",
              "    </tr>\n",
              "    <tr>\n",
              "      <th>9</th>\n",
              "      <td>147728.392857</td>\n",
              "      <td>56</td>\n",
              "      <td>119262.5</td>\n",
              "    </tr>\n",
              "    <tr>\n",
              "      <th>6</th>\n",
              "      <td>144373.619048</td>\n",
              "      <td>42</td>\n",
              "      <td>118852.0</td>\n",
              "    </tr>\n",
              "    <tr>\n",
              "      <th>11</th>\n",
              "      <td>149633.232143</td>\n",
              "      <td>56</td>\n",
              "      <td>118724.5</td>\n",
              "    </tr>\n",
              "    <tr>\n",
              "      <th>2</th>\n",
              "      <td>151046.893333</td>\n",
              "      <td>75</td>\n",
              "      <td>118556.0</td>\n",
              "    </tr>\n",
              "    <tr>\n",
              "      <th>8</th>\n",
              "      <td>166842.736842</td>\n",
              "      <td>38</td>\n",
              "      <td>116622.0</td>\n",
              "    </tr>\n",
              "    <tr>\n",
              "      <th>7</th>\n",
              "      <td>147410.610169</td>\n",
              "      <td>59</td>\n",
              "      <td>115492.0</td>\n",
              "    </tr>\n",
              "    <tr>\n",
              "      <th>5</th>\n",
              "      <td>136198.470588</td>\n",
              "      <td>34</td>\n",
              "      <td>115265.0</td>\n",
              "    </tr>\n",
              "  </tbody>\n",
              "</table>\n",
              "</div>"
            ],
            "text/plain": [
              "                           mean  count    median\n",
              "month_exposition                                \n",
              "4                 205662.936508     63  131034.0\n",
              "10                162445.152174     46  130028.5\n",
              "1                 155503.333333     48  125000.0\n",
              "12                172826.442308     52  123952.5\n",
              "3                 164486.859375     64  121168.0\n",
              "9                 147728.392857     56  119262.5\n",
              "6                 144373.619048     42  118852.0\n",
              "11                149633.232143     56  118724.5\n",
              "2                 151046.893333     75  118556.0\n",
              "8                 166842.736842     38  116622.0\n",
              "7                 147410.610169     59  115492.0\n",
              "5                 136198.470588     34  115265.0"
            ]
          },
          "metadata": {
            "tags": []
          },
          "execution_count": 95
        },
        {
          "output_type": "display_data",
          "data": {
            "image/png": "[encoded data removed]",
            "text/plain": [
              "<Figure size 432x288 with 1 Axes>"
            ]
          },
          "metadata": {
            "tags": [],
            "needs_background": "light"
          }
        }
      ]
    },
    {
      "cell_type": "markdown",
      "metadata": {
        "id": "qArAGN50WTFR"
      },
      "source": [
        "**Вывод**: ситуация похожая с общей выборкой - самая высокая стоимость метра в апреле и октябре! Самая низкая стоимость в мае и июле!"
      ]
    },
    {
      "cell_type": "markdown",
      "metadata": {
        "id": "Ab6BgH11VX9a"
      },
      "source": [
        "**Зависимость стоимости квадратного метра от года размещения объявления.**\r\n"
      ]
    },
    {
      "cell_type": "code",
      "metadata": {
        "colab": {
          "base_uri": "https://localhost:8080/",
          "height": 491
        },
        "id": "j5KpYMa07hNE",
        "outputId": "a9a8d7f8-3982-4bc6-9930-1524f4c3fcb8"
      },
      "source": [
        "center_spb_year_exposition = center_spb_df.pivot_table(index = 'year_exposition', values = 'price_per_square_meter', aggfunc = ['mean', 'count', 'median'])\r\n",
        "center_spb_year_exposition.columns = ['mean', 'count', 'median']\r\n",
        "center_spb_year_exposition.query('count > 50').plot(y = 'median')\r\n",
        "\r\n",
        "center_spb_year_exposition.query('count > 50').sort_values('median', ascending = False)"
      ],
      "execution_count": 96,
      "outputs": [
        {
          "output_type": "execute_result",
          "data": {
            "text/html": [
              "<div>\n",
              "<style scoped>\n",
              "    .dataframe tbody tr th:only-of-type {\n",
              "        vertical-align: middle;\n",
              "    }\n",
              "\n",
              "    .dataframe tbody tr th {\n",
              "        vertical-align: top;\n",
              "    }\n",
              "\n",
              "    .dataframe thead th {\n",
              "        text-align: right;\n",
              "    }\n",
              "</style>\n",
              "<table border=\"1\" class=\"dataframe\">\n",
              "  <thead>\n",
              "    <tr style=\"text-align: right;\">\n",
              "      <th></th>\n",
              "      <th>mean</th>\n",
              "      <th>count</th>\n",
              "      <th>median</th>\n",
              "    </tr>\n",
              "    <tr>\n",
              "      <th>year_exposition</th>\n",
              "      <th></th>\n",
              "      <th></th>\n",
              "      <th></th>\n",
              "    </tr>\n",
              "  </thead>\n",
              "  <tbody>\n",
              "    <tr>\n",
              "      <th>2019</th>\n",
              "      <td>206382.594203</td>\n",
              "      <td>69</td>\n",
              "      <td>134328.0</td>\n",
              "    </tr>\n",
              "    <tr>\n",
              "      <th>2018</th>\n",
              "      <td>154184.394118</td>\n",
              "      <td>170</td>\n",
              "      <td>124483.0</td>\n",
              "    </tr>\n",
              "    <tr>\n",
              "      <th>2017</th>\n",
              "      <td>153007.160870</td>\n",
              "      <td>230</td>\n",
              "      <td>119765.5</td>\n",
              "    </tr>\n",
              "    <tr>\n",
              "      <th>2016</th>\n",
              "      <td>143649.651685</td>\n",
              "      <td>89</td>\n",
              "      <td>114228.0</td>\n",
              "    </tr>\n",
              "    <tr>\n",
              "      <th>2015</th>\n",
              "      <td>157765.366197</td>\n",
              "      <td>71</td>\n",
              "      <td>108695.0</td>\n",
              "    </tr>\n",
              "  </tbody>\n",
              "</table>\n",
              "</div>"
            ],
            "text/plain": [
              "                          mean  count    median\n",
              "year_exposition                                \n",
              "2019             206382.594203     69  134328.0\n",
              "2018             154184.394118    170  124483.0\n",
              "2017             153007.160870    230  119765.5\n",
              "2016             143649.651685     89  114228.0\n",
              "2015             157765.366197     71  108695.0"
            ]
          },
          "metadata": {
            "tags": []
          },
          "execution_count": 96
        },
        {
          "output_type": "display_data",
          "data": {
            "image/png": "[encoded data removed]",
            "text/plain": [
              "<Figure size 432x288 with 1 Axes>"
            ]
          },
          "metadata": {
            "tags": [],
            "needs_background": "light"
          }
        }
      ]
    },
    {
      "cell_type": "markdown",
      "metadata": {
        "id": "IF63dB3GVjka"
      },
      "source": [
        "**Вывод:** в отличие от всей выборки - цены в центре СПБ в 2016-2017 годах не падали, а планомерно расли!"
      ]
    },
    {
      "cell_type": "markdown",
      "metadata": {
        "id": "G3i8hIbWWgw5"
      },
      "source": [
        "### Общий вывод"
      ]
    },
    {
      "cell_type": "markdown",
      "metadata": {
        "id": "AsyirIZ3Wi3R"
      },
      "source": [
        "Мы обработали полученный архив данных - обработали пропущенные значения там, где это необходимо, заменили типы данных на необходимые для удобной работы.\r\n",
        "Посчитали и добавили в таблицу цену квадратного метра жилья, вывели из даты дни недели, месяцы и года размещения объявлений, добавили категории по этажам квартир. Изучили следующие параметры на наличие выбивающихся значений - площадь, цена, число комнат, высота потолков. Были определены аномалии в данных параметрах. Изучая время продажи квартир мы выявили, что большое количество объявлений было автоматически снято с Яндекс Недвижимость и дату из снятия нельзя считать датой продажи квартиры, поэтому, изучая средние сроки продажи квартир - данные значения не учитывались.  Мы выявили при помощи диаграммы размаха, что нормальные значения продажи квартир варьируются от 1 до 600 дней.\r\n",
        "Мы выявили, что на стоимость квадратного метра квартиры больше всего влияют количество комнат, этаж квартиры, близость к центру. Незначительно на стоимость квадратного метра влияют день, месяц, год размещения и общая площадь. Нужно учитывать, что в 2016-2017 годах стоимость квартир в среднем по рынку была ниже на 10-20 %, тогда как в центре Санкт-Петербурга данной зависимости от года не обнаружено.  В данном случае имело место постоянное удорожание стоимости, начиная с 2015 года по текущий момент. Судя, по резкости изменения цен в зависимости от удаления от центра СПБ, мы выявили центр города в радиусе 2 километров.\r\n",
        "\r\n",
        "Также важно учитывать, что, рассматривая среднюю стоимость квартир в 2014-2019 годах, мы не делали сегментацию рынка, а лишь смотрели средние показатели по рынку в целом. Т.е. возможно, что цены на аналогичные квартиры в разных годах вели себя абсолютно по-разному. Т.е. например в то время, когда средняя стоимость метра по рынку в 2016-2017 годах была наиболее низкой, какие-то аналогичные прошлым годам квартиры могли и не падать в цене, а наоборот дорожать! Именно об этом нам и говорят данные, полученные при изучении единственного сегмента квартир - находящихся в радиусе 2 км в центре СПБ. "
      ]
    }
  ]
}