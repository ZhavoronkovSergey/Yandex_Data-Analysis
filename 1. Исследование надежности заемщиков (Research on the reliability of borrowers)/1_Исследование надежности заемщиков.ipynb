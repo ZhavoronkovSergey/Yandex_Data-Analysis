{
  "nbformat": 4,
  "nbformat_minor": 0,
  "metadata": {
    "colab": {
      "name": "Исследование надежности заёмщика.ipynb",
      "provenance": [],
      "toc_visible": true
    },
    "kernelspec": {
      "name": "python3",
      "display_name": "Python 3"
    }
  },
  "cells": [
    {
      "cell_type": "markdown",
      "metadata": {
        "id": "VEWkGOM3vUWL"
      },
      "source": [
        "# Исследование надёжности заёмщиков\r\n",
        "\r\n",
        "Заказчик — кредитный отдел банка. Нужно разобраться, влияет ли семейное положение и количество детей клиента на факт погашения кредита в срок. Входные данные от банка — статистика о платёжеспособности клиентов.\r\n",
        "\r\n",
        "Результаты исследования будут учтены при построении модели **кредитного скоринга** — специальной системы, которая оценивает способность потенциального заёмщика вернуть кредит банку."
      ]
    },
    {
      "cell_type": "code",
      "metadata": {
        "id": "uStmWZbZvD33"
      },
      "source": [
        "import pandas as pd"
      ],
      "execution_count": 1,
      "outputs": []
    },
    {
      "cell_type": "code",
      "metadata": {
        "colab": {
          "base_uri": "https://localhost:8080/"
        },
        "id": "oBcrnCasvWOQ",
        "outputId": "f01bea6e-ee84-43fb-9848-157f6a4c2e82"
      },
      "source": [
        "df = pd.read_csv('/content/1_bank_client.csv')\r\n",
        "print(df.head(3))\r\n",
        "print('\\n\\n')\r\n",
        "print(df.info())\r\n",
        "print('\\n\\n')\r\n",
        "print(df.isna().sum())"
      ],
      "execution_count": 2,
      "outputs": [
        {
          "output_type": "stream",
          "text": [
            "   children  days_employed  ...   total_income                  purpose\n",
            "0         1   -8437.673028  ...  253875.639453            покупка жилья\n",
            "1         1   -4024.803754  ...  112080.014102  приобретение автомобиля\n",
            "2         0   -5623.422610  ...  145885.952297            покупка жилья\n",
            "\n",
            "[3 rows x 12 columns]\n",
            "\n",
            "\n",
            "\n",
            "<class 'pandas.core.frame.DataFrame'>\n",
            "RangeIndex: 21525 entries, 0 to 21524\n",
            "Data columns (total 12 columns):\n",
            " #   Column            Non-Null Count  Dtype  \n",
            "---  ------            --------------  -----  \n",
            " 0   children          21525 non-null  int64  \n",
            " 1   days_employed     19351 non-null  float64\n",
            " 2   dob_years         21525 non-null  int64  \n",
            " 3   education         21525 non-null  object \n",
            " 4   education_id      21525 non-null  int64  \n",
            " 5   family_status     21525 non-null  object \n",
            " 6   family_status_id  21525 non-null  int64  \n",
            " 7   gender            21525 non-null  object \n",
            " 8   income_type       21525 non-null  object \n",
            " 9   debt              21525 non-null  int64  \n",
            " 10  total_income      19351 non-null  float64\n",
            " 11  purpose           21525 non-null  object \n",
            "dtypes: float64(2), int64(5), object(5)\n",
            "memory usage: 2.0+ MB\n",
            "None\n",
            "\n",
            "\n",
            "\n",
            "children               0\n",
            "days_employed       2174\n",
            "dob_years              0\n",
            "education              0\n",
            "education_id           0\n",
            "family_status          0\n",
            "family_status_id       0\n",
            "gender                 0\n",
            "income_type            0\n",
            "debt                   0\n",
            "total_income        2174\n",
            "purpose                0\n",
            "dtype: int64\n"
          ],
          "name": "stdout"
        }
      ]
    },
    {
      "cell_type": "markdown",
      "metadata": {
        "id": "9hPeB1VTxSvg"
      },
      "source": [
        "### Вывод\r\n",
        "\r\n",
        "В датасете наблюдается 12 столбцов и 21525 строк. В данных присутствуют ни коректные наблюдении в стольбце \"Стаж работы\" - отрицательные значения, так ж в стольбце 'days_employed' и 'total_income' пропущенные значения, причём они находятся в одних и тех же строках."
      ]
    },
    {
      "cell_type": "code",
      "metadata": {
        "id": "xWuPK_tnxSGR"
      },
      "source": [
        "# найдем среднее и медианное значение в столбцах 'days_employed' и 'total_income'\r\n",
        "median_days_employed = df['total_income'].median()\r\n",
        "mean_days_employed = df['days_employed'].mean()\r\n",
        "\r\n",
        "# заменим отрицательные числа на положительные в стаже\r\n",
        "def negativ_to_positive(value):\r\n",
        "  if value < 0:\r\n",
        "    value *= -1\r\n",
        "    return value\r\n",
        "  else:\r\n",
        "    return value\r\n",
        "df['days_employed'] = df['days_employed'].apply(negativ_to_positive)\r\n",
        "\r\n",
        "# заменяем пропущенные значения    \r\n",
        "df['days_employed'] = df['days_employed'].fillna(mean_days_employed)\r\n",
        "df['total_income'] = df['total_income'].fillna(median_days_employed)"
      ],
      "execution_count": 3,
      "outputs": []
    },
    {
      "cell_type": "markdown",
      "metadata": {
        "id": "-ZgwSQK806wC"
      },
      "source": [
        "> В стаже отрицательные числа сделали положительными, пропуски заменили на среднее значение. В доходе пропуски заменили на медианное значение.\r\n",
        "Обратили внимание на неадекватность стажа у пенсионеров, стоят завышенные значения, в 25% выборки. При использовании этих значений в расчетах, мы бы получили неправльную картину. О причинах неадекватности значений надо было бы уточнить у операторов и исправить ошибку."
      ]
    },
    {
      "cell_type": "code",
      "metadata": {
        "id": "MnJ6v2p6vWLH"
      },
      "source": [
        "# приводим к значения в колонках к целочисленным\r\n",
        "df['days_employed'] = df['days_employed'].astype(int)\r\n",
        "df['total_income'] = df['total_income'].astype(int)"
      ],
      "execution_count": 4,
      "outputs": []
    },
    {
      "cell_type": "code",
      "metadata": {
        "colab": {
          "base_uri": "https://localhost:8080/"
        },
        "id": "WxB3s_cJvWII",
        "outputId": "c31d994b-11ce-4462-c587-93bdcb1f5958"
      },
      "source": [
        "# категориальные столбцы\r\n",
        "categor_colum = list(df.select_dtypes(include=['object']).columns)\r\n",
        "\r\n",
        "# численные столбцы\r\n",
        "num_colum = [x for x in df.columns if x not in categor_colum] \r\n",
        "\r\n",
        "# стандартизация строк\r\n",
        "for row in categor_colum:\r\n",
        "  df[row].str.lower\r\n",
        "\r\n",
        "df.duplicated().sum()"
      ],
      "execution_count": 5,
      "outputs": [
        {
          "output_type": "execute_result",
          "data": {
            "text/plain": [
              "54"
            ]
          },
          "metadata": {
            "tags": []
          },
          "execution_count": 5
        }
      ]
    },
    {
      "cell_type": "code",
      "metadata": {
        "colab": {
          "base_uri": "https://localhost:8080/"
        },
        "id": "Tqrc---3vWFL",
        "outputId": "856347a5-932c-4515-f925-23067f1bab6c"
      },
      "source": [
        "df = df.drop_duplicates().reset_index(drop=True)\r\n",
        "df.duplicated().sum()"
      ],
      "execution_count": 6,
      "outputs": [
        {
          "output_type": "execute_result",
          "data": {
            "text/plain": [
              "0"
            ]
          },
          "metadata": {
            "tags": []
          },
          "execution_count": 6
        }
      ]
    },
    {
      "cell_type": "code",
      "metadata": {
        "colab": {
          "base_uri": "https://localhost:8080/",
          "height": 227
        },
        "id": "dvXH9wb_EbjU",
        "outputId": "360a2ebc-3fd8-45e5-ef83-80bd11bc743f"
      },
      "source": [
        "#проверим формат столбца количества детей\r\n",
        "df['children'].value_counts()\r\n",
        "#видим ошибку - присутствует значение -1, а также 20 в столбце количества детей\r\n",
        "# -1 заменим на 1, а 20 заменим медианным значением, так как \r\n",
        "# мы не знаем как возникла ошибка: случайно ввели лишний ноль при вводе 2 или же вместо 0 случайно поставили 20\r\n",
        "df['children'] = df['children'].replace(-1, 1)\r\n",
        "children_median = df.loc[df.loc[:, 'children'] != 20]['children'].median()\r\n",
        "df['children'] = df['children'].replace(20, children_median)\r\n",
        "pd.DataFrame({'Кол-во заёмщиков по кол-ву детей':df['children'].value_counts()})"
      ],
      "execution_count": 14,
      "outputs": [
        {
          "output_type": "execute_result",
          "data": {
            "text/html": [
              "<div>\n",
              "<style scoped>\n",
              "    .dataframe tbody tr th:only-of-type {\n",
              "        vertical-align: middle;\n",
              "    }\n",
              "\n",
              "    .dataframe tbody tr th {\n",
              "        vertical-align: top;\n",
              "    }\n",
              "\n",
              "    .dataframe thead th {\n",
              "        text-align: right;\n",
              "    }\n",
              "</style>\n",
              "<table border=\"1\" class=\"dataframe\">\n",
              "  <thead>\n",
              "    <tr style=\"text-align: right;\">\n",
              "      <th></th>\n",
              "      <th>Кол-во заёмщиков по кол-ву детей</th>\n",
              "    </tr>\n",
              "  </thead>\n",
              "  <tbody>\n",
              "    <tr>\n",
              "      <th>0</th>\n",
              "      <td>14183</td>\n",
              "    </tr>\n",
              "    <tr>\n",
              "      <th>1</th>\n",
              "      <td>4856</td>\n",
              "    </tr>\n",
              "    <tr>\n",
              "      <th>2</th>\n",
              "      <td>2052</td>\n",
              "    </tr>\n",
              "    <tr>\n",
              "      <th>3</th>\n",
              "      <td>330</td>\n",
              "    </tr>\n",
              "    <tr>\n",
              "      <th>4</th>\n",
              "      <td>41</td>\n",
              "    </tr>\n",
              "    <tr>\n",
              "      <th>5</th>\n",
              "      <td>9</td>\n",
              "    </tr>\n",
              "  </tbody>\n",
              "</table>\n",
              "</div>"
            ],
            "text/plain": [
              "   Кол-во заёмщиков по кол-ву детей\n",
              "0                             14183\n",
              "1                              4856\n",
              "2                              2052\n",
              "3                               330\n",
              "4                                41\n",
              "5                                 9"
            ]
          },
          "metadata": {
            "tags": []
          },
          "execution_count": 14
        }
      ]
    },
    {
      "cell_type": "markdown",
      "metadata": {
        "id": "lM_IUoxg9-_U"
      },
      "source": [
        "## Лемматизация "
      ]
    },
    {
      "cell_type": "code",
      "metadata": {
        "colab": {
          "base_uri": "https://localhost:8080/"
        },
        "id": "Ohc_-sglvV_z",
        "outputId": "b5ea7449-6bd1-4a09-c1d5-b41b86f8e6d8"
      },
      "source": [
        "#столбец цель кредита нужно лемматизировать и на основе его создать новый столбец с категориями \r\n",
        "from collections import Counter\r\n",
        "estate = ['недвижим', 'жиль']\r\n",
        "wedding = ['свадьб']\r\n",
        "auto = ['автомоб']\r\n",
        "education = ['образова']\r\n",
        "\r\n",
        "df['purpose_category'] = 0\r\n",
        "def categoryzer(list_of_words, category):\r\n",
        "  join = '|'.join(list_of_words)\r\n",
        "  index = df[df['purpose'].str.lower().str.contains(join)].index.to_list()\r\n",
        "  for i in index:\r\n",
        "    df.loc[i, 'purpose_category'] = category\r\n",
        "  return df\r\n",
        "\r\n",
        "\r\n",
        "categoryzer(wedding, 'свадьба')\r\n",
        "categoryzer(estate, 'недвижимость')\r\n",
        "categoryzer(auto, 'авто')\r\n",
        "categoryzer(education, 'образование')\r\n",
        "\r\n",
        "#проверим результат и убедимся, что значений None не осталось\r\n",
        "Counter(df['purpose_category'])"
      ],
      "execution_count": 13,
      "outputs": [
        {
          "output_type": "execute_result",
          "data": {
            "text/plain": [
              "Counter({'авто': 4308,\n",
              "         'недвижимость': 10814,\n",
              "         'образование': 4014,\n",
              "         'свадьба': 2335})"
            ]
          },
          "metadata": {
            "tags": []
          },
          "execution_count": 13
        }
      ]
    },
    {
      "cell_type": "markdown",
      "metadata": {
        "id": "O9ufCGogEBmo"
      },
      "source": [
        ">Видим, что многие уникальные значения цели кредита названы похожим образом, но имеют одинаковый смысл. Мы лемматизируем их, чтобы затем разбить на категории. Обе задачи мы выполнили с помощью одной функции. В итоге мы получили 4 категории целей кредита. В нашей задаче это не понадобится, но наша категоризация сможет помочь другим аналитикам, которые изучают влияние цели кредита на возврат денег в срок."
      ]
    },
    {
      "cell_type": "code",
      "metadata": {
        "colab": {
          "base_uri": "https://localhost:8080/",
          "height": 257
        },
        "id": "tC8KUBacvV9M",
        "outputId": "8cc025c2-eb75-4a55-ecf0-080f3ee6acde"
      },
      "source": [
        "debt_from_children = pd.DataFrame()\r\n",
        "debt_from_children['count_children'] = df.groupby('children')['debt'].count()\r\n",
        "debt_from_children['sum_children'] = df.groupby('children')['debt'].sum()\r\n",
        "debt_from_children['result_children'] = debt_from_children['sum_children'] / debt_from_children['count_children'] \r\n",
        "debt_from_children"
      ],
      "execution_count": 15,
      "outputs": [
        {
          "output_type": "execute_result",
          "data": {
            "text/html": [
              "<div>\n",
              "<style scoped>\n",
              "    .dataframe tbody tr th:only-of-type {\n",
              "        vertical-align: middle;\n",
              "    }\n",
              "\n",
              "    .dataframe tbody tr th {\n",
              "        vertical-align: top;\n",
              "    }\n",
              "\n",
              "    .dataframe thead th {\n",
              "        text-align: right;\n",
              "    }\n",
              "</style>\n",
              "<table border=\"1\" class=\"dataframe\">\n",
              "  <thead>\n",
              "    <tr style=\"text-align: right;\">\n",
              "      <th></th>\n",
              "      <th>count_children</th>\n",
              "      <th>sum_children</th>\n",
              "      <th>result_children</th>\n",
              "    </tr>\n",
              "    <tr>\n",
              "      <th>children</th>\n",
              "      <th></th>\n",
              "      <th></th>\n",
              "      <th></th>\n",
              "    </tr>\n",
              "  </thead>\n",
              "  <tbody>\n",
              "    <tr>\n",
              "      <th>0</th>\n",
              "      <td>14183</td>\n",
              "      <td>1071</td>\n",
              "      <td>0.075513</td>\n",
              "    </tr>\n",
              "    <tr>\n",
              "      <th>1</th>\n",
              "      <td>4856</td>\n",
              "      <td>445</td>\n",
              "      <td>0.091639</td>\n",
              "    </tr>\n",
              "    <tr>\n",
              "      <th>2</th>\n",
              "      <td>2052</td>\n",
              "      <td>194</td>\n",
              "      <td>0.094542</td>\n",
              "    </tr>\n",
              "    <tr>\n",
              "      <th>3</th>\n",
              "      <td>330</td>\n",
              "      <td>27</td>\n",
              "      <td>0.081818</td>\n",
              "    </tr>\n",
              "    <tr>\n",
              "      <th>4</th>\n",
              "      <td>41</td>\n",
              "      <td>4</td>\n",
              "      <td>0.097561</td>\n",
              "    </tr>\n",
              "    <tr>\n",
              "      <th>5</th>\n",
              "      <td>9</td>\n",
              "      <td>0</td>\n",
              "      <td>0.000000</td>\n",
              "    </tr>\n",
              "  </tbody>\n",
              "</table>\n",
              "</div>"
            ],
            "text/plain": [
              "          count_children  sum_children  result_children\n",
              "children                                               \n",
              "0                  14183          1071         0.075513\n",
              "1                   4856           445         0.091639\n",
              "2                   2052           194         0.094542\n",
              "3                    330            27         0.081818\n",
              "4                     41             4         0.097561\n",
              "5                      9             0         0.000000"
            ]
          },
          "metadata": {
            "tags": []
          },
          "execution_count": 15
        }
      ]
    },
    {
      "cell_type": "markdown",
      "metadata": {
        "id": "VIOUWsIDEwTE"
      },
      "source": [
        "> Так как мы изучаем влияние семейного положения и наличия детей на факт погашения в срок, мы не будем разбивать возраста на категории, так как они нам не понадобятся. Для сдачи проекта категоризация была применена вместе с лемматизацией выше в одной функции. Категоризовать количество детей нет необходимости, категориями будет как раз их количество, так как всего 6 вариантов."
      ]
    },
    {
      "cell_type": "markdown",
      "metadata": {
        "id": "0DmGL8VgE-4d"
      },
      "source": [
        "### Есть ли зависимость между наличием детей и возвратом кредита в срок?"
      ]
    },
    {
      "cell_type": "code",
      "metadata": {
        "colab": {
          "base_uri": "https://localhost:8080/",
          "height": 257
        },
        "id": "G_OZuanBvV59",
        "outputId": "5507169f-18d2-435e-d13f-7d1aa5903b57"
      },
      "source": [
        "debt_from_children = pd.DataFrame()\r\n",
        "debt_from_children['count_children'] = df.groupby('children')['debt'].count()\r\n",
        "debt_from_children['sum_children'] = df.groupby('children')['debt'].sum()\r\n",
        "debt_from_children['result_children'] = debt_from_children['sum_children'] / debt_from_children['count_children'] \r\n",
        "debt_from_children.sort_values('result_children', ascending = False)"
      ],
      "execution_count": 16,
      "outputs": [
        {
          "output_type": "execute_result",
          "data": {
            "text/html": [
              "<div>\n",
              "<style scoped>\n",
              "    .dataframe tbody tr th:only-of-type {\n",
              "        vertical-align: middle;\n",
              "    }\n",
              "\n",
              "    .dataframe tbody tr th {\n",
              "        vertical-align: top;\n",
              "    }\n",
              "\n",
              "    .dataframe thead th {\n",
              "        text-align: right;\n",
              "    }\n",
              "</style>\n",
              "<table border=\"1\" class=\"dataframe\">\n",
              "  <thead>\n",
              "    <tr style=\"text-align: right;\">\n",
              "      <th></th>\n",
              "      <th>count_children</th>\n",
              "      <th>sum_children</th>\n",
              "      <th>result_children</th>\n",
              "    </tr>\n",
              "    <tr>\n",
              "      <th>children</th>\n",
              "      <th></th>\n",
              "      <th></th>\n",
              "      <th></th>\n",
              "    </tr>\n",
              "  </thead>\n",
              "  <tbody>\n",
              "    <tr>\n",
              "      <th>4</th>\n",
              "      <td>41</td>\n",
              "      <td>4</td>\n",
              "      <td>0.097561</td>\n",
              "    </tr>\n",
              "    <tr>\n",
              "      <th>2</th>\n",
              "      <td>2052</td>\n",
              "      <td>194</td>\n",
              "      <td>0.094542</td>\n",
              "    </tr>\n",
              "    <tr>\n",
              "      <th>1</th>\n",
              "      <td>4856</td>\n",
              "      <td>445</td>\n",
              "      <td>0.091639</td>\n",
              "    </tr>\n",
              "    <tr>\n",
              "      <th>3</th>\n",
              "      <td>330</td>\n",
              "      <td>27</td>\n",
              "      <td>0.081818</td>\n",
              "    </tr>\n",
              "    <tr>\n",
              "      <th>0</th>\n",
              "      <td>14183</td>\n",
              "      <td>1071</td>\n",
              "      <td>0.075513</td>\n",
              "    </tr>\n",
              "    <tr>\n",
              "      <th>5</th>\n",
              "      <td>9</td>\n",
              "      <td>0</td>\n",
              "      <td>0.000000</td>\n",
              "    </tr>\n",
              "  </tbody>\n",
              "</table>\n",
              "</div>"
            ],
            "text/plain": [
              "          count_children  sum_children  result_children\n",
              "children                                               \n",
              "4                     41             4         0.097561\n",
              "2                   2052           194         0.094542\n",
              "1                   4856           445         0.091639\n",
              "3                    330            27         0.081818\n",
              "0                  14183          1071         0.075513\n",
              "5                      9             0         0.000000"
            ]
          },
          "metadata": {
            "tags": []
          },
          "execution_count": 16
        }
      ]
    },
    {
      "cell_type": "markdown",
      "metadata": {
        "id": "vLV9iKSkFL5p"
      },
      "source": [
        "> С увеличением количества детей мы видим увеличение количества просроченных задолженностей, хотя люди с 3 детьми чаще платят в срок чем люди с 1 ребенком. Данные не однозначные, возможно, нужна большая выборка, чем та, которую мы имеем. \r\n",
        "Бездетные, как правило реже просрачивают оплату по кредиту, чем люди с детьми."
      ]
    },
    {
      "cell_type": "markdown",
      "metadata": {
        "id": "G2iojFAoFQdP"
      },
      "source": [
        "### Есть ли зависимость между семейным статусом и возвратом кредита в срок?"
      ]
    },
    {
      "cell_type": "code",
      "metadata": {
        "colab": {
          "base_uri": "https://localhost:8080/",
          "height": 227
        },
        "id": "p9sDuJNXvV3T",
        "outputId": "34f889c5-5d08-48a2-dd28-beb965a2a01a"
      },
      "source": [
        "debt_from_family_status = pd.DataFrame()\r\n",
        "debt_from_family_status['sum_family_status'] = df.groupby('family_status')['debt'].sum()\r\n",
        "debt_from_family_status['count_family_status'] = df.groupby('family_status')['debt'].count()\r\n",
        "debt_from_family_status['result_family_status'] = debt_from_family_status['sum_family_status'] / debt_from_family_status['count_family_status'] \r\n",
        "debt_from_family_status.sort_values('result_family_status', ascending = False)"
      ],
      "execution_count": 17,
      "outputs": [
        {
          "output_type": "execute_result",
          "data": {
            "text/html": [
              "<div>\n",
              "<style scoped>\n",
              "    .dataframe tbody tr th:only-of-type {\n",
              "        vertical-align: middle;\n",
              "    }\n",
              "\n",
              "    .dataframe tbody tr th {\n",
              "        vertical-align: top;\n",
              "    }\n",
              "\n",
              "    .dataframe thead th {\n",
              "        text-align: right;\n",
              "    }\n",
              "</style>\n",
              "<table border=\"1\" class=\"dataframe\">\n",
              "  <thead>\n",
              "    <tr style=\"text-align: right;\">\n",
              "      <th></th>\n",
              "      <th>sum_family_status</th>\n",
              "      <th>count_family_status</th>\n",
              "      <th>result_family_status</th>\n",
              "    </tr>\n",
              "    <tr>\n",
              "      <th>family_status</th>\n",
              "      <th></th>\n",
              "      <th></th>\n",
              "      <th></th>\n",
              "    </tr>\n",
              "  </thead>\n",
              "  <tbody>\n",
              "    <tr>\n",
              "      <th>Не женат / не замужем</th>\n",
              "      <td>274</td>\n",
              "      <td>2810</td>\n",
              "      <td>0.097509</td>\n",
              "    </tr>\n",
              "    <tr>\n",
              "      <th>гражданский брак</th>\n",
              "      <td>388</td>\n",
              "      <td>4163</td>\n",
              "      <td>0.093202</td>\n",
              "    </tr>\n",
              "    <tr>\n",
              "      <th>женат / замужем</th>\n",
              "      <td>931</td>\n",
              "      <td>12344</td>\n",
              "      <td>0.075421</td>\n",
              "    </tr>\n",
              "    <tr>\n",
              "      <th>в разводе</th>\n",
              "      <td>85</td>\n",
              "      <td>1195</td>\n",
              "      <td>0.071130</td>\n",
              "    </tr>\n",
              "    <tr>\n",
              "      <th>вдовец / вдова</th>\n",
              "      <td>63</td>\n",
              "      <td>959</td>\n",
              "      <td>0.065693</td>\n",
              "    </tr>\n",
              "  </tbody>\n",
              "</table>\n",
              "</div>"
            ],
            "text/plain": [
              "                       sum_family_status  ...  result_family_status\n",
              "family_status                             ...                      \n",
              "Не женат / не замужем                274  ...              0.097509\n",
              "гражданский брак                     388  ...              0.093202\n",
              "женат / замужем                      931  ...              0.075421\n",
              "в разводе                             85  ...              0.071130\n",
              "вдовец / вдова                        63  ...              0.065693\n",
              "\n",
              "[5 rows x 3 columns]"
            ]
          },
          "metadata": {
            "tags": []
          },
          "execution_count": 17
        }
      ]
    },
    {
      "cell_type": "markdown",
      "metadata": {
        "id": "PHxjG8gQFXPf"
      },
      "source": [
        "> Да, зависимость есть. Люди не в браке и не бывавшие в браке имеют больший процент невозвратов в срок. \r\n",
        "Но, те кто развелись или овдовели чаще платят в срок, чем люди в браке."
      ]
    },
    {
      "cell_type": "markdown",
      "metadata": {
        "id": "AjFqHwEkFvk2"
      },
      "source": [
        "### Как разные цели кредита влияют на его возврат в срок?"
      ]
    },
    {
      "cell_type": "code",
      "metadata": {
        "colab": {
          "base_uri": "https://localhost:8080/",
          "height": 197
        },
        "id": "lrrmPwZZvV0S",
        "outputId": "98e62050-1f82-49b8-c26b-f2f3f2a97e85"
      },
      "source": [
        "debt_from_purpose_category = pd.DataFrame()\r\n",
        "debt_from_purpose_category['sum_purpose_category'] = df.groupby('purpose_category')['debt'].sum()\r\n",
        "debt_from_purpose_category['count_purpose_category'] = df.groupby('purpose_category')['debt'].count()\r\n",
        "debt_from_purpose_category['result_purpose_category'] = debt_from_purpose_category['sum_purpose_category'] / debt_from_purpose_category['count_purpose_category'] \r\n",
        "debt_from_purpose_category.sort_values('result_purpose_category', ascending = False)"
      ],
      "execution_count": 18,
      "outputs": [
        {
          "output_type": "execute_result",
          "data": {
            "text/html": [
              "<div>\n",
              "<style scoped>\n",
              "    .dataframe tbody tr th:only-of-type {\n",
              "        vertical-align: middle;\n",
              "    }\n",
              "\n",
              "    .dataframe tbody tr th {\n",
              "        vertical-align: top;\n",
              "    }\n",
              "\n",
              "    .dataframe thead th {\n",
              "        text-align: right;\n",
              "    }\n",
              "</style>\n",
              "<table border=\"1\" class=\"dataframe\">\n",
              "  <thead>\n",
              "    <tr style=\"text-align: right;\">\n",
              "      <th></th>\n",
              "      <th>sum_purpose_category</th>\n",
              "      <th>count_purpose_category</th>\n",
              "      <th>result_purpose_category</th>\n",
              "    </tr>\n",
              "    <tr>\n",
              "      <th>purpose_category</th>\n",
              "      <th></th>\n",
              "      <th></th>\n",
              "      <th></th>\n",
              "    </tr>\n",
              "  </thead>\n",
              "  <tbody>\n",
              "    <tr>\n",
              "      <th>авто</th>\n",
              "      <td>403</td>\n",
              "      <td>4308</td>\n",
              "      <td>0.093547</td>\n",
              "    </tr>\n",
              "    <tr>\n",
              "      <th>образование</th>\n",
              "      <td>370</td>\n",
              "      <td>4014</td>\n",
              "      <td>0.092177</td>\n",
              "    </tr>\n",
              "    <tr>\n",
              "      <th>свадьба</th>\n",
              "      <td>186</td>\n",
              "      <td>2335</td>\n",
              "      <td>0.079657</td>\n",
              "    </tr>\n",
              "    <tr>\n",
              "      <th>недвижимость</th>\n",
              "      <td>782</td>\n",
              "      <td>10814</td>\n",
              "      <td>0.072314</td>\n",
              "    </tr>\n",
              "  </tbody>\n",
              "</table>\n",
              "</div>"
            ],
            "text/plain": [
              "                  sum_purpose_category  ...  result_purpose_category\n",
              "purpose_category                        ...                         \n",
              "авто                               403  ...                 0.093547\n",
              "образование                        370  ...                 0.092177\n",
              "свадьба                            186  ...                 0.079657\n",
              "недвижимость                       782  ...                 0.072314\n",
              "\n",
              "[4 rows x 3 columns]"
            ]
          },
          "metadata": {
            "tags": []
          },
          "execution_count": 18
        }
      ]
    },
    {
      "cell_type": "markdown",
      "metadata": {
        "id": "RC2DGb9DF2Pu"
      },
      "source": [
        "> Как мы видим, среди 4 наших категорий, чаще всего платят в срок с целью кредита недвижимость, чаще просрочка у тех кому нужен кредит на авто и образование. Кредиты на свадьбу просрачивают реже - примерно как и в случае недвижимости."
      ]
    },
    {
      "cell_type": "markdown",
      "metadata": {
        "id": "HtzBuzTiF8SI"
      },
      "source": [
        "## Общий вывод"
      ]
    },
    {
      "cell_type": "markdown",
      "metadata": {
        "id": "iYBXhga7GAqn"
      },
      "source": [
        "Общий вывод - семейный статус влияет на вероятность платежей по кредиту в срок - люди, бывший в браке чаще плятят в срок чем те, кто не бывали в браке, причем разведенные и овдовевшие платят в срок чаще, чем люди в браке. Чем больше детей, тем чаще платят не в срок, бездетные реже просрачивают оплату."
      ]
    }
  ]
}