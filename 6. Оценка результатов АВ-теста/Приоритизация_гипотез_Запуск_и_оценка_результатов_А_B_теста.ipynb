{
  "nbformat": 4,
  "nbformat_minor": 0,
  "metadata": {
    "colab": {
      "name": "Приоритизация гипотез. Запуск и оценка результатов А/B-теста.ipynb",
      "provenance": [],
      "toc_visible": true
    },
    "kernelspec": {
      "name": "python3",
      "display_name": "Python 3"
    }
  },
  "cells": [
    {
      "cell_type": "markdown",
      "metadata": {
        "id": "Gxh2UDk8mUHu"
      },
      "source": [
        "# Приоритизация гипотез. Запуск и оценка результатов А/B-теста\r\n",
        "\r\n",
        "Необходимо приоритизировать гипотезы по увеличению выручки в крупном интернет-магазине по заранее подготовленному списку. Затем требуется провести A/B-тест и проанализировать его результаты.\r\n",
        "\r\n",
        "**Описание данных:**\r\n",
        "\r\n",
        "Файл /hypothesis_us.csv\r\n",
        "\r\n",
        "* Hypothesis — краткое описание гипотезы;\r\n",
        "* Reach — охват пользователей по 10-балльной шкале;\r\n",
        "* Impact — влияние на пользователей по 10-балльной шкале;\r\n",
        "* Confidence — уверенность в гипотезе по 10-балльной шкале;\r\n",
        "* Efforts — затраты ресурсов на проверку гипотезы по 10-балльной шкале. Чем больше значение Efforts, тем дороже проверка гипотезы.\r\n",
        "\r\n",
        "Файл /orders_us.csv. Скачать датасет\r\n",
        "\r\n",
        "* transactionId — идентификатор заказа;\r\n",
        "* visitorId — идентификатор пользователя, совершившего заказ;\r\n",
        "* date — дата, когда был совершён заказ;\r\n",
        "* revenue — выручка заказа;\r\n",
        "* group — группа A/B-теста, в которую попал заказ.\r\n",
        "\r\n",
        "Файл /visitors_us.csv. Скачать датасет\r\n",
        "\r\n",
        "* date — дата;\r\n",
        "* group — группа A/B-теста;\r\n",
        "* visitors — количество пользователей в указанную дату в указанной группе A/B-теста"
      ]
    },
    {
      "cell_type": "markdown",
      "metadata": {
        "id": "WW9Aez-tnQ42"
      },
      "source": [
        "# 1. Приоритизация гипотез "
      ]
    },
    {
      "cell_type": "code",
      "metadata": {
        "id": "VgJu5dJOfXh1"
      },
      "source": [
        "import pandas as pd\r\n",
        "import numpy as np\r\n",
        "import scipy.stats as stats\r\n",
        "from IPython.display import display\r\n",
        "import matplotlib.pyplot as plt\r\n",
        "%matplotlib inline\r\n",
        "pd.set_option('display.max_columns', 500)\r\n",
        "import warnings\r\n",
        "warnings.filterwarnings(\"ignore\")"
      ],
      "execution_count": 1,
      "outputs": []
    },
    {
      "cell_type": "code",
      "metadata": {
        "colab": {
          "base_uri": "https://localhost:8080/",
          "height": 548
        },
        "id": "aLENldOonPX6",
        "outputId": "2db531aa-f060-4438-c76d-45e13064b8f2"
      },
      "source": [
        "hypothesis = pd.read_csv('/content/hypotheses_us.csv', sep=';')\r\n",
        "display(hypothesis)\r\n",
        "display(hypothesis.info())"
      ],
      "execution_count": 2,
      "outputs": [
        {
          "output_type": "display_data",
          "data": {
            "text/html": [
              "<div>\n",
              "<style scoped>\n",
              "    .dataframe tbody tr th:only-of-type {\n",
              "        vertical-align: middle;\n",
              "    }\n",
              "\n",
              "    .dataframe tbody tr th {\n",
              "        vertical-align: top;\n",
              "    }\n",
              "\n",
              "    .dataframe thead th {\n",
              "        text-align: right;\n",
              "    }\n",
              "</style>\n",
              "<table border=\"1\" class=\"dataframe\">\n",
              "  <thead>\n",
              "    <tr style=\"text-align: right;\">\n",
              "      <th></th>\n",
              "      <th>Hypothesis</th>\n",
              "      <th>Reach</th>\n",
              "      <th>Impact</th>\n",
              "      <th>Confidence</th>\n",
              "      <th>Effort</th>\n",
              "    </tr>\n",
              "  </thead>\n",
              "  <tbody>\n",
              "    <tr>\n",
              "      <th>0</th>\n",
              "      <td>Add two new channels for attracting traffic. T...</td>\n",
              "      <td>3</td>\n",
              "      <td>10</td>\n",
              "      <td>8</td>\n",
              "      <td>6</td>\n",
              "    </tr>\n",
              "    <tr>\n",
              "      <th>1</th>\n",
              "      <td>Launch your own delivery service. This will sh...</td>\n",
              "      <td>2</td>\n",
              "      <td>5</td>\n",
              "      <td>4</td>\n",
              "      <td>10</td>\n",
              "    </tr>\n",
              "    <tr>\n",
              "      <th>2</th>\n",
              "      <td>Add product recommendation blocks to the store...</td>\n",
              "      <td>8</td>\n",
              "      <td>3</td>\n",
              "      <td>7</td>\n",
              "      <td>3</td>\n",
              "    </tr>\n",
              "    <tr>\n",
              "      <th>3</th>\n",
              "      <td>Change the category structure. This will incre...</td>\n",
              "      <td>8</td>\n",
              "      <td>3</td>\n",
              "      <td>3</td>\n",
              "      <td>8</td>\n",
              "    </tr>\n",
              "    <tr>\n",
              "      <th>4</th>\n",
              "      <td>Change the background color on the main page. ...</td>\n",
              "      <td>3</td>\n",
              "      <td>1</td>\n",
              "      <td>1</td>\n",
              "      <td>1</td>\n",
              "    </tr>\n",
              "    <tr>\n",
              "      <th>5</th>\n",
              "      <td>Add a customer review page. This will increase...</td>\n",
              "      <td>3</td>\n",
              "      <td>2</td>\n",
              "      <td>2</td>\n",
              "      <td>3</td>\n",
              "    </tr>\n",
              "    <tr>\n",
              "      <th>6</th>\n",
              "      <td>Show banners with current offers and sales on ...</td>\n",
              "      <td>5</td>\n",
              "      <td>3</td>\n",
              "      <td>8</td>\n",
              "      <td>3</td>\n",
              "    </tr>\n",
              "    <tr>\n",
              "      <th>7</th>\n",
              "      <td>Add a subscription form to all the main pages....</td>\n",
              "      <td>10</td>\n",
              "      <td>7</td>\n",
              "      <td>8</td>\n",
              "      <td>5</td>\n",
              "    </tr>\n",
              "    <tr>\n",
              "      <th>8</th>\n",
              "      <td>Launch a promotion that gives users discounts ...</td>\n",
              "      <td>1</td>\n",
              "      <td>9</td>\n",
              "      <td>9</td>\n",
              "      <td>5</td>\n",
              "    </tr>\n",
              "  </tbody>\n",
              "</table>\n",
              "</div>"
            ],
            "text/plain": [
              "                                          Hypothesis  Reach  Impact  \\\n",
              "0  Add two new channels for attracting traffic. T...      3      10   \n",
              "1  Launch your own delivery service. This will sh...      2       5   \n",
              "2  Add product recommendation blocks to the store...      8       3   \n",
              "3  Change the category structure. This will incre...      8       3   \n",
              "4  Change the background color on the main page. ...      3       1   \n",
              "5  Add a customer review page. This will increase...      3       2   \n",
              "6  Show banners with current offers and sales on ...      5       3   \n",
              "7  Add a subscription form to all the main pages....     10       7   \n",
              "8  Launch a promotion that gives users discounts ...      1       9   \n",
              "\n",
              "   Confidence  Effort  \n",
              "0           8       6  \n",
              "1           4      10  \n",
              "2           7       3  \n",
              "3           3       8  \n",
              "4           1       1  \n",
              "5           2       3  \n",
              "6           8       3  \n",
              "7           8       5  \n",
              "8           9       5  "
            ]
          },
          "metadata": {
            "tags": []
          }
        },
        {
          "output_type": "stream",
          "text": [
            "<class 'pandas.core.frame.DataFrame'>\n",
            "RangeIndex: 9 entries, 0 to 8\n",
            "Data columns (total 5 columns):\n",
            " #   Column      Non-Null Count  Dtype \n",
            "---  ------      --------------  ----- \n",
            " 0   Hypothesis  9 non-null      object\n",
            " 1   Reach       9 non-null      int64 \n",
            " 2   Impact      9 non-null      int64 \n",
            " 3   Confidence  9 non-null      int64 \n",
            " 4   Effort      9 non-null      int64 \n",
            "dtypes: int64(4), object(1)\n",
            "memory usage: 488.0+ bytes\n"
          ],
          "name": "stdout"
        },
        {
          "output_type": "display_data",
          "data": {
            "text/plain": [
              "None"
            ]
          },
          "metadata": {
            "tags": []
          }
        }
      ]
    },
    {
      "cell_type": "markdown",
      "metadata": {
        "id": "NxfBrvm6P-Hf"
      },
      "source": [
        "В файле список из 9-ти гопотез, пропусков и проблем с типами данных нет. Скорректируем названия полей и можно приступать к приоритизации."
      ]
    },
    {
      "cell_type": "code",
      "metadata": {
        "colab": {
          "base_uri": "https://localhost:8080/",
          "height": 77
        },
        "id": "4n2IYr9unQiC",
        "outputId": "1e6f7d7b-7202-4faf-f6a9-1929066ef67b"
      },
      "source": [
        "hypothesis.columns = hypothesis.columns.str.lower()\r\n",
        "display(hypothesis.sample())"
      ],
      "execution_count": 3,
      "outputs": [
        {
          "output_type": "display_data",
          "data": {
            "text/html": [
              "<div>\n",
              "<style scoped>\n",
              "    .dataframe tbody tr th:only-of-type {\n",
              "        vertical-align: middle;\n",
              "    }\n",
              "\n",
              "    .dataframe tbody tr th {\n",
              "        vertical-align: top;\n",
              "    }\n",
              "\n",
              "    .dataframe thead th {\n",
              "        text-align: right;\n",
              "    }\n",
              "</style>\n",
              "<table border=\"1\" class=\"dataframe\">\n",
              "  <thead>\n",
              "    <tr style=\"text-align: right;\">\n",
              "      <th></th>\n",
              "      <th>hypothesis</th>\n",
              "      <th>reach</th>\n",
              "      <th>impact</th>\n",
              "      <th>confidence</th>\n",
              "      <th>effort</th>\n",
              "    </tr>\n",
              "  </thead>\n",
              "  <tbody>\n",
              "    <tr>\n",
              "      <th>4</th>\n",
              "      <td>Change the background color on the main page. ...</td>\n",
              "      <td>3</td>\n",
              "      <td>1</td>\n",
              "      <td>1</td>\n",
              "      <td>1</td>\n",
              "    </tr>\n",
              "  </tbody>\n",
              "</table>\n",
              "</div>"
            ],
            "text/plain": [
              "                                          hypothesis  reach  impact  \\\n",
              "4  Change the background color on the main page. ...      3       1   \n",
              "\n",
              "   confidence  effort  \n",
              "4           1       1  "
            ]
          },
          "metadata": {
            "tags": []
          }
        }
      ]
    },
    {
      "cell_type": "markdown",
      "metadata": {
        "id": "IAWYDz8YSwEu"
      },
      "source": [
        "## 1.2. Посчитаем ICE"
      ]
    },
    {
      "cell_type": "code",
      "metadata": {
        "colab": {
          "base_uri": "https://localhost:8080/",
          "height": 317
        },
        "id": "2k3Vka9JnQfQ",
        "outputId": "30a442cb-4f27-4a78-b447-157a226243b7"
      },
      "source": [
        "hypothesis['ICE'] = (hypothesis['impact']*hypothesis['confidence']) / hypothesis['effort']\r\n",
        "display(hypothesis[['hypothesis','ICE']].sort_values('ICE', ascending=False))"
      ],
      "execution_count": 4,
      "outputs": [
        {
          "output_type": "display_data",
          "data": {
            "text/html": [
              "<div>\n",
              "<style scoped>\n",
              "    .dataframe tbody tr th:only-of-type {\n",
              "        vertical-align: middle;\n",
              "    }\n",
              "\n",
              "    .dataframe tbody tr th {\n",
              "        vertical-align: top;\n",
              "    }\n",
              "\n",
              "    .dataframe thead th {\n",
              "        text-align: right;\n",
              "    }\n",
              "</style>\n",
              "<table border=\"1\" class=\"dataframe\">\n",
              "  <thead>\n",
              "    <tr style=\"text-align: right;\">\n",
              "      <th></th>\n",
              "      <th>hypothesis</th>\n",
              "      <th>ICE</th>\n",
              "    </tr>\n",
              "  </thead>\n",
              "  <tbody>\n",
              "    <tr>\n",
              "      <th>8</th>\n",
              "      <td>Launch a promotion that gives users discounts ...</td>\n",
              "      <td>16.200000</td>\n",
              "    </tr>\n",
              "    <tr>\n",
              "      <th>0</th>\n",
              "      <td>Add two new channels for attracting traffic. T...</td>\n",
              "      <td>13.333333</td>\n",
              "    </tr>\n",
              "    <tr>\n",
              "      <th>7</th>\n",
              "      <td>Add a subscription form to all the main pages....</td>\n",
              "      <td>11.200000</td>\n",
              "    </tr>\n",
              "    <tr>\n",
              "      <th>6</th>\n",
              "      <td>Show banners with current offers and sales on ...</td>\n",
              "      <td>8.000000</td>\n",
              "    </tr>\n",
              "    <tr>\n",
              "      <th>2</th>\n",
              "      <td>Add product recommendation blocks to the store...</td>\n",
              "      <td>7.000000</td>\n",
              "    </tr>\n",
              "    <tr>\n",
              "      <th>1</th>\n",
              "      <td>Launch your own delivery service. This will sh...</td>\n",
              "      <td>2.000000</td>\n",
              "    </tr>\n",
              "    <tr>\n",
              "      <th>5</th>\n",
              "      <td>Add a customer review page. This will increase...</td>\n",
              "      <td>1.333333</td>\n",
              "    </tr>\n",
              "    <tr>\n",
              "      <th>3</th>\n",
              "      <td>Change the category structure. This will incre...</td>\n",
              "      <td>1.125000</td>\n",
              "    </tr>\n",
              "    <tr>\n",
              "      <th>4</th>\n",
              "      <td>Change the background color on the main page. ...</td>\n",
              "      <td>1.000000</td>\n",
              "    </tr>\n",
              "  </tbody>\n",
              "</table>\n",
              "</div>"
            ],
            "text/plain": [
              "                                          hypothesis        ICE\n",
              "8  Launch a promotion that gives users discounts ...  16.200000\n",
              "0  Add two new channels for attracting traffic. T...  13.333333\n",
              "7  Add a subscription form to all the main pages....  11.200000\n",
              "6  Show banners with current offers and sales on ...   8.000000\n",
              "2  Add product recommendation blocks to the store...   7.000000\n",
              "1  Launch your own delivery service. This will sh...   2.000000\n",
              "5  Add a customer review page. This will increase...   1.333333\n",
              "3  Change the category structure. This will incre...   1.125000\n",
              "4  Change the background color on the main page. ...   1.000000"
            ]
          },
          "metadata": {
            "tags": []
          }
        }
      ]
    },
    {
      "cell_type": "markdown",
      "metadata": {
        "id": "Sc1pvkInURB_"
      },
      "source": [
        "Самае перспективные гипотезы по ICE: 8, 0, 7 и 6"
      ]
    },
    {
      "cell_type": "markdown",
      "metadata": {
        "id": "X7saa-loUWzf"
      },
      "source": [
        "## 1.2. Посчитаем RICE"
      ]
    },
    {
      "cell_type": "code",
      "metadata": {
        "colab": {
          "base_uri": "https://localhost:8080/",
          "height": 317
        },
        "id": "LMTSjPbGnQci",
        "outputId": "fe6b193f-3052-4aa2-c891-5c3c595c1f74"
      },
      "source": [
        "hypothesis['RICE'] = (hypothesis['reach']*hypothesis['impact']*hypothesis['confidence']) / hypothesis['effort']\r\n",
        "display(hypothesis[['hypothesis','RICE']].sort_values('RICE', ascending=False))"
      ],
      "execution_count": 5,
      "outputs": [
        {
          "output_type": "display_data",
          "data": {
            "text/html": [
              "<div>\n",
              "<style scoped>\n",
              "    .dataframe tbody tr th:only-of-type {\n",
              "        vertical-align: middle;\n",
              "    }\n",
              "\n",
              "    .dataframe tbody tr th {\n",
              "        vertical-align: top;\n",
              "    }\n",
              "\n",
              "    .dataframe thead th {\n",
              "        text-align: right;\n",
              "    }\n",
              "</style>\n",
              "<table border=\"1\" class=\"dataframe\">\n",
              "  <thead>\n",
              "    <tr style=\"text-align: right;\">\n",
              "      <th></th>\n",
              "      <th>hypothesis</th>\n",
              "      <th>RICE</th>\n",
              "    </tr>\n",
              "  </thead>\n",
              "  <tbody>\n",
              "    <tr>\n",
              "      <th>7</th>\n",
              "      <td>Add a subscription form to all the main pages....</td>\n",
              "      <td>112.0</td>\n",
              "    </tr>\n",
              "    <tr>\n",
              "      <th>2</th>\n",
              "      <td>Add product recommendation blocks to the store...</td>\n",
              "      <td>56.0</td>\n",
              "    </tr>\n",
              "    <tr>\n",
              "      <th>0</th>\n",
              "      <td>Add two new channels for attracting traffic. T...</td>\n",
              "      <td>40.0</td>\n",
              "    </tr>\n",
              "    <tr>\n",
              "      <th>6</th>\n",
              "      <td>Show banners with current offers and sales on ...</td>\n",
              "      <td>40.0</td>\n",
              "    </tr>\n",
              "    <tr>\n",
              "      <th>8</th>\n",
              "      <td>Launch a promotion that gives users discounts ...</td>\n",
              "      <td>16.2</td>\n",
              "    </tr>\n",
              "    <tr>\n",
              "      <th>3</th>\n",
              "      <td>Change the category structure. This will incre...</td>\n",
              "      <td>9.0</td>\n",
              "    </tr>\n",
              "    <tr>\n",
              "      <th>1</th>\n",
              "      <td>Launch your own delivery service. This will sh...</td>\n",
              "      <td>4.0</td>\n",
              "    </tr>\n",
              "    <tr>\n",
              "      <th>5</th>\n",
              "      <td>Add a customer review page. This will increase...</td>\n",
              "      <td>4.0</td>\n",
              "    </tr>\n",
              "    <tr>\n",
              "      <th>4</th>\n",
              "      <td>Change the background color on the main page. ...</td>\n",
              "      <td>3.0</td>\n",
              "    </tr>\n",
              "  </tbody>\n",
              "</table>\n",
              "</div>"
            ],
            "text/plain": [
              "                                          hypothesis   RICE\n",
              "7  Add a subscription form to all the main pages....  112.0\n",
              "2  Add product recommendation blocks to the store...   56.0\n",
              "0  Add two new channels for attracting traffic. T...   40.0\n",
              "6  Show banners with current offers and sales on ...   40.0\n",
              "8  Launch a promotion that gives users discounts ...   16.2\n",
              "3  Change the category structure. This will incre...    9.0\n",
              "1  Launch your own delivery service. This will sh...    4.0\n",
              "5  Add a customer review page. This will increase...    4.0\n",
              "4  Change the background color on the main page. ...    3.0"
            ]
          },
          "metadata": {
            "tags": []
          }
        }
      ]
    },
    {
      "cell_type": "markdown",
      "metadata": {
        "id": "DmfuiCibU4QH"
      },
      "source": [
        "По RICE наиболее перспективные гипотезы: 7, 2, 0 и 6"
      ]
    },
    {
      "cell_type": "code",
      "metadata": {
        "colab": {
          "base_uri": "https://localhost:8080/",
          "height": 317
        },
        "id": "drt6e2q5nQZ6",
        "outputId": "54fdbcba-16d3-4e1a-ba60-50e776259acf"
      },
      "source": [
        "display(hypothesis)"
      ],
      "execution_count": 6,
      "outputs": [
        {
          "output_type": "display_data",
          "data": {
            "text/html": [
              "<div>\n",
              "<style scoped>\n",
              "    .dataframe tbody tr th:only-of-type {\n",
              "        vertical-align: middle;\n",
              "    }\n",
              "\n",
              "    .dataframe tbody tr th {\n",
              "        vertical-align: top;\n",
              "    }\n",
              "\n",
              "    .dataframe thead th {\n",
              "        text-align: right;\n",
              "    }\n",
              "</style>\n",
              "<table border=\"1\" class=\"dataframe\">\n",
              "  <thead>\n",
              "    <tr style=\"text-align: right;\">\n",
              "      <th></th>\n",
              "      <th>hypothesis</th>\n",
              "      <th>reach</th>\n",
              "      <th>impact</th>\n",
              "      <th>confidence</th>\n",
              "      <th>effort</th>\n",
              "      <th>ICE</th>\n",
              "      <th>RICE</th>\n",
              "    </tr>\n",
              "  </thead>\n",
              "  <tbody>\n",
              "    <tr>\n",
              "      <th>0</th>\n",
              "      <td>Add two new channels for attracting traffic. T...</td>\n",
              "      <td>3</td>\n",
              "      <td>10</td>\n",
              "      <td>8</td>\n",
              "      <td>6</td>\n",
              "      <td>13.333333</td>\n",
              "      <td>40.0</td>\n",
              "    </tr>\n",
              "    <tr>\n",
              "      <th>1</th>\n",
              "      <td>Launch your own delivery service. This will sh...</td>\n",
              "      <td>2</td>\n",
              "      <td>5</td>\n",
              "      <td>4</td>\n",
              "      <td>10</td>\n",
              "      <td>2.000000</td>\n",
              "      <td>4.0</td>\n",
              "    </tr>\n",
              "    <tr>\n",
              "      <th>2</th>\n",
              "      <td>Add product recommendation blocks to the store...</td>\n",
              "      <td>8</td>\n",
              "      <td>3</td>\n",
              "      <td>7</td>\n",
              "      <td>3</td>\n",
              "      <td>7.000000</td>\n",
              "      <td>56.0</td>\n",
              "    </tr>\n",
              "    <tr>\n",
              "      <th>3</th>\n",
              "      <td>Change the category structure. This will incre...</td>\n",
              "      <td>8</td>\n",
              "      <td>3</td>\n",
              "      <td>3</td>\n",
              "      <td>8</td>\n",
              "      <td>1.125000</td>\n",
              "      <td>9.0</td>\n",
              "    </tr>\n",
              "    <tr>\n",
              "      <th>4</th>\n",
              "      <td>Change the background color on the main page. ...</td>\n",
              "      <td>3</td>\n",
              "      <td>1</td>\n",
              "      <td>1</td>\n",
              "      <td>1</td>\n",
              "      <td>1.000000</td>\n",
              "      <td>3.0</td>\n",
              "    </tr>\n",
              "    <tr>\n",
              "      <th>5</th>\n",
              "      <td>Add a customer review page. This will increase...</td>\n",
              "      <td>3</td>\n",
              "      <td>2</td>\n",
              "      <td>2</td>\n",
              "      <td>3</td>\n",
              "      <td>1.333333</td>\n",
              "      <td>4.0</td>\n",
              "    </tr>\n",
              "    <tr>\n",
              "      <th>6</th>\n",
              "      <td>Show banners with current offers and sales on ...</td>\n",
              "      <td>5</td>\n",
              "      <td>3</td>\n",
              "      <td>8</td>\n",
              "      <td>3</td>\n",
              "      <td>8.000000</td>\n",
              "      <td>40.0</td>\n",
              "    </tr>\n",
              "    <tr>\n",
              "      <th>7</th>\n",
              "      <td>Add a subscription form to all the main pages....</td>\n",
              "      <td>10</td>\n",
              "      <td>7</td>\n",
              "      <td>8</td>\n",
              "      <td>5</td>\n",
              "      <td>11.200000</td>\n",
              "      <td>112.0</td>\n",
              "    </tr>\n",
              "    <tr>\n",
              "      <th>8</th>\n",
              "      <td>Launch a promotion that gives users discounts ...</td>\n",
              "      <td>1</td>\n",
              "      <td>9</td>\n",
              "      <td>9</td>\n",
              "      <td>5</td>\n",
              "      <td>16.200000</td>\n",
              "      <td>16.2</td>\n",
              "    </tr>\n",
              "  </tbody>\n",
              "</table>\n",
              "</div>"
            ],
            "text/plain": [
              "                                          hypothesis  reach  impact  \\\n",
              "0  Add two new channels for attracting traffic. T...      3      10   \n",
              "1  Launch your own delivery service. This will sh...      2       5   \n",
              "2  Add product recommendation blocks to the store...      8       3   \n",
              "3  Change the category structure. This will incre...      8       3   \n",
              "4  Change the background color on the main page. ...      3       1   \n",
              "5  Add a customer review page. This will increase...      3       2   \n",
              "6  Show banners with current offers and sales on ...      5       3   \n",
              "7  Add a subscription form to all the main pages....     10       7   \n",
              "8  Launch a promotion that gives users discounts ...      1       9   \n",
              "\n",
              "   confidence  effort        ICE   RICE  \n",
              "0           8       6  13.333333   40.0  \n",
              "1           4      10   2.000000    4.0  \n",
              "2           7       3   7.000000   56.0  \n",
              "3           3       8   1.125000    9.0  \n",
              "4           1       1   1.000000    3.0  \n",
              "5           2       3   1.333333    4.0  \n",
              "6           8       3   8.000000   40.0  \n",
              "7           8       5  11.200000  112.0  \n",
              "8           9       5  16.200000   16.2  "
            ]
          },
          "metadata": {
            "tags": []
          }
        }
      ]
    },
    {
      "cell_type": "markdown",
      "metadata": {
        "id": "e5qXo3FgVIar"
      },
      "source": [
        "При определении приоритета гипотезы стоит учитывать не только влияние на пользователей, затраты и степень уверенности в самой гипотезе, но и охват - число пользователей, которых она затронет. Гипотеза 7 существенно вырвалась вперёд, т.к. помимо высоких impact и confidence, коснётся всех пользователей сайта.\r\n",
        "\r\n",
        "Также можно заметить, что топ-5 гипотез для обоих подходов одинаков по составу."
      ]
    },
    {
      "cell_type": "markdown",
      "metadata": {
        "id": "5KdFoLP0VtEQ"
      },
      "source": [
        "# 2. Анализ A/B-теста "
      ]
    },
    {
      "cell_type": "markdown",
      "metadata": {
        "id": "bCiP7BiaVx5g"
      },
      "source": [
        "\r\n",
        "## 2.1. Обзор и предобработка данных "
      ]
    },
    {
      "cell_type": "code",
      "metadata": {
        "id": "vExVGQ40nQXI"
      },
      "source": [
        "orders = pd.read_csv('/content/orders_us.csv')\r\n",
        "visitors = pd.read_csv('/content/visits_us.csv')"
      ],
      "execution_count": 7,
      "outputs": []
    },
    {
      "cell_type": "code",
      "metadata": {
        "colab": {
          "base_uri": "https://localhost:8080/",
          "height": 428
        },
        "id": "Hgs6-43pnQUO",
        "outputId": "66cc95b8-4838-4ea5-d035-b933b4403317"
      },
      "source": [
        "# Рассмотрим таблицу с заказами:\r\n",
        "display(orders.head(5))\r\n",
        "display(orders.info())"
      ],
      "execution_count": 8,
      "outputs": [
        {
          "output_type": "display_data",
          "data": {
            "text/html": [
              "<div>\n",
              "<style scoped>\n",
              "    .dataframe tbody tr th:only-of-type {\n",
              "        vertical-align: middle;\n",
              "    }\n",
              "\n",
              "    .dataframe tbody tr th {\n",
              "        vertical-align: top;\n",
              "    }\n",
              "\n",
              "    .dataframe thead th {\n",
              "        text-align: right;\n",
              "    }\n",
              "</style>\n",
              "<table border=\"1\" class=\"dataframe\">\n",
              "  <thead>\n",
              "    <tr style=\"text-align: right;\">\n",
              "      <th></th>\n",
              "      <th>transactionId</th>\n",
              "      <th>visitorId</th>\n",
              "      <th>date</th>\n",
              "      <th>revenue</th>\n",
              "      <th>group</th>\n",
              "    </tr>\n",
              "  </thead>\n",
              "  <tbody>\n",
              "    <tr>\n",
              "      <th>0</th>\n",
              "      <td>3667963787</td>\n",
              "      <td>3312258926</td>\n",
              "      <td>2019-08-15</td>\n",
              "      <td>30.4</td>\n",
              "      <td>B</td>\n",
              "    </tr>\n",
              "    <tr>\n",
              "      <th>1</th>\n",
              "      <td>2804400009</td>\n",
              "      <td>3642806036</td>\n",
              "      <td>2019-08-15</td>\n",
              "      <td>15.2</td>\n",
              "      <td>B</td>\n",
              "    </tr>\n",
              "    <tr>\n",
              "      <th>2</th>\n",
              "      <td>2961555356</td>\n",
              "      <td>4069496402</td>\n",
              "      <td>2019-08-15</td>\n",
              "      <td>10.2</td>\n",
              "      <td>A</td>\n",
              "    </tr>\n",
              "    <tr>\n",
              "      <th>3</th>\n",
              "      <td>3797467345</td>\n",
              "      <td>1196621759</td>\n",
              "      <td>2019-08-15</td>\n",
              "      <td>155.1</td>\n",
              "      <td>B</td>\n",
              "    </tr>\n",
              "    <tr>\n",
              "      <th>4</th>\n",
              "      <td>2282983706</td>\n",
              "      <td>2322279887</td>\n",
              "      <td>2019-08-15</td>\n",
              "      <td>40.5</td>\n",
              "      <td>B</td>\n",
              "    </tr>\n",
              "  </tbody>\n",
              "</table>\n",
              "</div>"
            ],
            "text/plain": [
              "   transactionId   visitorId        date  revenue group\n",
              "0     3667963787  3312258926  2019-08-15     30.4     B\n",
              "1     2804400009  3642806036  2019-08-15     15.2     B\n",
              "2     2961555356  4069496402  2019-08-15     10.2     A\n",
              "3     3797467345  1196621759  2019-08-15    155.1     B\n",
              "4     2282983706  2322279887  2019-08-15     40.5     B"
            ]
          },
          "metadata": {
            "tags": []
          }
        },
        {
          "output_type": "stream",
          "text": [
            "<class 'pandas.core.frame.DataFrame'>\n",
            "RangeIndex: 1197 entries, 0 to 1196\n",
            "Data columns (total 5 columns):\n",
            " #   Column         Non-Null Count  Dtype  \n",
            "---  ------         --------------  -----  \n",
            " 0   transactionId  1197 non-null   int64  \n",
            " 1   visitorId      1197 non-null   int64  \n",
            " 2   date           1197 non-null   object \n",
            " 3   revenue        1197 non-null   float64\n",
            " 4   group          1197 non-null   object \n",
            "dtypes: float64(1), int64(2), object(2)\n",
            "memory usage: 46.9+ KB\n"
          ],
          "name": "stdout"
        },
        {
          "output_type": "display_data",
          "data": {
            "text/plain": [
              "None"
            ]
          },
          "metadata": {
            "tags": []
          }
        }
      ]
    },
    {
      "cell_type": "code",
      "metadata": {
        "colab": {
          "base_uri": "https://localhost:8080/",
          "height": 602
        },
        "id": "nrXFrqeLnQRc",
        "outputId": "74f5a626-cd90-4f5d-e2a7-729a4d4b64ea"
      },
      "source": [
        "# Рассмотрим таблицу с пользователями:\r\n",
        "display(visitors)\r\n",
        "display(visitors.info())"
      ],
      "execution_count": 9,
      "outputs": [
        {
          "output_type": "display_data",
          "data": {
            "text/html": [
              "<div>\n",
              "<style scoped>\n",
              "    .dataframe tbody tr th:only-of-type {\n",
              "        vertical-align: middle;\n",
              "    }\n",
              "\n",
              "    .dataframe tbody tr th {\n",
              "        vertical-align: top;\n",
              "    }\n",
              "\n",
              "    .dataframe thead th {\n",
              "        text-align: right;\n",
              "    }\n",
              "</style>\n",
              "<table border=\"1\" class=\"dataframe\">\n",
              "  <thead>\n",
              "    <tr style=\"text-align: right;\">\n",
              "      <th></th>\n",
              "      <th>date</th>\n",
              "      <th>group</th>\n",
              "      <th>visits</th>\n",
              "    </tr>\n",
              "  </thead>\n",
              "  <tbody>\n",
              "    <tr>\n",
              "      <th>0</th>\n",
              "      <td>2019-08-01</td>\n",
              "      <td>A</td>\n",
              "      <td>719</td>\n",
              "    </tr>\n",
              "    <tr>\n",
              "      <th>1</th>\n",
              "      <td>2019-08-02</td>\n",
              "      <td>A</td>\n",
              "      <td>619</td>\n",
              "    </tr>\n",
              "    <tr>\n",
              "      <th>2</th>\n",
              "      <td>2019-08-03</td>\n",
              "      <td>A</td>\n",
              "      <td>507</td>\n",
              "    </tr>\n",
              "    <tr>\n",
              "      <th>3</th>\n",
              "      <td>2019-08-04</td>\n",
              "      <td>A</td>\n",
              "      <td>717</td>\n",
              "    </tr>\n",
              "    <tr>\n",
              "      <th>4</th>\n",
              "      <td>2019-08-05</td>\n",
              "      <td>A</td>\n",
              "      <td>756</td>\n",
              "    </tr>\n",
              "    <tr>\n",
              "      <th>...</th>\n",
              "      <td>...</td>\n",
              "      <td>...</td>\n",
              "      <td>...</td>\n",
              "    </tr>\n",
              "    <tr>\n",
              "      <th>57</th>\n",
              "      <td>2019-08-27</td>\n",
              "      <td>B</td>\n",
              "      <td>720</td>\n",
              "    </tr>\n",
              "    <tr>\n",
              "      <th>58</th>\n",
              "      <td>2019-08-28</td>\n",
              "      <td>B</td>\n",
              "      <td>654</td>\n",
              "    </tr>\n",
              "    <tr>\n",
              "      <th>59</th>\n",
              "      <td>2019-08-29</td>\n",
              "      <td>B</td>\n",
              "      <td>531</td>\n",
              "    </tr>\n",
              "    <tr>\n",
              "      <th>60</th>\n",
              "      <td>2019-08-30</td>\n",
              "      <td>B</td>\n",
              "      <td>490</td>\n",
              "    </tr>\n",
              "    <tr>\n",
              "      <th>61</th>\n",
              "      <td>2019-08-31</td>\n",
              "      <td>B</td>\n",
              "      <td>718</td>\n",
              "    </tr>\n",
              "  </tbody>\n",
              "</table>\n",
              "<p>62 rows × 3 columns</p>\n",
              "</div>"
            ],
            "text/plain": [
              "          date group  visits\n",
              "0   2019-08-01     A     719\n",
              "1   2019-08-02     A     619\n",
              "2   2019-08-03     A     507\n",
              "3   2019-08-04     A     717\n",
              "4   2019-08-05     A     756\n",
              "..         ...   ...     ...\n",
              "57  2019-08-27     B     720\n",
              "58  2019-08-28     B     654\n",
              "59  2019-08-29     B     531\n",
              "60  2019-08-30     B     490\n",
              "61  2019-08-31     B     718\n",
              "\n",
              "[62 rows x 3 columns]"
            ]
          },
          "metadata": {
            "tags": []
          }
        },
        {
          "output_type": "stream",
          "text": [
            "<class 'pandas.core.frame.DataFrame'>\n",
            "RangeIndex: 62 entries, 0 to 61\n",
            "Data columns (total 3 columns):\n",
            " #   Column  Non-Null Count  Dtype \n",
            "---  ------  --------------  ----- \n",
            " 0   date    62 non-null     object\n",
            " 1   group   62 non-null     object\n",
            " 2   visits  62 non-null     int64 \n",
            "dtypes: int64(1), object(2)\n",
            "memory usage: 1.6+ KB\n"
          ],
          "name": "stdout"
        },
        {
          "output_type": "display_data",
          "data": {
            "text/plain": [
              "None"
            ]
          },
          "metadata": {
            "tags": []
          }
        }
      ]
    },
    {
      "cell_type": "markdown",
      "metadata": {
        "id": "azm9FugpWoXJ"
      },
      "source": [
        "Мы имеем данные о количестве посетителей из групп А и В за август 2019.\r\n",
        "\r\n",
        "Необходимо:\r\n",
        "\r\n",
        "* привести тип поля date к datetime"
      ]
    },
    {
      "cell_type": "code",
      "metadata": {
        "id": "TOWB6tXdnQO0"
      },
      "source": [
        "orders.columns = orders.columns.str.lower()\r\n",
        "orders['date'] = pd.to_datetime(orders['date'], format='%Y-%m-%d')\r\n",
        "visitors['date'] = pd.to_datetime(visitors['date'], format='%Y-%m-%d')\r\n",
        "#display(orders.info())\r\n",
        "#display(visitors.info())"
      ],
      "execution_count": 10,
      "outputs": []
    },
    {
      "cell_type": "markdown",
      "metadata": {
        "id": "qAbBBM3iYOOB"
      },
      "source": [
        "\r\n",
        "## 2.2. Анализ "
      ]
    },
    {
      "cell_type": "markdown",
      "metadata": {
        "id": "7AEPvqUoYR8Z"
      },
      "source": [
        "**2.2.1. График кумулятивной выручки по группам**"
      ]
    },
    {
      "cell_type": "code",
      "metadata": {
        "colab": {
          "base_uri": "https://localhost:8080/",
          "height": 227
        },
        "id": "11vDq5K7nQL-",
        "outputId": "5c41ece5-4d72-4829-f7a7-80e156431df7"
      },
      "source": [
        "# Создадим массив уникальных пар значений дат и групп теста:\r\n",
        "datesGroups = orders[['date', 'group']].drop_duplicates()\r\n",
        "\r\n",
        "# Соберём агрегированные кумулятивные по дням данные о заказах:\r\n",
        "ordersAggregated = (datesGroups\r\n",
        "                    .apply(lambda x: orders[(orders['date'] <= x['date']) & (orders['group'] == x['group'])]\r\n",
        "                        .agg({'date':'max', 'group':'max', 'transactionid':pd.Series.nunique, 'visitorid':pd.Series.nunique, 'revenue':'sum'}), axis=1)\r\n",
        "                    .sort_values(by=['date','group']) \r\n",
        "                   )\r\n",
        "display(ordersAggregated.head(6))"
      ],
      "execution_count": 11,
      "outputs": [
        {
          "output_type": "display_data",
          "data": {
            "text/html": [
              "<div>\n",
              "<style scoped>\n",
              "    .dataframe tbody tr th:only-of-type {\n",
              "        vertical-align: middle;\n",
              "    }\n",
              "\n",
              "    .dataframe tbody tr th {\n",
              "        vertical-align: top;\n",
              "    }\n",
              "\n",
              "    .dataframe thead th {\n",
              "        text-align: right;\n",
              "    }\n",
              "</style>\n",
              "<table border=\"1\" class=\"dataframe\">\n",
              "  <thead>\n",
              "    <tr style=\"text-align: right;\">\n",
              "      <th></th>\n",
              "      <th>date</th>\n",
              "      <th>group</th>\n",
              "      <th>transactionid</th>\n",
              "      <th>visitorid</th>\n",
              "      <th>revenue</th>\n",
              "    </tr>\n",
              "  </thead>\n",
              "  <tbody>\n",
              "    <tr>\n",
              "      <th>55</th>\n",
              "      <td>2019-08-01</td>\n",
              "      <td>A</td>\n",
              "      <td>24</td>\n",
              "      <td>20</td>\n",
              "      <td>2356.8</td>\n",
              "    </tr>\n",
              "    <tr>\n",
              "      <th>66</th>\n",
              "      <td>2019-08-01</td>\n",
              "      <td>B</td>\n",
              "      <td>21</td>\n",
              "      <td>20</td>\n",
              "      <td>1620.0</td>\n",
              "    </tr>\n",
              "    <tr>\n",
              "      <th>175</th>\n",
              "      <td>2019-08-02</td>\n",
              "      <td>A</td>\n",
              "      <td>44</td>\n",
              "      <td>38</td>\n",
              "      <td>3860.3</td>\n",
              "    </tr>\n",
              "    <tr>\n",
              "      <th>173</th>\n",
              "      <td>2019-08-02</td>\n",
              "      <td>B</td>\n",
              "      <td>45</td>\n",
              "      <td>43</td>\n",
              "      <td>4243.8</td>\n",
              "    </tr>\n",
              "    <tr>\n",
              "      <th>291</th>\n",
              "      <td>2019-08-03</td>\n",
              "      <td>A</td>\n",
              "      <td>68</td>\n",
              "      <td>62</td>\n",
              "      <td>5675.5</td>\n",
              "    </tr>\n",
              "    <tr>\n",
              "      <th>310</th>\n",
              "      <td>2019-08-03</td>\n",
              "      <td>B</td>\n",
              "      <td>61</td>\n",
              "      <td>59</td>\n",
              "      <td>6050.6</td>\n",
              "    </tr>\n",
              "  </tbody>\n",
              "</table>\n",
              "</div>"
            ],
            "text/plain": [
              "          date group  transactionid  visitorid  revenue\n",
              "55  2019-08-01     A             24         20   2356.8\n",
              "66  2019-08-01     B             21         20   1620.0\n",
              "175 2019-08-02     A             44         38   3860.3\n",
              "173 2019-08-02     B             45         43   4243.8\n",
              "291 2019-08-03     A             68         62   5675.5\n",
              "310 2019-08-03     B             61         59   6050.6"
            ]
          },
          "metadata": {
            "tags": []
          }
        }
      ]
    },
    {
      "cell_type": "code",
      "metadata": {
        "colab": {
          "base_uri": "https://localhost:8080/",
          "height": 227
        },
        "id": "A9dNzSK4ZtWx",
        "outputId": "4cbbc119-024f-4e49-e27a-a57e0c24c012"
      },
      "source": [
        "# Соберём агрегированные кумулятивные по дням данные о посетителях:\r\n",
        "visitorsAggregated = (datesGroups\r\n",
        "                      .apply(lambda x: visitors[(visitors['date'] <= x['date']) & (visitors['group'] == x['group'])]\r\n",
        "                          .agg({'date' : 'max', 'group' : 'max', 'visits' : 'sum'}), axis=1)\r\n",
        "                      .sort_values(by=['date','group'])\r\n",
        "                     )\r\n",
        "display(visitorsAggregated.head(6))"
      ],
      "execution_count": 12,
      "outputs": [
        {
          "output_type": "display_data",
          "data": {
            "text/html": [
              "<div>\n",
              "<style scoped>\n",
              "    .dataframe tbody tr th:only-of-type {\n",
              "        vertical-align: middle;\n",
              "    }\n",
              "\n",
              "    .dataframe tbody tr th {\n",
              "        vertical-align: top;\n",
              "    }\n",
              "\n",
              "    .dataframe thead th {\n",
              "        text-align: right;\n",
              "    }\n",
              "</style>\n",
              "<table border=\"1\" class=\"dataframe\">\n",
              "  <thead>\n",
              "    <tr style=\"text-align: right;\">\n",
              "      <th></th>\n",
              "      <th>date</th>\n",
              "      <th>group</th>\n",
              "      <th>visits</th>\n",
              "    </tr>\n",
              "  </thead>\n",
              "  <tbody>\n",
              "    <tr>\n",
              "      <th>55</th>\n",
              "      <td>2019-08-01</td>\n",
              "      <td>A</td>\n",
              "      <td>719</td>\n",
              "    </tr>\n",
              "    <tr>\n",
              "      <th>66</th>\n",
              "      <td>2019-08-01</td>\n",
              "      <td>B</td>\n",
              "      <td>713</td>\n",
              "    </tr>\n",
              "    <tr>\n",
              "      <th>175</th>\n",
              "      <td>2019-08-02</td>\n",
              "      <td>A</td>\n",
              "      <td>1338</td>\n",
              "    </tr>\n",
              "    <tr>\n",
              "      <th>173</th>\n",
              "      <td>2019-08-02</td>\n",
              "      <td>B</td>\n",
              "      <td>1294</td>\n",
              "    </tr>\n",
              "    <tr>\n",
              "      <th>291</th>\n",
              "      <td>2019-08-03</td>\n",
              "      <td>A</td>\n",
              "      <td>1845</td>\n",
              "    </tr>\n",
              "    <tr>\n",
              "      <th>310</th>\n",
              "      <td>2019-08-03</td>\n",
              "      <td>B</td>\n",
              "      <td>1803</td>\n",
              "    </tr>\n",
              "  </tbody>\n",
              "</table>\n",
              "</div>"
            ],
            "text/plain": [
              "          date group  visits\n",
              "55  2019-08-01     A     719\n",
              "66  2019-08-01     B     713\n",
              "175 2019-08-02     A    1338\n",
              "173 2019-08-02     B    1294\n",
              "291 2019-08-03     A    1845\n",
              "310 2019-08-03     B    1803"
            ]
          },
          "metadata": {
            "tags": []
          }
        }
      ]
    },
    {
      "cell_type": "code",
      "metadata": {
        "colab": {
          "base_uri": "https://localhost:8080/",
          "height": 227
        },
        "id": "5FYK9dMEaF5g",
        "outputId": "06655206-6e01-4dd9-ecf3-5c919ce9d2e1"
      },
      "source": [
        "# Объединим кумулятивные данные в одной таблице:\r\n",
        "cumulativeData = ordersAggregated.merge(visitorsAggregated, left_on=['date', 'group'], right_on=['date', 'group'])\r\n",
        "cumulativeData.columns = ['date', 'group', 'orders', 'buyers', 'revenue', 'visitors']\r\n",
        "\r\n",
        "display(cumulativeData.head(6))"
      ],
      "execution_count": 13,
      "outputs": [
        {
          "output_type": "display_data",
          "data": {
            "text/html": [
              "<div>\n",
              "<style scoped>\n",
              "    .dataframe tbody tr th:only-of-type {\n",
              "        vertical-align: middle;\n",
              "    }\n",
              "\n",
              "    .dataframe tbody tr th {\n",
              "        vertical-align: top;\n",
              "    }\n",
              "\n",
              "    .dataframe thead th {\n",
              "        text-align: right;\n",
              "    }\n",
              "</style>\n",
              "<table border=\"1\" class=\"dataframe\">\n",
              "  <thead>\n",
              "    <tr style=\"text-align: right;\">\n",
              "      <th></th>\n",
              "      <th>date</th>\n",
              "      <th>group</th>\n",
              "      <th>orders</th>\n",
              "      <th>buyers</th>\n",
              "      <th>revenue</th>\n",
              "      <th>visitors</th>\n",
              "    </tr>\n",
              "  </thead>\n",
              "  <tbody>\n",
              "    <tr>\n",
              "      <th>0</th>\n",
              "      <td>2019-08-01</td>\n",
              "      <td>A</td>\n",
              "      <td>24</td>\n",
              "      <td>20</td>\n",
              "      <td>2356.8</td>\n",
              "      <td>719</td>\n",
              "    </tr>\n",
              "    <tr>\n",
              "      <th>1</th>\n",
              "      <td>2019-08-01</td>\n",
              "      <td>B</td>\n",
              "      <td>21</td>\n",
              "      <td>20</td>\n",
              "      <td>1620.0</td>\n",
              "      <td>713</td>\n",
              "    </tr>\n",
              "    <tr>\n",
              "      <th>2</th>\n",
              "      <td>2019-08-02</td>\n",
              "      <td>A</td>\n",
              "      <td>44</td>\n",
              "      <td>38</td>\n",
              "      <td>3860.3</td>\n",
              "      <td>1338</td>\n",
              "    </tr>\n",
              "    <tr>\n",
              "      <th>3</th>\n",
              "      <td>2019-08-02</td>\n",
              "      <td>B</td>\n",
              "      <td>45</td>\n",
              "      <td>43</td>\n",
              "      <td>4243.8</td>\n",
              "      <td>1294</td>\n",
              "    </tr>\n",
              "    <tr>\n",
              "      <th>4</th>\n",
              "      <td>2019-08-03</td>\n",
              "      <td>A</td>\n",
              "      <td>68</td>\n",
              "      <td>62</td>\n",
              "      <td>5675.5</td>\n",
              "      <td>1845</td>\n",
              "    </tr>\n",
              "    <tr>\n",
              "      <th>5</th>\n",
              "      <td>2019-08-03</td>\n",
              "      <td>B</td>\n",
              "      <td>61</td>\n",
              "      <td>59</td>\n",
              "      <td>6050.6</td>\n",
              "      <td>1803</td>\n",
              "    </tr>\n",
              "  </tbody>\n",
              "</table>\n",
              "</div>"
            ],
            "text/plain": [
              "        date group  orders  buyers  revenue  visitors\n",
              "0 2019-08-01     A      24      20   2356.8       719\n",
              "1 2019-08-01     B      21      20   1620.0       713\n",
              "2 2019-08-02     A      44      38   3860.3      1338\n",
              "3 2019-08-02     B      45      43   4243.8      1294\n",
              "4 2019-08-03     A      68      62   5675.5      1845\n",
              "5 2019-08-03     B      61      59   6050.6      1803"
            ]
          },
          "metadata": {
            "tags": []
          }
        }
      ]
    },
    {
      "cell_type": "code",
      "metadata": {
        "colab": {
          "base_uri": "https://localhost:8080/",
          "height": 434
        },
        "id": "O8RS-5zenQJF",
        "outputId": "a4ae189b-9765-4c22-bff9-64b4f89b7d90"
      },
      "source": [
        "# Датафрейм с кумулятивным количеством заказов и кумулятивной выручкой по дням в группе А:\r\n",
        "cumulativeRevenueA = cumulativeData[cumulativeData['group']=='A'][['date', 'revenue', 'orders']]\r\n",
        "\r\n",
        "# Датафрейм с кумулятивным количеством заказов и кумулятивной выручкой по дням в группе B:\r\n",
        "cumulativeRevenueB =cumulativeData[cumulativeData['group']=='B'][['date', 'revenue', 'orders']]\r\n",
        "\r\n",
        "plt.figure(figsize=(12,6))\r\n",
        "plt.plot(cumulativeRevenueA['date'], cumulativeRevenueA['revenue'], label='A')\r\n",
        "plt.plot(cumulativeRevenueB['date'], cumulativeRevenueB['revenue'], label='B')\r\n",
        "plt.title('Кумулятивная выручка по дням в группах А и В', fontsize=12)\r\n",
        "plt.xlabel('Дата', fontsize=12)\r\n",
        "plt.ylabel('Кумулятивная выручка', fontsize=12)\r\n",
        "plt.xticks(rotation=30)\r\n",
        "plt.legend() \r\n",
        "plt.show()"
      ],
      "execution_count": 14,
      "outputs": [
        {
          "output_type": "display_data",
          "data": {
            "image/png": "[encoded data removed]",
            "text/plain": [
              "<Figure size 864x432 with 1 Axes>"
            ]
          },
          "metadata": {
            "tags": [],
            "needs_background": "light"
          }
        }
      ]
    },
    {
      "cell_type": "markdown",
      "metadata": {
        "id": "3gTqZ8COcW4T"
      },
      "source": [
        "* Выручка в группе А почти равномерно увеличивается на протяжении всего теста.\r\n",
        "* Выручка в группе В также увеличивается, но с заметным скачком почти в середине теста. Возможно, имело место большое количество заказов в группе В или же всплеск их стоимости.\r\n",
        "* Почти на всём протяжении теста кумулятивная выручка в группе В больше, чем в А."
      ]
    },
    {
      "cell_type": "markdown",
      "metadata": {
        "id": "oo0nOqVjc-WE"
      },
      "source": [
        "**2.2.2. График кумулятивного среднего чека по группам**"
      ]
    },
    {
      "cell_type": "code",
      "metadata": {
        "colab": {
          "base_uri": "https://localhost:8080/",
          "height": 380
        },
        "id": "1iQjyfPBnQGf",
        "outputId": "2cb8d933-a75f-4d06-9c5a-5a971f7d8ef4"
      },
      "source": [
        "plt.figure(figsize=(10,5))\r\n",
        "plt.plot(cumulativeRevenueA['date'], cumulativeRevenueA['revenue']/cumulativeRevenueA['orders'], label='A')\r\n",
        "plt.plot(cumulativeRevenueB['date'], cumulativeRevenueB['revenue']/cumulativeRevenueB['orders'], label='B')\r\n",
        "plt.title('Кумулятивный средний чек по дням в группах А и В', fontsize=12)\r\n",
        "plt.xlabel('Дата', fontsize=12)\r\n",
        "plt.ylabel('Кумулятивный средний чек', fontsize=12)\r\n",
        "plt.xticks(rotation=30)\r\n",
        "plt.legend() \r\n",
        "plt.show()"
      ],
      "execution_count": 15,
      "outputs": [
        {
          "output_type": "display_data",
          "data": {
            "image/png": "[encoded data removed]",
            "text/plain": [
              "<Figure size 720x360 with 1 Axes>"
            ]
          },
          "metadata": {
            "tags": [],
            "needs_background": "light"
          }
        }
      ]
    },
    {
      "cell_type": "markdown",
      "metadata": {
        "id": "DvlR4xTIdUlp"
      },
      "source": [
        "* Средний чек в группе А выравнивается к середине теста.\r\n",
        "* Средний чек в группе В одномоментно существенно вырос и теперь ему требуется больше времени, чтобы прийти к своему реальному среднему значению. Вероятно, имела место одна или несколько очень дорогих покупок."
      ]
    },
    {
      "cell_type": "markdown",
      "metadata": {
        "id": "T5acqDfweVfp"
      },
      "source": [
        "**2.2.3. График относительного изменения кумулятивного среднего чека группы B к группе A**"
      ]
    },
    {
      "cell_type": "code",
      "metadata": {
        "colab": {
          "base_uri": "https://localhost:8080/",
          "height": 380
        },
        "id": "CDJ7PKuUnQDp",
        "outputId": "61838948-7718-454b-834e-b205b40ee337"
      },
      "source": [
        "# Собираем данные в одном датафрейме:\r\n",
        "mergedCumulativeRevenue = cumulativeRevenueA.merge(cumulativeRevenueB, left_on='date', right_on='date', how='left', suffixes=['A', 'B'])\r\n",
        "\r\n",
        "plt.figure(figsize=(10,5))\r\n",
        "plt.plot(mergedCumulativeRevenue['date'], (mergedCumulativeRevenue['revenueB']/mergedCumulativeRevenue['ordersB'])/(mergedCumulativeRevenue['revenueA']/mergedCumulativeRevenue['ordersA'])-1)\r\n",
        "plt.axhline(y=0, color='black', linestyle='--') \r\n",
        "plt.title('Относительное изменение кумулятивного среднего чека группы B к группе A', fontsize=12, fontweight='bold')\r\n",
        "plt.xlabel('Дата', fontsize=12)\r\n",
        "plt.ylabel('(ср.чек В/ср.чек А) -1', fontsize=12)\r\n",
        "plt.xticks(rotation=30)\r\n",
        "plt.show()"
      ],
      "execution_count": 16,
      "outputs": [
        {
          "output_type": "display_data",
          "data": {
            "image/png": "[encoded data removed]",
            "text/plain": [
              "<Figure size 720x360 with 1 Axes>"
            ]
          },
          "metadata": {
            "tags": [],
            "needs_background": "light"
          }
        }
      ]
    },
    {
      "cell_type": "markdown",
      "metadata": {
        "id": "c25hbXU_eqtD"
      },
      "source": [
        "* График резко скачет в нескольких точках - определённо, имеют место какие-то выбросы."
      ]
    },
    {
      "cell_type": "markdown",
      "metadata": {
        "id": "aF4y6VM1ey1s"
      },
      "source": [
        "**2.2.4. График кумулятивной конверсии по группам**"
      ]
    },
    {
      "cell_type": "code",
      "metadata": {
        "colab": {
          "base_uri": "https://localhost:8080/",
          "height": 380
        },
        "id": "7m2HnCPMnQAj",
        "outputId": "3da1c567-826d-4c4f-f006-033170b12467"
      },
      "source": [
        "# Считаем кумулятивную конверсию:\r\n",
        "cumulativeData['conversion'] = cumulativeData['orders']/cumulativeData['visitors']\r\n",
        "\r\n",
        "# Данные по группе A:\r\n",
        "cumulativeDataA = cumulativeData[cumulativeData['group']=='A']\r\n",
        "\r\n",
        "# Данные по группе B:\r\n",
        "cumulativeDataB = cumulativeData[cumulativeData['group']=='B']\r\n",
        "\r\n",
        "plt.figure(figsize=(10,5))\r\n",
        "plt.plot(cumulativeDataA['date'], cumulativeDataA['conversion'], label='A')\r\n",
        "plt.plot(cumulativeDataB['date'], cumulativeDataB['conversion'], label='B')\r\n",
        "plt.legend()\r\n",
        "#plt.axis(['2019-08-01', '2019-08-31', 0.015, 0.05]) \r\n",
        "plt.title('Кумулятивная конверсия по группам', fontsize=12, fontweight='bold')\r\n",
        "plt.xlabel('Дата', fontsize=12)\r\n",
        "plt.ylabel('Конверсия', fontsize=12)\r\n",
        "plt.xticks(rotation=30)\r\n",
        "plt.show()"
      ],
      "execution_count": 17,
      "outputs": [
        {
          "output_type": "display_data",
          "data": {
            "image/png": "[encoded data removed]",
            "text/plain": [
              "<Figure size 720x360 with 1 Axes>"
            ]
          },
          "metadata": {
            "tags": [],
            "needs_background": "light"
          }
        }
      ]
    },
    {
      "cell_type": "markdown",
      "metadata": {
        "id": "7qsO7Rfve-fR"
      },
      "source": [
        "* Сначала конверсии колебались, но довольно быстро выровнялись и результат группы В оказался стабильно лучше, чем в группе А."
      ]
    },
    {
      "cell_type": "markdown",
      "metadata": {
        "id": "iAlWP_oUfQ6L"
      },
      "source": [
        "**2.2.5. График относительного изменения кумулятивной конверсии группы B к группе A** "
      ]
    },
    {
      "cell_type": "code",
      "metadata": {
        "colab": {
          "base_uri": "https://localhost:8080/",
          "height": 380
        },
        "id": "XBWU5ONBnP90",
        "outputId": "12b5b976-c722-4c7c-c550-89d4f9032d64"
      },
      "source": [
        "mergedCumulativeConversions = cumulativeDataA[['date','conversion']].merge(cumulativeDataB[['date','conversion']], left_on='date', right_on='date', how='left', suffixes=['A', 'B'])\r\n",
        "\r\n",
        "plt.figure(figsize=(10,5))\r\n",
        "plt.plot(mergedCumulativeConversions['date'], mergedCumulativeConversions['conversionB']/mergedCumulativeConversions['conversionA']-1)\r\n",
        "plt.axhline(y=0, color='black', linestyle='--')\r\n",
        "plt.axhline(y=0.15, color='grey', linestyle='--')\r\n",
        "#plt.axis(['2019-08-01', '2019-08-31', -0.2, 0.3]) \r\n",
        "plt.title('Относительное изменение кумулятивной конверсии В к А', fontsize=12, fontweight='bold')\r\n",
        "plt.xlabel('Дата', fontsize=12)\r\n",
        "plt.ylabel('(конверсия В/конверсия А) -1', fontsize=12)\r\n",
        "plt.xticks(rotation=30)\r\n",
        "plt.show()"
      ],
      "execution_count": 18,
      "outputs": [
        {
          "output_type": "display_data",
          "data": {
            "image/png": "[encoded data removed]",
            "text/plain": [
              "<Figure size 720x360 with 1 Axes>"
            ]
          },
          "metadata": {
            "tags": [],
            "needs_background": "light"
          }
        }
      ]
    },
    {
      "cell_type": "markdown",
      "metadata": {
        "id": "Tek1wpmEfbxU"
      },
      "source": [
        "* Вскоре после начала теста конверсия группы В опередила конверсию А и до конца теста оставалась выше.\r\n",
        "* На графике есть скачки, которые могут говорить о наличии выбросов в данных."
      ]
    },
    {
      "cell_type": "markdown",
      "metadata": {
        "id": "7AfLOkJgfgCi"
      },
      "source": [
        "**2.2.6. График количества заказов по пользователям**"
      ]
    },
    {
      "cell_type": "code",
      "metadata": {
        "colab": {
          "base_uri": "https://localhost:8080/",
          "height": 513
        },
        "id": "Tw7gS8_Sffpk",
        "outputId": "026a3e50-28fd-4bd1-9fd5-70a592514c5d"
      },
      "source": [
        "# Датафрейм с количеством заказов по пользователям:\r\n",
        "ordersByUsers = orders.drop(['group', 'revenue', 'date'], axis=1).groupby('visitorid', as_index=False).agg({'transactionid' : pd.Series.nunique})\r\n",
        "ordersByUsers.columns = ['visitorid','orders']\r\n",
        "#display(ordersByUsers.sort_values(by='orders',ascending=False).head(10)) \r\n",
        "display(ordersByUsers['orders'].describe())\r\n",
        "\r\n",
        "plt.figure(figsize=(10,5))\r\n",
        "plt.hist(ordersByUsers['orders']) \r\n",
        "plt.title('Количество заказов по пользователям', fontsize=12, fontweight='bold')\r\n",
        "plt.xlabel('Заказы', fontsize=12)\r\n",
        "plt.ylabel('Количество пользователей', fontsize=12)\r\n",
        "plt.show()"
      ],
      "execution_count": 19,
      "outputs": [
        {
          "output_type": "display_data",
          "data": {
            "text/plain": [
              "count    1031.000000\n",
              "mean        1.161009\n",
              "std         0.724919\n",
              "min         1.000000\n",
              "25%         1.000000\n",
              "50%         1.000000\n",
              "75%         1.000000\n",
              "max        11.000000\n",
              "Name: orders, dtype: float64"
            ]
          },
          "metadata": {
            "tags": []
          }
        },
        {
          "output_type": "display_data",
          "data": {
            "image/png": "[encoded data removed]",
            "text/plain": [
              "<Figure size 720x360 with 1 Axes>"
            ]
          },
          "metadata": {
            "tags": [],
            "needs_background": "light"
          }
        }
      ]
    },
    {
      "cell_type": "markdown",
      "metadata": {
        "id": "0KLtVbQ4fwO8"
      },
      "source": [
        "* Большинство пользователей оформляли заказ единожды."
      ]
    },
    {
      "cell_type": "markdown",
      "metadata": {
        "id": "48rfbhaGgBDK"
      },
      "source": [
        "Построим точечную диаграмму числа заказов на одного пользователя."
      ]
    },
    {
      "cell_type": "code",
      "metadata": {
        "colab": {
          "base_uri": "https://localhost:8080/",
          "height": 335
        },
        "id": "OkSpqHN2nP7S",
        "outputId": "3b61c6ad-aaa9-478b-9dc1-aaf9d4a7bf54"
      },
      "source": [
        "x_values = pd.Series(range(0,len(ordersByUsers)))\r\n",
        "\r\n",
        "plt.figure(figsize=(10,5))\r\n",
        "plt.title('Количество заказов по пользователям', fontsize=12, fontweight='bold')\r\n",
        "plt.scatter(x_values, ordersByUsers['orders']) \r\n",
        "plt.show()"
      ],
      "execution_count": 20,
      "outputs": [
        {
          "output_type": "display_data",
          "data": {
            "image/png": "[encoded data removed]",
            "text/plain": [
              "<Figure size 720x360 with 1 Axes>"
            ]
          },
          "metadata": {
            "tags": [],
            "needs_background": "light"
          }
        }
      ]
    },
    {
      "cell_type": "markdown",
      "metadata": {
        "id": "DyKhZzY7gJ0c"
      },
      "source": [
        "* Много пользователей с 2-3 заказами. Нужно определить их точную долю, чтобы понять можно ли считать их выбросами или нет."
      ]
    },
    {
      "cell_type": "markdown",
      "metadata": {
        "id": "v6SjD70ngN5y"
      },
      "source": [
        "**2.2.7. Определение границы количества заказов на пользователя** "
      ]
    },
    {
      "cell_type": "code",
      "metadata": {
        "colab": {
          "base_uri": "https://localhost:8080/"
        },
        "id": "BPd2YT7snP4f",
        "outputId": "3521ba2b-0197-41cd-c4a4-8741e0216da8"
      },
      "source": [
        "print(np.percentile(ordersByUsers['orders'], [95, 99]))"
      ],
      "execution_count": 21,
      "outputs": [
        {
          "output_type": "stream",
          "text": [
            "[2. 4.]\n"
          ],
          "name": "stdout"
        }
      ]
    },
    {
      "cell_type": "markdown",
      "metadata": {
        "id": "yHbmejIZgU7D"
      },
      "source": [
        "\r\n",
        "* Не более 5% пользователей оформляли более 2-х заказов, и не более 1% - свыше 4-х заказов.\r\n",
        "\r\n",
        "Примем 3 заказа за верхнюю границу числа заказов на одного пользователя."
      ]
    },
    {
      "cell_type": "markdown",
      "metadata": {
        "id": "k8kd6a7RguKL"
      },
      "source": [
        "**2.2.8. График стоимостей заказов**"
      ]
    },
    {
      "cell_type": "code",
      "metadata": {
        "colab": {
          "base_uri": "https://localhost:8080/",
          "height": 814
        },
        "id": "jbqFMhYRnP1Z",
        "outputId": "cb3be740-a0b3-4592-c364-07569da5c9d2"
      },
      "source": [
        "display(orders['revenue'].describe())\r\n",
        "\r\n",
        "x_values = pd.Series(range(0,len(orders['revenue'])))\r\n",
        "plt.figure(figsize=(10,5))\r\n",
        "plt.scatter(x_values, orders['revenue']) \r\n",
        "plt.title('Стоимость заказов', fontsize=12, fontweight='bold')\r\n",
        "plt.show()\r\n",
        "\r\n",
        "plt.figure(figsize=(10,5))\r\n",
        "plt.ylim(0, 5000)\r\n",
        "plt.scatter(x_values, orders['revenue']) \r\n",
        "plt.title('Стоимость заказов', fontsize=12, fontweight='bold')\r\n",
        "plt.show()"
      ],
      "execution_count": 22,
      "outputs": [
        {
          "output_type": "display_data",
          "data": {
            "text/plain": [
              "count     1197.000000\n",
              "mean       131.491646\n",
              "std        603.004729\n",
              "min          5.000000\n",
              "25%         20.800000\n",
              "50%         50.200000\n",
              "75%        130.400000\n",
              "max      19920.400000\n",
              "Name: revenue, dtype: float64"
            ]
          },
          "metadata": {
            "tags": []
          }
        },
        {
          "output_type": "display_data",
          "data": {
            "image/png": "[encoded data removed]",
            "text/plain": [
              "<Figure size 720x360 with 1 Axes>"
            ]
          },
          "metadata": {
            "tags": [],
            "needs_background": "light"
          }
        },
        {
          "output_type": "display_data",
          "data": {
            "image/png": "[encoded data removed]",
            "text/plain": [
              "<Figure size 720x360 with 1 Axes>"
            ]
          },
          "metadata": {
            "tags": [],
            "needs_background": "light"
          }
        }
      ]
    },
    {
      "cell_type": "markdown",
      "metadata": {
        "id": "vzVQLnLlhJ0T"
      },
      "source": [
        "* В данных оказался один очень крупный заказ (~200.000 руб.), который существенно влияет на результаты теста.\r\n",
        "* Так же заметны и другие выбросы - необходимо определить верхнюю границу стоимости заказа."
      ]
    },
    {
      "cell_type": "code",
      "metadata": {
        "colab": {
          "base_uri": "https://localhost:8080/"
        },
        "id": "W0IMwDuRhQqS",
        "outputId": "f435b81a-69ef-4f93-fe90-e1dd48f27afb"
      },
      "source": [
        "print(np.percentile(orders['revenue'], [90, 95, 99]))"
      ],
      "execution_count": 23,
      "outputs": [
        {
          "output_type": "stream",
          "text": [
            "[282.48  435.54  900.904]\n"
          ],
          "name": "stdout"
        }
      ]
    },
    {
      "cell_type": "markdown",
      "metadata": {
        "id": "PsvvAi4bhXWK"
      },
      "source": [
        "* Не более 5% заказов дороже 435 руб. и не более 1% дороже 1000 руб.\r\n",
        "\r\n",
        "Примем 500 руб. за верхнюю границу стоимости заказа."
      ]
    },
    {
      "cell_type": "markdown",
      "metadata": {
        "id": "exiHSshkvakU"
      },
      "source": [
        "\r\n",
        "**2.2.10. Статистическая значимость различий в конверсии между группами по «сырым» данным**"
      ]
    },
    {
      "cell_type": "code",
      "metadata": {
        "id": "3ETAOK_ZnPyQ",
        "colab": {
          "base_uri": "https://localhost:8080/",
          "height": 301
        },
        "outputId": "f133184f-fe0a-44af-f147-bd1927d7e092"
      },
      "source": [
        "# Подготовим датафрейм с фактическими и кумулятивными данными по дням:\r\n",
        "\r\n",
        "visitorsADaily = visitors[visitors['group']=='A'][['date', 'visits']]\r\n",
        "visitorsADaily.columns = ['date', 'visitorsPerDateA']\r\n",
        "\r\n",
        "visitorsACummulative = (visitorsADaily\r\n",
        "                        .apply(lambda x: visitorsADaily[visitorsADaily['date'] <= x['date']]\r\n",
        "                               .agg({'date':'max', 'visitorsPerDateA':'sum'}), axis=1)\r\n",
        "                       )\r\n",
        "visitorsACummulative.columns = ['date', 'visitorsCummulativeA']\r\n",
        "\r\n",
        "visitorsBDaily = visitors[visitors['group']=='B'][['date', 'visits']]\r\n",
        "visitorsBDaily.columns = ['date', 'visitorsPerDateB']\r\n",
        "\r\n",
        "visitorsBCummulative = (visitorsBDaily\r\n",
        "                        .apply(lambda x: visitorsBDaily[visitorsBDaily['date'] <= x['date']]\r\n",
        "                               .agg({'date':'max', 'visitorsPerDateB':'sum'}), axis=1)\r\n",
        "                       )\r\n",
        "visitorsBCummulative.columns = ['date', 'visitorsCummulativeB']\r\n",
        "\r\n",
        "ordersADaily = (orders[orders['group']=='A'][['date', 'transactionid', 'visitorid', 'revenue']]\r\n",
        "                .groupby('date', as_index=False)\r\n",
        "                .agg({'transactionid':pd.Series.nunique, 'revenue':'sum'})\r\n",
        "               )\r\n",
        "ordersADaily.columns = ['date', 'ordersPerDateA', 'revenuePerDateA']\r\n",
        "\r\n",
        "ordersACummulative = (ordersADaily\r\n",
        "                      .apply(lambda x:ordersADaily[ordersADaily['date'] <= x['date']]\r\n",
        "                             .agg({\r\n",
        "                                    'date':'max',\r\n",
        "                                    'ordersPerDateA':'sum',\r\n",
        "                                    'revenuePerDateA':'sum'}), axis=1)\r\n",
        "                      .sort_values(by=['date'])\r\n",
        "                     )\r\n",
        "ordersACummulative.columns = ['date', 'ordersCummulativeA', 'revenueCummulativeA']\r\n",
        "\r\n",
        "ordersBDaily = (orders[orders['group']=='B'][['date', 'transactionid', 'visitorid', 'revenue']]\r\n",
        "                .groupby('date', as_index=False)\r\n",
        "                .agg({'transactionid':pd.Series.nunique, 'revenue':'sum'})\r\n",
        "               )\r\n",
        "ordersBDaily.columns = ['date', 'ordersPerDateB', 'revenuePerDateB']\r\n",
        "\r\n",
        "ordersBCummulative = (ordersBDaily\r\n",
        "                      .apply(lambda x: ordersBDaily[ordersBDaily['date'] <= x['date']]\r\n",
        "                             .agg({\r\n",
        "                                    'date':'max',\r\n",
        "                                    'ordersPerDateB':'sum',\r\n",
        "                                    'revenuePerDateB' : 'sum'}), axis=1)\r\n",
        "                      .sort_values(by=['date'])\r\n",
        "                     )\r\n",
        "ordersBCummulative.columns = ['date', 'ordersCummulativeB', 'revenueCummulativeB']\r\n",
        "\r\n",
        "data = (ordersADaily\r\n",
        "        .merge(ordersBDaily, left_on='date', right_on='date', how='left')\r\n",
        "        .merge(ordersACummulative, left_on='date', right_on='date', how='left')\r\n",
        "        .merge(ordersBCummulative, left_on='date', right_on='date', how='left')\r\n",
        "        .merge(visitorsADaily, left_on='date', right_on='date', how='left')\r\n",
        "        .merge(visitorsBDaily, left_on='date', right_on='date', how='left')\r\n",
        "        .merge(visitorsACummulative, left_on='date', right_on='date', how='left')\r\n",
        "        .merge(visitorsBCummulative, left_on='date', right_on='date', how='left')\r\n",
        "       )\r\n",
        "\r\n",
        "display(data.head(5))"
      ],
      "execution_count": 29,
      "outputs": [
        {
          "output_type": "display_data",
          "data": {
            "text/html": [
              "<div>\n",
              "<style scoped>\n",
              "    .dataframe tbody tr th:only-of-type {\n",
              "        vertical-align: middle;\n",
              "    }\n",
              "\n",
              "    .dataframe tbody tr th {\n",
              "        vertical-align: top;\n",
              "    }\n",
              "\n",
              "    .dataframe thead th {\n",
              "        text-align: right;\n",
              "    }\n",
              "</style>\n",
              "<table border=\"1\" class=\"dataframe\">\n",
              "  <thead>\n",
              "    <tr style=\"text-align: right;\">\n",
              "      <th></th>\n",
              "      <th>date</th>\n",
              "      <th>ordersPerDateA</th>\n",
              "      <th>revenuePerDateA</th>\n",
              "      <th>ordersPerDateB</th>\n",
              "      <th>revenuePerDateB</th>\n",
              "      <th>ordersCummulativeA</th>\n",
              "      <th>revenueCummulativeA</th>\n",
              "      <th>ordersCummulativeB</th>\n",
              "      <th>revenueCummulativeB</th>\n",
              "      <th>visitorsPerDateA</th>\n",
              "      <th>visitorsPerDateB</th>\n",
              "      <th>visitorsCummulativeA</th>\n",
              "      <th>visitorsCummulativeB</th>\n",
              "    </tr>\n",
              "  </thead>\n",
              "  <tbody>\n",
              "    <tr>\n",
              "      <th>0</th>\n",
              "      <td>2019-08-01</td>\n",
              "      <td>24</td>\n",
              "      <td>2356.8</td>\n",
              "      <td>21</td>\n",
              "      <td>1620.0</td>\n",
              "      <td>24</td>\n",
              "      <td>2356.8</td>\n",
              "      <td>21</td>\n",
              "      <td>1620.0</td>\n",
              "      <td>719</td>\n",
              "      <td>713</td>\n",
              "      <td>719</td>\n",
              "      <td>713</td>\n",
              "    </tr>\n",
              "    <tr>\n",
              "      <th>1</th>\n",
              "      <td>2019-08-02</td>\n",
              "      <td>20</td>\n",
              "      <td>1503.5</td>\n",
              "      <td>24</td>\n",
              "      <td>2623.8</td>\n",
              "      <td>44</td>\n",
              "      <td>3860.3</td>\n",
              "      <td>45</td>\n",
              "      <td>4243.8</td>\n",
              "      <td>619</td>\n",
              "      <td>581</td>\n",
              "      <td>1338</td>\n",
              "      <td>1294</td>\n",
              "    </tr>\n",
              "    <tr>\n",
              "      <th>2</th>\n",
              "      <td>2019-08-03</td>\n",
              "      <td>24</td>\n",
              "      <td>1815.2</td>\n",
              "      <td>16</td>\n",
              "      <td>1806.8</td>\n",
              "      <td>68</td>\n",
              "      <td>5675.5</td>\n",
              "      <td>61</td>\n",
              "      <td>6050.6</td>\n",
              "      <td>507</td>\n",
              "      <td>509</td>\n",
              "      <td>1845</td>\n",
              "      <td>1803</td>\n",
              "    </tr>\n",
              "    <tr>\n",
              "      <th>3</th>\n",
              "      <td>2019-08-04</td>\n",
              "      <td>16</td>\n",
              "      <td>1146.6</td>\n",
              "      <td>17</td>\n",
              "      <td>1717.3</td>\n",
              "      <td>84</td>\n",
              "      <td>6822.1</td>\n",
              "      <td>78</td>\n",
              "      <td>7767.9</td>\n",
              "      <td>717</td>\n",
              "      <td>770</td>\n",
              "      <td>2562</td>\n",
              "      <td>2573</td>\n",
              "    </tr>\n",
              "    <tr>\n",
              "      <th>4</th>\n",
              "      <td>2019-08-05</td>\n",
              "      <td>25</td>\n",
              "      <td>1988.1</td>\n",
              "      <td>23</td>\n",
              "      <td>1495.0</td>\n",
              "      <td>109</td>\n",
              "      <td>8810.2</td>\n",
              "      <td>101</td>\n",
              "      <td>9262.9</td>\n",
              "      <td>756</td>\n",
              "      <td>707</td>\n",
              "      <td>3318</td>\n",
              "      <td>3280</td>\n",
              "    </tr>\n",
              "  </tbody>\n",
              "</table>\n",
              "</div>"
            ],
            "text/plain": [
              "        date  ordersPerDateA  revenuePerDateA  ordersPerDateB  \\\n",
              "0 2019-08-01              24           2356.8              21   \n",
              "1 2019-08-02              20           1503.5              24   \n",
              "2 2019-08-03              24           1815.2              16   \n",
              "3 2019-08-04              16           1146.6              17   \n",
              "4 2019-08-05              25           1988.1              23   \n",
              "\n",
              "   revenuePerDateB  ordersCummulativeA  revenueCummulativeA  \\\n",
              "0           1620.0                  24               2356.8   \n",
              "1           2623.8                  44               3860.3   \n",
              "2           1806.8                  68               5675.5   \n",
              "3           1717.3                  84               6822.1   \n",
              "4           1495.0                 109               8810.2   \n",
              "\n",
              "   ordersCummulativeB  revenueCummulativeB  visitorsPerDateA  \\\n",
              "0                  21               1620.0               719   \n",
              "1                  45               4243.8               619   \n",
              "2                  61               6050.6               507   \n",
              "3                  78               7767.9               717   \n",
              "4                 101               9262.9               756   \n",
              "\n",
              "   visitorsPerDateB  visitorsCummulativeA  visitorsCummulativeB  \n",
              "0               713                   719                   713  \n",
              "1               581                  1338                  1294  \n",
              "2               509                  1845                  1803  \n",
              "3               770                  2562                  2573  \n",
              "4               707                  3318                  3280  "
            ]
          },
          "metadata": {
            "tags": []
          }
        }
      ]
    },
    {
      "cell_type": "code",
      "metadata": {
        "id": "pCdGtYM6nPux"
      },
      "source": [
        "# Создадим для каждой группы датафрейм с количеством заказов на пользователя:\r\n",
        "\r\n",
        "ordersByUsersA = orders[orders['group']=='A'].groupby('visitorid', as_index=False).agg({'transactionid':pd.Series.nunique})\r\n",
        "ordersByUsersA.columns = ['visitorid', 'orders']\r\n",
        "\r\n",
        "ordersByUsersB = orders[orders['group']=='B'].groupby('visitorid', as_index=False).agg({'transactionid':pd.Series.nunique})\r\n",
        "ordersByUsersB.columns = ['visitorid', 'orders']"
      ],
      "execution_count": 30,
      "outputs": []
    },
    {
      "cell_type": "code",
      "metadata": {
        "id": "AAODdr-YveIA"
      },
      "source": [
        "# Создадим списки с числом заказов каждого пользователя, включая нули:\r\n",
        "\r\n",
        "sampleA = pd.concat([ordersByUsersA['orders'],\r\n",
        "                     pd.Series(0, index=np.arange(data['visitorsPerDateA'].sum() - len(ordersByUsersA['orders'])), name='orders')],axis=0)\r\n",
        "sampleB = pd.concat([ordersByUsersB['orders'],\r\n",
        "                     pd.Series(0, index=np.arange(data['visitorsPerDateB'].sum() - len(ordersByUsersB['orders'])), name='orders')],axis=0)"
      ],
      "execution_count": 31,
      "outputs": []
    },
    {
      "cell_type": "code",
      "metadata": {
        "id": "nJS5qEq4veF-"
      },
      "source": [
        "# Функция для проверки гипотезы о равенстве групп dataA и dataB\r\n",
        "def stat_significance(dataA, dataB):\r\n",
        "    # Нулевая гипотеза H0: между группами dataA и dataB нет статистически значимой разницы\r\n",
        "    alpha = 0.05\r\n",
        "    p_value = stats.mannwhitneyu(dataA, dataB)[1]\r\n",
        "\r\n",
        "    print(\"P-value: {0:.3f}\".format(p_value))\r\n",
        "\r\n",
        "    if (p_value < alpha):\r\n",
        "        print(\"Отвергаем нулевую гипотезу: между группами есть разница\")\r\n",
        "    else:\r\n",
        "        print(\"Не получилось отвергнуть нулевую гипотезу, нет оснований считать группы разными\")\r\n",
        "    \r\n",
        "    print(\"Относительный выигрыш/проигрыш В к А: {0:.1%}\".format(dataB.mean()/dataA.mean()-1))"
      ],
      "execution_count": 32,
      "outputs": []
    },
    {
      "cell_type": "code",
      "metadata": {
        "colab": {
          "base_uri": "https://localhost:8080/"
        },
        "id": "gCeR01aJveCU",
        "outputId": "e4079547-0778-49a0-e86a-72c036446a55"
      },
      "source": [
        "stat_significance(sampleA, sampleB)"
      ],
      "execution_count": 33,
      "outputs": [
        {
          "output_type": "stream",
          "text": [
            "P-value: 0.008\n",
            "Отвергаем нулевую гипотезу: между группами есть разница\n",
            "Относительный выигрыш/проигрыш В к А: 13.8%\n"
          ],
          "name": "stdout"
        }
      ]
    },
    {
      "cell_type": "markdown",
      "metadata": {
        "id": "9MrpFDNpyf20"
      },
      "source": [
        "* По не очищенным от выбросов данным между конверсиями групп А и В есть статистически значимая разница\r\n",
        "* При этом относительный выигрыш группы В равен 13.8%"
      ]
    },
    {
      "cell_type": "markdown",
      "metadata": {
        "id": "U3Fcx9LUwZWP"
      },
      "source": [
        "**2.2.11. Статистическая значимость различий в среднем чеке по «сырым» данным**"
      ]
    },
    {
      "cell_type": "code",
      "metadata": {
        "colab": {
          "base_uri": "https://localhost:8080/"
        },
        "id": "gTvc5Zhqvd_t",
        "outputId": "10535f20-95ea-4b1b-c31c-6aa22a33b7d0"
      },
      "source": [
        "stat_significance(orders[orders['group']=='A']['revenue'], orders[orders['group']=='B']['revenue'])"
      ],
      "execution_count": 34,
      "outputs": [
        {
          "output_type": "stream",
          "text": [
            "P-value: 0.346\n",
            "Не получилось отвергнуть нулевую гипотезу, нет оснований считать группы разными\n",
            "Относительный выигрыш/проигрыш В к А: 25.2%\n"
          ],
          "name": "stdout"
        }
      ]
    },
    {
      "cell_type": "markdown",
      "metadata": {
        "id": "MVOvSbzXwoCF"
      },
      "source": [
        "* Нет оснований считать, что средний чек группы В отличается от среднего чека группы А\r\n",
        "* При этом выигрыш среднего чека группы В относительно А равен 25.2%\r\n",
        "\r\n",
        "Мы наблюдаем силу непараметрического теста (U-критерий Манна-Уитни), который позволяет исключить влияние выбросов на результат."
      ]
    },
    {
      "cell_type": "markdown",
      "metadata": {
        "id": "Xw89yTCrwuWT"
      },
      "source": [
        "**2.2.12. Статистическая значимость различий в конверсии между группами по очищенным данным**"
      ]
    },
    {
      "cell_type": "code",
      "metadata": {
        "colab": {
          "base_uri": "https://localhost:8080/"
        },
        "id": "_5cl6cJ5vd-F",
        "outputId": "2c9d830a-1df9-4874-e5b4-3839b9c59500"
      },
      "source": [
        "# Выделим из базы \"аномальных\" пользователей (совершивших более 3-х заказов или сумма заказа которых > 30000):\r\n",
        "\r\n",
        "usersWithManyOrders = pd.concat([ordersByUsersA[ordersByUsersA['orders'] > 3]['visitorid'], ordersByUsersB[ordersByUsersB['orders'] > 3]['visitorid']], axis = 0)\r\n",
        "usersWithExpensiveOrders = orders[orders['revenue'] > 1000]['visitorid']\r\n",
        "abnormalUsers = pd.concat([usersWithManyOrders, usersWithExpensiveOrders], axis = 0).drop_duplicates().sort_values()\r\n",
        "print(abnormalUsers.head(5))\r\n",
        "print()\r\n",
        "print('\\033[1m', 'Количество \"аномальных\" пользователей:', abnormalUsers.shape[0])"
      ],
      "execution_count": 36,
      "outputs": [
        {
          "output_type": "stream",
          "text": [
            "1099     148427295\n",
            "18       199603092\n",
            "23       237748145\n",
            "744      888512513\n",
            "1103    1164614297\n",
            "Name: visitorid, dtype: int64\n",
            "\n",
            "\u001b[1m Количество \"аномальных\" пользователей: 18\n"
          ],
          "name": "stdout"
        }
      ]
    },
    {
      "cell_type": "code",
      "metadata": {
        "id": "yhjjEg6Tvd6G"
      },
      "source": [
        "\r\n",
        "# Создадим списки с числом заказов каждого пользователя, включая нули, но уже по очищенным данным:\r\n",
        "\r\n",
        "sampleAFiltered = pd.concat([ordersByUsersA[~(ordersByUsersA['visitorid'].isin(abnormalUsers))]['orders'],pd.Series(0, index=np.arange(data['visitorsPerDateA'].sum() - len(ordersByUsersA['orders'])),name='orders')],axis=0)\r\n",
        "sampleBFiltered = pd.concat([ordersByUsersB[~(ordersByUsersB['visitorid'].isin(abnormalUsers))]['orders'],pd.Series(0, index=np.arange(data['visitorsPerDateB'].sum() - len(ordersByUsersB['orders'])),name='orders')],axis=0)"
      ],
      "execution_count": 37,
      "outputs": []
    },
    {
      "cell_type": "code",
      "metadata": {
        "colab": {
          "base_uri": "https://localhost:8080/"
        },
        "id": "qGTnR-V3vd1d",
        "outputId": "5c2f31a3-8b25-46fd-dc84-d59f12e9af2d"
      },
      "source": [
        "stat_significance(sampleAFiltered, sampleBFiltered)\r\n"
      ],
      "execution_count": 38,
      "outputs": [
        {
          "output_type": "stream",
          "text": [
            "P-value: 0.007\n",
            "Отвергаем нулевую гипотезу: между группами есть разница\n",
            "Относительный выигрыш/проигрыш В к А: 15.1%\n"
          ],
          "name": "stdout"
        }
      ]
    },
    {
      "cell_type": "markdown",
      "metadata": {
        "id": "Jjkjydoqx0aE"
      },
      "source": [
        "* По очищенным данным между конверсиями групп А и В по-прежнему есть статистически значимая разница\r\n",
        "* При этом относительный выигрыш группы В увеличился на 1% по сравнению с \"сырыми\" данными и стал равен 15.1%"
      ]
    },
    {
      "cell_type": "markdown",
      "metadata": {
        "id": "ZnueH6v6x-S-"
      },
      "source": [
        "**2.2.13. Статистическая значимость различий в среднем чеке по очищенным данным**"
      ]
    },
    {
      "cell_type": "code",
      "metadata": {
        "colab": {
          "base_uri": "https://localhost:8080/"
        },
        "id": "2H-aorJrx9iH",
        "outputId": "318bf622-1003-4905-e62e-e5ca4b5f6647"
      },
      "source": [
        "(stat_significance(\r\n",
        "    orders[(orders['group']=='A') & ~(orders['visitorid'].isin(abnormalUsers))]['revenue'], \r\n",
        "    orders[(orders['group']=='B') & ~(orders['visitorid'].isin(abnormalUsers))]['revenue'])\r\n",
        ")"
      ],
      "execution_count": 39,
      "outputs": [
        {
          "output_type": "stream",
          "text": [
            "P-value: 0.460\n",
            "Не получилось отвергнуть нулевую гипотезу, нет оснований считать группы разными\n",
            "Относительный выигрыш/проигрыш В к А: -1.6%\n"
          ],
          "name": "stdout"
        }
      ]
    },
    {
      "cell_type": "markdown",
      "metadata": {
        "id": "sW3fQ3JnyFpl"
      },
      "source": [
        "* По-прежнему, нет оснований считать, что средний чек группы В отличается от среднего чека группы А\r\n",
        "* По очищенным данным проигрыш среднего чека группы В относительно А равен 1.6%"
      ]
    },
    {
      "cell_type": "markdown",
      "metadata": {
        "id": "lLcHHNv_yQw7"
      },
      "source": [
        "# Выводы "
      ]
    },
    {
      "cell_type": "markdown",
      "metadata": {
        "id": "ftCoAGoYyU0P"
      },
      "source": [
        "* И по \"сырым\" и по очищенным от выбросов данным между конверсиями групп А и В есть статистически значимая разница. Конверсия группы В выше, чем в А, на 13-14%\r\n",
        "* И по \"сырым\" и по очищенным данным нет оснований считать, что средний чек группы В отличается от среднего чека группы А.\r\n",
        "* График относительного изменения кумулятивной конверсии группы B к группе A показывает, что результаты группы В стабильно лучше группы А.\r\n",
        "\r\n",
        "Исходя из обнаруженных фактов, тест следует остановить и признать его успешным - фиксируем победу группы В. Средний чек выше не стал, зато значительно увеличилась конверсия."
      ]
    }
  ]
}