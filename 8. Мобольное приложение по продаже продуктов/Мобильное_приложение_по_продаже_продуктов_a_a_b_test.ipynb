{
  "nbformat": 4,
  "nbformat_minor": 0,
  "metadata": {
    "colab": {
      "name": "Мобильное приложение по продаже продуктов a/a/b test.ipynb",
      "provenance": [],
      "toc_visible": true
    },
    "kernelspec": {
      "name": "python3",
      "display_name": "Python 3"
    }
  },
  "cells": [
    {
      "cell_type": "markdown",
      "metadata": {
        "id": "UkcG1mcFLk1h"
      },
      "source": [
        "# Мобильное приложение по продаже продуктов\r\n",
        "\r\n",
        "Необходимо проанализировать, как ведут себя пользователи мобильного приложения по продаже продуктов питания. В нашем распоряжении логи с действиями (событиями) пользователей, а также результаты А/A/B-эксперимента.\r\n",
        "\r\n",
        "**Описание данных:**\r\n",
        "\r\n",
        "* EventName — название события\r\n",
        "* DeviceIDHash — уникальный идентификатор пользователя\r\n",
        "* EventTimestamp — время события\r\n",
        "* ExpId — номер эксперимента: 246 и 247 — контрольные группы, а 248 — экспериментальная\r\n"
      ]
    },
    {
      "cell_type": "markdown",
      "metadata": {
        "id": "j649ME3GLksK"
      },
      "source": [
        ""
      ]
    },
    {
      "cell_type": "markdown",
      "metadata": {
        "id": "MWZBIAucMzIU"
      },
      "source": [
        "# 1. Обзор данных "
      ]
    },
    {
      "cell_type": "code",
      "metadata": {
        "id": "2rGWmQhSL1CE"
      },
      "source": [
        "import pandas as pd\r\n",
        "import numpy as np\r\n",
        "from IPython.display import display\r\n",
        "import matplotlib.pyplot as plt\r\n",
        "import seaborn as sns\r\n",
        "import plotly.express as px\r\n",
        "from plotly import graph_objects as go\r\n",
        "from scipy import stats as st\r\n",
        "import warnings\r\n",
        "\r\n",
        "warnings.filterwarnings('ignore')\r\n",
        "%matplotlib inline\r\n",
        "pd.set_option('display.max_columns', 500)\r\n",
        "pd.options.mode.chained_assignment = None\r\n",
        "sns.set_style(\"white\")"
      ],
      "execution_count": 1,
      "outputs": []
    },
    {
      "cell_type": "code",
      "metadata": {
        "id": "OsmjuZDgL0_S"
      },
      "source": [
        "logs = pd.read_csv('8_logs_exp.csv', sep='\\t')"
      ],
      "execution_count": 2,
      "outputs": []
    },
    {
      "cell_type": "code",
      "metadata": {
        "colab": {
          "base_uri": "https://localhost:8080/",
          "height": 464
        },
        "id": "4C_w1RnwL08R",
        "outputId": "e69cebb2-9c72-49bf-bc6a-9e37a2a9c09b"
      },
      "source": [
        "display(logs.sample(5))\r\n",
        "display(logs.info())\r\n",
        "print('Дубликатов:', logs.duplicated().sum())\r\n",
        "display(logs['EventName'].unique())"
      ],
      "execution_count": 3,
      "outputs": [
        {
          "output_type": "display_data",
          "data": {
            "text/html": [
              "<div>\n",
              "<style scoped>\n",
              "    .dataframe tbody tr th:only-of-type {\n",
              "        vertical-align: middle;\n",
              "    }\n",
              "\n",
              "    .dataframe tbody tr th {\n",
              "        vertical-align: top;\n",
              "    }\n",
              "\n",
              "    .dataframe thead th {\n",
              "        text-align: right;\n",
              "    }\n",
              "</style>\n",
              "<table border=\"1\" class=\"dataframe\">\n",
              "  <thead>\n",
              "    <tr style=\"text-align: right;\">\n",
              "      <th></th>\n",
              "      <th>EventName</th>\n",
              "      <th>DeviceIDHash</th>\n",
              "      <th>EventTimestamp</th>\n",
              "      <th>ExpId</th>\n",
              "    </tr>\n",
              "  </thead>\n",
              "  <tbody>\n",
              "    <tr>\n",
              "      <th>101556</th>\n",
              "      <td>PaymentScreenSuccessful</td>\n",
              "      <td>4125817697369814441</td>\n",
              "      <td>1564852194</td>\n",
              "      <td>248</td>\n",
              "    </tr>\n",
              "    <tr>\n",
              "      <th>108988</th>\n",
              "      <td>MainScreenAppear</td>\n",
              "      <td>9182444363400946277</td>\n",
              "      <td>1564890752</td>\n",
              "      <td>247</td>\n",
              "    </tr>\n",
              "    <tr>\n",
              "      <th>207482</th>\n",
              "      <td>MainScreenAppear</td>\n",
              "      <td>7098982511069377087</td>\n",
              "      <td>1565114798</td>\n",
              "      <td>247</td>\n",
              "    </tr>\n",
              "    <tr>\n",
              "      <th>119308</th>\n",
              "      <td>MainScreenAppear</td>\n",
              "      <td>2991661439852366258</td>\n",
              "      <td>1564915274</td>\n",
              "      <td>248</td>\n",
              "    </tr>\n",
              "    <tr>\n",
              "      <th>120476</th>\n",
              "      <td>MainScreenAppear</td>\n",
              "      <td>5286459037591191376</td>\n",
              "      <td>1564917046</td>\n",
              "      <td>246</td>\n",
              "    </tr>\n",
              "  </tbody>\n",
              "</table>\n",
              "</div>"
            ],
            "text/plain": [
              "                      EventName         DeviceIDHash  EventTimestamp  ExpId\n",
              "101556  PaymentScreenSuccessful  4125817697369814441      1564852194    248\n",
              "108988         MainScreenAppear  9182444363400946277      1564890752    247\n",
              "207482         MainScreenAppear  7098982511069377087      1565114798    247\n",
              "119308         MainScreenAppear  2991661439852366258      1564915274    248\n",
              "120476         MainScreenAppear  5286459037591191376      1564917046    246"
            ]
          },
          "metadata": {
            "tags": []
          }
        },
        {
          "output_type": "stream",
          "text": [
            "<class 'pandas.core.frame.DataFrame'>\n",
            "RangeIndex: 244126 entries, 0 to 244125\n",
            "Data columns (total 4 columns):\n",
            " #   Column          Non-Null Count   Dtype \n",
            "---  ------          --------------   ----- \n",
            " 0   EventName       244126 non-null  object\n",
            " 1   DeviceIDHash    244126 non-null  int64 \n",
            " 2   EventTimestamp  244126 non-null  int64 \n",
            " 3   ExpId           244126 non-null  int64 \n",
            "dtypes: int64(3), object(1)\n",
            "memory usage: 7.5+ MB\n"
          ],
          "name": "stdout"
        },
        {
          "output_type": "display_data",
          "data": {
            "text/plain": [
              "None"
            ]
          },
          "metadata": {
            "tags": []
          }
        },
        {
          "output_type": "stream",
          "text": [
            "Дубликатов: 413\n"
          ],
          "name": "stdout"
        },
        {
          "output_type": "display_data",
          "data": {
            "text/plain": [
              "array(['MainScreenAppear', 'PaymentScreenSuccessful', 'CartScreenAppear',\n",
              "       'OffersScreenAppear', 'Tutorial'], dtype=object)"
            ]
          },
          "metadata": {
            "tags": []
          }
        }
      ]
    },
    {
      "cell_type": "markdown",
      "metadata": {
        "id": "Q04GhU9BYEej"
      },
      "source": [
        "* В нашем распоряжении 244126 логов\r\n",
        "* Пропущенных значений нет\r\n",
        "* Всего в логах фигурируют 5 событий\r\n",
        "* Дубликатов: 413\r\n",
        "\r\n",
        "**Необходимо:**\r\n",
        "\r\n",
        "* Изменить названия столбцов\r\n",
        "* Добавить поле с датой и временем и отдельное поле с датой\r\n",
        "* Разобраться с дубликатами"
      ]
    },
    {
      "cell_type": "markdown",
      "metadata": {
        "id": "x_k48bVYPSgy"
      },
      "source": [
        "# 2. Предобработка данных"
      ]
    },
    {
      "cell_type": "code",
      "metadata": {
        "colab": {
          "base_uri": "https://localhost:8080/",
          "height": 77
        },
        "id": "R-M0gHMSL058",
        "outputId": "f544c5b4-0295-4092-b32c-557bcea04d51"
      },
      "source": [
        "logs = logs.rename(columns={\"EventName\": \"event\", \"DeviceIDHash\": \"user_id\", \r\n",
        "                            \"EventTimestamp\": \"timestamp\", \"ExpId\": \"test_group\"})\r\n",
        "logs.sample()"
      ],
      "execution_count": 4,
      "outputs": [
        {
          "output_type": "execute_result",
          "data": {
            "text/html": [
              "<div>\n",
              "<style scoped>\n",
              "    .dataframe tbody tr th:only-of-type {\n",
              "        vertical-align: middle;\n",
              "    }\n",
              "\n",
              "    .dataframe tbody tr th {\n",
              "        vertical-align: top;\n",
              "    }\n",
              "\n",
              "    .dataframe thead th {\n",
              "        text-align: right;\n",
              "    }\n",
              "</style>\n",
              "<table border=\"1\" class=\"dataframe\">\n",
              "  <thead>\n",
              "    <tr style=\"text-align: right;\">\n",
              "      <th></th>\n",
              "      <th>event</th>\n",
              "      <th>user_id</th>\n",
              "      <th>timestamp</th>\n",
              "      <th>test_group</th>\n",
              "    </tr>\n",
              "  </thead>\n",
              "  <tbody>\n",
              "    <tr>\n",
              "      <th>156348</th>\n",
              "      <td>OffersScreenAppear</td>\n",
              "      <td>1056436874470887468</td>\n",
              "      <td>1565007007</td>\n",
              "      <td>247</td>\n",
              "    </tr>\n",
              "  </tbody>\n",
              "</table>\n",
              "</div>"
            ],
            "text/plain": [
              "                     event              user_id   timestamp  test_group\n",
              "156348  OffersScreenAppear  1056436874470887468  1565007007         247"
            ]
          },
          "metadata": {
            "tags": []
          },
          "execution_count": 4
        }
      ]
    },
    {
      "cell_type": "code",
      "metadata": {
        "colab": {
          "base_uri": "https://localhost:8080/",
          "height": 234
        },
        "id": "530UMOx9L01q",
        "outputId": "d1dacd30-4abf-4096-82f6-a5e43bad6491"
      },
      "source": [
        "print('Дубликатов', logs.duplicated().sum())\r\n",
        "#display(logs[logs.duplicated()].sort_values(['user_id', 'timestamp']))\r\n",
        "\r\n",
        "print('Примеры дублей:')\r\n",
        "display(logs[(logs['user_id']==77364241990273403) & \r\n",
        "              (logs['event'].values == 'PaymentScreenSuccessful') & (logs['timestamp'] == 1565044732)]) # index 176812 и 176813\r\n",
        "\r\n",
        "display(logs[(logs['user_id']==33176906322804559) & \r\n",
        "             (logs['event'].values == 'MainScreenAppear') & (logs['timestamp'] == 1564933075)]) # index 130557 и 130558"
      ],
      "execution_count": 5,
      "outputs": [
        {
          "output_type": "stream",
          "text": [
            "Дубликатов 413\n",
            "Примеры дублей:\n"
          ],
          "name": "stdout"
        },
        {
          "output_type": "display_data",
          "data": {
            "text/html": [
              "<div>\n",
              "<style scoped>\n",
              "    .dataframe tbody tr th:only-of-type {\n",
              "        vertical-align: middle;\n",
              "    }\n",
              "\n",
              "    .dataframe tbody tr th {\n",
              "        vertical-align: top;\n",
              "    }\n",
              "\n",
              "    .dataframe thead th {\n",
              "        text-align: right;\n",
              "    }\n",
              "</style>\n",
              "<table border=\"1\" class=\"dataframe\">\n",
              "  <thead>\n",
              "    <tr style=\"text-align: right;\">\n",
              "      <th></th>\n",
              "      <th>event</th>\n",
              "      <th>user_id</th>\n",
              "      <th>timestamp</th>\n",
              "      <th>test_group</th>\n",
              "    </tr>\n",
              "  </thead>\n",
              "  <tbody>\n",
              "    <tr>\n",
              "      <th>176812</th>\n",
              "      <td>PaymentScreenSuccessful</td>\n",
              "      <td>77364241990273403</td>\n",
              "      <td>1565044732</td>\n",
              "      <td>246</td>\n",
              "    </tr>\n",
              "    <tr>\n",
              "      <th>176813</th>\n",
              "      <td>PaymentScreenSuccessful</td>\n",
              "      <td>77364241990273403</td>\n",
              "      <td>1565044732</td>\n",
              "      <td>246</td>\n",
              "    </tr>\n",
              "  </tbody>\n",
              "</table>\n",
              "</div>"
            ],
            "text/plain": [
              "                          event            user_id   timestamp  test_group\n",
              "176812  PaymentScreenSuccessful  77364241990273403  1565044732         246\n",
              "176813  PaymentScreenSuccessful  77364241990273403  1565044732         246"
            ]
          },
          "metadata": {
            "tags": []
          }
        },
        {
          "output_type": "display_data",
          "data": {
            "text/html": [
              "<div>\n",
              "<style scoped>\n",
              "    .dataframe tbody tr th:only-of-type {\n",
              "        vertical-align: middle;\n",
              "    }\n",
              "\n",
              "    .dataframe tbody tr th {\n",
              "        vertical-align: top;\n",
              "    }\n",
              "\n",
              "    .dataframe thead th {\n",
              "        text-align: right;\n",
              "    }\n",
              "</style>\n",
              "<table border=\"1\" class=\"dataframe\">\n",
              "  <thead>\n",
              "    <tr style=\"text-align: right;\">\n",
              "      <th></th>\n",
              "      <th>event</th>\n",
              "      <th>user_id</th>\n",
              "      <th>timestamp</th>\n",
              "      <th>test_group</th>\n",
              "    </tr>\n",
              "  </thead>\n",
              "  <tbody>\n",
              "    <tr>\n",
              "      <th>130557</th>\n",
              "      <td>MainScreenAppear</td>\n",
              "      <td>33176906322804559</td>\n",
              "      <td>1564933075</td>\n",
              "      <td>248</td>\n",
              "    </tr>\n",
              "    <tr>\n",
              "      <th>130558</th>\n",
              "      <td>MainScreenAppear</td>\n",
              "      <td>33176906322804559</td>\n",
              "      <td>1564933075</td>\n",
              "      <td>248</td>\n",
              "    </tr>\n",
              "  </tbody>\n",
              "</table>\n",
              "</div>"
            ],
            "text/plain": [
              "                   event            user_id   timestamp  test_group\n",
              "130557  MainScreenAppear  33176906322804559  1564933075         248\n",
              "130558  MainScreenAppear  33176906322804559  1564933075         248"
            ]
          },
          "metadata": {
            "tags": []
          }
        }
      ]
    },
    {
      "cell_type": "code",
      "metadata": {
        "colab": {
          "base_uri": "https://localhost:8080/",
          "height": 446
        },
        "id": "jzN4QKEQL0yq",
        "outputId": "938fb959-f8f7-4a8f-f347-d4b096c20e21"
      },
      "source": [
        "# Создадим поле `datetime` с датой и временем:\r\n",
        "logs['datetime'] = pd.to_datetime(logs['timestamp'], unit='s')\r\n",
        "\r\n",
        "# Добавим поле с датой:\r\n",
        "logs['date'] = pd.to_datetime(logs['datetime'].dt.date)\r\n",
        "display(logs.sample(5))\r\n",
        "print(logs.info())"
      ],
      "execution_count": 6,
      "outputs": [
        {
          "output_type": "display_data",
          "data": {
            "text/html": [
              "<div>\n",
              "<style scoped>\n",
              "    .dataframe tbody tr th:only-of-type {\n",
              "        vertical-align: middle;\n",
              "    }\n",
              "\n",
              "    .dataframe tbody tr th {\n",
              "        vertical-align: top;\n",
              "    }\n",
              "\n",
              "    .dataframe thead th {\n",
              "        text-align: right;\n",
              "    }\n",
              "</style>\n",
              "<table border=\"1\" class=\"dataframe\">\n",
              "  <thead>\n",
              "    <tr style=\"text-align: right;\">\n",
              "      <th></th>\n",
              "      <th>event</th>\n",
              "      <th>user_id</th>\n",
              "      <th>timestamp</th>\n",
              "      <th>test_group</th>\n",
              "      <th>datetime</th>\n",
              "      <th>date</th>\n",
              "    </tr>\n",
              "  </thead>\n",
              "  <tbody>\n",
              "    <tr>\n",
              "      <th>109370</th>\n",
              "      <td>MainScreenAppear</td>\n",
              "      <td>170935625628929269</td>\n",
              "      <td>1564893034</td>\n",
              "      <td>246</td>\n",
              "      <td>2019-08-04 04:30:34</td>\n",
              "      <td>2019-08-04</td>\n",
              "    </tr>\n",
              "    <tr>\n",
              "      <th>242154</th>\n",
              "      <td>PaymentScreenSuccessful</td>\n",
              "      <td>518781617060869985</td>\n",
              "      <td>1565205621</td>\n",
              "      <td>246</td>\n",
              "      <td>2019-08-07 19:20:21</td>\n",
              "      <td>2019-08-07</td>\n",
              "    </tr>\n",
              "    <tr>\n",
              "      <th>221715</th>\n",
              "      <td>OffersScreenAppear</td>\n",
              "      <td>7583394010848707296</td>\n",
              "      <td>1565169866</td>\n",
              "      <td>247</td>\n",
              "      <td>2019-08-07 09:24:26</td>\n",
              "      <td>2019-08-07</td>\n",
              "    </tr>\n",
              "    <tr>\n",
              "      <th>72099</th>\n",
              "      <td>MainScreenAppear</td>\n",
              "      <td>2487220710747924077</td>\n",
              "      <td>1564775855</td>\n",
              "      <td>248</td>\n",
              "      <td>2019-08-02 19:57:35</td>\n",
              "      <td>2019-08-02</td>\n",
              "    </tr>\n",
              "    <tr>\n",
              "      <th>210892</th>\n",
              "      <td>CartScreenAppear</td>\n",
              "      <td>8103761944629157683</td>\n",
              "      <td>1565121020</td>\n",
              "      <td>246</td>\n",
              "      <td>2019-08-06 19:50:20</td>\n",
              "      <td>2019-08-06</td>\n",
              "    </tr>\n",
              "  </tbody>\n",
              "</table>\n",
              "</div>"
            ],
            "text/plain": [
              "                          event              user_id   timestamp  test_group  \\\n",
              "109370         MainScreenAppear   170935625628929269  1564893034         246   \n",
              "242154  PaymentScreenSuccessful   518781617060869985  1565205621         246   \n",
              "221715       OffersScreenAppear  7583394010848707296  1565169866         247   \n",
              "72099          MainScreenAppear  2487220710747924077  1564775855         248   \n",
              "210892         CartScreenAppear  8103761944629157683  1565121020         246   \n",
              "\n",
              "                  datetime       date  \n",
              "109370 2019-08-04 04:30:34 2019-08-04  \n",
              "242154 2019-08-07 19:20:21 2019-08-07  \n",
              "221715 2019-08-07 09:24:26 2019-08-07  \n",
              "72099  2019-08-02 19:57:35 2019-08-02  \n",
              "210892 2019-08-06 19:50:20 2019-08-06  "
            ]
          },
          "metadata": {
            "tags": []
          }
        },
        {
          "output_type": "stream",
          "text": [
            "<class 'pandas.core.frame.DataFrame'>\n",
            "RangeIndex: 244126 entries, 0 to 244125\n",
            "Data columns (total 6 columns):\n",
            " #   Column      Non-Null Count   Dtype         \n",
            "---  ------      --------------   -----         \n",
            " 0   event       244126 non-null  object        \n",
            " 1   user_id     244126 non-null  int64         \n",
            " 2   timestamp   244126 non-null  int64         \n",
            " 3   test_group  244126 non-null  int64         \n",
            " 4   datetime    244126 non-null  datetime64[ns]\n",
            " 5   date        244126 non-null  datetime64[ns]\n",
            "dtypes: datetime64[ns](2), int64(3), object(1)\n",
            "memory usage: 11.2+ MB\n",
            "None\n"
          ],
          "name": "stdout"
        }
      ]
    },
    {
      "cell_type": "markdown",
      "metadata": {
        "id": "FwobnoQ7fED4"
      },
      "source": [
        "\r\n",
        "Значения в полях с датами отображаются корректно. Типы полей теперь верны."
      ]
    },
    {
      "cell_type": "code",
      "metadata": {
        "colab": {
          "base_uri": "https://localhost:8080/",
          "height": 167
        },
        "id": "XkVZmOSx8ezX",
        "outputId": "4136d525-02ba-49b0-f13c-ebd18bc509fd"
      },
      "source": [
        "# Взглянем на дубли:\r\n",
        "display(logs.iloc[[176812, 176813, 130557, 130558]])"
      ],
      "execution_count": 7,
      "outputs": [
        {
          "output_type": "display_data",
          "data": {
            "text/html": [
              "<div>\n",
              "<style scoped>\n",
              "    .dataframe tbody tr th:only-of-type {\n",
              "        vertical-align: middle;\n",
              "    }\n",
              "\n",
              "    .dataframe tbody tr th {\n",
              "        vertical-align: top;\n",
              "    }\n",
              "\n",
              "    .dataframe thead th {\n",
              "        text-align: right;\n",
              "    }\n",
              "</style>\n",
              "<table border=\"1\" class=\"dataframe\">\n",
              "  <thead>\n",
              "    <tr style=\"text-align: right;\">\n",
              "      <th></th>\n",
              "      <th>event</th>\n",
              "      <th>user_id</th>\n",
              "      <th>timestamp</th>\n",
              "      <th>test_group</th>\n",
              "      <th>datetime</th>\n",
              "      <th>date</th>\n",
              "    </tr>\n",
              "  </thead>\n",
              "  <tbody>\n",
              "    <tr>\n",
              "      <th>176812</th>\n",
              "      <td>PaymentScreenSuccessful</td>\n",
              "      <td>77364241990273403</td>\n",
              "      <td>1565044732</td>\n",
              "      <td>246</td>\n",
              "      <td>2019-08-05 22:38:52</td>\n",
              "      <td>2019-08-05</td>\n",
              "    </tr>\n",
              "    <tr>\n",
              "      <th>176813</th>\n",
              "      <td>PaymentScreenSuccessful</td>\n",
              "      <td>77364241990273403</td>\n",
              "      <td>1565044732</td>\n",
              "      <td>246</td>\n",
              "      <td>2019-08-05 22:38:52</td>\n",
              "      <td>2019-08-05</td>\n",
              "    </tr>\n",
              "    <tr>\n",
              "      <th>130557</th>\n",
              "      <td>MainScreenAppear</td>\n",
              "      <td>33176906322804559</td>\n",
              "      <td>1564933075</td>\n",
              "      <td>248</td>\n",
              "      <td>2019-08-04 15:37:55</td>\n",
              "      <td>2019-08-04</td>\n",
              "    </tr>\n",
              "    <tr>\n",
              "      <th>130558</th>\n",
              "      <td>MainScreenAppear</td>\n",
              "      <td>33176906322804559</td>\n",
              "      <td>1564933075</td>\n",
              "      <td>248</td>\n",
              "      <td>2019-08-04 15:37:55</td>\n",
              "      <td>2019-08-04</td>\n",
              "    </tr>\n",
              "  </tbody>\n",
              "</table>\n",
              "</div>"
            ],
            "text/plain": [
              "                          event            user_id   timestamp  test_group  \\\n",
              "176812  PaymentScreenSuccessful  77364241990273403  1565044732         246   \n",
              "176813  PaymentScreenSuccessful  77364241990273403  1565044732         246   \n",
              "130557         MainScreenAppear  33176906322804559  1564933075         248   \n",
              "130558         MainScreenAppear  33176906322804559  1564933075         248   \n",
              "\n",
              "                  datetime       date  \n",
              "176812 2019-08-05 22:38:52 2019-08-05  \n",
              "176813 2019-08-05 22:38:52 2019-08-05  \n",
              "130557 2019-08-04 15:37:55 2019-08-04  \n",
              "130558 2019-08-04 15:37:55 2019-08-04  "
            ]
          },
          "metadata": {
            "tags": []
          }
        }
      ]
    },
    {
      "cell_type": "markdown",
      "metadata": {
        "id": "SQv3SpnLfq3u"
      },
      "source": [
        "Похоже, что это действительно задвоения. Удалим."
      ]
    },
    {
      "cell_type": "code",
      "metadata": {
        "colab": {
          "base_uri": "https://localhost:8080/"
        },
        "id": "VijuVJ5sLz5x",
        "outputId": "e5d32e8c-cce5-4b17-8c16-9090d8ccf354"
      },
      "source": [
        "print('Логов до удаления дубликатов:', len(logs))\r\n",
        "print('Дубликатов:', logs.duplicated().sum())\r\n",
        "logs.drop_duplicates(inplace=True)\r\n",
        "print('Логов после удаления дубликатов:', len(logs))"
      ],
      "execution_count": 8,
      "outputs": [
        {
          "output_type": "stream",
          "text": [
            "Логов до удаления дубликатов: 244126\n",
            "Дубликатов: 413\n",
            "Логов после удаления дубликатов: 243713\n"
          ],
          "name": "stdout"
        }
      ]
    },
    {
      "cell_type": "markdown",
      "metadata": {
        "id": "EHCNRnw-f4qV"
      },
      "source": [
        "**Итог:**\r\n",
        "\r\n",
        "* Скорректировали названия полей\r\n",
        "* Добавили поле datetime с датой и временем\r\n",
        "* Создали поле date с датой\r\n",
        "* Удалили дубли"
      ]
    },
    {
      "cell_type": "markdown",
      "metadata": {
        "id": "ez72YmcSgF4N"
      },
      "source": [
        "# 3. Общий анализ данных"
      ]
    },
    {
      "cell_type": "markdown",
      "metadata": {
        "id": "w9kcCiF_gIEN"
      },
      "source": [
        "**3.1. Количество логов и пользователей**"
      ]
    },
    {
      "cell_type": "code",
      "metadata": {
        "colab": {
          "base_uri": "https://localhost:8080/"
        },
        "id": "FRHtSMKMLz1E",
        "outputId": "3b7c2fd1-a4be-4c4f-f412-21cfd60a20be"
      },
      "source": [
        "print('Всего событий:', len(logs))\r\n",
        "print('Всего пользователей:', logs['user_id'].nunique())"
      ],
      "execution_count": 9,
      "outputs": [
        {
          "output_type": "stream",
          "text": [
            "Всего событий: 243713\n",
            "Всего пользователей: 7551\n"
          ],
          "name": "stdout"
        }
      ]
    },
    {
      "cell_type": "code",
      "metadata": {
        "colab": {
          "base_uri": "https://localhost:8080/",
          "height": 0
        },
        "id": "kVOwq3H3LzwT",
        "outputId": "f9e94225-ae02-46f8-e15b-608335764276"
      },
      "source": [
        "# Посмотрим, сколько событий в среднем приходится на пользователя:\r\n",
        "events_by_user = logs.groupby('user_id').agg(event_count = ('event', 'count'))\r\n",
        "\r\n",
        "plt.figure(figsize = (8,6))\r\n",
        "plt.title('Распределение количества событий на пользователя')\r\n",
        "sns.distplot(events_by_user['event_count'], bins=30) \r\n",
        "plt.xlabel('')\r\n",
        "plt.show()"
      ],
      "execution_count": 10,
      "outputs": [
        {
          "output_type": "display_data",
          "data": {
            "image/png": "[encoded data removed]",
            "text/plain": [
              "<Figure size 576x432 with 1 Axes>"
            ]
          },
          "metadata": {
            "tags": [],
            "needs_background": "light"
          }
        }
      ]
    },
    {
      "cell_type": "markdown",
      "metadata": {
        "id": "xBWZdHMahjvG"
      },
      "source": [
        "Распределение не нормально, поэтому для оценки среднего возьмём медиану."
      ]
    },
    {
      "cell_type": "code",
      "metadata": {
        "colab": {
          "base_uri": "https://localhost:8080/"
        },
        "id": "F3juCCZ2LztN",
        "outputId": "69a24b9e-81b0-4339-a1bf-5b92e7d856d0"
      },
      "source": [
        "print('Среднее значение событий на пользователя:', int(events_by_user['event_count'].median()))"
      ],
      "execution_count": 11,
      "outputs": [
        {
          "output_type": "stream",
          "text": [
            "Среднее значение событий на пользователя: 20\n"
          ],
          "name": "stdout"
        }
      ]
    },
    {
      "cell_type": "markdown",
      "metadata": {
        "id": "R-rJ5pGOiFl-"
      },
      "source": [
        "**3.2. Период**"
      ]
    },
    {
      "cell_type": "code",
      "metadata": {
        "colab": {
          "base_uri": "https://localhost:8080/"
        },
        "id": "MGForjr_LzqV",
        "outputId": "fcdb9fcd-e4a2-447b-897c-2174cc936c41"
      },
      "source": [
        "logs['datetime'].describe()"
      ],
      "execution_count": 12,
      "outputs": [
        {
          "output_type": "execute_result",
          "data": {
            "text/plain": [
              "count                  243713\n",
              "unique                 176654\n",
              "top       2019-08-01 14:40:35\n",
              "freq                        9\n",
              "first     2019-07-25 04:43:36\n",
              "last      2019-08-07 21:15:17\n",
              "Name: datetime, dtype: object"
            ]
          },
          "metadata": {
            "tags": []
          },
          "execution_count": 12
        }
      ]
    },
    {
      "cell_type": "markdown",
      "metadata": {
        "id": "58LQf2bgxBzi"
      },
      "source": [
        "Мы располагаем данными за период с 25.07.2019 по 07.08.2019."
      ]
    },
    {
      "cell_type": "code",
      "metadata": {
        "colab": {
          "base_uri": "https://localhost:8080/",
          "height": 0
        },
        "id": "EWSRT0a2LznN",
        "outputId": "8238d504-cc92-461e-832c-753d22025b4c"
      },
      "source": [
        "# Построим гистограмму по дате и времени:\r\n",
        "plt.title('Распределение логов по дате и времени')\r\n",
        "logs['datetime'].hist(bins=50, xrot=15,  figsize=(15, 5))\r\n",
        "plt.show()\r\n",
        "\r\n",
        "plt.title('Распределение логов по времени суток')\r\n",
        "logs['datetime'].dt.hour.hist(bins=24, figsize=(15, 5))\r\n",
        "plt.xticks(range(0, 23))\r\n",
        "plt.show()"
      ],
      "execution_count": 13,
      "outputs": [
        {
          "output_type": "display_data",
          "data": {
            "image/png": "[encoded data removed]",
            "text/plain": [
              "<Figure size 1080x360 with 1 Axes>"
            ]
          },
          "metadata": {
            "tags": [],
            "needs_background": "light"
          }
        },
        {
          "output_type": "display_data",
          "data": {
            "image/png": "[encoded data removed]",
            "text/plain": [
              "<Figure size 1080x360 with 1 Axes>"
            ]
          },
          "metadata": {
            "tags": [],
            "needs_background": "light"
          }
        }
      ]
    },
    {
      "cell_type": "markdown",
      "metadata": {
        "id": "uGQglG2f1woG"
      },
      "source": [
        "* Из графика видно, что данные за июль не полные\r\n",
        "* Заметна периодичность во времени: в ночные часы событий меньше, чем днём"
      ]
    },
    {
      "cell_type": "markdown",
      "metadata": {
        "id": "7h5Std0w2EwS"
      },
      "source": [
        "Для корректности анализа будем использовать данные за период с **01.08.2019 по 07.08.2019**"
      ]
    },
    {
      "cell_type": "code",
      "metadata": {
        "colab": {
          "base_uri": "https://localhost:8080/"
        },
        "id": "f2d-UvLuLzkU",
        "outputId": "ccc0cf09-00de-4557-aceb-fbceb96e6691"
      },
      "source": [
        "nlogs_before = len(logs)\r\n",
        "nusers_before = logs['user_id'].nunique()\r\n",
        "print('Всего событий:', nlogs_before)\r\n",
        "print('Всего пользователей:', nusers_before)\r\n",
        "\r\n",
        "logs = logs[logs['datetime'] >= '2019-08-01'].copy()\r\n",
        "print()\r\n",
        "\r\n",
        "# Посмотрим, сколько всего событий и пользователей осталось в логах:\r\n",
        "print('Событий после корректировки периода:', len(logs))\r\n",
        "print('Пользователей после корректировки периода:', logs['user_id'].nunique())\r\n",
        "print()\r\n",
        "\r\n",
        "# Изменения:\r\n",
        "print('Изменение количества логов:', len(logs)-nlogs_before, '({:.1%})'.format((len(logs)-nlogs_before)/nlogs_before))\r\n",
        "print('Изменение количества пользователей:', logs['user_id'].nunique()-nusers_before, '({:.1%})'.format((logs['user_id'].nunique()-nusers_before)/nusers_before))"
      ],
      "execution_count": 14,
      "outputs": [
        {
          "output_type": "stream",
          "text": [
            "Всего событий: 243713\n",
            "Всего пользователей: 7551\n",
            "\n",
            "Событий после корректировки периода: 240887\n",
            "Пользователей после корректировки периода: 7534\n",
            "\n",
            "Изменение количества логов: -2826 (-1.2%)\n",
            "Изменение количества пользователей: -17 (-0.2%)\n"
          ],
          "name": "stdout"
        }
      ]
    },
    {
      "cell_type": "code",
      "metadata": {
        "colab": {
          "base_uri": "https://localhost:8080/",
          "height": 0
        },
        "id": "ev0TqAIkLzhW",
        "outputId": "ae5af9e2-ab55-42f3-863a-fdb384ad5e82"
      },
      "source": [
        "# Проверим, что у нас есть пользователи из всех экспериментальных групп:\r\n",
        "logs.groupby('test_group').agg(count=('user_id','count'))"
      ],
      "execution_count": 15,
      "outputs": [
        {
          "output_type": "execute_result",
          "data": {
            "text/html": [
              "<div>\n",
              "<style scoped>\n",
              "    .dataframe tbody tr th:only-of-type {\n",
              "        vertical-align: middle;\n",
              "    }\n",
              "\n",
              "    .dataframe tbody tr th {\n",
              "        vertical-align: top;\n",
              "    }\n",
              "\n",
              "    .dataframe thead th {\n",
              "        text-align: right;\n",
              "    }\n",
              "</style>\n",
              "<table border=\"1\" class=\"dataframe\">\n",
              "  <thead>\n",
              "    <tr style=\"text-align: right;\">\n",
              "      <th></th>\n",
              "      <th>count</th>\n",
              "    </tr>\n",
              "    <tr>\n",
              "      <th>test_group</th>\n",
              "      <th></th>\n",
              "    </tr>\n",
              "  </thead>\n",
              "  <tbody>\n",
              "    <tr>\n",
              "      <th>246</th>\n",
              "      <td>79302</td>\n",
              "    </tr>\n",
              "    <tr>\n",
              "      <th>247</th>\n",
              "      <td>77022</td>\n",
              "    </tr>\n",
              "    <tr>\n",
              "      <th>248</th>\n",
              "      <td>84563</td>\n",
              "    </tr>\n",
              "  </tbody>\n",
              "</table>\n",
              "</div>"
            ],
            "text/plain": [
              "            count\n",
              "test_group       \n",
              "246         79302\n",
              "247         77022\n",
              "248         84563"
            ]
          },
          "metadata": {
            "tags": []
          },
          "execution_count": 15
        }
      ]
    },
    {
      "cell_type": "markdown",
      "metadata": {
        "id": "dTSZ8iPz383X"
      },
      "source": [
        "Размеры групп различаются, что говорит о неоптимальности разбиения данных по группам. В будущем стоит над этим поработать.\r\n",
        "\r\n"
      ]
    },
    {
      "cell_type": "markdown",
      "metadata": {
        "id": "Us2hgX7K5AtS"
      },
      "source": [
        "# 4. Воронка событий "
      ]
    },
    {
      "cell_type": "code",
      "metadata": {
        "colab": {
          "base_uri": "https://localhost:8080/",
          "height": 390
        },
        "id": "fOyc8Kg3Lzdr",
        "outputId": "e6399b0d-9fdb-4487-cade-ce483a344c57"
      },
      "source": [
        "# Сгруппируем логи по событиям и посмотрим их количество:\r\n",
        "events = logs.groupby('event').agg(count=('user_id', 'count')).sort_values('count', ascending=False).reset_index()\r\n",
        "\r\n",
        "plt.figure(figsize=(12,6))\r\n",
        "plt.title('Количество событий в логах')\r\n",
        "sns.barplot(x=events['count'], y=events['event'], palette='rocket', orient='h')\r\n",
        "\r\n",
        "for i, v in enumerate(events['count'].values):\r\n",
        "    plt.text(v + 800, i - 0.1, str(v), color='black', fontsize = 10)\r\n",
        "    plt.text(v + 800, i + 0.2, '({:.2%})'.format(v / events['count'].sum()), color='black', fontsize = 10)\r\n",
        "\r\n",
        "plt.xlabel('')\r\n",
        "plt.ylabel('')\r\n",
        "sns.despine()\r\n",
        "plt.show()"
      ],
      "execution_count": 16,
      "outputs": [
        {
          "output_type": "display_data",
          "data": {
            "image/png": "[encoded data removed]",
            "text/plain": [
              "<Figure size 864x432 with 1 Axes>"
            ]
          },
          "metadata": {
            "tags": [],
            "needs_background": "light"
          }
        }
      ]
    },
    {
      "cell_type": "markdown",
      "metadata": {
        "id": "Bfxqer6X6aND"
      },
      "source": [
        "* MainScreenAppear (Главный экран) увидели 117328 раз\r\n",
        "* OffersScreenAppear (Продающий экран) увидели 46333 раз\r\n",
        "* CartScreenAppear (Корзина) увидели 42303 раз\r\n",
        "* PaymentScreenSuccessful (Завершение оплаты) увидели 33918 раз\r\n",
        "* Tutorial (Урок) просмотрели 1005 раз"
      ]
    },
    {
      "cell_type": "code",
      "metadata": {
        "colab": {
          "base_uri": "https://localhost:8080/",
          "height": 390
        },
        "id": "jszRZ4FZLzab",
        "outputId": "b311ff80-0acc-4369-f871-3dfe375ef725"
      },
      "source": [
        "users_per_event = logs.groupby('event').agg(users=('user_id','nunique')).sort_values('users', ascending=False).reset_index()\r\n",
        "users_per_event\r\n",
        "\r\n",
        "plt.figure(figsize=(12, 6))\r\n",
        "plt.title('Количество пользователей, совершивших событие и их доля от общего числа пользователей')\r\n",
        "sns.barplot(y=users_per_event['event'], x=users_per_event['users'], palette='mako', orient='h')\r\n",
        "\r\n",
        "for i, v in enumerate(users_per_event['users'].values):\r\n",
        "    plt.text(v + 100, i - 0.1, str(v), color='black', fontsize = 10)\r\n",
        "    plt.text(v + 100, i + 0.2, '({:.2%})'.format(v / logs['user_id'].nunique()), color='black', fontsize = 10)\r\n",
        "    \r\n",
        "plt.xlabel('')\r\n",
        "plt.ylabel('')\r\n",
        "sns.despine()\r\n",
        "plt.show()"
      ],
      "execution_count": 17,
      "outputs": [
        {
          "output_type": "display_data",
          "data": {
            "image/png": "[encoded data removed]",
            "text/plain": [
              "<Figure size 864x432 with 1 Axes>"
            ]
          },
          "metadata": {
            "tags": [],
            "needs_background": "light"
          }
        }
      ]
    },
    {
      "cell_type": "markdown",
      "metadata": {
        "id": "Ic9kg2vH_JSz"
      },
      "source": [
        "* Главную страницу увидели 7419 пользователей (98.5% от общего числа пользователей) - почти все\r\n",
        "* Страницу товара просмотрели 4593 пользователей (61% от общего числа)\r\n",
        "* Корзину просмотрели 3734 пользователя (49.6% от общего числа)\r\n",
        "* Завершили оплату 3539 пользователей (47% от общего числа)\r\n",
        "* Урок просмотрели 840 пользователей (11% от общего числа)"
      ]
    },
    {
      "cell_type": "code",
      "metadata": {
        "colab": {
          "base_uri": "https://localhost:8080/",
          "height": 498
        },
        "id": "9CPv2B7ELzXJ",
        "outputId": "0eab6735-4e26-47d5-f8c9-f43319cbbf78"
      },
      "source": [
        "#Посмотрим на эти же данные, только с разбивкой по тестовым группам, чтобы оценить согласованность групп между собой.\r\n",
        "users_per_event = logs.groupby(['event','test_group']).agg(users=('user_id','nunique')).sort_values('users', ascending=False).reset_index()\r\n",
        "users_per_event\r\n",
        "\r\n",
        "plt.figure(figsize=(14, 8))\r\n",
        "plt.title('Количество пользователей, совершивших событие и их доля от общего числа пользователей')\r\n",
        "sns.barplot(y=users_per_event['event'], x=users_per_event['users'], hue=users_per_event['test_group'], palette='mako', orient='h')\r\n",
        "\r\n",
        "plt.xlabel('')\r\n",
        "plt.ylabel('')\r\n",
        "sns.despine()\r\n",
        "plt.show()"
      ],
      "execution_count": 18,
      "outputs": [
        {
          "output_type": "display_data",
          "data": {
            "image/png": "[encoded data removed]",
            "text/plain": [
              "<Figure size 1008x576 with 1 Axes>"
            ]
          },
          "metadata": {
            "tags": [],
            "needs_background": "light"
          }
        }
      ]
    },
    {
      "cell_type": "markdown",
      "metadata": {
        "id": "KdnDTMsn_mcM"
      },
      "source": [
        "\r\n",
        "Из перового графика видно, что не все пользователи посещали Главный экран, однако, в логах они всё равно фигурируют. Значит, просмотр Главной страницы (просмотр Урока и, возможно, и другие шаги) не является обязательным условием совершения покупки.\r\n",
        "\r\n",
        "А на последнем графике видно, что тестовые группы составлены корректно - их представители распределены по событиям более-менее равномерно."
      ]
    },
    {
      "cell_type": "markdown",
      "metadata": {
        "id": "NjOlShu0_zes"
      },
      "source": [
        "**Продуктовая воронка с учётом последовательности событий**\r\n",
        "\r\n",
        "Наиболее вероятная последовательность событий, ведущая к продаже, выглядит так:\r\n",
        "\r\n",
        "1. Просмотр главной страницы\r\n",
        "2. Просмотр товара\r\n",
        "3. Просмотр корзины\r\n",
        "4. Завершение оплаты\r\n",
        "\r\n",
        "Просмотр урока в цепочку событий не входит."
      ]
    },
    {
      "cell_type": "code",
      "metadata": {
        "colab": {
          "base_uri": "https://localhost:8080/",
          "height": 542
        },
        "id": "jDG-cDKcLzT6",
        "outputId": "47b32ef6-6716-4b3d-da3c-21b8075b39a5"
      },
      "source": [
        "users = logs[logs['event'] != 'Tutorial'].pivot_table(\r\n",
        "    index='user_id', \r\n",
        "    columns='event', \r\n",
        "    values='datetime',\r\n",
        "    aggfunc='min')\r\n",
        "\r\n",
        "step_1 = ~users['MainScreenAppear'].isna()\r\n",
        "step_2 = step_1 & (users['OffersScreenAppear'] > users['MainScreenAppear'])\r\n",
        "step_3 = step_2 & (users['CartScreenAppear'] > users['OffersScreenAppear'])\r\n",
        "step_4 = step_3 & (users['PaymentScreenSuccessful'] > users['CartScreenAppear'])\r\n",
        "\r\n",
        "n_main_screen = users[step_1].shape[0]\r\n",
        "n_offers_screen = users[step_2].shape[0]\r\n",
        "n_cart_screen = users[step_3].shape[0]\r\n",
        "n_payment_success = users[step_4].shape[0]\r\n",
        "\r\n",
        "# print('Посетителей:', n_main_screen)\r\n",
        "# print('Просмотрели товар:', n_offers_screen)\r\n",
        "# print('Просмотрели корзину:', n_cart_screen)\r\n",
        "# print('Оплатили:', n_payment_success)\r\n",
        "\r\n",
        "events_name = ['Посетителей', 'Просмотрели товар', 'Просмотрели корзину', 'Оплатили']\r\n",
        "n_users = [n_main_screen, n_offers_screen, n_cart_screen, n_payment_success]\r\n",
        "\r\n",
        "fig = go.Figure(go.Funnel(\r\n",
        "    y = events_name,\r\n",
        "    x = n_users\r\n",
        "    ))\r\n",
        "fig.show()"
      ],
      "execution_count": 20,
      "outputs": [
        {
          "output_type": "display_data",
          "data": {
            "text/html": [
              "<html>\n",
              "<head><meta charset=\"utf-8\" /></head>\n",
              "<body>\n",
              "    <div>\n",
              "            <script src=\"https://cdnjs.cloudflare.com/ajax/libs/mathjax/2.7.5/MathJax.js?config=TeX-AMS-MML_SVG\"></script><script type=\"text/javascript\">if (window.MathJax) {MathJax.Hub.Config({SVG: {font: \"STIX-Web\"}});}</script>\n",
              "                <script type=\"text/javascript\">window.PlotlyConfig = {MathJaxConfig: 'local'};</script>\n",
              "        <script src=\"https://cdn.plot.ly/plotly-latest.min.js\"></script>    \n",
              "            <div id=\"19b644ef-7d10-4ddf-9796-90994469ed92\" class=\"plotly-graph-div\" style=\"height:525px; width:100%;\"></div>\n",
              "            <script type=\"text/javascript\">\n",
              "                \n",
              "                    window.PLOTLYENV=window.PLOTLYENV || {};\n",
              "                    \n",
              "                if (document.getElementById(\"19b644ef-7d10-4ddf-9796-90994469ed92\")) {\n",
              "                    Plotly.newPlot(\n",
              "                        '19b644ef-7d10-4ddf-9796-90994469ed92',\n",
              "                        [{\"type\": \"funnel\", \"x\": [7419, 4201, 1767, 454], \"y\": [\"\\u041f\\u043e\\u0441\\u0435\\u0442\\u0438\\u0442\\u0435\\u043b\\u0435\\u0439\", \"\\u041f\\u0440\\u043e\\u0441\\u043c\\u043e\\u0442\\u0440\\u0435\\u043b\\u0438 \\u0442\\u043e\\u0432\\u0430\\u0440\", \"\\u041f\\u0440\\u043e\\u0441\\u043c\\u043e\\u0442\\u0440\\u0435\\u043b\\u0438 \\u043a\\u043e\\u0440\\u0437\\u0438\\u043d\\u0443\", \"\\u041e\\u043f\\u043b\\u0430\\u0442\\u0438\\u043b\\u0438\"]}],\n",
              "                        {\"template\": {\"data\": {\"bar\": [{\"error_x\": {\"color\": \"#2a3f5f\"}, \"error_y\": {\"color\": \"#2a3f5f\"}, \"marker\": {\"line\": {\"color\": \"#E5ECF6\", \"width\": 0.5}}, \"type\": \"bar\"}], \"barpolar\": [{\"marker\": {\"line\": {\"color\": \"#E5ECF6\", \"width\": 0.5}}, \"type\": \"barpolar\"}], \"carpet\": [{\"aaxis\": {\"endlinecolor\": \"#2a3f5f\", \"gridcolor\": \"white\", \"linecolor\": \"white\", \"minorgridcolor\": \"white\", \"startlinecolor\": \"#2a3f5f\"}, \"baxis\": {\"endlinecolor\": \"#2a3f5f\", \"gridcolor\": \"white\", \"linecolor\": \"white\", \"minorgridcolor\": \"white\", \"startlinecolor\": \"#2a3f5f\"}, \"type\": \"carpet\"}], \"choropleth\": [{\"colorbar\": {\"outlinewidth\": 0, \"ticks\": \"\"}, \"type\": \"choropleth\"}], \"contour\": [{\"colorbar\": {\"outlinewidth\": 0, \"ticks\": \"\"}, \"colorscale\": [[0.0, \"#0d0887\"], [0.1111111111111111, \"#46039f\"], [0.2222222222222222, \"#7201a8\"], [0.3333333333333333, \"#9c179e\"], [0.4444444444444444, \"#bd3786\"], [0.5555555555555556, \"#d8576b\"], [0.6666666666666666, \"#ed7953\"], [0.7777777777777778, \"#fb9f3a\"], [0.8888888888888888, \"#fdca26\"], [1.0, \"#f0f921\"]], \"type\": \"contour\"}], \"contourcarpet\": [{\"colorbar\": {\"outlinewidth\": 0, \"ticks\": \"\"}, \"type\": \"contourcarpet\"}], \"heatmap\": [{\"colorbar\": {\"outlinewidth\": 0, \"ticks\": \"\"}, \"colorscale\": [[0.0, \"#0d0887\"], [0.1111111111111111, \"#46039f\"], [0.2222222222222222, \"#7201a8\"], [0.3333333333333333, \"#9c179e\"], [0.4444444444444444, \"#bd3786\"], [0.5555555555555556, \"#d8576b\"], [0.6666666666666666, \"#ed7953\"], [0.7777777777777778, \"#fb9f3a\"], [0.8888888888888888, \"#fdca26\"], [1.0, \"#f0f921\"]], \"type\": \"heatmap\"}], \"heatmapgl\": [{\"colorbar\": {\"outlinewidth\": 0, \"ticks\": \"\"}, \"colorscale\": [[0.0, \"#0d0887\"], [0.1111111111111111, \"#46039f\"], [0.2222222222222222, \"#7201a8\"], [0.3333333333333333, \"#9c179e\"], [0.4444444444444444, \"#bd3786\"], [0.5555555555555556, \"#d8576b\"], [0.6666666666666666, \"#ed7953\"], [0.7777777777777778, \"#fb9f3a\"], [0.8888888888888888, \"#fdca26\"], [1.0, \"#f0f921\"]], \"type\": \"heatmapgl\"}], \"histogram\": [{\"marker\": {\"colorbar\": {\"outlinewidth\": 0, \"ticks\": \"\"}}, \"type\": \"histogram\"}], \"histogram2d\": [{\"colorbar\": {\"outlinewidth\": 0, \"ticks\": \"\"}, \"colorscale\": [[0.0, \"#0d0887\"], [0.1111111111111111, \"#46039f\"], [0.2222222222222222, \"#7201a8\"], [0.3333333333333333, \"#9c179e\"], [0.4444444444444444, \"#bd3786\"], [0.5555555555555556, \"#d8576b\"], [0.6666666666666666, \"#ed7953\"], [0.7777777777777778, \"#fb9f3a\"], [0.8888888888888888, \"#fdca26\"], [1.0, \"#f0f921\"]], \"type\": \"histogram2d\"}], \"histogram2dcontour\": [{\"colorbar\": {\"outlinewidth\": 0, \"ticks\": \"\"}, \"colorscale\": [[0.0, \"#0d0887\"], [0.1111111111111111, \"#46039f\"], [0.2222222222222222, \"#7201a8\"], [0.3333333333333333, \"#9c179e\"], [0.4444444444444444, \"#bd3786\"], [0.5555555555555556, \"#d8576b\"], [0.6666666666666666, \"#ed7953\"], [0.7777777777777778, \"#fb9f3a\"], [0.8888888888888888, \"#fdca26\"], [1.0, \"#f0f921\"]], \"type\": \"histogram2dcontour\"}], \"mesh3d\": [{\"colorbar\": {\"outlinewidth\": 0, \"ticks\": \"\"}, \"type\": \"mesh3d\"}], \"parcoords\": [{\"line\": {\"colorbar\": {\"outlinewidth\": 0, \"ticks\": \"\"}}, \"type\": \"parcoords\"}], \"pie\": [{\"automargin\": true, \"type\": \"pie\"}], \"scatter\": [{\"marker\": {\"colorbar\": {\"outlinewidth\": 0, \"ticks\": \"\"}}, \"type\": \"scatter\"}], \"scatter3d\": [{\"line\": {\"colorbar\": {\"outlinewidth\": 0, \"ticks\": \"\"}}, \"marker\": {\"colorbar\": {\"outlinewidth\": 0, \"ticks\": \"\"}}, \"type\": \"scatter3d\"}], \"scattercarpet\": [{\"marker\": {\"colorbar\": {\"outlinewidth\": 0, \"ticks\": \"\"}}, \"type\": \"scattercarpet\"}], \"scattergeo\": [{\"marker\": {\"colorbar\": {\"outlinewidth\": 0, \"ticks\": \"\"}}, \"type\": \"scattergeo\"}], \"scattergl\": [{\"marker\": {\"colorbar\": {\"outlinewidth\": 0, \"ticks\": \"\"}}, \"type\": \"scattergl\"}], \"scattermapbox\": [{\"marker\": {\"colorbar\": {\"outlinewidth\": 0, \"ticks\": \"\"}}, \"type\": \"scattermapbox\"}], \"scatterpolar\": [{\"marker\": {\"colorbar\": {\"outlinewidth\": 0, \"ticks\": \"\"}}, \"type\": \"scatterpolar\"}], \"scatterpolargl\": [{\"marker\": {\"colorbar\": {\"outlinewidth\": 0, \"ticks\": \"\"}}, \"type\": \"scatterpolargl\"}], \"scatterternary\": [{\"marker\": {\"colorbar\": {\"outlinewidth\": 0, \"ticks\": \"\"}}, \"type\": \"scatterternary\"}], \"surface\": [{\"colorbar\": {\"outlinewidth\": 0, \"ticks\": \"\"}, \"colorscale\": [[0.0, \"#0d0887\"], [0.1111111111111111, \"#46039f\"], [0.2222222222222222, \"#7201a8\"], [0.3333333333333333, \"#9c179e\"], [0.4444444444444444, \"#bd3786\"], [0.5555555555555556, \"#d8576b\"], [0.6666666666666666, \"#ed7953\"], [0.7777777777777778, \"#fb9f3a\"], [0.8888888888888888, \"#fdca26\"], [1.0, \"#f0f921\"]], \"type\": \"surface\"}], \"table\": [{\"cells\": {\"fill\": {\"color\": \"#EBF0F8\"}, \"line\": {\"color\": \"white\"}}, \"header\": {\"fill\": {\"color\": \"#C8D4E3\"}, \"line\": {\"color\": \"white\"}}, \"type\": \"table\"}]}, \"layout\": {\"annotationdefaults\": {\"arrowcolor\": \"#2a3f5f\", \"arrowhead\": 0, \"arrowwidth\": 1}, \"coloraxis\": {\"colorbar\": {\"outlinewidth\": 0, \"ticks\": \"\"}}, \"colorscale\": {\"diverging\": [[0, \"#8e0152\"], [0.1, \"#c51b7d\"], [0.2, \"#de77ae\"], [0.3, \"#f1b6da\"], [0.4, \"#fde0ef\"], [0.5, \"#f7f7f7\"], [0.6, \"#e6f5d0\"], [0.7, \"#b8e186\"], [0.8, \"#7fbc41\"], [0.9, \"#4d9221\"], [1, \"#276419\"]], \"sequential\": [[0.0, \"#0d0887\"], [0.1111111111111111, \"#46039f\"], [0.2222222222222222, \"#7201a8\"], [0.3333333333333333, \"#9c179e\"], [0.4444444444444444, \"#bd3786\"], [0.5555555555555556, \"#d8576b\"], [0.6666666666666666, \"#ed7953\"], [0.7777777777777778, \"#fb9f3a\"], [0.8888888888888888, \"#fdca26\"], [1.0, \"#f0f921\"]], \"sequentialminus\": [[0.0, \"#0d0887\"], [0.1111111111111111, \"#46039f\"], [0.2222222222222222, \"#7201a8\"], [0.3333333333333333, \"#9c179e\"], [0.4444444444444444, \"#bd3786\"], [0.5555555555555556, \"#d8576b\"], [0.6666666666666666, \"#ed7953\"], [0.7777777777777778, \"#fb9f3a\"], [0.8888888888888888, \"#fdca26\"], [1.0, \"#f0f921\"]]}, \"colorway\": [\"#636efa\", \"#EF553B\", \"#00cc96\", \"#ab63fa\", \"#FFA15A\", \"#19d3f3\", \"#FF6692\", \"#B6E880\", \"#FF97FF\", \"#FECB52\"], \"font\": {\"color\": \"#2a3f5f\"}, \"geo\": {\"bgcolor\": \"white\", \"lakecolor\": \"white\", \"landcolor\": \"#E5ECF6\", \"showlakes\": true, \"showland\": true, \"subunitcolor\": \"white\"}, \"hoverlabel\": {\"align\": \"left\"}, \"hovermode\": \"closest\", \"mapbox\": {\"style\": \"light\"}, \"paper_bgcolor\": \"white\", \"plot_bgcolor\": \"#E5ECF6\", \"polar\": {\"angularaxis\": {\"gridcolor\": \"white\", \"linecolor\": \"white\", \"ticks\": \"\"}, \"bgcolor\": \"#E5ECF6\", \"radialaxis\": {\"gridcolor\": \"white\", \"linecolor\": \"white\", \"ticks\": \"\"}}, \"scene\": {\"xaxis\": {\"backgroundcolor\": \"#E5ECF6\", \"gridcolor\": \"white\", \"gridwidth\": 2, \"linecolor\": \"white\", \"showbackground\": true, \"ticks\": \"\", \"zerolinecolor\": \"white\"}, \"yaxis\": {\"backgroundcolor\": \"#E5ECF6\", \"gridcolor\": \"white\", \"gridwidth\": 2, \"linecolor\": \"white\", \"showbackground\": true, \"ticks\": \"\", \"zerolinecolor\": \"white\"}, \"zaxis\": {\"backgroundcolor\": \"#E5ECF6\", \"gridcolor\": \"white\", \"gridwidth\": 2, \"linecolor\": \"white\", \"showbackground\": true, \"ticks\": \"\", \"zerolinecolor\": \"white\"}}, \"shapedefaults\": {\"line\": {\"color\": \"#2a3f5f\"}}, \"ternary\": {\"aaxis\": {\"gridcolor\": \"white\", \"linecolor\": \"white\", \"ticks\": \"\"}, \"baxis\": {\"gridcolor\": \"white\", \"linecolor\": \"white\", \"ticks\": \"\"}, \"bgcolor\": \"#E5ECF6\", \"caxis\": {\"gridcolor\": \"white\", \"linecolor\": \"white\", \"ticks\": \"\"}}, \"title\": {\"x\": 0.05}, \"xaxis\": {\"automargin\": true, \"gridcolor\": \"white\", \"linecolor\": \"white\", \"ticks\": \"\", \"title\": {\"standoff\": 15}, \"zerolinecolor\": \"white\", \"zerolinewidth\": 2}, \"yaxis\": {\"automargin\": true, \"gridcolor\": \"white\", \"linecolor\": \"white\", \"ticks\": \"\", \"title\": {\"standoff\": 15}, \"zerolinecolor\": \"white\", \"zerolinewidth\": 2}}}},\n",
              "                        {\"responsive\": true}\n",
              "                    ).then(function(){\n",
              "                            \n",
              "var gd = document.getElementById('19b644ef-7d10-4ddf-9796-90994469ed92');\n",
              "var x = new MutationObserver(function (mutations, observer) {{\n",
              "        var display = window.getComputedStyle(gd).display;\n",
              "        if (!display || display === 'none') {{\n",
              "            console.log([gd, 'removed!']);\n",
              "            Plotly.purge(gd);\n",
              "            observer.disconnect();\n",
              "        }}\n",
              "}});\n",
              "\n",
              "// Listen for the removal of the full notebook cells\n",
              "var notebookContainer = gd.closest('#notebook-container');\n",
              "if (notebookContainer) {{\n",
              "    x.observe(notebookContainer, {childList: true});\n",
              "}}\n",
              "\n",
              "// Listen for the clearing of the current output cell\n",
              "var outputEl = gd.closest('.output');\n",
              "if (outputEl) {{\n",
              "    x.observe(outputEl, {childList: true});\n",
              "}}\n",
              "\n",
              "                        })\n",
              "                };\n",
              "                \n",
              "            </script>\n",
              "        </div>\n",
              "</body>\n",
              "</html>"
            ]
          },
          "metadata": {
            "tags": []
          }
        }
      ]
    },
    {
      "cell_type": "markdown",
      "metadata": {
        "id": "DW-c0nE8AbjN"
      },
      "source": [
        "так, воронка выглядит следующим образом:\r\n",
        "\r\n",
        "* 7419 пользователей просмотрели Главный экран\r\n",
        "* из них 4201 просмотрели Товар (56.6%)\r\n",
        "* из них 1767 перешли в Корзину (42.1% от предыдущего шага)\r\n",
        "* из них 454 завершили Оплату (25.7% от предыдущего шага)\r\n",
        "\r\n",
        "Больше всего пользователей теряется после первого шага - только чуть больше половины людей переходят на карточку Товара.\r\n",
        "\r\n",
        "По каждому шагу воронки прошло всего 6% пользователей (454 из 7419, начавших с Главного экрана). При этом в целом оплатили заказ 3539 человек. Т.е. бОльшая часть покупателей (3085 или 87%) шли к оплате каким-то иным путём."
      ]
    },
    {
      "cell_type": "markdown",
      "metadata": {
        "id": "B-u1-qmfaJMB"
      },
      "source": [
        "# 5. Результаты А/А/В-эксперимента"
      ]
    },
    {
      "cell_type": "code",
      "metadata": {
        "id": "2Gmr5UpELzQ6",
        "colab": {
          "base_uri": "https://localhost:8080/",
          "height": 167
        },
        "outputId": "fca893b5-3194-4d98-ece8-6e6b422cd637"
      },
      "source": [
        "# Подсчитаем количество пользователей в каждой тестовой группе:\r\n",
        "logs.groupby('test_group').agg(count=('user_id','nunique'))"
      ],
      "execution_count": 21,
      "outputs": [
        {
          "output_type": "execute_result",
          "data": {
            "text/html": [
              "<div>\n",
              "<style scoped>\n",
              "    .dataframe tbody tr th:only-of-type {\n",
              "        vertical-align: middle;\n",
              "    }\n",
              "\n",
              "    .dataframe tbody tr th {\n",
              "        vertical-align: top;\n",
              "    }\n",
              "\n",
              "    .dataframe thead th {\n",
              "        text-align: right;\n",
              "    }\n",
              "</style>\n",
              "<table border=\"1\" class=\"dataframe\">\n",
              "  <thead>\n",
              "    <tr style=\"text-align: right;\">\n",
              "      <th></th>\n",
              "      <th>count</th>\n",
              "    </tr>\n",
              "    <tr>\n",
              "      <th>test_group</th>\n",
              "      <th></th>\n",
              "    </tr>\n",
              "  </thead>\n",
              "  <tbody>\n",
              "    <tr>\n",
              "      <th>246</th>\n",
              "      <td>2484</td>\n",
              "    </tr>\n",
              "    <tr>\n",
              "      <th>247</th>\n",
              "      <td>2513</td>\n",
              "    </tr>\n",
              "    <tr>\n",
              "      <th>248</th>\n",
              "      <td>2537</td>\n",
              "    </tr>\n",
              "  </tbody>\n",
              "</table>\n",
              "</div>"
            ],
            "text/plain": [
              "            count\n",
              "test_group       \n",
              "246          2484\n",
              "247          2513\n",
              "248          2537"
            ]
          },
          "metadata": {
            "tags": []
          },
          "execution_count": 21
        }
      ]
    },
    {
      "cell_type": "markdown",
      "metadata": {
        "id": "U3QHvkD_b5-9"
      },
      "source": [
        "\r\n",
        "* Разницы в количестве почти нет\r\n",
        "\r\n",
        "Однако, нам нужно убедиться в корректности самой разбивки на группы. Для этого для начала проверим находят ли статистические критерии разницу между выборками 246 и 247 (А/А-тест)."
      ]
    },
    {
      "cell_type": "markdown",
      "metadata": {
        "id": "YKy4T3hbirgu"
      },
      "source": [
        "**Z-тест**"
      ]
    },
    {
      "cell_type": "code",
      "metadata": {
        "id": "h6H2o0k4LzN9"
      },
      "source": [
        "\"\"\"\r\n",
        "Функция принимает на вход два датафрейма с логами и по заданному событию попарно проверяет \r\n",
        "есть ли статистически значимая разница между долями пользователей, совершивших его в группе 1 и группе 2\r\n",
        "Входные параметры:\r\n",
        "    df1, df2 - датафреймы с логами\r\n",
        "    event - событие\r\n",
        "    alpha - критический уровень статистической значимости\r\n",
        "\"\"\"\r\n",
        "def z_test(df1, df2, event, alpha):\r\n",
        "    alpha = alpha\r\n",
        "\r\n",
        "    # число пользователей в группе 1 и группе 2:\r\n",
        "    n_users = np.array([df1['user_id'].nunique(), df2['user_id'].nunique()])\r\n",
        "\r\n",
        "    # число пользователей, совершивших событие в группе 1 и группе 2\r\n",
        "    success = np.array([df1[df1['event'] == event]['user_id'].nunique(), df2[df2['event'] == event]['user_id'].nunique()])\r\n",
        "\r\n",
        "    # пропорции успехов в группах:\r\n",
        "    p1 = success[0]/n_users[0]\r\n",
        "    p2 = success[1]/n_users[1] \r\n",
        "    # пропорция успехов в комбинированном датасете:\r\n",
        "    p_combined = (success[0] + success[1]) / (n_users[0] + n_users[1])\r\n",
        "\r\n",
        "    # разница пропорций в датасетах\r\n",
        "    difference = p1 - p2 \r\n",
        "\r\n",
        "    z_value = difference / np.sqrt(p_combined * (1 - p_combined) * (1/n_users[0] + 1/n_users[1]))\r\n",
        "\r\n",
        "    # задаем стандартное нормальное распределение (среднее 0, ст.отклонение 1)\r\n",
        "    distr = st.norm(0, 1)  \r\n",
        "\r\n",
        "    p_value = (1 - distr.cdf(abs(z_value))) * 2\r\n",
        "\r\n",
        "    print('\\n'+'\\033[1m' + event + ':' + '\\033[0m')\r\n",
        "    print('p-значение: ', p_value)\r\n",
        "\r\n",
        "    if (p_value < alpha):\r\n",
        "        print(\"Отвергаем нулевую гипотезу: между долями есть значимая разница\")\r\n",
        "    else:\r\n",
        "        print(\"Не получилось отвергнуть нулевую гипотезу, нет оснований считать доли разными\")"
      ],
      "execution_count": 22,
      "outputs": []
    },
    {
      "cell_type": "code",
      "metadata": {
        "id": "inZT-gOnLzKd"
      },
      "source": [
        "# Составим список всех возможных событий:\r\n",
        "EVENTS_ARRAY = logs['event'].unique()\r\n",
        "# Зададим критический уровень статистической значимости:\r\n",
        "ALPHA = 0.1/20"
      ],
      "execution_count": 24,
      "outputs": []
    },
    {
      "cell_type": "code",
      "metadata": {
        "id": "5G9VteNPLzHc",
        "colab": {
          "base_uri": "https://localhost:8080/"
        },
        "outputId": "b5b78a3f-5457-4508-c0d8-3d4a52685830"
      },
      "source": [
        "# Проверим, есть ли статистически значимая разница между контрольными группами 246 и 247:\r\n",
        "for event in EVENTS_ARRAY:\r\n",
        "    z_test(logs[logs['test_group'] == 246], logs[logs['test_group'] == 247], event, ALPHA)"
      ],
      "execution_count": 25,
      "outputs": [
        {
          "output_type": "stream",
          "text": [
            "\n",
            "\u001b[1mTutorial:\u001b[0m\n",
            "p-значение:  0.9376996189257114\n",
            "Не получилось отвергнуть нулевую гипотезу, нет оснований считать доли разными\n",
            "\n",
            "\u001b[1mMainScreenAppear:\u001b[0m\n",
            "p-значение:  0.7570597232046099\n",
            "Не получилось отвергнуть нулевую гипотезу, нет оснований считать доли разными\n",
            "\n",
            "\u001b[1mOffersScreenAppear:\u001b[0m\n",
            "p-значение:  0.2480954578522181\n",
            "Не получилось отвергнуть нулевую гипотезу, нет оснований считать доли разными\n",
            "\n",
            "\u001b[1mCartScreenAppear:\u001b[0m\n",
            "p-значение:  0.22883372237997213\n",
            "Не получилось отвергнуть нулевую гипотезу, нет оснований считать доли разными\n",
            "\n",
            "\u001b[1mPaymentScreenSuccessful:\u001b[0m\n",
            "p-значение:  0.11456679313141849\n",
            "Не получилось отвергнуть нулевую гипотезу, нет оснований считать доли разными\n"
          ],
          "name": "stdout"
        }
      ]
    },
    {
      "cell_type": "markdown",
      "metadata": {
        "id": "i1YLlEI20_W5"
      },
      "source": [
        "* При заданном уровне значимости у нас нет оснований считать группы 246 и 247 разными.\r\n",
        "* Обратим внимание на PaymentScreenSuccessful (Завершение оплаты) - полученное p-value говорит о том, что хотя доли оплативших заказ пользователей не равны, с вероятностью в 11.5% такое или большее различие можо получить случайно. Т.е. если бы мы допустили уровень ошибки, например, 12%, то пришлось бы признать, что между долями есть существенная разница. И, соответственно, пришлось бы признать выборки не подходящими для эксперимента."
      ]
    },
    {
      "cell_type": "code",
      "metadata": {
        "id": "YOOCqPr8LzEb",
        "colab": {
          "base_uri": "https://localhost:8080/"
        },
        "outputId": "89f58292-2777-499e-b004-20779a14679b"
      },
      "source": [
        "# Проверим есть ли статистически значимая разница между контрольной 246 и экпериментальной 248 группами:\r\n",
        "for event in EVENTS_ARRAY:\r\n",
        "    z_test(logs[logs['test_group'] == 246], logs[logs['test_group'] == 248], event, ALPHA)"
      ],
      "execution_count": 26,
      "outputs": [
        {
          "output_type": "stream",
          "text": [
            "\n",
            "\u001b[1mTutorial:\u001b[0m\n",
            "p-значение:  0.8264294010087645\n",
            "Не получилось отвергнуть нулевую гипотезу, нет оснований считать доли разными\n",
            "\n",
            "\u001b[1mMainScreenAppear:\u001b[0m\n",
            "p-значение:  0.2949721933554552\n",
            "Не получилось отвергнуть нулевую гипотезу, нет оснований считать доли разными\n",
            "\n",
            "\u001b[1mOffersScreenAppear:\u001b[0m\n",
            "p-значение:  0.20836205402738917\n",
            "Не получилось отвергнуть нулевую гипотезу, нет оснований считать доли разными\n",
            "\n",
            "\u001b[1mCartScreenAppear:\u001b[0m\n",
            "p-значение:  0.07842923237520116\n",
            "Не получилось отвергнуть нулевую гипотезу, нет оснований считать доли разными\n",
            "\n",
            "\u001b[1mPaymentScreenSuccessful:\u001b[0m\n",
            "p-значение:  0.2122553275697796\n",
            "Не получилось отвергнуть нулевую гипотезу, нет оснований считать доли разными\n"
          ],
          "name": "stdout"
        }
      ]
    },
    {
      "cell_type": "markdown",
      "metadata": {
        "id": "Pd6u3vpO0jVi"
      },
      "source": [
        "* При заданном уровне значимости различия между группами 246 и 248 не обнаружились.\r\n",
        "* Однако, при допустимом уровне ошибки 8%, мы получили бы разницу на этапе Просмотра корзины."
      ]
    },
    {
      "cell_type": "code",
      "metadata": {
        "id": "L-oCGd6zLzBU",
        "colab": {
          "base_uri": "https://localhost:8080/"
        },
        "outputId": "9b2b86d4-ccf3-417a-d0b4-5e96b1bdb679"
      },
      "source": [
        "# Проверим есть ли статистически значимая разница между контрольной 247 и экпериментальной 248 группами:\r\n",
        "for event in EVENTS_ARRAY:\r\n",
        "    z_test(logs[logs['test_group'] == 247], logs[logs['test_group'] == 248], event, ALPHA)"
      ],
      "execution_count": 27,
      "outputs": [
        {
          "output_type": "stream",
          "text": [
            "\n",
            "\u001b[1mTutorial:\u001b[0m\n",
            "p-значение:  0.765323922474501\n",
            "Не получилось отвергнуть нулевую гипотезу, нет оснований считать доли разными\n",
            "\n",
            "\u001b[1mMainScreenAppear:\u001b[0m\n",
            "p-значение:  0.4587053616621515\n",
            "Не получилось отвергнуть нулевую гипотезу, нет оснований считать доли разными\n",
            "\n",
            "\u001b[1mOffersScreenAppear:\u001b[0m\n",
            "p-значение:  0.9197817830592261\n",
            "Не получилось отвергнуть нулевую гипотезу, нет оснований считать доли разными\n",
            "\n",
            "\u001b[1mCartScreenAppear:\u001b[0m\n",
            "p-значение:  0.5786197879539783\n",
            "Не получилось отвергнуть нулевую гипотезу, нет оснований считать доли разными\n",
            "\n",
            "\u001b[1mPaymentScreenSuccessful:\u001b[0m\n",
            "p-значение:  0.7373415053803964\n",
            "Не получилось отвергнуть нулевую гипотезу, нет оснований считать доли разными\n"
          ],
          "name": "stdout"
        }
      ]
    },
    {
      "cell_type": "markdown",
      "metadata": {
        "id": "BPxddNLp0o8o"
      },
      "source": [
        "\r\n",
        "* Тут мы и близко не можем считать, что между нашими группами есть существенная разница."
      ]
    },
    {
      "cell_type": "code",
      "metadata": {
        "id": "bN9j5KzMLy-Z",
        "colab": {
          "base_uri": "https://localhost:8080/"
        },
        "outputId": "0f72c5bf-9a2e-443a-ec44-eeaad56dec6c"
      },
      "source": [
        "# Проверим есть ли статистически значимая разница между объединённой контрольной и экпериментальной 248 группами:\r\n",
        "for event in EVENTS_ARRAY:\r\n",
        "    z_test(pd.concat([logs[logs['test_group'] == 246], logs[logs['test_group'] == 247]]), logs[logs['test_group'] == 248], \r\n",
        "           event, ALPHA)"
      ],
      "execution_count": 28,
      "outputs": [
        {
          "output_type": "stream",
          "text": [
            "\n",
            "\u001b[1mTutorial:\u001b[0m\n",
            "p-значение:  0.764862472531507\n",
            "Не получилось отвергнуть нулевую гипотезу, нет оснований считать доли разными\n",
            "\n",
            "\u001b[1mMainScreenAppear:\u001b[0m\n",
            "p-значение:  0.29424526837179577\n",
            "Не получилось отвергнуть нулевую гипотезу, нет оснований считать доли разными\n",
            "\n",
            "\u001b[1mOffersScreenAppear:\u001b[0m\n",
            "p-значение:  0.43425549655188256\n",
            "Не получилось отвергнуть нулевую гипотезу, нет оснований считать доли разными\n",
            "\n",
            "\u001b[1mCartScreenAppear:\u001b[0m\n",
            "p-значение:  0.18175875284404386\n",
            "Не получилось отвергнуть нулевую гипотезу, нет оснований считать доли разными\n",
            "\n",
            "\u001b[1mPaymentScreenSuccessful:\u001b[0m\n",
            "p-значение:  0.6004294282308704\n",
            "Не получилось отвергнуть нулевую гипотезу, нет оснований считать доли разными\n"
          ],
          "name": "stdout"
        }
      ]
    },
    {
      "cell_type": "markdown",
      "metadata": {
        "id": "bvPmPpXX0vOR"
      },
      "source": [
        "* И снова у нас нет оснований считать доли разными.\r\n",
        "\r\n",
        "Фиксируем, что изменение шрифтов во всём приложении на поведение пользователей не повлияло."
      ]
    },
    {
      "cell_type": "markdown",
      "metadata": {
        "id": "RaqcfsRN1g1D"
      },
      "source": [
        "# 6. Общий вывод "
      ]
    },
    {
      "cell_type": "markdown",
      "metadata": {
        "id": "c4uaf6pe1nuJ"
      },
      "source": [
        "В нашем распоряжении оказалось 240887 логов, 7534 пользователя и всего пять возможных событий.\r\n",
        "\r\n",
        "**Анализ поведения пользователей**\r\n",
        "\r\n",
        "Среднее количество событий на пользователя: 20.\r\n",
        "\r\n",
        "1. Распределение логов по событиям выглядит следующим образом:\r\n",
        "  * MainScreenAppear (Главный экран) увидели 117328 раз\r\n",
        "  * OffersScreenAppear (Продающий экран) увидели 46333 раз\r\n",
        "  * CartScreenAppear (Корзина) увидели 42303 раз\r\n",
        "  * PaymentScreenSuccessful (Завершение оплаты) увидели 33918 раз\r\n",
        "  * Tutorial (Урок) просмотрели 1005 раз\r\n",
        "2. Воронка событий (без учёта последовательности):\r\n",
        "  * Главную страницу увидели 7419 пользователей (98.5% от общего числа пользователей) - почти все\r\n",
        "  * Страницу товара просмотрели 4593 пользователей (61% от общего числа)\r\n",
        "  * Корзину просмотрели 3734 пользователя (49.6% от общего числа)\r\n",
        "  * Завершили оплату 3539 пользователей (47% от общего числа)\r\n",
        "  * Урок просмотрели 840 пользователей (11% от общего числа)\r\n",
        "\r\n",
        "Не все пользователи посещали Главный экран, однако, в логах они всё равно фигурируют. Значит, просмотр Главной страницы (просмотр Урока и, возможно, и другие шаги) не является обязательным условием совершения покупки.\r\n",
        "\r\n",
        "3. Воронка событий с учётом последовательности событий:\r\n",
        "  * 7419 пользователей просмотрели Главный экран\r\n",
        "  * из них 4201 просмотрели Товар (56.6%)\r\n",
        "  * из них 1767 перешли в Корзину (42.1% от предыдущего шага)\r\n",
        "  * из них 454 завершили Оплату (25.7% от предыдущего шага)\r\n",
        "\r\n",
        "Больше всего пользователей теряется после первого шага - только чуть больше половины людей переходят на карточку Товара.\r\n",
        "\r\n",
        "По каждому шагу воронки прошло всего 6% пользователей (454 из 7419, начавших с Главного экрана). При этом в целом оплатили заказ 3539 человек. Т.е. бОльшая часть покупателей (3085 или 87%) шли к оплате каким-то иным путём.\r\n",
        "\r\n",
        "**Проверка результатов А/А/В-эксперимента**\r\n",
        "\r\n",
        "Размеры тестовых групп несколько различаются:\r\n",
        "\r\n",
        "* 246(А) : 79302 логов\r\n",
        "* 247(А) : 77022 логов\r\n",
        "* 248(В) : 84563 логов\r\n",
        "\r\n",
        "В будущем стоит поработать над принципом выделения групп, чтобы их размер был одинаковым.\r\n",
        "\r\n",
        "**Количество уникальных пользователей по группам:**\r\n",
        "\r\n",
        "* 246(А) : 2484\r\n",
        "* 247(А) : 2513\r\n",
        "* 248(В) : 2537\r\n",
        "\r\n",
        "Множесто А/В-тестов, проведённых по каждому из событий, не обнаружили статистически значимой разницы между группами. Т.е. изменение шрифтов во всём приложении на поведение пользователей не повлияло."
      ]
    }
  ]
}