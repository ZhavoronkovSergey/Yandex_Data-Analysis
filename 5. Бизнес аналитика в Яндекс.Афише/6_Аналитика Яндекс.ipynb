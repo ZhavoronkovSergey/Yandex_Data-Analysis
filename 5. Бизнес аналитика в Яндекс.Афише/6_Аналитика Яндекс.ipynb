{
  "nbformat": 4,
  "nbformat_minor": 0,
  "metadata": {
    "colab": {
      "name": "Untitled46.ipynb",
      "provenance": [],
      "toc_visible": true
    },
    "kernelspec": {
      "name": "python3",
      "display_name": "Python 3"
    }
  },
  "cells": [
    {
      "cell_type": "markdown",
      "metadata": {
        "id": "QsHtFJJ7NpAV"
      },
      "source": [
        "# Аналитика в Яндекс.Афише\n",
        "\n",
        "На основе данных от Яндекс.Афиши (с июня 2017 по конец мая 2018 года) необходимо сформировать предложения по оптимизации маркетинговых затрат.\n",
        "\n",
        "В нашем распоряжении:\n",
        "\n",
        "* лог сервера с данными о посещениях сайта Яндекс.Афиши\n",
        "* выгрузка всех заказов за этот период\n",
        "* статистика рекламных расходов\n",
        "\n",
        "**Описание данных:**\n",
        "\n",
        "Таблица **visits** (лог сервера с информацией о посещениях сайта):\n",
        "\n",
        "* Uid — уникальный идентификатор пользователя\n",
        "* Device — категория устройства пользователя\n",
        "* Start Ts — дата и время начала сессии\n",
        "* End Ts — дата и время окончания сессии\n",
        "* Source Id — идентификатор рекламного источника, из которого пришел пользователь\n",
        "\n",
        "Таблица **orders** (информация о заказах):\n",
        "\n",
        "* Uid — уникальный id пользователя, который сделал заказ\n",
        "* Buy Ts — дата и время заказа\n",
        "* Rvenue — выручка Яндекс.Афиши с этого заказа\n",
        "\n",
        "Таблица **costs** (информация о затратах на маркетинг):\n",
        "\n",
        "* source_id — идентификатор рекламного источника\n",
        "* dt — дата\n",
        "* costs — затраты на этот рекламный источник в этот день\n",
        "\n",
        "\n"
      ]
    },
    {
      "cell_type": "markdown",
      "metadata": {
        "id": "IS1yuDVRN18w"
      },
      "source": [
        "# 1. Обзор данных"
      ]
    },
    {
      "cell_type": "code",
      "metadata": {
        "id": "8jt2H3Ho3WCM"
      },
      "source": [
        "import pandas as pd\n",
        "import numpy as np\n",
        "from IPython.display import display\n",
        "import matplotlib.pyplot as plt\n",
        "import seaborn as sns; sns.set()\n",
        "%matplotlib inline\n",
        "pd.set_option('display.max_columns', 500)\n",
        "pd.options.mode.chained_assignment = None"
      ],
      "execution_count": 1,
      "outputs": []
    },
    {
      "cell_type": "code",
      "metadata": {
        "id": "uzZawNu6N1ps"
      },
      "source": [
        "visits = pd.read_csv('/content/visits_log_us.csv')\n",
        "orders = pd.read_csv('/content/orders_log_us.csv')\n",
        "costs = pd.read_csv('/content/costs_us.csv')"
      ],
      "execution_count": 2,
      "outputs": []
    },
    {
      "cell_type": "code",
      "metadata": {
        "id": "aPLapY5GN1l_"
      },
      "source": [
        "# Функция принимает на вход датафрейм df и выводит результат методов sample(5), info(), describe(), \n",
        "# а также количество полных дубликатов\n",
        "def data_info(df):\n",
        "  display(df.sample(5))\n",
        "  display(df.info())\n",
        "  display(df.describe())\n",
        "  print('Дубликатов:', df.duplicated().sum())\n"
      ],
      "execution_count": 3,
      "outputs": []
    },
    {
      "cell_type": "code",
      "metadata": {
        "colab": {
          "base_uri": "https://localhost:8080/",
          "height": 736
        },
        "id": "GIHX9DyRN0gi",
        "outputId": "4056a3fa-76cd-4e1b-9082-1f4a33f9daba"
      },
      "source": [
        "# Рассмотрим таблицу информацией о посещениях:\n",
        "data_info(visits)"
      ],
      "execution_count": 4,
      "outputs": [
        {
          "output_type": "display_data",
          "data": {
            "text/html": [
              "<div>\n",
              "<style scoped>\n",
              "    .dataframe tbody tr th:only-of-type {\n",
              "        vertical-align: middle;\n",
              "    }\n",
              "\n",
              "    .dataframe tbody tr th {\n",
              "        vertical-align: top;\n",
              "    }\n",
              "\n",
              "    .dataframe thead th {\n",
              "        text-align: right;\n",
              "    }\n",
              "</style>\n",
              "<table border=\"1\" class=\"dataframe\">\n",
              "  <thead>\n",
              "    <tr style=\"text-align: right;\">\n",
              "      <th></th>\n",
              "      <th>Device</th>\n",
              "      <th>End Ts</th>\n",
              "      <th>Source Id</th>\n",
              "      <th>Start Ts</th>\n",
              "      <th>Uid</th>\n",
              "    </tr>\n",
              "  </thead>\n",
              "  <tbody>\n",
              "    <tr>\n",
              "      <th>276270</th>\n",
              "      <td>desktop</td>\n",
              "      <td>2018-04-05 19:11:00</td>\n",
              "      <td>4</td>\n",
              "      <td>2018-04-05 19:06:00</td>\n",
              "      <td>1209921212015874142</td>\n",
              "    </tr>\n",
              "    <tr>\n",
              "      <th>254184</th>\n",
              "      <td>touch</td>\n",
              "      <td>2017-11-17 20:44:00</td>\n",
              "      <td>5</td>\n",
              "      <td>2017-11-17 20:41:00</td>\n",
              "      <td>10560421593960961995</td>\n",
              "    </tr>\n",
              "    <tr>\n",
              "      <th>265841</th>\n",
              "      <td>desktop</td>\n",
              "      <td>2017-08-13 21:12:00</td>\n",
              "      <td>5</td>\n",
              "      <td>2017-08-13 21:10:00</td>\n",
              "      <td>14362326583840638611</td>\n",
              "    </tr>\n",
              "    <tr>\n",
              "      <th>58005</th>\n",
              "      <td>touch</td>\n",
              "      <td>2017-10-31 19:29:00</td>\n",
              "      <td>3</td>\n",
              "      <td>2017-10-31 19:14:00</td>\n",
              "      <td>2232124187442828802</td>\n",
              "    </tr>\n",
              "    <tr>\n",
              "      <th>277762</th>\n",
              "      <td>desktop</td>\n",
              "      <td>2018-02-14 22:57:00</td>\n",
              "      <td>10</td>\n",
              "      <td>2018-02-14 22:41:00</td>\n",
              "      <td>2504201846793216779</td>\n",
              "    </tr>\n",
              "  </tbody>\n",
              "</table>\n",
              "</div>"
            ],
            "text/plain": [
              "         Device               End Ts  Source Id             Start Ts  \\\n",
              "276270  desktop  2018-04-05 19:11:00          4  2018-04-05 19:06:00   \n",
              "254184    touch  2017-11-17 20:44:00          5  2017-11-17 20:41:00   \n",
              "265841  desktop  2017-08-13 21:12:00          5  2017-08-13 21:10:00   \n",
              "58005     touch  2017-10-31 19:29:00          3  2017-10-31 19:14:00   \n",
              "277762  desktop  2018-02-14 22:57:00         10  2018-02-14 22:41:00   \n",
              "\n",
              "                         Uid  \n",
              "276270   1209921212015874142  \n",
              "254184  10560421593960961995  \n",
              "265841  14362326583840638611  \n",
              "58005    2232124187442828802  \n",
              "277762   2504201846793216779  "
            ]
          },
          "metadata": {
            "tags": []
          }
        },
        {
          "output_type": "stream",
          "text": [
            "<class 'pandas.core.frame.DataFrame'>\n",
            "RangeIndex: 359400 entries, 0 to 359399\n",
            "Data columns (total 5 columns):\n",
            " #   Column     Non-Null Count   Dtype \n",
            "---  ------     --------------   ----- \n",
            " 0   Device     359400 non-null  object\n",
            " 1   End Ts     359400 non-null  object\n",
            " 2   Source Id  359400 non-null  int64 \n",
            " 3   Start Ts   359400 non-null  object\n",
            " 4   Uid        359400 non-null  uint64\n",
            "dtypes: int64(1), object(3), uint64(1)\n",
            "memory usage: 13.7+ MB\n"
          ],
          "name": "stdout"
        },
        {
          "output_type": "display_data",
          "data": {
            "text/plain": [
              "None"
            ]
          },
          "metadata": {
            "tags": []
          }
        },
        {
          "output_type": "display_data",
          "data": {
            "text/html": [
              "<div>\n",
              "<style scoped>\n",
              "    .dataframe tbody tr th:only-of-type {\n",
              "        vertical-align: middle;\n",
              "    }\n",
              "\n",
              "    .dataframe tbody tr th {\n",
              "        vertical-align: top;\n",
              "    }\n",
              "\n",
              "    .dataframe thead th {\n",
              "        text-align: right;\n",
              "    }\n",
              "</style>\n",
              "<table border=\"1\" class=\"dataframe\">\n",
              "  <thead>\n",
              "    <tr style=\"text-align: right;\">\n",
              "      <th></th>\n",
              "      <th>Source Id</th>\n",
              "      <th>Uid</th>\n",
              "    </tr>\n",
              "  </thead>\n",
              "  <tbody>\n",
              "    <tr>\n",
              "      <th>count</th>\n",
              "      <td>359400.000000</td>\n",
              "      <td>3.594000e+05</td>\n",
              "    </tr>\n",
              "    <tr>\n",
              "      <th>mean</th>\n",
              "      <td>3.750515</td>\n",
              "      <td>9.202557e+18</td>\n",
              "    </tr>\n",
              "    <tr>\n",
              "      <th>std</th>\n",
              "      <td>1.917116</td>\n",
              "      <td>5.298433e+18</td>\n",
              "    </tr>\n",
              "    <tr>\n",
              "      <th>min</th>\n",
              "      <td>1.000000</td>\n",
              "      <td>1.186350e+13</td>\n",
              "    </tr>\n",
              "    <tr>\n",
              "      <th>25%</th>\n",
              "      <td>3.000000</td>\n",
              "      <td>4.613407e+18</td>\n",
              "    </tr>\n",
              "    <tr>\n",
              "      <th>50%</th>\n",
              "      <td>4.000000</td>\n",
              "      <td>9.227413e+18</td>\n",
              "    </tr>\n",
              "    <tr>\n",
              "      <th>75%</th>\n",
              "      <td>5.000000</td>\n",
              "      <td>1.372824e+19</td>\n",
              "    </tr>\n",
              "    <tr>\n",
              "      <th>max</th>\n",
              "      <td>10.000000</td>\n",
              "      <td>1.844668e+19</td>\n",
              "    </tr>\n",
              "  </tbody>\n",
              "</table>\n",
              "</div>"
            ],
            "text/plain": [
              "           Source Id           Uid\n",
              "count  359400.000000  3.594000e+05\n",
              "mean        3.750515  9.202557e+18\n",
              "std         1.917116  5.298433e+18\n",
              "min         1.000000  1.186350e+13\n",
              "25%         3.000000  4.613407e+18\n",
              "50%         4.000000  9.227413e+18\n",
              "75%         5.000000  1.372824e+19\n",
              "max        10.000000  1.844668e+19"
            ]
          },
          "metadata": {
            "tags": []
          }
        },
        {
          "output_type": "stream",
          "text": [
            "Дубликатов: 0\n"
          ],
          "name": "stdout"
        }
      ]
    },
    {
      "cell_type": "markdown",
      "metadata": {
        "id": "p_vxGmJ8P2OZ"
      },
      "source": [
        "Проблемы:\n",
        "\n",
        "* некорректные названия столбцов\n",
        "* тип данных Start Ts и End Ts должен быть datetime, а не object\n",
        "\n",
        "В базе данные о 359400 сессиях, пропусков и дубликатов нет."
      ]
    },
    {
      "cell_type": "code",
      "metadata": {
        "colab": {
          "base_uri": "https://localhost:8080/",
          "height": 700
        },
        "id": "Nu88AiWQN0c1",
        "outputId": "bca69b1b-3458-44c7-b24e-93dc3cd1d4fe"
      },
      "source": [
        "# Рассмотрим таблицу информацией о заказах:\n",
        "data_info(orders)"
      ],
      "execution_count": 5,
      "outputs": [
        {
          "output_type": "display_data",
          "data": {
            "text/html": [
              "<div>\n",
              "<style scoped>\n",
              "    .dataframe tbody tr th:only-of-type {\n",
              "        vertical-align: middle;\n",
              "    }\n",
              "\n",
              "    .dataframe tbody tr th {\n",
              "        vertical-align: top;\n",
              "    }\n",
              "\n",
              "    .dataframe thead th {\n",
              "        text-align: right;\n",
              "    }\n",
              "</style>\n",
              "<table border=\"1\" class=\"dataframe\">\n",
              "  <thead>\n",
              "    <tr style=\"text-align: right;\">\n",
              "      <th></th>\n",
              "      <th>Buy Ts</th>\n",
              "      <th>Revenue</th>\n",
              "      <th>Uid</th>\n",
              "    </tr>\n",
              "  </thead>\n",
              "  <tbody>\n",
              "    <tr>\n",
              "      <th>8629</th>\n",
              "      <td>2017-09-22 13:19:00</td>\n",
              "      <td>8.55</td>\n",
              "      <td>5894138436147686046</td>\n",
              "    </tr>\n",
              "    <tr>\n",
              "      <th>40599</th>\n",
              "      <td>2018-03-19 14:47:00</td>\n",
              "      <td>12.22</td>\n",
              "      <td>16657786962369066618</td>\n",
              "    </tr>\n",
              "    <tr>\n",
              "      <th>27336</th>\n",
              "      <td>2017-12-31 12:37:00</td>\n",
              "      <td>5.55</td>\n",
              "      <td>91791284977066091</td>\n",
              "    </tr>\n",
              "    <tr>\n",
              "      <th>15911</th>\n",
              "      <td>2017-11-03 07:45:00</td>\n",
              "      <td>6.11</td>\n",
              "      <td>17132401479637319779</td>\n",
              "    </tr>\n",
              "    <tr>\n",
              "      <th>36949</th>\n",
              "      <td>2018-02-25 22:52:00</td>\n",
              "      <td>5.87</td>\n",
              "      <td>15182868770115188029</td>\n",
              "    </tr>\n",
              "  </tbody>\n",
              "</table>\n",
              "</div>"
            ],
            "text/plain": [
              "                    Buy Ts  Revenue                   Uid\n",
              "8629   2017-09-22 13:19:00     8.55   5894138436147686046\n",
              "40599  2018-03-19 14:47:00    12.22  16657786962369066618\n",
              "27336  2017-12-31 12:37:00     5.55     91791284977066091\n",
              "15911  2017-11-03 07:45:00     6.11  17132401479637319779\n",
              "36949  2018-02-25 22:52:00     5.87  15182868770115188029"
            ]
          },
          "metadata": {
            "tags": []
          }
        },
        {
          "output_type": "stream",
          "text": [
            "<class 'pandas.core.frame.DataFrame'>\n",
            "RangeIndex: 50415 entries, 0 to 50414\n",
            "Data columns (total 3 columns):\n",
            " #   Column   Non-Null Count  Dtype  \n",
            "---  ------   --------------  -----  \n",
            " 0   Buy Ts   50415 non-null  object \n",
            " 1   Revenue  50415 non-null  float64\n",
            " 2   Uid      50415 non-null  uint64 \n",
            "dtypes: float64(1), object(1), uint64(1)\n",
            "memory usage: 1.2+ MB\n"
          ],
          "name": "stdout"
        },
        {
          "output_type": "display_data",
          "data": {
            "text/plain": [
              "None"
            ]
          },
          "metadata": {
            "tags": []
          }
        },
        {
          "output_type": "display_data",
          "data": {
            "text/html": [
              "<div>\n",
              "<style scoped>\n",
              "    .dataframe tbody tr th:only-of-type {\n",
              "        vertical-align: middle;\n",
              "    }\n",
              "\n",
              "    .dataframe tbody tr th {\n",
              "        vertical-align: top;\n",
              "    }\n",
              "\n",
              "    .dataframe thead th {\n",
              "        text-align: right;\n",
              "    }\n",
              "</style>\n",
              "<table border=\"1\" class=\"dataframe\">\n",
              "  <thead>\n",
              "    <tr style=\"text-align: right;\">\n",
              "      <th></th>\n",
              "      <th>Revenue</th>\n",
              "      <th>Uid</th>\n",
              "    </tr>\n",
              "  </thead>\n",
              "  <tbody>\n",
              "    <tr>\n",
              "      <th>count</th>\n",
              "      <td>50415.000000</td>\n",
              "      <td>5.041500e+04</td>\n",
              "    </tr>\n",
              "    <tr>\n",
              "      <th>mean</th>\n",
              "      <td>4.999647</td>\n",
              "      <td>9.098161e+18</td>\n",
              "    </tr>\n",
              "    <tr>\n",
              "      <th>std</th>\n",
              "      <td>21.818359</td>\n",
              "      <td>5.285742e+18</td>\n",
              "    </tr>\n",
              "    <tr>\n",
              "      <th>min</th>\n",
              "      <td>0.000000</td>\n",
              "      <td>3.135781e+14</td>\n",
              "    </tr>\n",
              "    <tr>\n",
              "      <th>25%</th>\n",
              "      <td>1.220000</td>\n",
              "      <td>4.533567e+18</td>\n",
              "    </tr>\n",
              "    <tr>\n",
              "      <th>50%</th>\n",
              "      <td>2.500000</td>\n",
              "      <td>9.102274e+18</td>\n",
              "    </tr>\n",
              "    <tr>\n",
              "      <th>75%</th>\n",
              "      <td>4.890000</td>\n",
              "      <td>1.368290e+19</td>\n",
              "    </tr>\n",
              "    <tr>\n",
              "      <th>max</th>\n",
              "      <td>2633.280000</td>\n",
              "      <td>1.844617e+19</td>\n",
              "    </tr>\n",
              "  </tbody>\n",
              "</table>\n",
              "</div>"
            ],
            "text/plain": [
              "            Revenue           Uid\n",
              "count  50415.000000  5.041500e+04\n",
              "mean       4.999647  9.098161e+18\n",
              "std       21.818359  5.285742e+18\n",
              "min        0.000000  3.135781e+14\n",
              "25%        1.220000  4.533567e+18\n",
              "50%        2.500000  9.102274e+18\n",
              "75%        4.890000  1.368290e+19\n",
              "max     2633.280000  1.844617e+19"
            ]
          },
          "metadata": {
            "tags": []
          }
        },
        {
          "output_type": "stream",
          "text": [
            "Дубликатов: 0\n"
          ],
          "name": "stdout"
        }
      ]
    },
    {
      "cell_type": "markdown",
      "metadata": {
        "id": "PpQqM45QP80T"
      },
      "source": [
        "\n",
        "Проблемы:\n",
        "\n",
        "* некорректные названия столбцов\n",
        "* тип данных Buy Ts должен быть datetime, а не object\n",
        "* встречаются заказы с нулевой выручкой - нужно посмотреть внимательней\n",
        "\n",
        "Распределение выручки скошено вправо. Большое стандартное отклонение говорит о существенном разбросе значений. Всего в базе содержится информация о 50415 заказх, пропусков и дубликатов нет."
      ]
    },
    {
      "cell_type": "code",
      "metadata": {
        "colab": {
          "base_uri": "https://localhost:8080/",
          "height": 700
        },
        "id": "EdXzgRxsN0YP",
        "outputId": "d6ad6d71-754b-4043-c3f4-fd9f75d3ae25"
      },
      "source": [
        "# Рассмотрим таблицу информацией о затратах на маркетинг:\n",
        "data_info(costs)"
      ],
      "execution_count": 6,
      "outputs": [
        {
          "output_type": "display_data",
          "data": {
            "text/html": [
              "<div>\n",
              "<style scoped>\n",
              "    .dataframe tbody tr th:only-of-type {\n",
              "        vertical-align: middle;\n",
              "    }\n",
              "\n",
              "    .dataframe tbody tr th {\n",
              "        vertical-align: top;\n",
              "    }\n",
              "\n",
              "    .dataframe thead th {\n",
              "        text-align: right;\n",
              "    }\n",
              "</style>\n",
              "<table border=\"1\" class=\"dataframe\">\n",
              "  <thead>\n",
              "    <tr style=\"text-align: right;\">\n",
              "      <th></th>\n",
              "      <th>source_id</th>\n",
              "      <th>dt</th>\n",
              "      <th>costs</th>\n",
              "    </tr>\n",
              "  </thead>\n",
              "  <tbody>\n",
              "    <tr>\n",
              "      <th>1011</th>\n",
              "      <td>3</td>\n",
              "      <td>2018-03-13</td>\n",
              "      <td>498.59</td>\n",
              "    </tr>\n",
              "    <tr>\n",
              "      <th>35</th>\n",
              "      <td>1</td>\n",
              "      <td>2017-07-06</td>\n",
              "      <td>23.32</td>\n",
              "    </tr>\n",
              "    <tr>\n",
              "      <th>1967</th>\n",
              "      <td>9</td>\n",
              "      <td>2017-10-30</td>\n",
              "      <td>22.34</td>\n",
              "    </tr>\n",
              "    <tr>\n",
              "      <th>125</th>\n",
              "      <td>1</td>\n",
              "      <td>2017-10-04</td>\n",
              "      <td>90.78</td>\n",
              "    </tr>\n",
              "    <tr>\n",
              "      <th>1822</th>\n",
              "      <td>9</td>\n",
              "      <td>2017-06-07</td>\n",
              "      <td>8.58</td>\n",
              "    </tr>\n",
              "  </tbody>\n",
              "</table>\n",
              "</div>"
            ],
            "text/plain": [
              "      source_id          dt   costs\n",
              "1011          3  2018-03-13  498.59\n",
              "35            1  2017-07-06   23.32\n",
              "1967          9  2017-10-30   22.34\n",
              "125           1  2017-10-04   90.78\n",
              "1822          9  2017-06-07    8.58"
            ]
          },
          "metadata": {
            "tags": []
          }
        },
        {
          "output_type": "stream",
          "text": [
            "<class 'pandas.core.frame.DataFrame'>\n",
            "RangeIndex: 2542 entries, 0 to 2541\n",
            "Data columns (total 3 columns):\n",
            " #   Column     Non-Null Count  Dtype  \n",
            "---  ------     --------------  -----  \n",
            " 0   source_id  2542 non-null   int64  \n",
            " 1   dt         2542 non-null   object \n",
            " 2   costs      2542 non-null   float64\n",
            "dtypes: float64(1), int64(1), object(1)\n",
            "memory usage: 59.7+ KB\n"
          ],
          "name": "stdout"
        },
        {
          "output_type": "display_data",
          "data": {
            "text/plain": [
              "None"
            ]
          },
          "metadata": {
            "tags": []
          }
        },
        {
          "output_type": "display_data",
          "data": {
            "text/html": [
              "<div>\n",
              "<style scoped>\n",
              "    .dataframe tbody tr th:only-of-type {\n",
              "        vertical-align: middle;\n",
              "    }\n",
              "\n",
              "    .dataframe tbody tr th {\n",
              "        vertical-align: top;\n",
              "    }\n",
              "\n",
              "    .dataframe thead th {\n",
              "        text-align: right;\n",
              "    }\n",
              "</style>\n",
              "<table border=\"1\" class=\"dataframe\">\n",
              "  <thead>\n",
              "    <tr style=\"text-align: right;\">\n",
              "      <th></th>\n",
              "      <th>source_id</th>\n",
              "      <th>costs</th>\n",
              "    </tr>\n",
              "  </thead>\n",
              "  <tbody>\n",
              "    <tr>\n",
              "      <th>count</th>\n",
              "      <td>2542.000000</td>\n",
              "      <td>2542.000000</td>\n",
              "    </tr>\n",
              "    <tr>\n",
              "      <th>mean</th>\n",
              "      <td>4.857199</td>\n",
              "      <td>129.477427</td>\n",
              "    </tr>\n",
              "    <tr>\n",
              "      <th>std</th>\n",
              "      <td>3.181581</td>\n",
              "      <td>156.296628</td>\n",
              "    </tr>\n",
              "    <tr>\n",
              "      <th>min</th>\n",
              "      <td>1.000000</td>\n",
              "      <td>0.540000</td>\n",
              "    </tr>\n",
              "    <tr>\n",
              "      <th>25%</th>\n",
              "      <td>2.000000</td>\n",
              "      <td>21.945000</td>\n",
              "    </tr>\n",
              "    <tr>\n",
              "      <th>50%</th>\n",
              "      <td>4.000000</td>\n",
              "      <td>77.295000</td>\n",
              "    </tr>\n",
              "    <tr>\n",
              "      <th>75%</th>\n",
              "      <td>9.000000</td>\n",
              "      <td>170.065000</td>\n",
              "    </tr>\n",
              "    <tr>\n",
              "      <th>max</th>\n",
              "      <td>10.000000</td>\n",
              "      <td>1788.280000</td>\n",
              "    </tr>\n",
              "  </tbody>\n",
              "</table>\n",
              "</div>"
            ],
            "text/plain": [
              "         source_id        costs\n",
              "count  2542.000000  2542.000000\n",
              "mean      4.857199   129.477427\n",
              "std       3.181581   156.296628\n",
              "min       1.000000     0.540000\n",
              "25%       2.000000    21.945000\n",
              "50%       4.000000    77.295000\n",
              "75%       9.000000   170.065000\n",
              "max      10.000000  1788.280000"
            ]
          },
          "metadata": {
            "tags": []
          }
        },
        {
          "output_type": "stream",
          "text": [
            "Дубликатов: 0\n"
          ],
          "name": "stdout"
        }
      ]
    },
    {
      "cell_type": "markdown",
      "metadata": {
        "id": "P_H351V2QPz_"
      },
      "source": [
        "Проблемы:\n",
        "\n",
        "* тип данных dt должен быть datetime, а не object\n",
        "\n",
        "Распределение затрат скошено вправо. Большое стандартное отклонение говорит о существенном разбросе значений. Всего в базе 2542 записей с затратами, пропущенных значений и дубликатов нет."
      ]
    },
    {
      "cell_type": "markdown",
      "metadata": {
        "id": "G9FxXLk2QVEk"
      },
      "source": [
        "## Обзор данных. Выводы\n",
        " \n",
        " Данные выгружены без пропусков и дубликатов. Всего в нашем распоряжении данные о:\n",
        "\n",
        "* 359400 сессиях / visits\n",
        "* 50415 заказах / orders\n",
        "* 2542 затратах / costs\n",
        "\n",
        "В таблице orders встречаются записи с нулевой выручкой.\n",
        "\n",
        "Обнаруженные проблемы:\n",
        "\n",
        "* нужно переименовать столбцы в visits и orders\n",
        "* visits['Start Ts'] и visits['End Ts'] нужно привести к datetime\n",
        "* orders['Buy Ts'] нужно привести к datetime\n",
        "* costs['dt'] нужно привести к datetime"
      ]
    },
    {
      "cell_type": "markdown",
      "metadata": {
        "id": "r1eo5QNFUZAo"
      },
      "source": [
        "# 2. Предобработка данных "
      ]
    },
    {
      "cell_type": "code",
      "metadata": {
        "colab": {
          "base_uri": "https://localhost:8080/",
          "height": 391
        },
        "id": "D5Dobei0N0Uk",
        "outputId": "481f911c-9a9e-480d-8e2b-afd53429ba44"
      },
      "source": [
        "# Скорректируем названия столбцов в `visits` и `orders`:\n",
        "visits.columns = visits.columns.str.replace(' ', '_')\n",
        "visits.columns = visits.columns.str.lower()\n",
        "\n",
        "orders.columns = orders.columns.str.replace(' ', '_')\n",
        "orders.columns = orders.columns.str.lower()\n",
        "\n",
        "display(visits.sample(5))\n",
        "display(orders.sample(5))"
      ],
      "execution_count": 7,
      "outputs": [
        {
          "output_type": "display_data",
          "data": {
            "text/html": [
              "<div>\n",
              "<style scoped>\n",
              "    .dataframe tbody tr th:only-of-type {\n",
              "        vertical-align: middle;\n",
              "    }\n",
              "\n",
              "    .dataframe tbody tr th {\n",
              "        vertical-align: top;\n",
              "    }\n",
              "\n",
              "    .dataframe thead th {\n",
              "        text-align: right;\n",
              "    }\n",
              "</style>\n",
              "<table border=\"1\" class=\"dataframe\">\n",
              "  <thead>\n",
              "    <tr style=\"text-align: right;\">\n",
              "      <th></th>\n",
              "      <th>device</th>\n",
              "      <th>end_ts</th>\n",
              "      <th>source_id</th>\n",
              "      <th>start_ts</th>\n",
              "      <th>uid</th>\n",
              "    </tr>\n",
              "  </thead>\n",
              "  <tbody>\n",
              "    <tr>\n",
              "      <th>135360</th>\n",
              "      <td>desktop</td>\n",
              "      <td>2018-03-20 16:03:00</td>\n",
              "      <td>3</td>\n",
              "      <td>2018-03-20 16:02:00</td>\n",
              "      <td>1147728368028295486</td>\n",
              "    </tr>\n",
              "    <tr>\n",
              "      <th>53527</th>\n",
              "      <td>desktop</td>\n",
              "      <td>2018-04-11 13:53:00</td>\n",
              "      <td>3</td>\n",
              "      <td>2018-04-11 13:23:00</td>\n",
              "      <td>8724101210246514150</td>\n",
              "    </tr>\n",
              "    <tr>\n",
              "      <th>81692</th>\n",
              "      <td>desktop</td>\n",
              "      <td>2017-09-12 00:54:00</td>\n",
              "      <td>1</td>\n",
              "      <td>2017-09-12 00:50:00</td>\n",
              "      <td>6991695011547514871</td>\n",
              "    </tr>\n",
              "    <tr>\n",
              "      <th>86956</th>\n",
              "      <td>desktop</td>\n",
              "      <td>2018-02-20 16:51:00</td>\n",
              "      <td>4</td>\n",
              "      <td>2018-02-20 16:51:00</td>\n",
              "      <td>2219881107548600616</td>\n",
              "    </tr>\n",
              "    <tr>\n",
              "      <th>290107</th>\n",
              "      <td>desktop</td>\n",
              "      <td>2017-12-28 11:48:00</td>\n",
              "      <td>4</td>\n",
              "      <td>2017-12-28 11:47:00</td>\n",
              "      <td>3676857102242691855</td>\n",
              "    </tr>\n",
              "  </tbody>\n",
              "</table>\n",
              "</div>"
            ],
            "text/plain": [
              "         device               end_ts  source_id             start_ts  \\\n",
              "135360  desktop  2018-03-20 16:03:00          3  2018-03-20 16:02:00   \n",
              "53527   desktop  2018-04-11 13:53:00          3  2018-04-11 13:23:00   \n",
              "81692   desktop  2017-09-12 00:54:00          1  2017-09-12 00:50:00   \n",
              "86956   desktop  2018-02-20 16:51:00          4  2018-02-20 16:51:00   \n",
              "290107  desktop  2017-12-28 11:48:00          4  2017-12-28 11:47:00   \n",
              "\n",
              "                        uid  \n",
              "135360  1147728368028295486  \n",
              "53527   8724101210246514150  \n",
              "81692   6991695011547514871  \n",
              "86956   2219881107548600616  \n",
              "290107  3676857102242691855  "
            ]
          },
          "metadata": {
            "tags": []
          }
        },
        {
          "output_type": "display_data",
          "data": {
            "text/html": [
              "<div>\n",
              "<style scoped>\n",
              "    .dataframe tbody tr th:only-of-type {\n",
              "        vertical-align: middle;\n",
              "    }\n",
              "\n",
              "    .dataframe tbody tr th {\n",
              "        vertical-align: top;\n",
              "    }\n",
              "\n",
              "    .dataframe thead th {\n",
              "        text-align: right;\n",
              "    }\n",
              "</style>\n",
              "<table border=\"1\" class=\"dataframe\">\n",
              "  <thead>\n",
              "    <tr style=\"text-align: right;\">\n",
              "      <th></th>\n",
              "      <th>buy_ts</th>\n",
              "      <th>revenue</th>\n",
              "      <th>uid</th>\n",
              "    </tr>\n",
              "  </thead>\n",
              "  <tbody>\n",
              "    <tr>\n",
              "      <th>40301</th>\n",
              "      <td>2018-03-17 15:10:00</td>\n",
              "      <td>12.83</td>\n",
              "      <td>7042008337588453394</td>\n",
              "    </tr>\n",
              "    <tr>\n",
              "      <th>4798</th>\n",
              "      <td>2017-08-02 22:06:00</td>\n",
              "      <td>0.61</td>\n",
              "      <td>16060958047672734636</td>\n",
              "    </tr>\n",
              "    <tr>\n",
              "      <th>47163</th>\n",
              "      <td>2018-05-13 18:34:00</td>\n",
              "      <td>1.89</td>\n",
              "      <td>6778943299394610126</td>\n",
              "    </tr>\n",
              "    <tr>\n",
              "      <th>38268</th>\n",
              "      <td>2018-03-05 12:04:00</td>\n",
              "      <td>0.55</td>\n",
              "      <td>17524370468859157580</td>\n",
              "    </tr>\n",
              "    <tr>\n",
              "      <th>934</th>\n",
              "      <td>2017-06-08 10:45:00</td>\n",
              "      <td>0.18</td>\n",
              "      <td>7237745753275509449</td>\n",
              "    </tr>\n",
              "  </tbody>\n",
              "</table>\n",
              "</div>"
            ],
            "text/plain": [
              "                    buy_ts  revenue                   uid\n",
              "40301  2018-03-17 15:10:00    12.83   7042008337588453394\n",
              "4798   2017-08-02 22:06:00     0.61  16060958047672734636\n",
              "47163  2018-05-13 18:34:00     1.89   6778943299394610126\n",
              "38268  2018-03-05 12:04:00     0.55  17524370468859157580\n",
              "934    2017-06-08 10:45:00     0.18   7237745753275509449"
            ]
          },
          "metadata": {
            "tags": []
          }
        }
      ]
    },
    {
      "cell_type": "code",
      "metadata": {
        "id": "XJEyGtTcN0Q2"
      },
      "source": [
        "def to_dttime(df, param, frmt):\n",
        "# Функция заменяет тип поля df[param] на datetime по формату frmt и выводит описание поля df[param]\n",
        "    try:\n",
        "        df[param] = pd.to_datetime(df[param], format=frmt)\n",
        "        print(param, ':')\n",
        "        print(df[param].describe())\n",
        "        print()\n",
        "    except:\n",
        "        print('Проверьте корректность данных в поле', param)"
      ],
      "execution_count": 8,
      "outputs": []
    },
    {
      "cell_type": "code",
      "metadata": {
        "colab": {
          "base_uri": "https://localhost:8080/"
        },
        "id": "JQQCHMYLNz-G",
        "outputId": "cf88bd11-ff01-45e5-ff7c-7e15606fd843"
      },
      "source": [
        "# Заменим тип данных на datetime там, где это нужно:\n",
        "\n",
        "to_dttime(visits, 'start_ts', '%Y-%m-%d %H:%M:%S')\n",
        "to_dttime(visits, 'end_ts', '%Y-%m-%d %H:%M:%S')\n",
        "to_dttime(orders, 'buy_ts', '%Y-%m-%d %H:%M:%S')\n",
        "to_dttime(costs, 'dt', '%Y-%m-%d %H:%M:%S')"
      ],
      "execution_count": 9,
      "outputs": [
        {
          "output_type": "stream",
          "text": [
            "start_ts :\n",
            "count                  359400\n",
            "unique                 224303\n",
            "top       2017-11-24 16:06:00\n",
            "freq                       19\n",
            "first     2017-06-01 00:01:00\n",
            "last      2018-05-31 23:59:00\n",
            "Name: start_ts, dtype: object\n",
            "\n",
            "end_ts :\n",
            "count                  359400\n",
            "unique                 224760\n",
            "top       2017-11-24 16:51:00\n",
            "freq                       23\n",
            "first     2017-06-01 00:02:00\n",
            "last      2018-06-01 01:26:00\n",
            "Name: end_ts, dtype: object\n",
            "\n",
            "buy_ts :\n",
            "count                   50415\n",
            "unique                  45991\n",
            "top       2018-05-31 10:13:00\n",
            "freq                        9\n",
            "first     2017-06-01 00:10:00\n",
            "last      2018-06-01 00:02:00\n",
            "Name: buy_ts, dtype: object\n",
            "\n",
            "dt :\n",
            "count                    2542\n",
            "unique                    364\n",
            "top       2018-03-03 00:00:00\n",
            "freq                        7\n",
            "first     2017-06-01 00:00:00\n",
            "last      2018-05-31 00:00:00\n",
            "Name: dt, dtype: object\n",
            "\n"
          ],
          "name": "stdout"
        },
        {
          "output_type": "stream",
          "text": [
            "/usr/local/lib/python3.6/dist-packages/ipykernel_launcher.py:6: FutureWarning: Treating datetime data as categorical rather than numeric in `.describe` is deprecated and will be removed in a future version of pandas. Specify `datetime_is_numeric=True` to silence this warning and adopt the future behavior now.\n",
            "  \n",
            "/usr/local/lib/python3.6/dist-packages/ipykernel_launcher.py:6: FutureWarning: Treating datetime data as categorical rather than numeric in `.describe` is deprecated and will be removed in a future version of pandas. Specify `datetime_is_numeric=True` to silence this warning and adopt the future behavior now.\n",
            "  \n",
            "/usr/local/lib/python3.6/dist-packages/ipykernel_launcher.py:6: FutureWarning: Treating datetime data as categorical rather than numeric in `.describe` is deprecated and will be removed in a future version of pandas. Specify `datetime_is_numeric=True` to silence this warning and adopt the future behavior now.\n",
            "  \n",
            "/usr/local/lib/python3.6/dist-packages/ipykernel_launcher.py:6: FutureWarning: Treating datetime data as categorical rather than numeric in `.describe` is deprecated and will be removed in a future version of pandas. Specify `datetime_is_numeric=True` to silence this warning and adopt the future behavior now.\n",
            "  \n"
          ],
          "name": "stderr"
        }
      ]
    },
    {
      "cell_type": "code",
      "metadata": {
        "colab": {
          "base_uri": "https://localhost:8080/",
          "height": 80
        },
        "id": "-m2ZBpeLNz6S",
        "outputId": "094c8999-2786-452a-df64-29372031a1ce"
      },
      "source": [
        "display(orders[orders['buy_ts'] >= '2018-06-01'])\n",
        "\n",
        "# В выгрузку попала одна строчка с заказом в июне 2018 - исключим её из рассмотрения, чтобы не портить статистику по месяцам:\n",
        "orders = orders[orders['buy_ts'] < '2018-06-01']"
      ],
      "execution_count": 10,
      "outputs": [
        {
          "output_type": "display_data",
          "data": {
            "text/html": [
              "<div>\n",
              "<style scoped>\n",
              "    .dataframe tbody tr th:only-of-type {\n",
              "        vertical-align: middle;\n",
              "    }\n",
              "\n",
              "    .dataframe tbody tr th {\n",
              "        vertical-align: top;\n",
              "    }\n",
              "\n",
              "    .dataframe thead th {\n",
              "        text-align: right;\n",
              "    }\n",
              "</style>\n",
              "<table border=\"1\" class=\"dataframe\">\n",
              "  <thead>\n",
              "    <tr style=\"text-align: right;\">\n",
              "      <th></th>\n",
              "      <th>buy_ts</th>\n",
              "      <th>revenue</th>\n",
              "      <th>uid</th>\n",
              "    </tr>\n",
              "  </thead>\n",
              "  <tbody>\n",
              "    <tr>\n",
              "      <th>50414</th>\n",
              "      <td>2018-06-01 00:02:00</td>\n",
              "      <td>3.42</td>\n",
              "      <td>83872787173869366</td>\n",
              "    </tr>\n",
              "  </tbody>\n",
              "</table>\n",
              "</div>"
            ],
            "text/plain": [
              "                   buy_ts  revenue                uid\n",
              "50414 2018-06-01 00:02:00     3.42  83872787173869366"
            ]
          },
          "metadata": {
            "tags": []
          }
        }
      ]
    },
    {
      "cell_type": "code",
      "metadata": {
        "colab": {
          "base_uri": "https://localhost:8080/",
          "height": 527
        },
        "id": "Zk5aeDzHNz3Y",
        "outputId": "f1f1f3e7-736e-44bb-e7b3-d1d600dfa927"
      },
      "source": [
        "plt.ylim(0, 12)\n",
        "orders.boxplot(column='revenue', figsize=(10,5))\n",
        "plt.figure()\n",
        "plt.ylim(10, 12)\n",
        "orders.boxplot(column='revenue', figsize=(10,5))\n",
        "plt.show()"
      ],
      "execution_count": 11,
      "outputs": [
        {
          "output_type": "display_data",
          "data": {
            "image/png": "[encoded data removed]",
            "text/plain": [
              "<Figure size 432x288 with 1 Axes>"
            ]
          },
          "metadata": {
            "tags": [],
            "needs_background": "light"
          }
        },
        {
          "output_type": "display_data",
          "data": {
            "image/png": "[encoded data removed]",
            "text/plain": [
              "<Figure size 432x288 with 1 Axes>"
            ]
          },
          "metadata": {
            "tags": [],
            "needs_background": "light"
          }
        }
      ]
    },
    {
      "cell_type": "code",
      "metadata": {
        "colab": {
          "base_uri": "https://localhost:8080/"
        },
        "id": "3sDtvJIzNzz5",
        "outputId": "8c5b1392-3061-460f-8993-a0c574ce6307"
      },
      "source": [
        "print(len(orders[orders['revenue'] >= 10.4]))\n",
        "print('Доля выбросов:', round((len(orders[orders['revenue'] >= 10.4]) / len(orders) * 100)), '%')"
      ],
      "execution_count": 12,
      "outputs": [
        {
          "output_type": "stream",
          "text": [
            "3990\n",
            "Доля выбросов: 8 %\n"
          ],
          "name": "stdout"
        }
      ]
    },
    {
      "cell_type": "markdown",
      "metadata": {
        "id": "5-csvEQoWJG4"
      },
      "source": [
        "## **Предобработка данных. Выводы**\n",
        "* Исправили названия столбцов в visits и orders.\n",
        "* Заменили тип visits['start_ts'], visits['end_ts'], orders['buy_ts'] и costs8['dt'] на datetime\n",
        "* Исключили из рассмотрения заказ, оформленный в июне 2018\n",
        "* Выявили выбросы в таблице с заказами (8% от общего числа заказов). Граница находится на значении revenue > 10.5."
      ]
    },
    {
      "cell_type": "markdown",
      "metadata": {
        "id": "PlpsONhJWcbG"
      },
      "source": [
        "#3. Исследовательский анализ данных"
      ]
    },
    {
      "cell_type": "markdown",
      "metadata": {
        "id": "0cgsrH1qWx-g"
      },
      "source": [
        "\n",
        "## 3.1. Продукт"
      ]
    },
    {
      "cell_type": "code",
      "metadata": {
        "colab": {
          "base_uri": "https://localhost:8080/",
          "height": 345
        },
        "id": "uD5TIHUuNzxd",
        "outputId": "6d00e659-edf1-4b9f-e57d-ff156a83367b"
      },
      "source": [
        "# Добавим в таблицу visits необходимые для дальнейшего анализа поля:\n",
        "visits['day'] = visits['start_ts'].dt.day\n",
        "visits['week'] = visits['start_ts'].dt.week\n",
        "visits['month'] = visits['start_ts'].dt.month\n",
        "visits['year'] = visits['start_ts'].dt.year\n",
        "visits['date'] = visits['start_ts'].dt.date\n",
        "\n",
        "visits.sample(5)"
      ],
      "execution_count": 13,
      "outputs": [
        {
          "output_type": "stream",
          "text": [
            "/usr/local/lib/python3.6/dist-packages/ipykernel_launcher.py:3: FutureWarning: Series.dt.weekofyear and Series.dt.week have been deprecated.  Please use Series.dt.isocalendar().week instead.\n",
            "  This is separate from the ipykernel package so we can avoid doing imports until\n"
          ],
          "name": "stderr"
        },
        {
          "output_type": "execute_result",
          "data": {
            "text/html": [
              "<div>\n",
              "<style scoped>\n",
              "    .dataframe tbody tr th:only-of-type {\n",
              "        vertical-align: middle;\n",
              "    }\n",
              "\n",
              "    .dataframe tbody tr th {\n",
              "        vertical-align: top;\n",
              "    }\n",
              "\n",
              "    .dataframe thead th {\n",
              "        text-align: right;\n",
              "    }\n",
              "</style>\n",
              "<table border=\"1\" class=\"dataframe\">\n",
              "  <thead>\n",
              "    <tr style=\"text-align: right;\">\n",
              "      <th></th>\n",
              "      <th>device</th>\n",
              "      <th>end_ts</th>\n",
              "      <th>source_id</th>\n",
              "      <th>start_ts</th>\n",
              "      <th>uid</th>\n",
              "      <th>day</th>\n",
              "      <th>week</th>\n",
              "      <th>month</th>\n",
              "      <th>year</th>\n",
              "      <th>date</th>\n",
              "    </tr>\n",
              "  </thead>\n",
              "  <tbody>\n",
              "    <tr>\n",
              "      <th>185510</th>\n",
              "      <td>desktop</td>\n",
              "      <td>2017-09-03 11:06:00</td>\n",
              "      <td>4</td>\n",
              "      <td>2017-09-03 11:04:00</td>\n",
              "      <td>17774838909203791109</td>\n",
              "      <td>3</td>\n",
              "      <td>35</td>\n",
              "      <td>9</td>\n",
              "      <td>2017</td>\n",
              "      <td>2017-09-03</td>\n",
              "    </tr>\n",
              "    <tr>\n",
              "      <th>82199</th>\n",
              "      <td>desktop</td>\n",
              "      <td>2017-12-26 10:26:00</td>\n",
              "      <td>1</td>\n",
              "      <td>2017-12-26 10:04:00</td>\n",
              "      <td>17183733314410252706</td>\n",
              "      <td>26</td>\n",
              "      <td>52</td>\n",
              "      <td>12</td>\n",
              "      <td>2017</td>\n",
              "      <td>2017-12-26</td>\n",
              "    </tr>\n",
              "    <tr>\n",
              "      <th>256242</th>\n",
              "      <td>desktop</td>\n",
              "      <td>2018-03-23 11:18:00</td>\n",
              "      <td>1</td>\n",
              "      <td>2018-03-23 10:48:00</td>\n",
              "      <td>13515982084890140135</td>\n",
              "      <td>23</td>\n",
              "      <td>12</td>\n",
              "      <td>3</td>\n",
              "      <td>2018</td>\n",
              "      <td>2018-03-23</td>\n",
              "    </tr>\n",
              "    <tr>\n",
              "      <th>265636</th>\n",
              "      <td>touch</td>\n",
              "      <td>2017-12-26 20:15:00</td>\n",
              "      <td>4</td>\n",
              "      <td>2017-12-26 20:12:00</td>\n",
              "      <td>4129622944070504338</td>\n",
              "      <td>26</td>\n",
              "      <td>52</td>\n",
              "      <td>12</td>\n",
              "      <td>2017</td>\n",
              "      <td>2017-12-26</td>\n",
              "    </tr>\n",
              "    <tr>\n",
              "      <th>127730</th>\n",
              "      <td>desktop</td>\n",
              "      <td>2017-08-26 12:06:00</td>\n",
              "      <td>5</td>\n",
              "      <td>2017-08-26 11:24:00</td>\n",
              "      <td>18274511472274981003</td>\n",
              "      <td>26</td>\n",
              "      <td>34</td>\n",
              "      <td>8</td>\n",
              "      <td>2017</td>\n",
              "      <td>2017-08-26</td>\n",
              "    </tr>\n",
              "  </tbody>\n",
              "</table>\n",
              "</div>"
            ],
            "text/plain": [
              "         device              end_ts  source_id            start_ts  \\\n",
              "185510  desktop 2017-09-03 11:06:00          4 2017-09-03 11:04:00   \n",
              "82199   desktop 2017-12-26 10:26:00          1 2017-12-26 10:04:00   \n",
              "256242  desktop 2018-03-23 11:18:00          1 2018-03-23 10:48:00   \n",
              "265636    touch 2017-12-26 20:15:00          4 2017-12-26 20:12:00   \n",
              "127730  desktop 2017-08-26 12:06:00          5 2017-08-26 11:24:00   \n",
              "\n",
              "                         uid  day  week  month  year        date  \n",
              "185510  17774838909203791109    3    35      9  2017  2017-09-03  \n",
              "82199   17183733314410252706   26    52     12  2017  2017-12-26  \n",
              "256242  13515982084890140135   23    12      3  2018  2018-03-23  \n",
              "265636   4129622944070504338   26    52     12  2017  2017-12-26  \n",
              "127730  18274511472274981003   26    34      8  2017  2017-08-26  "
            ]
          },
          "metadata": {
            "tags": []
          },
          "execution_count": 13
        }
      ]
    },
    {
      "cell_type": "code",
      "metadata": {
        "id": "HGVZTeqzNztR"
      },
      "source": [
        "\"\"\"\n",
        "Функция подсчитывает количество уникальных пользователей и количество сессий за период, выводит графики;\n",
        "строит графики распределений, а также выводит описание .describe() группировки.\n",
        "Входные параметры:\n",
        "    `df` - датафрейм с информацией о посещениях сервиса\n",
        "    `period` - список полей для группировки по периоду\n",
        "    `period_name` - название периода в винительном падеже для заголовков.\n",
        "\"\"\"\n",
        "def nusers_period(df, period, period_name):\n",
        "  nusers = (df.groupby(period)\n",
        "              .agg(\n",
        "                  user_count = ('uid','nunique'),\n",
        "                  session_count = ('uid','count'))\n",
        "            )\n",
        "  nusers['session_period_user'] = nusers['session_count'] / nusers['user_count']\n",
        "  display(nusers.sample(5))\n",
        "  nusers.sort_values(by=period, inplace=True)\n",
        "  nusers[['user_count', 'session_count']].plot(figsize=(15,5), grid=True, style='o', title='Количество пользователей/сессий в '+ period_name)\n",
        "  plt.ylabel('количество пользователей/сессий')\n",
        "  plt.show()\n",
        "  \n",
        "  plt.figure(figsize=(10,5))\n",
        "  sns.distplot(nusers['user_count'], bins=20, label='пользователи')\n",
        "  sns.distplot(nusers['session_count'], bins=20, label='сессии')\n",
        "  plt.title('Распределение количества пользователей/сессий в ' + period_name)\n",
        "  plt.legend()\n",
        "  plt.show() \n",
        "    \n",
        "  display(nusers.describe())"
      ],
      "execution_count": 14,
      "outputs": []
    },
    {
      "cell_type": "code",
      "metadata": {
        "colab": {
          "base_uri": "https://localhost:8080/",
          "height": 1000
        },
        "id": "IvLSnEC-NzqM",
        "outputId": "45405666-2ae1-4cb3-c2c0-9c98a2147e67"
      },
      "source": [
        "# Посмотрим, сколько людей пользуются сервисом в день:\n",
        "nusers_period(visits, ['date'], 'день')"
      ],
      "execution_count": 15,
      "outputs": [
        {
          "output_type": "display_data",
          "data": {
            "text/html": [
              "<div>\n",
              "<style scoped>\n",
              "    .dataframe tbody tr th:only-of-type {\n",
              "        vertical-align: middle;\n",
              "    }\n",
              "\n",
              "    .dataframe tbody tr th {\n",
              "        vertical-align: top;\n",
              "    }\n",
              "\n",
              "    .dataframe thead th {\n",
              "        text-align: right;\n",
              "    }\n",
              "</style>\n",
              "<table border=\"1\" class=\"dataframe\">\n",
              "  <thead>\n",
              "    <tr style=\"text-align: right;\">\n",
              "      <th></th>\n",
              "      <th>user_count</th>\n",
              "      <th>session_count</th>\n",
              "      <th>session_period_user</th>\n",
              "    </tr>\n",
              "    <tr>\n",
              "      <th>date</th>\n",
              "      <th></th>\n",
              "      <th></th>\n",
              "      <th></th>\n",
              "    </tr>\n",
              "  </thead>\n",
              "  <tbody>\n",
              "    <tr>\n",
              "      <th>2018-03-17</th>\n",
              "      <td>797</td>\n",
              "      <td>856</td>\n",
              "      <td>1.074028</td>\n",
              "    </tr>\n",
              "    <tr>\n",
              "      <th>2018-04-04</th>\n",
              "      <td>938</td>\n",
              "      <td>1012</td>\n",
              "      <td>1.078891</td>\n",
              "    </tr>\n",
              "    <tr>\n",
              "      <th>2018-04-30</th>\n",
              "      <td>515</td>\n",
              "      <td>549</td>\n",
              "      <td>1.066019</td>\n",
              "    </tr>\n",
              "    <tr>\n",
              "      <th>2018-03-26</th>\n",
              "      <td>1609</td>\n",
              "      <td>1796</td>\n",
              "      <td>1.116221</td>\n",
              "    </tr>\n",
              "    <tr>\n",
              "      <th>2017-07-03</th>\n",
              "      <td>594</td>\n",
              "      <td>631</td>\n",
              "      <td>1.062290</td>\n",
              "    </tr>\n",
              "  </tbody>\n",
              "</table>\n",
              "</div>"
            ],
            "text/plain": [
              "            user_count  session_count  session_period_user\n",
              "date                                                      \n",
              "2018-03-17         797            856             1.074028\n",
              "2018-04-04         938           1012             1.078891\n",
              "2018-04-30         515            549             1.066019\n",
              "2018-03-26        1609           1796             1.116221\n",
              "2017-07-03         594            631             1.062290"
            ]
          },
          "metadata": {
            "tags": []
          }
        },
        {
          "output_type": "display_data",
          "data": {
            "image/png": "[encoded data removed]",
            "text/plain": [
              "<Figure size 1080x360 with 1 Axes>"
            ]
          },
          "metadata": {
            "tags": [],
            "needs_background": "light"
          }
        },
        {
          "output_type": "stream",
          "text": [
            "/usr/local/lib/python3.6/dist-packages/seaborn/distributions.py:2557: FutureWarning: `distplot` is a deprecated function and will be removed in a future version. Please adapt your code to use either `displot` (a figure-level function with similar flexibility) or `histplot` (an axes-level function for histograms).\n",
            "  warnings.warn(msg, FutureWarning)\n",
            "/usr/local/lib/python3.6/dist-packages/seaborn/distributions.py:2557: FutureWarning: `distplot` is a deprecated function and will be removed in a future version. Please adapt your code to use either `displot` (a figure-level function with similar flexibility) or `histplot` (an axes-level function for histograms).\n",
            "  warnings.warn(msg, FutureWarning)\n"
          ],
          "name": "stderr"
        },
        {
          "output_type": "display_data",
          "data": {
            "image/png": "[encoded data removed]",
            "text/plain": [
              "<Figure size 720x360 with 1 Axes>"
            ]
          },
          "metadata": {
            "tags": [],
            "needs_background": "light"
          }
        },
        {
          "output_type": "display_data",
          "data": {
            "text/html": [
              "<div>\n",
              "<style scoped>\n",
              "    .dataframe tbody tr th:only-of-type {\n",
              "        vertical-align: middle;\n",
              "    }\n",
              "\n",
              "    .dataframe tbody tr th {\n",
              "        vertical-align: top;\n",
              "    }\n",
              "\n",
              "    .dataframe thead th {\n",
              "        text-align: right;\n",
              "    }\n",
              "</style>\n",
              "<table border=\"1\" class=\"dataframe\">\n",
              "  <thead>\n",
              "    <tr style=\"text-align: right;\">\n",
              "      <th></th>\n",
              "      <th>user_count</th>\n",
              "      <th>session_count</th>\n",
              "      <th>session_period_user</th>\n",
              "    </tr>\n",
              "  </thead>\n",
              "  <tbody>\n",
              "    <tr>\n",
              "      <th>count</th>\n",
              "      <td>364.000000</td>\n",
              "      <td>364.000000</td>\n",
              "      <td>364.000000</td>\n",
              "    </tr>\n",
              "    <tr>\n",
              "      <th>mean</th>\n",
              "      <td>907.991758</td>\n",
              "      <td>987.362637</td>\n",
              "      <td>1.082170</td>\n",
              "    </tr>\n",
              "    <tr>\n",
              "      <th>std</th>\n",
              "      <td>370.513838</td>\n",
              "      <td>418.994796</td>\n",
              "      <td>0.020876</td>\n",
              "    </tr>\n",
              "    <tr>\n",
              "      <th>min</th>\n",
              "      <td>1.000000</td>\n",
              "      <td>1.000000</td>\n",
              "      <td>1.000000</td>\n",
              "    </tr>\n",
              "    <tr>\n",
              "      <th>25%</th>\n",
              "      <td>594.000000</td>\n",
              "      <td>635.500000</td>\n",
              "      <td>1.070321</td>\n",
              "    </tr>\n",
              "    <tr>\n",
              "      <th>50%</th>\n",
              "      <td>921.000000</td>\n",
              "      <td>1003.000000</td>\n",
              "      <td>1.082488</td>\n",
              "    </tr>\n",
              "    <tr>\n",
              "      <th>75%</th>\n",
              "      <td>1173.000000</td>\n",
              "      <td>1280.000000</td>\n",
              "      <td>1.093876</td>\n",
              "    </tr>\n",
              "    <tr>\n",
              "      <th>max</th>\n",
              "      <td>3319.000000</td>\n",
              "      <td>4042.000000</td>\n",
              "      <td>1.217837</td>\n",
              "    </tr>\n",
              "  </tbody>\n",
              "</table>\n",
              "</div>"
            ],
            "text/plain": [
              "        user_count  session_count  session_period_user\n",
              "count   364.000000     364.000000           364.000000\n",
              "mean    907.991758     987.362637             1.082170\n",
              "std     370.513838     418.994796             0.020876\n",
              "min       1.000000       1.000000             1.000000\n",
              "25%     594.000000     635.500000             1.070321\n",
              "50%     921.000000    1003.000000             1.082488\n",
              "75%    1173.000000    1280.000000             1.093876\n",
              "max    3319.000000    4042.000000             1.217837"
            ]
          },
          "metadata": {
            "tags": []
          }
        }
      ]
    },
    {
      "cell_type": "markdown",
      "metadata": {
        "id": "SqzHXyc_gLFn"
      },
      "source": [
        "* Рспределения количества пользователей и сессий в день стремятся к нормальному.\n",
        "* В среднем в день сервисом пользуются порядка 900 человек, сессий случается чуть больше - 990. Можно сказать, что человек пользуется сервисом не больше одного раза в день.\n",
        "* В конце декабря наблюдается всплеск - вероятно, пользователи интересовались новогодней афишей."
      ]
    },
    {
      "cell_type": "code",
      "metadata": {
        "colab": {
          "base_uri": "https://localhost:8080/",
          "height": 1000
        },
        "id": "gRco2YNbNzmY",
        "outputId": "9478de72-7486-44fc-b34a-c45b43ccca8c"
      },
      "source": [
        "# Посмотрим, сколько людей пользуются сервисом в неделю:\n",
        "nusers_period(visits, ['year', 'week'], 'неделю')"
      ],
      "execution_count": 16,
      "outputs": [
        {
          "output_type": "display_data",
          "data": {
            "text/html": [
              "<div>\n",
              "<style scoped>\n",
              "    .dataframe tbody tr th:only-of-type {\n",
              "        vertical-align: middle;\n",
              "    }\n",
              "\n",
              "    .dataframe tbody tr th {\n",
              "        vertical-align: top;\n",
              "    }\n",
              "\n",
              "    .dataframe thead th {\n",
              "        text-align: right;\n",
              "    }\n",
              "</style>\n",
              "<table border=\"1\" class=\"dataframe\">\n",
              "  <thead>\n",
              "    <tr style=\"text-align: right;\">\n",
              "      <th></th>\n",
              "      <th></th>\n",
              "      <th>user_count</th>\n",
              "      <th>session_count</th>\n",
              "      <th>session_period_user</th>\n",
              "    </tr>\n",
              "    <tr>\n",
              "      <th>year</th>\n",
              "      <th>week</th>\n",
              "      <th></th>\n",
              "      <th></th>\n",
              "      <th></th>\n",
              "    </tr>\n",
              "  </thead>\n",
              "  <tbody>\n",
              "    <tr>\n",
              "      <th rowspan=\"3\" valign=\"top\">2017</th>\n",
              "      <th>33</th>\n",
              "      <td>2746</td>\n",
              "      <td>3128</td>\n",
              "      <td>1.139111</td>\n",
              "    </tr>\n",
              "    <tr>\n",
              "      <th>40</th>\n",
              "      <td>7612</td>\n",
              "      <td>8878</td>\n",
              "      <td>1.166316</td>\n",
              "    </tr>\n",
              "    <tr>\n",
              "      <th>51</th>\n",
              "      <td>7172</td>\n",
              "      <td>8500</td>\n",
              "      <td>1.185165</td>\n",
              "    </tr>\n",
              "    <tr>\n",
              "      <th>2018</th>\n",
              "      <th>14</th>\n",
              "      <td>5383</td>\n",
              "      <td>6242</td>\n",
              "      <td>1.159576</td>\n",
              "    </tr>\n",
              "    <tr>\n",
              "      <th>2017</th>\n",
              "      <th>41</th>\n",
              "      <td>7074</td>\n",
              "      <td>8317</td>\n",
              "      <td>1.175714</td>\n",
              "    </tr>\n",
              "  </tbody>\n",
              "</table>\n",
              "</div>"
            ],
            "text/plain": [
              "           user_count  session_count  session_period_user\n",
              "year week                                                \n",
              "2017 33          2746           3128             1.139111\n",
              "     40          7612           8878             1.166316\n",
              "     51          7172           8500             1.185165\n",
              "2018 14          5383           6242             1.159576\n",
              "2017 41          7074           8317             1.175714"
            ]
          },
          "metadata": {
            "tags": []
          }
        },
        {
          "output_type": "display_data",
          "data": {
            "image/png": "[encoded data removed]",
            "text/plain": [
              "<Figure size 1080x360 with 1 Axes>"
            ]
          },
          "metadata": {
            "tags": [],
            "needs_background": "light"
          }
        },
        {
          "output_type": "stream",
          "text": [
            "/usr/local/lib/python3.6/dist-packages/seaborn/distributions.py:2557: FutureWarning: `distplot` is a deprecated function and will be removed in a future version. Please adapt your code to use either `displot` (a figure-level function with similar flexibility) or `histplot` (an axes-level function for histograms).\n",
            "  warnings.warn(msg, FutureWarning)\n",
            "/usr/local/lib/python3.6/dist-packages/seaborn/distributions.py:2557: FutureWarning: `distplot` is a deprecated function and will be removed in a future version. Please adapt your code to use either `displot` (a figure-level function with similar flexibility) or `histplot` (an axes-level function for histograms).\n",
            "  warnings.warn(msg, FutureWarning)\n"
          ],
          "name": "stderr"
        },
        {
          "output_type": "display_data",
          "data": {
            "image/png": "[encoded data removed]",
            "text/plain": [
              "<Figure size 720x360 with 1 Axes>"
            ]
          },
          "metadata": {
            "tags": [],
            "needs_background": "light"
          }
        },
        {
          "output_type": "display_data",
          "data": {
            "text/html": [
              "<div>\n",
              "<style scoped>\n",
              "    .dataframe tbody tr th:only-of-type {\n",
              "        vertical-align: middle;\n",
              "    }\n",
              "\n",
              "    .dataframe tbody tr th {\n",
              "        vertical-align: top;\n",
              "    }\n",
              "\n",
              "    .dataframe thead th {\n",
              "        text-align: right;\n",
              "    }\n",
              "</style>\n",
              "<table border=\"1\" class=\"dataframe\">\n",
              "  <thead>\n",
              "    <tr style=\"text-align: right;\">\n",
              "      <th></th>\n",
              "      <th>user_count</th>\n",
              "      <th>session_count</th>\n",
              "      <th>session_period_user</th>\n",
              "    </tr>\n",
              "  </thead>\n",
              "  <tbody>\n",
              "    <tr>\n",
              "      <th>count</th>\n",
              "      <td>53.000000</td>\n",
              "      <td>53.000000</td>\n",
              "      <td>53.000000</td>\n",
              "    </tr>\n",
              "    <tr>\n",
              "      <th>mean</th>\n",
              "      <td>5716.245283</td>\n",
              "      <td>6781.132075</td>\n",
              "      <td>1.179025</td>\n",
              "    </tr>\n",
              "    <tr>\n",
              "      <th>std</th>\n",
              "      <td>2049.898027</td>\n",
              "      <td>2549.571427</td>\n",
              "      <td>0.029427</td>\n",
              "    </tr>\n",
              "    <tr>\n",
              "      <th>min</th>\n",
              "      <td>2021.000000</td>\n",
              "      <td>2309.000000</td>\n",
              "      <td>1.137248</td>\n",
              "    </tr>\n",
              "    <tr>\n",
              "      <th>25%</th>\n",
              "      <td>4128.000000</td>\n",
              "      <td>4803.000000</td>\n",
              "      <td>1.159576</td>\n",
              "    </tr>\n",
              "    <tr>\n",
              "      <th>50%</th>\n",
              "      <td>5740.000000</td>\n",
              "      <td>6768.000000</td>\n",
              "      <td>1.175714</td>\n",
              "    </tr>\n",
              "    <tr>\n",
              "      <th>75%</th>\n",
              "      <td>7401.000000</td>\n",
              "      <td>8712.000000</td>\n",
              "      <td>1.190836</td>\n",
              "    </tr>\n",
              "    <tr>\n",
              "      <th>max</th>\n",
              "      <td>10586.000000</td>\n",
              "      <td>13572.000000</td>\n",
              "      <td>1.282071</td>\n",
              "    </tr>\n",
              "  </tbody>\n",
              "</table>\n",
              "</div>"
            ],
            "text/plain": [
              "         user_count  session_count  session_period_user\n",
              "count     53.000000      53.000000            53.000000\n",
              "mean    5716.245283    6781.132075             1.179025\n",
              "std     2049.898027    2549.571427             0.029427\n",
              "min     2021.000000    2309.000000             1.137248\n",
              "25%     4128.000000    4803.000000             1.159576\n",
              "50%     5740.000000    6768.000000             1.175714\n",
              "75%     7401.000000    8712.000000             1.190836\n",
              "max    10586.000000   13572.000000             1.282071"
            ]
          },
          "metadata": {
            "tags": []
          }
        }
      ]
    },
    {
      "cell_type": "markdown",
      "metadata": {
        "id": "I5-zu8CBhQEY"
      },
      "source": [
        "* Тенденции в целом сохраняются: среднее количество сессий на пользователя - 1.17, т.е., за редким исключением, человек заходит на сервис не чаще одного раза в неделю.\n",
        "* Среднее количество пользователей в неделю - 5715, среднее количество сессий - 6780"
      ]
    },
    {
      "cell_type": "code",
      "metadata": {
        "colab": {
          "base_uri": "https://localhost:8080/",
          "height": 1000
        },
        "id": "qjdfDirHNzjT",
        "outputId": "9fa4236b-c965-4945-85e7-96f17cc97c65"
      },
      "source": [
        "# Посмотрим, сколько людей пользуются сервисом в месяц:\n",
        "nusers_period(visits, ['year', 'month'], 'месяц')"
      ],
      "execution_count": 17,
      "outputs": [
        {
          "output_type": "display_data",
          "data": {
            "text/html": [
              "<div>\n",
              "<style scoped>\n",
              "    .dataframe tbody tr th:only-of-type {\n",
              "        vertical-align: middle;\n",
              "    }\n",
              "\n",
              "    .dataframe tbody tr th {\n",
              "        vertical-align: top;\n",
              "    }\n",
              "\n",
              "    .dataframe thead th {\n",
              "        text-align: right;\n",
              "    }\n",
              "</style>\n",
              "<table border=\"1\" class=\"dataframe\">\n",
              "  <thead>\n",
              "    <tr style=\"text-align: right;\">\n",
              "      <th></th>\n",
              "      <th></th>\n",
              "      <th>user_count</th>\n",
              "      <th>session_count</th>\n",
              "      <th>session_period_user</th>\n",
              "    </tr>\n",
              "    <tr>\n",
              "      <th>year</th>\n",
              "      <th>month</th>\n",
              "      <th></th>\n",
              "      <th></th>\n",
              "      <th></th>\n",
              "    </tr>\n",
              "  </thead>\n",
              "  <tbody>\n",
              "    <tr>\n",
              "      <th>2018</th>\n",
              "      <th>5</th>\n",
              "      <td>20701</td>\n",
              "      <td>26635</td>\n",
              "      <td>1.286653</td>\n",
              "    </tr>\n",
              "    <tr>\n",
              "      <th>2017</th>\n",
              "      <th>7</th>\n",
              "      <td>14183</td>\n",
              "      <td>17828</td>\n",
              "      <td>1.256998</td>\n",
              "    </tr>\n",
              "    <tr>\n",
              "      <th>2018</th>\n",
              "      <th>3</th>\n",
              "      <td>27473</td>\n",
              "      <td>35679</td>\n",
              "      <td>1.298693</td>\n",
              "    </tr>\n",
              "    <tr>\n",
              "      <th rowspan=\"2\" valign=\"top\">2017</th>\n",
              "      <th>6</th>\n",
              "      <td>13259</td>\n",
              "      <td>16505</td>\n",
              "      <td>1.244815</td>\n",
              "    </tr>\n",
              "    <tr>\n",
              "      <th>10</th>\n",
              "      <td>29692</td>\n",
              "      <td>37903</td>\n",
              "      <td>1.276539</td>\n",
              "    </tr>\n",
              "  </tbody>\n",
              "</table>\n",
              "</div>"
            ],
            "text/plain": [
              "            user_count  session_count  session_period_user\n",
              "year month                                                \n",
              "2018 5           20701          26635             1.286653\n",
              "2017 7           14183          17828             1.256998\n",
              "2018 3           27473          35679             1.298693\n",
              "2017 6           13259          16505             1.244815\n",
              "     10          29692          37903             1.276539"
            ]
          },
          "metadata": {
            "tags": []
          }
        },
        {
          "output_type": "display_data",
          "data": {
            "image/png": "[encoded data removed]",
            "text/plain": [
              "<Figure size 1080x360 with 1 Axes>"
            ]
          },
          "metadata": {
            "tags": [],
            "needs_background": "light"
          }
        },
        {
          "output_type": "stream",
          "text": [
            "/usr/local/lib/python3.6/dist-packages/seaborn/distributions.py:2557: FutureWarning: `distplot` is a deprecated function and will be removed in a future version. Please adapt your code to use either `displot` (a figure-level function with similar flexibility) or `histplot` (an axes-level function for histograms).\n",
            "  warnings.warn(msg, FutureWarning)\n",
            "/usr/local/lib/python3.6/dist-packages/seaborn/distributions.py:2557: FutureWarning: `distplot` is a deprecated function and will be removed in a future version. Please adapt your code to use either `displot` (a figure-level function with similar flexibility) or `histplot` (an axes-level function for histograms).\n",
            "  warnings.warn(msg, FutureWarning)\n"
          ],
          "name": "stderr"
        },
        {
          "output_type": "display_data",
          "data": {
            "image/png": "[encoded data removed]",
            "text/plain": [
              "<Figure size 720x360 with 1 Axes>"
            ]
          },
          "metadata": {
            "tags": [],
            "needs_background": "light"
          }
        },
        {
          "output_type": "display_data",
          "data": {
            "text/html": [
              "<div>\n",
              "<style scoped>\n",
              "    .dataframe tbody tr th:only-of-type {\n",
              "        vertical-align: middle;\n",
              "    }\n",
              "\n",
              "    .dataframe tbody tr th {\n",
              "        vertical-align: top;\n",
              "    }\n",
              "\n",
              "    .dataframe thead th {\n",
              "        text-align: right;\n",
              "    }\n",
              "</style>\n",
              "<table border=\"1\" class=\"dataframe\">\n",
              "  <thead>\n",
              "    <tr style=\"text-align: right;\">\n",
              "      <th></th>\n",
              "      <th>user_count</th>\n",
              "      <th>session_count</th>\n",
              "      <th>session_period_user</th>\n",
              "    </tr>\n",
              "  </thead>\n",
              "  <tbody>\n",
              "    <tr>\n",
              "      <th>count</th>\n",
              "      <td>12.000000</td>\n",
              "      <td>12.000000</td>\n",
              "      <td>12.000000</td>\n",
              "    </tr>\n",
              "    <tr>\n",
              "      <th>mean</th>\n",
              "      <td>23228.416667</td>\n",
              "      <td>29950.000000</td>\n",
              "      <td>1.280889</td>\n",
              "    </tr>\n",
              "    <tr>\n",
              "      <th>std</th>\n",
              "      <td>7546.380462</td>\n",
              "      <td>10307.835846</td>\n",
              "      <td>0.032217</td>\n",
              "    </tr>\n",
              "    <tr>\n",
              "      <th>min</th>\n",
              "      <td>11631.000000</td>\n",
              "      <td>14355.000000</td>\n",
              "      <td>1.234202</td>\n",
              "    </tr>\n",
              "    <tr>\n",
              "      <th>25%</th>\n",
              "      <td>17777.000000</td>\n",
              "      <td>22387.250000</td>\n",
              "      <td>1.259190</td>\n",
              "    </tr>\n",
              "    <tr>\n",
              "      <th>50%</th>\n",
              "      <td>24240.500000</td>\n",
              "      <td>31157.000000</td>\n",
              "      <td>1.281448</td>\n",
              "    </tr>\n",
              "    <tr>\n",
              "      <th>75%</th>\n",
              "      <td>28984.750000</td>\n",
              "      <td>37362.250000</td>\n",
              "      <td>1.294672</td>\n",
              "    </tr>\n",
              "    <tr>\n",
              "      <th>max</th>\n",
              "      <td>32797.000000</td>\n",
              "      <td>43969.000000</td>\n",
              "      <td>1.340641</td>\n",
              "    </tr>\n",
              "  </tbody>\n",
              "</table>\n",
              "</div>"
            ],
            "text/plain": [
              "         user_count  session_count  session_period_user\n",
              "count     12.000000      12.000000            12.000000\n",
              "mean   23228.416667   29950.000000             1.280889\n",
              "std     7546.380462   10307.835846             0.032217\n",
              "min    11631.000000   14355.000000             1.234202\n",
              "25%    17777.000000   22387.250000             1.259190\n",
              "50%    24240.500000   31157.000000             1.281448\n",
              "75%    28984.750000   37362.250000             1.294672\n",
              "max    32797.000000   43969.000000             1.340641"
            ]
          },
          "metadata": {
            "tags": []
          }
        }
      ]
    },
    {
      "cell_type": "markdown",
      "metadata": {
        "id": "Pu11PFLmhw1N"
      },
      "source": [
        "* Картина та же: среднее количество сессий на пользователя - 1.28 в месяц, т.е. из четырёх человек только один пользуется сервисом два раза в месяц, остальные - единожды.\n",
        "* Среднее количество пользователей в месяц - 23230, количество сессий - 29959."
      ]
    },
    {
      "cell_type": "markdown",
      "metadata": {
        "id": "olgu9VPWh9rI"
      },
      "source": [
        "**Средняя продолжительность сессии**"
      ]
    },
    {
      "cell_type": "code",
      "metadata": {
        "colab": {
          "base_uri": "https://localhost:8080/",
          "height": 573
        },
        "id": "maG6AHBVNzfk",
        "outputId": "56002c89-55f6-4590-9a21-1889416f4394"
      },
      "source": [
        "# Рассчитаем среднюю продолжительность сессии (ASL - average session length):\n",
        "visits['session_duration_sec'] = (visits['end_ts'] - visits['start_ts']).dt.seconds\n",
        "\n",
        "print(visits['session_duration_sec'].describe())\n",
        "\n",
        "# Посмотрим на распределение продолжительности сессии:\n",
        "plt.figure(figsize=(10,5))\n",
        "sns.distplot(visits['session_duration_sec'], bins=50)\n",
        "plt.title('Распределение продолжительности сессии')\n",
        "plt.show()"
      ],
      "execution_count": 18,
      "outputs": [
        {
          "output_type": "stream",
          "text": [
            "count    359400.000000\n",
            "mean        643.506489\n",
            "std        1016.334786\n",
            "min           0.000000\n",
            "25%         120.000000\n",
            "50%         300.000000\n",
            "75%         840.000000\n",
            "max       84480.000000\n",
            "Name: session_duration_sec, dtype: float64\n"
          ],
          "name": "stdout"
        },
        {
          "output_type": "stream",
          "text": [
            "/usr/local/lib/python3.6/dist-packages/seaborn/distributions.py:2557: FutureWarning: `distplot` is a deprecated function and will be removed in a future version. Please adapt your code to use either `displot` (a figure-level function with similar flexibility) or `histplot` (an axes-level function for histograms).\n",
            "  warnings.warn(msg, FutureWarning)\n"
          ],
          "name": "stderr"
        },
        {
          "output_type": "display_data",
          "data": {
            "image/png": "[encoded data removed]",
            "text/plain": [
              "<Figure size 720x360 with 1 Axes>"
            ]
          },
          "metadata": {
            "tags": [],
            "needs_background": "light"
          }
        }
      ]
    },
    {
      "cell_type": "markdown",
      "metadata": {
        "id": "MOzbiTAQjS33"
      },
      "source": [
        "Распределение далеко от нормального, поэтому для определения средней продолжительности сессии найдём моду - значение в выборке, которое встречается чаще всего:"
      ]
    },
    {
      "cell_type": "code",
      "metadata": {
        "colab": {
          "base_uri": "https://localhost:8080/"
        },
        "id": "BRZf_L7ANzct",
        "outputId": "3d3ef997-6a29-4800-8180-8b30235925de"
      },
      "source": [
        "print('Средняя продолжительность сессии:', visits['session_duration_sec'].mode()[0], 'секунд')"
      ],
      "execution_count": 19,
      "outputs": [
        {
          "output_type": "stream",
          "text": [
            "Средняя продолжительность сессии: 60 секунд\n"
          ],
          "name": "stdout"
        }
      ]
    },
    {
      "cell_type": "code",
      "metadata": {
        "colab": {
          "base_uri": "https://localhost:8080/"
        },
        "id": "HXlzpndLNzZG",
        "outputId": "7b303b6a-f1c3-4f51-f71b-cc1a200334bc"
      },
      "source": [
        "# Посмотрим есть ли связь с платформой пользователя:\n",
        "\n",
        "print('touch - мода:',visits[visits['device']=='touch']['session_duration_sec'].mode()[0])\n",
        "print('desktop - мода:',visits[visits['device']=='desktop']['session_duration_sec'].mode()[0])\n",
        "print('touch - медиана:',visits[visits['device']=='touch']['session_duration_sec'].median())\n",
        "print('desktop - медиана:',visits[visits['device']=='desktop']['session_duration_sec'].median())"
      ],
      "execution_count": 20,
      "outputs": [
        {
          "output_type": "stream",
          "text": [
            "touch - мода: 60\n",
            "desktop - мода: 60\n",
            "touch - медиана: 180.0\n",
            "desktop - медиана: 360.0\n"
          ],
          "name": "stdout"
        }
      ]
    },
    {
      "cell_type": "markdown",
      "metadata": {
        "id": "WBgrlTd-jtKV"
      },
      "source": [
        "* Если смотреть на моду, то разницы нет - чаще всего сессия пользователя длится 60 секунд вне зависимости от платформы.\n",
        "* Медиана демонстрирует существенную разницу - если уж сессия получилась \"нестандартная\", на компьютере она в среднем длится дольше."
      ]
    },
    {
      "cell_type": "markdown",
      "metadata": {
        "id": "gw7Gas2fkCTj"
      },
      "source": [
        "**Частота возвращений пользователя (sticky factor)**"
      ]
    },
    {
      "cell_type": "code",
      "metadata": {
        "colab": {
          "base_uri": "https://localhost:8080/"
        },
        "id": "XCZtqrpkNzVd",
        "outputId": "c6659fe4-1970-4ed8-d2e2-538d763cb2cc"
      },
      "source": [
        "# Рассчитаем среднюю частоту возвращения пользователей (sticky factor):\n",
        "\n",
        "mau_total = visits.groupby(['year', 'month']).agg({'uid': 'nunique'}).mean()\n",
        "dau_total = visits.groupby('date').agg({'uid': 'nunique'}).mean()\n",
        "wau_total = visits.groupby(['year', 'week']).agg({'uid': 'nunique'}).mean()\n",
        "\n",
        "sticky_wau = dau_total / wau_total\n",
        "sticky_mau = dau_total / mau_total\n",
        "\n",
        "print('DAU/WAU (week sticky factor): {:.2%}'.format(sticky_wau[0]))\n",
        "print('DAU/MAU (month sticky factor): {:.2%}'.format(sticky_mau[0]))"
      ],
      "execution_count": 21,
      "outputs": [
        {
          "output_type": "stream",
          "text": [
            "DAU/WAU (week sticky factor): 15.88%\n",
            "DAU/MAU (month sticky factor): 3.91%\n"
          ],
          "name": "stdout"
        }
      ]
    },
    {
      "cell_type": "markdown",
      "metadata": {
        "id": "3TvJB91WmIbf"
      },
      "source": [
        "Sticky factor - или вероятность того, что новый привлеченный пользователь будет часто появляться - довольно мала. С другой стороны, для афиши данная метрика не слишком применима - ведь нам не так важно, чтобы пользователь постоянно заходил на сервис, важнее - чтобы он в принципе не пропадал."
      ]
    },
    {
      "cell_type": "markdown",
      "metadata": {
        "id": "6vjZ3JybmVXd"
      },
      "source": [
        "**Коэффициент удержания пользователей (Retention Rate)**"
      ]
    },
    {
      "cell_type": "code",
      "metadata": {
        "colab": {
          "base_uri": "https://localhost:8080/",
          "height": 394
        },
        "id": "sq2Po602NzSk",
        "outputId": "6bac9ddf-53c1-4cc4-b5e0-4c9a4c608457"
      },
      "source": [
        "# Добавим в таблицу с сессиями информацию о первом визите пользователя:\n",
        "first_visit_date = visits.groupby(['uid'])['date'].min()\n",
        "first_visit_date.name = 'first_visit_date'\n",
        "user_visits = visits.join(first_visit_date, on='uid')\n",
        "display(user_visits.sample(5))"
      ],
      "execution_count": 22,
      "outputs": [
        {
          "output_type": "display_data",
          "data": {
            "text/html": [
              "<div>\n",
              "<style scoped>\n",
              "    .dataframe tbody tr th:only-of-type {\n",
              "        vertical-align: middle;\n",
              "    }\n",
              "\n",
              "    .dataframe tbody tr th {\n",
              "        vertical-align: top;\n",
              "    }\n",
              "\n",
              "    .dataframe thead th {\n",
              "        text-align: right;\n",
              "    }\n",
              "</style>\n",
              "<table border=\"1\" class=\"dataframe\">\n",
              "  <thead>\n",
              "    <tr style=\"text-align: right;\">\n",
              "      <th></th>\n",
              "      <th>device</th>\n",
              "      <th>end_ts</th>\n",
              "      <th>source_id</th>\n",
              "      <th>start_ts</th>\n",
              "      <th>uid</th>\n",
              "      <th>day</th>\n",
              "      <th>week</th>\n",
              "      <th>month</th>\n",
              "      <th>year</th>\n",
              "      <th>date</th>\n",
              "      <th>session_duration_sec</th>\n",
              "      <th>first_visit_date</th>\n",
              "    </tr>\n",
              "  </thead>\n",
              "  <tbody>\n",
              "    <tr>\n",
              "      <th>95833</th>\n",
              "      <td>desktop</td>\n",
              "      <td>2018-02-02 12:19:00</td>\n",
              "      <td>4</td>\n",
              "      <td>2018-02-02 12:14:00</td>\n",
              "      <td>2040685669130870025</td>\n",
              "      <td>2</td>\n",
              "      <td>5</td>\n",
              "      <td>2</td>\n",
              "      <td>2018</td>\n",
              "      <td>2018-02-02</td>\n",
              "      <td>300</td>\n",
              "      <td>2018-02-02</td>\n",
              "    </tr>\n",
              "    <tr>\n",
              "      <th>127913</th>\n",
              "      <td>desktop</td>\n",
              "      <td>2018-01-21 20:19:00</td>\n",
              "      <td>5</td>\n",
              "      <td>2018-01-21 20:01:00</td>\n",
              "      <td>5795138731563615054</td>\n",
              "      <td>21</td>\n",
              "      <td>3</td>\n",
              "      <td>1</td>\n",
              "      <td>2018</td>\n",
              "      <td>2018-01-21</td>\n",
              "      <td>1080</td>\n",
              "      <td>2018-01-21</td>\n",
              "    </tr>\n",
              "    <tr>\n",
              "      <th>40884</th>\n",
              "      <td>desktop</td>\n",
              "      <td>2018-03-27 12:10:00</td>\n",
              "      <td>2</td>\n",
              "      <td>2018-03-27 12:06:00</td>\n",
              "      <td>10104280770376667373</td>\n",
              "      <td>27</td>\n",
              "      <td>13</td>\n",
              "      <td>3</td>\n",
              "      <td>2018</td>\n",
              "      <td>2018-03-27</td>\n",
              "      <td>240</td>\n",
              "      <td>2017-10-06</td>\n",
              "    </tr>\n",
              "    <tr>\n",
              "      <th>353615</th>\n",
              "      <td>desktop</td>\n",
              "      <td>2018-03-28 22:06:00</td>\n",
              "      <td>5</td>\n",
              "      <td>2018-03-28 21:45:00</td>\n",
              "      <td>10713360578531047799</td>\n",
              "      <td>28</td>\n",
              "      <td>13</td>\n",
              "      <td>3</td>\n",
              "      <td>2018</td>\n",
              "      <td>2018-03-28</td>\n",
              "      <td>1260</td>\n",
              "      <td>2018-03-28</td>\n",
              "    </tr>\n",
              "    <tr>\n",
              "      <th>160333</th>\n",
              "      <td>desktop</td>\n",
              "      <td>2018-05-30 11:11:00</td>\n",
              "      <td>4</td>\n",
              "      <td>2018-05-30 10:44:00</td>\n",
              "      <td>13629619404237435805</td>\n",
              "      <td>30</td>\n",
              "      <td>22</td>\n",
              "      <td>5</td>\n",
              "      <td>2018</td>\n",
              "      <td>2018-05-30</td>\n",
              "      <td>1620</td>\n",
              "      <td>2018-05-30</td>\n",
              "    </tr>\n",
              "  </tbody>\n",
              "</table>\n",
              "</div>"
            ],
            "text/plain": [
              "         device              end_ts  source_id            start_ts  \\\n",
              "95833   desktop 2018-02-02 12:19:00          4 2018-02-02 12:14:00   \n",
              "127913  desktop 2018-01-21 20:19:00          5 2018-01-21 20:01:00   \n",
              "40884   desktop 2018-03-27 12:10:00          2 2018-03-27 12:06:00   \n",
              "353615  desktop 2018-03-28 22:06:00          5 2018-03-28 21:45:00   \n",
              "160333  desktop 2018-05-30 11:11:00          4 2018-05-30 10:44:00   \n",
              "\n",
              "                         uid  day  week  month  year        date  \\\n",
              "95833    2040685669130870025    2     5      2  2018  2018-02-02   \n",
              "127913   5795138731563615054   21     3      1  2018  2018-01-21   \n",
              "40884   10104280770376667373   27    13      3  2018  2018-03-27   \n",
              "353615  10713360578531047799   28    13      3  2018  2018-03-28   \n",
              "160333  13629619404237435805   30    22      5  2018  2018-05-30   \n",
              "\n",
              "        session_duration_sec first_visit_date  \n",
              "95833                    300       2018-02-02  \n",
              "127913                  1080       2018-01-21  \n",
              "40884                    240       2017-10-06  \n",
              "353615                  1260       2018-03-28  \n",
              "160333                  1620       2018-05-30  "
            ]
          },
          "metadata": {
            "tags": []
          }
        }
      ]
    },
    {
      "cell_type": "code",
      "metadata": {
        "colab": {
          "base_uri": "https://localhost:8080/",
          "height": 394
        },
        "id": "XzMD7KGwiBec",
        "outputId": "91bc5e86-64d6-4acf-fd39-31c135722349"
      },
      "source": [
        "# Добавим в таблицу с сессиями информацию о первом визите пользователя:\n",
        "first_visit_date = visits.groupby(['uid'])['date'].min()\n",
        "first_visit_date.name = 'first_visit_date'\n",
        "user_visits = visits.join(first_visit_date, on='uid')\n",
        "display(user_visits.sample(5))"
      ],
      "execution_count": 23,
      "outputs": [
        {
          "output_type": "display_data",
          "data": {
            "text/html": [
              "<div>\n",
              "<style scoped>\n",
              "    .dataframe tbody tr th:only-of-type {\n",
              "        vertical-align: middle;\n",
              "    }\n",
              "\n",
              "    .dataframe tbody tr th {\n",
              "        vertical-align: top;\n",
              "    }\n",
              "\n",
              "    .dataframe thead th {\n",
              "        text-align: right;\n",
              "    }\n",
              "</style>\n",
              "<table border=\"1\" class=\"dataframe\">\n",
              "  <thead>\n",
              "    <tr style=\"text-align: right;\">\n",
              "      <th></th>\n",
              "      <th>device</th>\n",
              "      <th>end_ts</th>\n",
              "      <th>source_id</th>\n",
              "      <th>start_ts</th>\n",
              "      <th>uid</th>\n",
              "      <th>day</th>\n",
              "      <th>week</th>\n",
              "      <th>month</th>\n",
              "      <th>year</th>\n",
              "      <th>date</th>\n",
              "      <th>session_duration_sec</th>\n",
              "      <th>first_visit_date</th>\n",
              "    </tr>\n",
              "  </thead>\n",
              "  <tbody>\n",
              "    <tr>\n",
              "      <th>355214</th>\n",
              "      <td>desktop</td>\n",
              "      <td>2018-01-18 12:47:00</td>\n",
              "      <td>4</td>\n",
              "      <td>2018-01-18 12:39:00</td>\n",
              "      <td>4046003164538777565</td>\n",
              "      <td>18</td>\n",
              "      <td>3</td>\n",
              "      <td>1</td>\n",
              "      <td>2018</td>\n",
              "      <td>2018-01-18</td>\n",
              "      <td>480</td>\n",
              "      <td>2018-01-18</td>\n",
              "    </tr>\n",
              "    <tr>\n",
              "      <th>341788</th>\n",
              "      <td>desktop</td>\n",
              "      <td>2018-05-19 01:40:00</td>\n",
              "      <td>3</td>\n",
              "      <td>2018-05-19 01:37:00</td>\n",
              "      <td>9868766402483936378</td>\n",
              "      <td>19</td>\n",
              "      <td>20</td>\n",
              "      <td>5</td>\n",
              "      <td>2018</td>\n",
              "      <td>2018-05-19</td>\n",
              "      <td>180</td>\n",
              "      <td>2017-10-29</td>\n",
              "    </tr>\n",
              "    <tr>\n",
              "      <th>135716</th>\n",
              "      <td>desktop</td>\n",
              "      <td>2017-08-06 23:10:00</td>\n",
              "      <td>3</td>\n",
              "      <td>2017-08-06 23:06:00</td>\n",
              "      <td>11957922278786937965</td>\n",
              "      <td>6</td>\n",
              "      <td>31</td>\n",
              "      <td>8</td>\n",
              "      <td>2017</td>\n",
              "      <td>2017-08-06</td>\n",
              "      <td>240</td>\n",
              "      <td>2017-06-20</td>\n",
              "    </tr>\n",
              "    <tr>\n",
              "      <th>10023</th>\n",
              "      <td>touch</td>\n",
              "      <td>2017-11-24 20:37:00</td>\n",
              "      <td>4</td>\n",
              "      <td>2017-11-24 20:37:00</td>\n",
              "      <td>3800873599307433255</td>\n",
              "      <td>24</td>\n",
              "      <td>47</td>\n",
              "      <td>11</td>\n",
              "      <td>2017</td>\n",
              "      <td>2017-11-24</td>\n",
              "      <td>0</td>\n",
              "      <td>2017-11-24</td>\n",
              "    </tr>\n",
              "    <tr>\n",
              "      <th>192788</th>\n",
              "      <td>desktop</td>\n",
              "      <td>2017-11-08 18:08:00</td>\n",
              "      <td>3</td>\n",
              "      <td>2017-11-08 18:06:00</td>\n",
              "      <td>15595658221481213518</td>\n",
              "      <td>8</td>\n",
              "      <td>45</td>\n",
              "      <td>11</td>\n",
              "      <td>2017</td>\n",
              "      <td>2017-11-08</td>\n",
              "      <td>120</td>\n",
              "      <td>2017-11-08</td>\n",
              "    </tr>\n",
              "  </tbody>\n",
              "</table>\n",
              "</div>"
            ],
            "text/plain": [
              "         device              end_ts  source_id            start_ts  \\\n",
              "355214  desktop 2018-01-18 12:47:00          4 2018-01-18 12:39:00   \n",
              "341788  desktop 2018-05-19 01:40:00          3 2018-05-19 01:37:00   \n",
              "135716  desktop 2017-08-06 23:10:00          3 2017-08-06 23:06:00   \n",
              "10023     touch 2017-11-24 20:37:00          4 2017-11-24 20:37:00   \n",
              "192788  desktop 2017-11-08 18:08:00          3 2017-11-08 18:06:00   \n",
              "\n",
              "                         uid  day  week  month  year        date  \\\n",
              "355214   4046003164538777565   18     3      1  2018  2018-01-18   \n",
              "341788   9868766402483936378   19    20      5  2018  2018-05-19   \n",
              "135716  11957922278786937965    6    31      8  2017  2017-08-06   \n",
              "10023    3800873599307433255   24    47     11  2017  2017-11-24   \n",
              "192788  15595658221481213518    8    45     11  2017  2017-11-08   \n",
              "\n",
              "        session_duration_sec first_visit_date  \n",
              "355214                   480       2018-01-18  \n",
              "341788                   180       2017-10-29  \n",
              "135716                   240       2017-06-20  \n",
              "10023                      0       2017-11-24  \n",
              "192788                   120       2017-11-08  "
            ]
          },
          "metadata": {
            "tags": []
          }
        }
      ]
    },
    {
      "cell_type": "code",
      "metadata": {
        "colab": {
          "base_uri": "https://localhost:8080/",
          "height": 204
        },
        "id": "a0CSXnXgiBZr",
        "outputId": "8924d92c-67a1-43af-80a8-27b071741dcc"
      },
      "source": [
        "# Добавим месяц сессии и месяц первого визита:\n",
        "user_visits['visit_month'] = user_visits['date'].values.astype('datetime64[M]')\n",
        "user_visits['first_visit_month'] = user_visits['first_visit_date'].values.astype('datetime64[M]')\n",
        "\n",
        "# Добавим lifetime пользователя в рамках когорты:\n",
        "user_visits['cohort_lifetime'] = user_visits['visit_month'] - user_visits['first_visit_month']\n",
        "user_visits['cohort_lifetime'] = user_visits['cohort_lifetime'] / np.timedelta64(1,'M')\n",
        "user_visits['cohort_lifetime'] = round(user_visits['cohort_lifetime']).astype('int')\n",
        "\n",
        "# Посчитаем для каждой когорты количество активных пользователей на каждый месяц:\n",
        "cohorts = user_visits.groupby(['first_visit_month','cohort_lifetime']).agg({'uid':'nunique'}).reset_index()\n",
        "\n",
        "# Найдём исходное количество пользователей в когорте:\n",
        "initial_users_count = cohorts[cohorts['cohort_lifetime'] == 0][['first_visit_month','uid']]\n",
        "initial_users_count = initial_users_count.rename(columns={'uid':'cohort_users'})\n",
        "\n",
        "# Объединим данные по когортам с исходным количеством пользователей в когорте:\n",
        "cohorts = cohorts.merge(initial_users_count,on='first_visit_month')\n",
        "\n",
        "# Рассчитаем Retention Rate:\n",
        "cohorts['retention'] = cohorts['uid']/cohorts['cohort_users']\n",
        "\n",
        "display(cohorts.head(5))"
      ],
      "execution_count": 24,
      "outputs": [
        {
          "output_type": "display_data",
          "data": {
            "text/html": [
              "<div>\n",
              "<style scoped>\n",
              "    .dataframe tbody tr th:only-of-type {\n",
              "        vertical-align: middle;\n",
              "    }\n",
              "\n",
              "    .dataframe tbody tr th {\n",
              "        vertical-align: top;\n",
              "    }\n",
              "\n",
              "    .dataframe thead th {\n",
              "        text-align: right;\n",
              "    }\n",
              "</style>\n",
              "<table border=\"1\" class=\"dataframe\">\n",
              "  <thead>\n",
              "    <tr style=\"text-align: right;\">\n",
              "      <th></th>\n",
              "      <th>first_visit_month</th>\n",
              "      <th>cohort_lifetime</th>\n",
              "      <th>uid</th>\n",
              "      <th>cohort_users</th>\n",
              "      <th>retention</th>\n",
              "    </tr>\n",
              "  </thead>\n",
              "  <tbody>\n",
              "    <tr>\n",
              "      <th>0</th>\n",
              "      <td>2017-06-01</td>\n",
              "      <td>0</td>\n",
              "      <td>13259</td>\n",
              "      <td>13259</td>\n",
              "      <td>1.000000</td>\n",
              "    </tr>\n",
              "    <tr>\n",
              "      <th>1</th>\n",
              "      <td>2017-06-01</td>\n",
              "      <td>1</td>\n",
              "      <td>1043</td>\n",
              "      <td>13259</td>\n",
              "      <td>0.078664</td>\n",
              "    </tr>\n",
              "    <tr>\n",
              "      <th>2</th>\n",
              "      <td>2017-06-01</td>\n",
              "      <td>2</td>\n",
              "      <td>713</td>\n",
              "      <td>13259</td>\n",
              "      <td>0.053775</td>\n",
              "    </tr>\n",
              "    <tr>\n",
              "      <th>3</th>\n",
              "      <td>2017-06-01</td>\n",
              "      <td>3</td>\n",
              "      <td>814</td>\n",
              "      <td>13259</td>\n",
              "      <td>0.061392</td>\n",
              "    </tr>\n",
              "    <tr>\n",
              "      <th>4</th>\n",
              "      <td>2017-06-01</td>\n",
              "      <td>4</td>\n",
              "      <td>909</td>\n",
              "      <td>13259</td>\n",
              "      <td>0.068557</td>\n",
              "    </tr>\n",
              "  </tbody>\n",
              "</table>\n",
              "</div>"
            ],
            "text/plain": [
              "  first_visit_month  cohort_lifetime    uid  cohort_users  retention\n",
              "0        2017-06-01                0  13259         13259   1.000000\n",
              "1        2017-06-01                1   1043         13259   0.078664\n",
              "2        2017-06-01                2    713         13259   0.053775\n",
              "3        2017-06-01                3    814         13259   0.061392\n",
              "4        2017-06-01                4    909         13259   0.068557"
            ]
          },
          "metadata": {
            "tags": []
          }
        }
      ]
    },
    {
      "cell_type": "code",
      "metadata": {
        "colab": {
          "base_uri": "https://localhost:8080/",
          "height": 573
        },
        "id": "c91XnpvCiBWI",
        "outputId": "c2092e8e-1e55-4074-9176-baed7b0d8695"
      },
      "source": [
        "retention_pivot = cohorts.pivot_table(index='first_visit_month', columns='cohort_lifetime', values='retention', aggfunc='sum')\n",
        "\n",
        "sns.set(style='white')\n",
        "plt.figure(figsize=(13, 9))\n",
        "plt.title('Коэффициент удержания пользователей по когортам')\n",
        "\n",
        "#display(retention_pivot.loc[:,1:11])\n",
        "sns.heatmap(retention_pivot.loc[:,1:11], annot=True, fmt='.1%', linewidths=1, linecolor='gray');"
      ],
      "execution_count": 25,
      "outputs": [
        {
          "output_type": "display_data",
          "data": {
            "image/png": "[encoded data removed]",
            "text/plain": [
              "<Figure size 936x648 with 2 Axes>"
            ]
          },
          "metadata": {
            "tags": []
          }
        }
      ]
    },
    {
      "cell_type": "markdown",
      "metadata": {
        "id": "M6KlbbwHnqMe"
      },
      "source": [
        "Очевидно, что показатели удержания пользователей крайне низкие и с течением времени они падают (как внутри когорты, так и от когорты к когорте)."
      ]
    },
    {
      "cell_type": "markdown",
      "metadata": {
        "id": "mzC7IXDIoBRW"
      },
      "source": [
        "## 3.2. Продажи "
      ]
    },
    {
      "cell_type": "code",
      "metadata": {
        "colab": {
          "base_uri": "https://localhost:8080/",
          "height": 204
        },
        "id": "7jv9dMvFiBQq",
        "outputId": "efb89441-5337-4ff2-c763-838d36cb8442"
      },
      "source": [
        "# Добавим в таблицу с заказами `orders` информацию о первом заказе пользователя.\n",
        "# Составим справочник с датой первого заказа:\n",
        "first_order_date = orders.groupby('uid')['buy_ts'].min() \n",
        "first_order_date.name = 'first_order_date'\n",
        "\n",
        "# Объединим таблицы:\n",
        "orders = orders.join(first_order_date, on='uid')\n",
        "display(orders.head())"
      ],
      "execution_count": 26,
      "outputs": [
        {
          "output_type": "display_data",
          "data": {
            "text/html": [
              "<div>\n",
              "<style scoped>\n",
              "    .dataframe tbody tr th:only-of-type {\n",
              "        vertical-align: middle;\n",
              "    }\n",
              "\n",
              "    .dataframe tbody tr th {\n",
              "        vertical-align: top;\n",
              "    }\n",
              "\n",
              "    .dataframe thead th {\n",
              "        text-align: right;\n",
              "    }\n",
              "</style>\n",
              "<table border=\"1\" class=\"dataframe\">\n",
              "  <thead>\n",
              "    <tr style=\"text-align: right;\">\n",
              "      <th></th>\n",
              "      <th>buy_ts</th>\n",
              "      <th>revenue</th>\n",
              "      <th>uid</th>\n",
              "      <th>first_order_date</th>\n",
              "    </tr>\n",
              "  </thead>\n",
              "  <tbody>\n",
              "    <tr>\n",
              "      <th>0</th>\n",
              "      <td>2017-06-01 00:10:00</td>\n",
              "      <td>17.00</td>\n",
              "      <td>10329302124590727494</td>\n",
              "      <td>2017-06-01 00:10:00</td>\n",
              "    </tr>\n",
              "    <tr>\n",
              "      <th>1</th>\n",
              "      <td>2017-06-01 00:25:00</td>\n",
              "      <td>0.55</td>\n",
              "      <td>11627257723692907447</td>\n",
              "      <td>2017-06-01 00:25:00</td>\n",
              "    </tr>\n",
              "    <tr>\n",
              "      <th>2</th>\n",
              "      <td>2017-06-01 00:27:00</td>\n",
              "      <td>0.37</td>\n",
              "      <td>17903680561304213844</td>\n",
              "      <td>2017-06-01 00:27:00</td>\n",
              "    </tr>\n",
              "    <tr>\n",
              "      <th>3</th>\n",
              "      <td>2017-06-01 00:29:00</td>\n",
              "      <td>0.55</td>\n",
              "      <td>16109239769442553005</td>\n",
              "      <td>2017-06-01 00:29:00</td>\n",
              "    </tr>\n",
              "    <tr>\n",
              "      <th>4</th>\n",
              "      <td>2017-06-01 07:58:00</td>\n",
              "      <td>0.37</td>\n",
              "      <td>14200605875248379450</td>\n",
              "      <td>2017-06-01 07:58:00</td>\n",
              "    </tr>\n",
              "  </tbody>\n",
              "</table>\n",
              "</div>"
            ],
            "text/plain": [
              "               buy_ts  revenue                   uid    first_order_date\n",
              "0 2017-06-01 00:10:00    17.00  10329302124590727494 2017-06-01 00:10:00\n",
              "1 2017-06-01 00:25:00     0.55  11627257723692907447 2017-06-01 00:25:00\n",
              "2 2017-06-01 00:27:00     0.37  17903680561304213844 2017-06-01 00:27:00\n",
              "3 2017-06-01 00:29:00     0.55  16109239769442553005 2017-06-01 00:29:00\n",
              "4 2017-06-01 07:58:00     0.37  14200605875248379450 2017-06-01 07:58:00"
            ]
          },
          "metadata": {
            "tags": []
          }
        }
      ]
    },
    {
      "cell_type": "markdown",
      "metadata": {
        "id": "BuYIa_xKoQxX"
      },
      "source": [
        "\n",
        "Посмотрим, какое время в среднем требуется пользователю для совершения первой покупки."
      ]
    },
    {
      "cell_type": "code",
      "metadata": {
        "colab": {
          "base_uri": "https://localhost:8080/",
          "height": 519
        },
        "id": "U-QcI-nsiBLi",
        "outputId": "2d63013e-8982-4f8d-a2ea-deb3dd3d1bf6"
      },
      "source": [
        "# Построим таблицу с первой сессией каждого пользователя:\n",
        "first_visits = visits.groupby('uid').agg(first_ts=('start_ts', 'min'))\n",
        "first_visits = pd.DataFrame(first_visits)\n",
        "\n",
        "# Добавим в таблицу `first_visits` информацию о первой покупке для каждого пользователя:\n",
        "first_visits = first_visits.join(first_order_date, on='uid').reset_index()\n",
        "\n",
        "# Рассчитаем количество дней от первой сессии до первой покупки:\n",
        "first_visits['days_before_order'] = (first_visits['first_order_date'] - first_visits['first_ts']).dt.days\n",
        "\n",
        "#display(first_visits.sample(5))\n",
        "print('Доля пользователей, совершивших хотя бы одну покупку: {:.2%}'.format(first_visits[~first_visits['days_before_order'].isna()]['uid'].count() / first_visits.shape[0]))\n",
        "\n",
        "plt.figure(figsize=(10,5))\n",
        "plt.title('Количество дней до оформления первой покупки')\n",
        "#first_visits['days_before_order'].hist(bins=30)\n",
        "plt.ylim(-1, 10)\n",
        "first_visits.boxplot(column='days_before_order')\n",
        "plt.show()\n",
        "\n",
        "print(first_visits['days_before_order'].describe())"
      ],
      "execution_count": 27,
      "outputs": [
        {
          "output_type": "stream",
          "text": [
            "Доля пользователей, совершивших хотя бы одну покупку: 16.01%\n"
          ],
          "name": "stdout"
        },
        {
          "output_type": "display_data",
          "data": {
            "image/png": "[encoded data removed]",
            "text/plain": [
              "<Figure size 720x360 with 1 Axes>"
            ]
          },
          "metadata": {
            "tags": []
          }
        },
        {
          "output_type": "stream",
          "text": [
            "count    36522.000000\n",
            "mean        16.730327\n",
            "std         46.959650\n",
            "min          0.000000\n",
            "25%          0.000000\n",
            "50%          0.000000\n",
            "75%          2.000000\n",
            "max        363.000000\n",
            "Name: days_before_order, dtype: float64\n"
          ],
          "name": "stdout"
        }
      ]
    },
    {
      "cell_type": "markdown",
      "metadata": {
        "id": "2i_GrGkKo7-R"
      },
      "source": [
        "Большинство пользователей совершают покупку в день своей первой сессии."
      ]
    },
    {
      "cell_type": "markdown",
      "metadata": {
        "id": "4waBrGV-o_K6"
      },
      "source": [
        "Проведём когортный анализ и посмотрим, как по месяцам изменяется количество пользователей, совершивших покупку впервые."
      ]
    },
    {
      "cell_type": "code",
      "metadata": {
        "colab": {
          "base_uri": "https://localhost:8080/",
          "height": 204
        },
        "id": "cUOBA41KiBGD",
        "outputId": "779a2244-c222-4757-e1b9-dd3bd4ae3eb5"
      },
      "source": [
        "# Добавим в таблицу `orders` необходимые для дальнейшего анализа поля -\n",
        "# месяц заказа `order_month` и месяц первого заказа `first_order_month`:\n",
        "\n",
        "orders['first_order_month'] = orders['first_order_date'].astype('datetime64[M]')\n",
        "orders['order_month'] = orders['buy_ts'].astype('datetime64[M]')\n",
        "\n",
        "display(orders.sample(5))"
      ],
      "execution_count": 28,
      "outputs": [
        {
          "output_type": "display_data",
          "data": {
            "text/html": [
              "<div>\n",
              "<style scoped>\n",
              "    .dataframe tbody tr th:only-of-type {\n",
              "        vertical-align: middle;\n",
              "    }\n",
              "\n",
              "    .dataframe tbody tr th {\n",
              "        vertical-align: top;\n",
              "    }\n",
              "\n",
              "    .dataframe thead th {\n",
              "        text-align: right;\n",
              "    }\n",
              "</style>\n",
              "<table border=\"1\" class=\"dataframe\">\n",
              "  <thead>\n",
              "    <tr style=\"text-align: right;\">\n",
              "      <th></th>\n",
              "      <th>buy_ts</th>\n",
              "      <th>revenue</th>\n",
              "      <th>uid</th>\n",
              "      <th>first_order_date</th>\n",
              "      <th>first_order_month</th>\n",
              "      <th>order_month</th>\n",
              "    </tr>\n",
              "  </thead>\n",
              "  <tbody>\n",
              "    <tr>\n",
              "      <th>21710</th>\n",
              "      <td>2017-12-03 19:35:00</td>\n",
              "      <td>0.92</td>\n",
              "      <td>7046737606684150807</td>\n",
              "      <td>2017-11-30 11:05:00</td>\n",
              "      <td>2017-11-01</td>\n",
              "      <td>2017-12-01</td>\n",
              "    </tr>\n",
              "    <tr>\n",
              "      <th>8326</th>\n",
              "      <td>2017-09-19 22:18:00</td>\n",
              "      <td>1.10</td>\n",
              "      <td>17718752958867309067</td>\n",
              "      <td>2017-09-19 22:18:00</td>\n",
              "      <td>2017-09-01</td>\n",
              "      <td>2017-09-01</td>\n",
              "    </tr>\n",
              "    <tr>\n",
              "      <th>24820</th>\n",
              "      <td>2017-12-18 22:55:00</td>\n",
              "      <td>0.76</td>\n",
              "      <td>8744554822143047053</td>\n",
              "      <td>2017-10-03 17:48:00</td>\n",
              "      <td>2017-10-01</td>\n",
              "      <td>2017-12-01</td>\n",
              "    </tr>\n",
              "    <tr>\n",
              "      <th>48884</th>\n",
              "      <td>2018-05-25 11:16:00</td>\n",
              "      <td>0.61</td>\n",
              "      <td>18172892325036164972</td>\n",
              "      <td>2017-09-03 10:15:00</td>\n",
              "      <td>2017-09-01</td>\n",
              "      <td>2018-05-01</td>\n",
              "    </tr>\n",
              "    <tr>\n",
              "      <th>21698</th>\n",
              "      <td>2017-12-03 17:49:00</td>\n",
              "      <td>4.89</td>\n",
              "      <td>12942414088938552846</td>\n",
              "      <td>2017-12-03 17:49:00</td>\n",
              "      <td>2017-12-01</td>\n",
              "      <td>2017-12-01</td>\n",
              "    </tr>\n",
              "  </tbody>\n",
              "</table>\n",
              "</div>"
            ],
            "text/plain": [
              "                   buy_ts  revenue                   uid    first_order_date  \\\n",
              "21710 2017-12-03 19:35:00     0.92   7046737606684150807 2017-11-30 11:05:00   \n",
              "8326  2017-09-19 22:18:00     1.10  17718752958867309067 2017-09-19 22:18:00   \n",
              "24820 2017-12-18 22:55:00     0.76   8744554822143047053 2017-10-03 17:48:00   \n",
              "48884 2018-05-25 11:16:00     0.61  18172892325036164972 2017-09-03 10:15:00   \n",
              "21698 2017-12-03 17:49:00     4.89  12942414088938552846 2017-12-03 17:49:00   \n",
              "\n",
              "      first_order_month order_month  \n",
              "21710        2017-11-01  2017-12-01  \n",
              "8326         2017-09-01  2017-09-01  \n",
              "24820        2017-10-01  2017-12-01  \n",
              "48884        2017-09-01  2018-05-01  \n",
              "21698        2017-12-01  2017-12-01  "
            ]
          },
          "metadata": {
            "tags": []
          }
        }
      ]
    },
    {
      "cell_type": "code",
      "metadata": {
        "colab": {
          "base_uri": "https://localhost:8080/",
          "height": 802
        },
        "id": "tG_TK2nDiBCt",
        "outputId": "4a15b037-94ed-419a-873f-4a3be3644816"
      },
      "source": [
        "# Сгруппируем данные по столбцу `first_order_month` и оценим показатели каждой когорты:\n",
        "cohorts = orders.groupby('first_order_month').agg(orders_count=('buy_ts','nunique'), \n",
        "                                                  users_nunique=('uid','nunique'), \n",
        "                                                  revenue=('revenue','sum'))\n",
        "\n",
        "# Добавим в таблицу среднее количество покупок на одного пользователя когорты:\n",
        "cohorts['orders_per_user'] = cohorts['orders_count'] / cohorts['users_nunique']\n",
        "display(cohorts)\n",
        "\n",
        "cohorts['orders_per_user'].plot(figsize=(10,5), grid=True, style='o-', title='Среднее количество покупок на одного пользователя')\n",
        "plt.show()\n",
        "\n",
        "#cohorts['users_nunique'].plot(figsize=(10,5), grid=True, style='o-', title='Количество уникальных пользователей по месяцам')\n",
        "#plt.show()"
      ],
      "execution_count": 29,
      "outputs": [
        {
          "output_type": "display_data",
          "data": {
            "text/html": [
              "<div>\n",
              "<style scoped>\n",
              "    .dataframe tbody tr th:only-of-type {\n",
              "        vertical-align: middle;\n",
              "    }\n",
              "\n",
              "    .dataframe tbody tr th {\n",
              "        vertical-align: top;\n",
              "    }\n",
              "\n",
              "    .dataframe thead th {\n",
              "        text-align: right;\n",
              "    }\n",
              "</style>\n",
              "<table border=\"1\" class=\"dataframe\">\n",
              "  <thead>\n",
              "    <tr style=\"text-align: right;\">\n",
              "      <th></th>\n",
              "      <th>orders_count</th>\n",
              "      <th>users_nunique</th>\n",
              "      <th>revenue</th>\n",
              "      <th>orders_per_user</th>\n",
              "    </tr>\n",
              "    <tr>\n",
              "      <th>first_order_month</th>\n",
              "      <th></th>\n",
              "      <th></th>\n",
              "      <th></th>\n",
              "      <th></th>\n",
              "    </tr>\n",
              "  </thead>\n",
              "  <tbody>\n",
              "    <tr>\n",
              "      <th>2017-06-01</th>\n",
              "      <td>4322</td>\n",
              "      <td>2023</td>\n",
              "      <td>24031.69</td>\n",
              "      <td>2.136431</td>\n",
              "    </tr>\n",
              "    <tr>\n",
              "      <th>2017-07-01</th>\n",
              "      <td>2797</td>\n",
              "      <td>1923</td>\n",
              "      <td>16127.92</td>\n",
              "      <td>1.454498</td>\n",
              "    </tr>\n",
              "    <tr>\n",
              "      <th>2017-08-01</th>\n",
              "      <td>2133</td>\n",
              "      <td>1370</td>\n",
              "      <td>11606.26</td>\n",
              "      <td>1.556934</td>\n",
              "    </tr>\n",
              "    <tr>\n",
              "      <th>2017-09-01</th>\n",
              "      <td>3730</td>\n",
              "      <td>2581</td>\n",
              "      <td>34676.32</td>\n",
              "      <td>1.445176</td>\n",
              "    </tr>\n",
              "    <tr>\n",
              "      <th>2017-10-01</th>\n",
              "      <td>5573</td>\n",
              "      <td>4340</td>\n",
              "      <td>27603.45</td>\n",
              "      <td>1.284101</td>\n",
              "    </tr>\n",
              "    <tr>\n",
              "      <th>2017-11-01</th>\n",
              "      <td>5361</td>\n",
              "      <td>4081</td>\n",
              "      <td>26098.99</td>\n",
              "      <td>1.313649</td>\n",
              "    </tr>\n",
              "    <tr>\n",
              "      <th>2017-12-01</th>\n",
              "      <td>5483</td>\n",
              "      <td>4383</td>\n",
              "      <td>33485.74</td>\n",
              "      <td>1.250970</td>\n",
              "    </tr>\n",
              "    <tr>\n",
              "      <th>2018-01-01</th>\n",
              "      <td>4069</td>\n",
              "      <td>3373</td>\n",
              "      <td>16663.13</td>\n",
              "      <td>1.206345</td>\n",
              "    </tr>\n",
              "    <tr>\n",
              "      <th>2018-02-01</th>\n",
              "      <td>4143</td>\n",
              "      <td>3651</td>\n",
              "      <td>16750.50</td>\n",
              "      <td>1.134758</td>\n",
              "    </tr>\n",
              "    <tr>\n",
              "      <th>2018-03-01</th>\n",
              "      <td>4146</td>\n",
              "      <td>3533</td>\n",
              "      <td>19273.41</td>\n",
              "      <td>1.173507</td>\n",
              "    </tr>\n",
              "    <tr>\n",
              "      <th>2018-04-01</th>\n",
              "      <td>2570</td>\n",
              "      <td>2276</td>\n",
              "      <td>11810.61</td>\n",
              "      <td>1.129174</td>\n",
              "    </tr>\n",
              "    <tr>\n",
              "      <th>2018-05-01</th>\n",
              "      <td>2941</td>\n",
              "      <td>2988</td>\n",
              "      <td>13925.76</td>\n",
              "      <td>0.984270</td>\n",
              "    </tr>\n",
              "  </tbody>\n",
              "</table>\n",
              "</div>"
            ],
            "text/plain": [
              "                   orders_count  users_nunique   revenue  orders_per_user\n",
              "first_order_month                                                        \n",
              "2017-06-01                 4322           2023  24031.69         2.136431\n",
              "2017-07-01                 2797           1923  16127.92         1.454498\n",
              "2017-08-01                 2133           1370  11606.26         1.556934\n",
              "2017-09-01                 3730           2581  34676.32         1.445176\n",
              "2017-10-01                 5573           4340  27603.45         1.284101\n",
              "2017-11-01                 5361           4081  26098.99         1.313649\n",
              "2017-12-01                 5483           4383  33485.74         1.250970\n",
              "2018-01-01                 4069           3373  16663.13         1.206345\n",
              "2018-02-01                 4143           3651  16750.50         1.134758\n",
              "2018-03-01                 4146           3533  19273.41         1.173507\n",
              "2018-04-01                 2570           2276  11810.61         1.129174\n",
              "2018-05-01                 2941           2988  13925.76         0.984270"
            ]
          },
          "metadata": {
            "tags": []
          }
        },
        {
          "output_type": "display_data",
          "data": {
            "image/png": "[encoded data removed]",
            "text/plain": [
              "<Figure size 720x360 with 1 Axes>"
            ]
          },
          "metadata": {
            "tags": []
          }
        }
      ]
    },
    {
      "cell_type": "markdown",
      "metadata": {
        "id": "-iwOspK9sKV1"
      },
      "source": [
        "\n",
        "* Среднее количество покупок на одного пользователя снижается от когорте к когорте - оно и понятно, ведь снижается их \"время жизни\" в сервисе.\n",
        "* Однако, даже по прошествии года с момента первой покупки, среднее количество покупок еле переваливает за 2."
      ]
    },
    {
      "cell_type": "markdown",
      "metadata": {
        "id": "7eGDC6uMsXSV"
      },
      "source": [
        "Отследим, как изменяется среднее количество покупок пользователя внутри одной когорты."
      ]
    },
    {
      "cell_type": "code",
      "metadata": {
        "colab": {
          "base_uri": "https://localhost:8080/",
          "height": 450
        },
        "id": "ZgY8rmLmiA-i",
        "outputId": "da5f8e47-dd8c-403d-948c-2206618a55c5"
      },
      "source": [
        "cohorts_month = orders.groupby(['first_order_month', 'order_month']).agg(orders_count=('buy_ts','nunique'), users_nunique=('uid','nunique'), revenue=('revenue','sum'))\n",
        "\n",
        "# Добавим в таблицу среднее количество покупок на одного пользователя:\n",
        "cohorts_month['orders_per_user'] = cohorts_month['orders_count'] / cohorts_month['users_nunique']\n",
        "display(cohorts_month)"
      ],
      "execution_count": 30,
      "outputs": [
        {
          "output_type": "display_data",
          "data": {
            "text/html": [
              "<div>\n",
              "<style scoped>\n",
              "    .dataframe tbody tr th:only-of-type {\n",
              "        vertical-align: middle;\n",
              "    }\n",
              "\n",
              "    .dataframe tbody tr th {\n",
              "        vertical-align: top;\n",
              "    }\n",
              "\n",
              "    .dataframe thead th {\n",
              "        text-align: right;\n",
              "    }\n",
              "</style>\n",
              "<table border=\"1\" class=\"dataframe\">\n",
              "  <thead>\n",
              "    <tr style=\"text-align: right;\">\n",
              "      <th></th>\n",
              "      <th></th>\n",
              "      <th>orders_count</th>\n",
              "      <th>users_nunique</th>\n",
              "      <th>revenue</th>\n",
              "      <th>orders_per_user</th>\n",
              "    </tr>\n",
              "    <tr>\n",
              "      <th>first_order_month</th>\n",
              "      <th>order_month</th>\n",
              "      <th></th>\n",
              "      <th></th>\n",
              "      <th></th>\n",
              "      <th></th>\n",
              "    </tr>\n",
              "  </thead>\n",
              "  <tbody>\n",
              "    <tr>\n",
              "      <th rowspan=\"5\" valign=\"top\">2017-06-01</th>\n",
              "      <th>2017-06-01</th>\n",
              "      <td>2245</td>\n",
              "      <td>2023</td>\n",
              "      <td>9557.49</td>\n",
              "      <td>1.109738</td>\n",
              "    </tr>\n",
              "    <tr>\n",
              "      <th>2017-07-01</th>\n",
              "      <td>176</td>\n",
              "      <td>61</td>\n",
              "      <td>981.82</td>\n",
              "      <td>2.885246</td>\n",
              "    </tr>\n",
              "    <tr>\n",
              "      <th>2017-08-01</th>\n",
              "      <td>174</td>\n",
              "      <td>50</td>\n",
              "      <td>885.34</td>\n",
              "      <td>3.480000</td>\n",
              "    </tr>\n",
              "    <tr>\n",
              "      <th>2017-09-01</th>\n",
              "      <td>223</td>\n",
              "      <td>54</td>\n",
              "      <td>1931.30</td>\n",
              "      <td>4.129630</td>\n",
              "    </tr>\n",
              "    <tr>\n",
              "      <th>2017-10-01</th>\n",
              "      <td>292</td>\n",
              "      <td>88</td>\n",
              "      <td>2068.58</td>\n",
              "      <td>3.318182</td>\n",
              "    </tr>\n",
              "    <tr>\n",
              "      <th>...</th>\n",
              "      <th>...</th>\n",
              "      <td>...</td>\n",
              "      <td>...</td>\n",
              "      <td>...</td>\n",
              "      <td>...</td>\n",
              "    </tr>\n",
              "    <tr>\n",
              "      <th rowspan=\"2\" valign=\"top\">2018-03-01</th>\n",
              "      <th>2018-04-01</th>\n",
              "      <td>178</td>\n",
              "      <td>90</td>\n",
              "      <td>1063.05</td>\n",
              "      <td>1.977778</td>\n",
              "    </tr>\n",
              "    <tr>\n",
              "      <th>2018-05-01</th>\n",
              "      <td>176</td>\n",
              "      <td>58</td>\n",
              "      <td>1114.87</td>\n",
              "      <td>3.034483</td>\n",
              "    </tr>\n",
              "    <tr>\n",
              "      <th rowspan=\"2\" valign=\"top\">2018-04-01</th>\n",
              "      <th>2018-04-01</th>\n",
              "      <td>2375</td>\n",
              "      <td>2276</td>\n",
              "      <td>10600.69</td>\n",
              "      <td>1.043497</td>\n",
              "    </tr>\n",
              "    <tr>\n",
              "      <th>2018-05-01</th>\n",
              "      <td>195</td>\n",
              "      <td>69</td>\n",
              "      <td>1209.92</td>\n",
              "      <td>2.826087</td>\n",
              "    </tr>\n",
              "    <tr>\n",
              "      <th>2018-05-01</th>\n",
              "      <th>2018-05-01</th>\n",
              "      <td>2941</td>\n",
              "      <td>2988</td>\n",
              "      <td>13925.76</td>\n",
              "      <td>0.984270</td>\n",
              "    </tr>\n",
              "  </tbody>\n",
              "</table>\n",
              "<p>78 rows × 4 columns</p>\n",
              "</div>"
            ],
            "text/plain": [
              "                               orders_count  users_nunique   revenue  \\\n",
              "first_order_month order_month                                          \n",
              "2017-06-01        2017-06-01           2245           2023   9557.49   \n",
              "                  2017-07-01            176             61    981.82   \n",
              "                  2017-08-01            174             50    885.34   \n",
              "                  2017-09-01            223             54   1931.30   \n",
              "                  2017-10-01            292             88   2068.58   \n",
              "...                                     ...            ...       ...   \n",
              "2018-03-01        2018-04-01            178             90   1063.05   \n",
              "                  2018-05-01            176             58   1114.87   \n",
              "2018-04-01        2018-04-01           2375           2276  10600.69   \n",
              "                  2018-05-01            195             69   1209.92   \n",
              "2018-05-01        2018-05-01           2941           2988  13925.76   \n",
              "\n",
              "                               orders_per_user  \n",
              "first_order_month order_month                   \n",
              "2017-06-01        2017-06-01          1.109738  \n",
              "                  2017-07-01          2.885246  \n",
              "                  2017-08-01          3.480000  \n",
              "                  2017-09-01          4.129630  \n",
              "                  2017-10-01          3.318182  \n",
              "...                                        ...  \n",
              "2018-03-01        2018-04-01          1.977778  \n",
              "                  2018-05-01          3.034483  \n",
              "2018-04-01        2018-04-01          1.043497  \n",
              "                  2018-05-01          2.826087  \n",
              "2018-05-01        2018-05-01          0.984270  \n",
              "\n",
              "[78 rows x 4 columns]"
            ]
          },
          "metadata": {
            "tags": []
          }
        }
      ]
    },
    {
      "cell_type": "code",
      "metadata": {
        "colab": {
          "base_uri": "https://localhost:8080/",
          "height": 487
        },
        "id": "M1ka55lwiA27",
        "outputId": "4d02fb56-882d-4333-f679-2eb54c32d3d9"
      },
      "source": [
        "print('Среднее количество покупок на пользователя')\n",
        "cohorts_month.pivot_table(index='first_order_month',\n",
        "                          columns='order_month',\n",
        "                          values='orders_per_user',\n",
        "                          aggfunc='mean'\n",
        "                         ).fillna('')"
      ],
      "execution_count": 31,
      "outputs": [
        {
          "output_type": "stream",
          "text": [
            "Среднее количество покупок на пользователя\n"
          ],
          "name": "stdout"
        },
        {
          "output_type": "execute_result",
          "data": {
            "text/html": [
              "<div>\n",
              "<style scoped>\n",
              "    .dataframe tbody tr th:only-of-type {\n",
              "        vertical-align: middle;\n",
              "    }\n",
              "\n",
              "    .dataframe tbody tr th {\n",
              "        vertical-align: top;\n",
              "    }\n",
              "\n",
              "    .dataframe thead th {\n",
              "        text-align: right;\n",
              "    }\n",
              "</style>\n",
              "<table border=\"1\" class=\"dataframe\">\n",
              "  <thead>\n",
              "    <tr style=\"text-align: right;\">\n",
              "      <th>order_month</th>\n",
              "      <th>2017-06-01</th>\n",
              "      <th>2017-07-01</th>\n",
              "      <th>2017-08-01</th>\n",
              "      <th>2017-09-01</th>\n",
              "      <th>2017-10-01</th>\n",
              "      <th>2017-11-01</th>\n",
              "      <th>2017-12-01</th>\n",
              "      <th>2018-01-01</th>\n",
              "      <th>2018-02-01</th>\n",
              "      <th>2018-03-01</th>\n",
              "      <th>2018-04-01</th>\n",
              "      <th>2018-05-01</th>\n",
              "    </tr>\n",
              "    <tr>\n",
              "      <th>first_order_month</th>\n",
              "      <th></th>\n",
              "      <th></th>\n",
              "      <th></th>\n",
              "      <th></th>\n",
              "      <th></th>\n",
              "      <th></th>\n",
              "      <th></th>\n",
              "      <th></th>\n",
              "      <th></th>\n",
              "      <th></th>\n",
              "      <th></th>\n",
              "      <th></th>\n",
              "    </tr>\n",
              "  </thead>\n",
              "  <tbody>\n",
              "    <tr>\n",
              "      <th>2017-06-01</th>\n",
              "      <td>1.10974</td>\n",
              "      <td>2.88525</td>\n",
              "      <td>3.48</td>\n",
              "      <td>4.12963</td>\n",
              "      <td>3.31818</td>\n",
              "      <td>3.23881</td>\n",
              "      <td>4.43548</td>\n",
              "      <td>3.70213</td>\n",
              "      <td>3.65517</td>\n",
              "      <td>3.37778</td>\n",
              "      <td>2.13333</td>\n",
              "      <td>1.622642</td>\n",
              "    </tr>\n",
              "    <tr>\n",
              "      <th>2017-07-01</th>\n",
              "      <td></td>\n",
              "      <td>1.07956</td>\n",
              "      <td>1.92308</td>\n",
              "      <td>2.10526</td>\n",
              "      <td>1.60938</td>\n",
              "      <td>1.46939</td>\n",
              "      <td>2.15789</td>\n",
              "      <td>1.66667</td>\n",
              "      <td>1.25641</td>\n",
              "      <td>1.38095</td>\n",
              "      <td>1.09091</td>\n",
              "      <td>2.038462</td>\n",
              "    </tr>\n",
              "    <tr>\n",
              "      <th>2017-08-01</th>\n",
              "      <td></td>\n",
              "      <td></td>\n",
              "      <td>1.08102</td>\n",
              "      <td>1.84483</td>\n",
              "      <td>1.88679</td>\n",
              "      <td>1.81818</td>\n",
              "      <td>2.1</td>\n",
              "      <td>1.9375</td>\n",
              "      <td>1.63333</td>\n",
              "      <td>1.77273</td>\n",
              "      <td>2.42105</td>\n",
              "      <td>1.483871</td>\n",
              "    </tr>\n",
              "    <tr>\n",
              "      <th>2017-09-01</th>\n",
              "      <td></td>\n",
              "      <td></td>\n",
              "      <td></td>\n",
              "      <td>1.07943</td>\n",
              "      <td>1.68462</td>\n",
              "      <td>1.6</td>\n",
              "      <td>2.21622</td>\n",
              "      <td>1.28846</td>\n",
              "      <td>1.70312</td>\n",
              "      <td>1.63636</td>\n",
              "      <td>1.51351</td>\n",
              "      <td>1.418605</td>\n",
              "    </tr>\n",
              "    <tr>\n",
              "      <th>2017-10-01</th>\n",
              "      <td></td>\n",
              "      <td></td>\n",
              "      <td></td>\n",
              "      <td></td>\n",
              "      <td>1.04447</td>\n",
              "      <td>1.51942</td>\n",
              "      <td>1.31707</td>\n",
              "      <td>1.32609</td>\n",
              "      <td>1.3871</td>\n",
              "      <td>1.43056</td>\n",
              "      <td>1.53571</td>\n",
              "      <td>1.865672</td>\n",
              "    </tr>\n",
              "    <tr>\n",
              "      <th>2017-11-01</th>\n",
              "      <td></td>\n",
              "      <td></td>\n",
              "      <td></td>\n",
              "      <td></td>\n",
              "      <td></td>\n",
              "      <td>1.04974</td>\n",
              "      <td>1.75676</td>\n",
              "      <td>1.5</td>\n",
              "      <td>1.98113</td>\n",
              "      <td>1.67901</td>\n",
              "      <td>1.22917</td>\n",
              "      <td>1.645161</td>\n",
              "    </tr>\n",
              "    <tr>\n",
              "      <th>2017-12-01</th>\n",
              "      <td></td>\n",
              "      <td></td>\n",
              "      <td></td>\n",
              "      <td></td>\n",
              "      <td></td>\n",
              "      <td></td>\n",
              "      <td>1.05909</td>\n",
              "      <td>1.84247</td>\n",
              "      <td>1.96117</td>\n",
              "      <td>1.84536</td>\n",
              "      <td>1.72</td>\n",
              "      <td>1.666667</td>\n",
              "    </tr>\n",
              "    <tr>\n",
              "      <th>2018-01-01</th>\n",
              "      <td></td>\n",
              "      <td></td>\n",
              "      <td></td>\n",
              "      <td></td>\n",
              "      <td></td>\n",
              "      <td></td>\n",
              "      <td></td>\n",
              "      <td>1.05129</td>\n",
              "      <td>1.94737</td>\n",
              "      <td>1.91566</td>\n",
              "      <td>1.48837</td>\n",
              "      <td>1.733333</td>\n",
              "    </tr>\n",
              "    <tr>\n",
              "      <th>2018-02-01</th>\n",
              "      <td></td>\n",
              "      <td></td>\n",
              "      <td></td>\n",
              "      <td></td>\n",
              "      <td></td>\n",
              "      <td></td>\n",
              "      <td></td>\n",
              "      <td></td>\n",
              "      <td>1.03232</td>\n",
              "      <td>1.87288</td>\n",
              "      <td>1.43103</td>\n",
              "      <td>1.794872</td>\n",
              "    </tr>\n",
              "    <tr>\n",
              "      <th>2018-03-01</th>\n",
              "      <td></td>\n",
              "      <td></td>\n",
              "      <td></td>\n",
              "      <td></td>\n",
              "      <td></td>\n",
              "      <td></td>\n",
              "      <td></td>\n",
              "      <td></td>\n",
              "      <td></td>\n",
              "      <td>1.07331</td>\n",
              "      <td>1.97778</td>\n",
              "      <td>3.034483</td>\n",
              "    </tr>\n",
              "    <tr>\n",
              "      <th>2018-04-01</th>\n",
              "      <td></td>\n",
              "      <td></td>\n",
              "      <td></td>\n",
              "      <td></td>\n",
              "      <td></td>\n",
              "      <td></td>\n",
              "      <td></td>\n",
              "      <td></td>\n",
              "      <td></td>\n",
              "      <td></td>\n",
              "      <td>1.0435</td>\n",
              "      <td>2.826087</td>\n",
              "    </tr>\n",
              "    <tr>\n",
              "      <th>2018-05-01</th>\n",
              "      <td></td>\n",
              "      <td></td>\n",
              "      <td></td>\n",
              "      <td></td>\n",
              "      <td></td>\n",
              "      <td></td>\n",
              "      <td></td>\n",
              "      <td></td>\n",
              "      <td></td>\n",
              "      <td></td>\n",
              "      <td></td>\n",
              "      <td>0.984270</td>\n",
              "    </tr>\n",
              "  </tbody>\n",
              "</table>\n",
              "</div>"
            ],
            "text/plain": [
              "order_month       2017-06-01 2017-07-01 2017-08-01 2017-09-01 2017-10-01  \\\n",
              "first_order_month                                                          \n",
              "2017-06-01           1.10974    2.88525       3.48    4.12963    3.31818   \n",
              "2017-07-01                      1.07956    1.92308    2.10526    1.60938   \n",
              "2017-08-01                                 1.08102    1.84483    1.88679   \n",
              "2017-09-01                                            1.07943    1.68462   \n",
              "2017-10-01                                                       1.04447   \n",
              "2017-11-01                                                                 \n",
              "2017-12-01                                                                 \n",
              "2018-01-01                                                                 \n",
              "2018-02-01                                                                 \n",
              "2018-03-01                                                                 \n",
              "2018-04-01                                                                 \n",
              "2018-05-01                                                                 \n",
              "\n",
              "order_month       2017-11-01 2017-12-01 2018-01-01 2018-02-01 2018-03-01  \\\n",
              "first_order_month                                                          \n",
              "2017-06-01           3.23881    4.43548    3.70213    3.65517    3.37778   \n",
              "2017-07-01           1.46939    2.15789    1.66667    1.25641    1.38095   \n",
              "2017-08-01           1.81818        2.1     1.9375    1.63333    1.77273   \n",
              "2017-09-01               1.6    2.21622    1.28846    1.70312    1.63636   \n",
              "2017-10-01           1.51942    1.31707    1.32609     1.3871    1.43056   \n",
              "2017-11-01           1.04974    1.75676        1.5    1.98113    1.67901   \n",
              "2017-12-01                      1.05909    1.84247    1.96117    1.84536   \n",
              "2018-01-01                                 1.05129    1.94737    1.91566   \n",
              "2018-02-01                                            1.03232    1.87288   \n",
              "2018-03-01                                                       1.07331   \n",
              "2018-04-01                                                                 \n",
              "2018-05-01                                                                 \n",
              "\n",
              "order_month       2018-04-01  2018-05-01  \n",
              "first_order_month                         \n",
              "2017-06-01           2.13333    1.622642  \n",
              "2017-07-01           1.09091    2.038462  \n",
              "2017-08-01           2.42105    1.483871  \n",
              "2017-09-01           1.51351    1.418605  \n",
              "2017-10-01           1.53571    1.865672  \n",
              "2017-11-01           1.22917    1.645161  \n",
              "2017-12-01              1.72    1.666667  \n",
              "2018-01-01           1.48837    1.733333  \n",
              "2018-02-01           1.43103    1.794872  \n",
              "2018-03-01           1.97778    3.034483  \n",
              "2018-04-01            1.0435    2.826087  \n",
              "2018-05-01                      0.984270  "
            ]
          },
          "metadata": {
            "tags": []
          },
          "execution_count": 31
        }
      ]
    },
    {
      "cell_type": "markdown",
      "metadata": {
        "id": "bLQzXiOJvmKb"
      },
      "source": [
        "Так же для полноты картины выведем количество активных покупателей когорты помесячно."
      ]
    },
    {
      "cell_type": "code",
      "metadata": {
        "colab": {
          "base_uri": "https://localhost:8080/",
          "height": 487
        },
        "id": "sJf0IEugiAzU",
        "outputId": "ce6fa35c-a868-4146-a0d7-2480c2753810"
      },
      "source": [
        "print('Количество покупателей внутри когорты')\n",
        "cohorts_month.pivot_table(index='first_order_month',\n",
        "                          columns='order_month',\n",
        "                          values='users_nunique',\n",
        "                          aggfunc='mean'\n",
        "                         ).fillna('')"
      ],
      "execution_count": 32,
      "outputs": [
        {
          "output_type": "stream",
          "text": [
            "Количество покупателей внутри когорты\n"
          ],
          "name": "stdout"
        },
        {
          "output_type": "execute_result",
          "data": {
            "text/html": [
              "<div>\n",
              "<style scoped>\n",
              "    .dataframe tbody tr th:only-of-type {\n",
              "        vertical-align: middle;\n",
              "    }\n",
              "\n",
              "    .dataframe tbody tr th {\n",
              "        vertical-align: top;\n",
              "    }\n",
              "\n",
              "    .dataframe thead th {\n",
              "        text-align: right;\n",
              "    }\n",
              "</style>\n",
              "<table border=\"1\" class=\"dataframe\">\n",
              "  <thead>\n",
              "    <tr style=\"text-align: right;\">\n",
              "      <th>order_month</th>\n",
              "      <th>2017-06-01</th>\n",
              "      <th>2017-07-01</th>\n",
              "      <th>2017-08-01</th>\n",
              "      <th>2017-09-01</th>\n",
              "      <th>2017-10-01</th>\n",
              "      <th>2017-11-01</th>\n",
              "      <th>2017-12-01</th>\n",
              "      <th>2018-01-01</th>\n",
              "      <th>2018-02-01</th>\n",
              "      <th>2018-03-01</th>\n",
              "      <th>2018-04-01</th>\n",
              "      <th>2018-05-01</th>\n",
              "    </tr>\n",
              "    <tr>\n",
              "      <th>first_order_month</th>\n",
              "      <th></th>\n",
              "      <th></th>\n",
              "      <th></th>\n",
              "      <th></th>\n",
              "      <th></th>\n",
              "      <th></th>\n",
              "      <th></th>\n",
              "      <th></th>\n",
              "      <th></th>\n",
              "      <th></th>\n",
              "      <th></th>\n",
              "      <th></th>\n",
              "    </tr>\n",
              "  </thead>\n",
              "  <tbody>\n",
              "    <tr>\n",
              "      <th>2017-06-01</th>\n",
              "      <td>2023</td>\n",
              "      <td>61</td>\n",
              "      <td>50</td>\n",
              "      <td>54</td>\n",
              "      <td>88</td>\n",
              "      <td>67</td>\n",
              "      <td>62</td>\n",
              "      <td>47</td>\n",
              "      <td>58</td>\n",
              "      <td>45</td>\n",
              "      <td>45</td>\n",
              "      <td>53.0</td>\n",
              "    </tr>\n",
              "    <tr>\n",
              "      <th>2017-07-01</th>\n",
              "      <td></td>\n",
              "      <td>1923</td>\n",
              "      <td>52</td>\n",
              "      <td>57</td>\n",
              "      <td>64</td>\n",
              "      <td>49</td>\n",
              "      <td>38</td>\n",
              "      <td>36</td>\n",
              "      <td>39</td>\n",
              "      <td>42</td>\n",
              "      <td>22</td>\n",
              "      <td>26.0</td>\n",
              "    </tr>\n",
              "    <tr>\n",
              "      <th>2017-08-01</th>\n",
              "      <td></td>\n",
              "      <td></td>\n",
              "      <td>1370</td>\n",
              "      <td>58</td>\n",
              "      <td>53</td>\n",
              "      <td>44</td>\n",
              "      <td>40</td>\n",
              "      <td>32</td>\n",
              "      <td>30</td>\n",
              "      <td>44</td>\n",
              "      <td>19</td>\n",
              "      <td>31.0</td>\n",
              "    </tr>\n",
              "    <tr>\n",
              "      <th>2017-09-01</th>\n",
              "      <td></td>\n",
              "      <td></td>\n",
              "      <td></td>\n",
              "      <td>2581</td>\n",
              "      <td>130</td>\n",
              "      <td>100</td>\n",
              "      <td>74</td>\n",
              "      <td>52</td>\n",
              "      <td>64</td>\n",
              "      <td>66</td>\n",
              "      <td>37</td>\n",
              "      <td>43.0</td>\n",
              "    </tr>\n",
              "    <tr>\n",
              "      <th>2017-10-01</th>\n",
              "      <td></td>\n",
              "      <td></td>\n",
              "      <td></td>\n",
              "      <td></td>\n",
              "      <td>4340</td>\n",
              "      <td>206</td>\n",
              "      <td>123</td>\n",
              "      <td>92</td>\n",
              "      <td>93</td>\n",
              "      <td>72</td>\n",
              "      <td>56</td>\n",
              "      <td>67.0</td>\n",
              "    </tr>\n",
              "    <tr>\n",
              "      <th>2017-11-01</th>\n",
              "      <td></td>\n",
              "      <td></td>\n",
              "      <td></td>\n",
              "      <td></td>\n",
              "      <td></td>\n",
              "      <td>4081</td>\n",
              "      <td>222</td>\n",
              "      <td>120</td>\n",
              "      <td>106</td>\n",
              "      <td>81</td>\n",
              "      <td>48</td>\n",
              "      <td>62.0</td>\n",
              "    </tr>\n",
              "    <tr>\n",
              "      <th>2017-12-01</th>\n",
              "      <td></td>\n",
              "      <td></td>\n",
              "      <td></td>\n",
              "      <td></td>\n",
              "      <td></td>\n",
              "      <td></td>\n",
              "      <td>4383</td>\n",
              "      <td>146</td>\n",
              "      <td>103</td>\n",
              "      <td>97</td>\n",
              "      <td>50</td>\n",
              "      <td>63.0</td>\n",
              "    </tr>\n",
              "    <tr>\n",
              "      <th>2018-01-01</th>\n",
              "      <td></td>\n",
              "      <td></td>\n",
              "      <td></td>\n",
              "      <td></td>\n",
              "      <td></td>\n",
              "      <td></td>\n",
              "      <td></td>\n",
              "      <td>3373</td>\n",
              "      <td>114</td>\n",
              "      <td>83</td>\n",
              "      <td>43</td>\n",
              "      <td>45.0</td>\n",
              "    </tr>\n",
              "    <tr>\n",
              "      <th>2018-02-01</th>\n",
              "      <td></td>\n",
              "      <td></td>\n",
              "      <td></td>\n",
              "      <td></td>\n",
              "      <td></td>\n",
              "      <td></td>\n",
              "      <td></td>\n",
              "      <td></td>\n",
              "      <td>3651</td>\n",
              "      <td>118</td>\n",
              "      <td>58</td>\n",
              "      <td>39.0</td>\n",
              "    </tr>\n",
              "    <tr>\n",
              "      <th>2018-03-01</th>\n",
              "      <td></td>\n",
              "      <td></td>\n",
              "      <td></td>\n",
              "      <td></td>\n",
              "      <td></td>\n",
              "      <td></td>\n",
              "      <td></td>\n",
              "      <td></td>\n",
              "      <td></td>\n",
              "      <td>3533</td>\n",
              "      <td>90</td>\n",
              "      <td>58.0</td>\n",
              "    </tr>\n",
              "    <tr>\n",
              "      <th>2018-04-01</th>\n",
              "      <td></td>\n",
              "      <td></td>\n",
              "      <td></td>\n",
              "      <td></td>\n",
              "      <td></td>\n",
              "      <td></td>\n",
              "      <td></td>\n",
              "      <td></td>\n",
              "      <td></td>\n",
              "      <td></td>\n",
              "      <td>2276</td>\n",
              "      <td>69.0</td>\n",
              "    </tr>\n",
              "    <tr>\n",
              "      <th>2018-05-01</th>\n",
              "      <td></td>\n",
              "      <td></td>\n",
              "      <td></td>\n",
              "      <td></td>\n",
              "      <td></td>\n",
              "      <td></td>\n",
              "      <td></td>\n",
              "      <td></td>\n",
              "      <td></td>\n",
              "      <td></td>\n",
              "      <td></td>\n",
              "      <td>2988.0</td>\n",
              "    </tr>\n",
              "  </tbody>\n",
              "</table>\n",
              "</div>"
            ],
            "text/plain": [
              "order_month       2017-06-01 2017-07-01 2017-08-01 2017-09-01 2017-10-01  \\\n",
              "first_order_month                                                          \n",
              "2017-06-01              2023         61         50         54         88   \n",
              "2017-07-01                         1923         52         57         64   \n",
              "2017-08-01                                    1370         58         53   \n",
              "2017-09-01                                               2581        130   \n",
              "2017-10-01                                                          4340   \n",
              "2017-11-01                                                                 \n",
              "2017-12-01                                                                 \n",
              "2018-01-01                                                                 \n",
              "2018-02-01                                                                 \n",
              "2018-03-01                                                                 \n",
              "2018-04-01                                                                 \n",
              "2018-05-01                                                                 \n",
              "\n",
              "order_month       2017-11-01 2017-12-01 2018-01-01 2018-02-01 2018-03-01  \\\n",
              "first_order_month                                                          \n",
              "2017-06-01                67         62         47         58         45   \n",
              "2017-07-01                49         38         36         39         42   \n",
              "2017-08-01                44         40         32         30         44   \n",
              "2017-09-01               100         74         52         64         66   \n",
              "2017-10-01               206        123         92         93         72   \n",
              "2017-11-01              4081        222        120        106         81   \n",
              "2017-12-01                         4383        146        103         97   \n",
              "2018-01-01                                    3373        114         83   \n",
              "2018-02-01                                               3651        118   \n",
              "2018-03-01                                                          3533   \n",
              "2018-04-01                                                                 \n",
              "2018-05-01                                                                 \n",
              "\n",
              "order_month       2018-04-01  2018-05-01  \n",
              "first_order_month                         \n",
              "2017-06-01                45        53.0  \n",
              "2017-07-01                22        26.0  \n",
              "2017-08-01                19        31.0  \n",
              "2017-09-01                37        43.0  \n",
              "2017-10-01                56        67.0  \n",
              "2017-11-01                48        62.0  \n",
              "2017-12-01                50        63.0  \n",
              "2018-01-01                43        45.0  \n",
              "2018-02-01                58        39.0  \n",
              "2018-03-01                90        58.0  \n",
              "2018-04-01              2276        69.0  \n",
              "2018-05-01                        2988.0  "
            ]
          },
          "metadata": {
            "tags": []
          },
          "execution_count": 32
        }
      ]
    },
    {
      "cell_type": "markdown",
      "metadata": {
        "id": "d23SMiChwLXM"
      },
      "source": [
        "* Мы видим резкий спад после первой покупки - большинство пользователей оформляют заказ единожды.\n",
        "* Оставшиеся в сервисе покупатели совершают максимум 1.5-2 покупки в месяц.\n",
        "* При этом лояльные пользователи первой когорты (те, кто в итоге совершил более одной покупки) покупали почти в 2 раза больше пользователей из других когорт.\n",
        "* После первого месяца количество покупателей в когорте резко снижается.\n",
        "* В осенне-зимний период (с октября по март) количество новых покупателей больше, чем в другое время года.\n",
        "* При этом в ноябре, декабре и январе количество покупателей в целом уменьшается во всех когортах."
      ]
    },
    {
      "cell_type": "markdown",
      "metadata": {
        "id": "bozSqQYEz32-"
      },
      "source": [
        "\n",
        "Рассчитаем средний чек покупателей в месяц."
      ]
    },
    {
      "cell_type": "code",
      "metadata": {
        "colab": {
          "base_uri": "https://localhost:8080/",
          "height": 922
        },
        "id": "vcct0SLKiArr",
        "outputId": "ab503e66-15a4-43dd-a9b7-87df6507f5a0"
      },
      "source": [
        "# Добавим в нашу группировку средний чек покупателя:\n",
        "cohorts_month['revenue_per_user'] = cohorts_month['revenue'] / cohorts_month['users_nunique']\n",
        "\n",
        "display(cohorts_month)\n",
        "\n",
        "#Построим сводную таблицу изменения среднего чека в когортах по месяцу совершения покупки:\n",
        "cohorts_month.pivot_table(index='first_order_month',\n",
        "                          columns='order_month',\n",
        "                          values='revenue_per_user',\n",
        "                          aggfunc='mean'\n",
        "                         ).fillna('')"
      ],
      "execution_count": 33,
      "outputs": [
        {
          "output_type": "display_data",
          "data": {
            "text/html": [
              "<div>\n",
              "<style scoped>\n",
              "    .dataframe tbody tr th:only-of-type {\n",
              "        vertical-align: middle;\n",
              "    }\n",
              "\n",
              "    .dataframe tbody tr th {\n",
              "        vertical-align: top;\n",
              "    }\n",
              "\n",
              "    .dataframe thead th {\n",
              "        text-align: right;\n",
              "    }\n",
              "</style>\n",
              "<table border=\"1\" class=\"dataframe\">\n",
              "  <thead>\n",
              "    <tr style=\"text-align: right;\">\n",
              "      <th></th>\n",
              "      <th></th>\n",
              "      <th>orders_count</th>\n",
              "      <th>users_nunique</th>\n",
              "      <th>revenue</th>\n",
              "      <th>orders_per_user</th>\n",
              "      <th>revenue_per_user</th>\n",
              "    </tr>\n",
              "    <tr>\n",
              "      <th>first_order_month</th>\n",
              "      <th>order_month</th>\n",
              "      <th></th>\n",
              "      <th></th>\n",
              "      <th></th>\n",
              "      <th></th>\n",
              "      <th></th>\n",
              "    </tr>\n",
              "  </thead>\n",
              "  <tbody>\n",
              "    <tr>\n",
              "      <th rowspan=\"5\" valign=\"top\">2017-06-01</th>\n",
              "      <th>2017-06-01</th>\n",
              "      <td>2245</td>\n",
              "      <td>2023</td>\n",
              "      <td>9557.49</td>\n",
              "      <td>1.109738</td>\n",
              "      <td>4.724414</td>\n",
              "    </tr>\n",
              "    <tr>\n",
              "      <th>2017-07-01</th>\n",
              "      <td>176</td>\n",
              "      <td>61</td>\n",
              "      <td>981.82</td>\n",
              "      <td>2.885246</td>\n",
              "      <td>16.095410</td>\n",
              "    </tr>\n",
              "    <tr>\n",
              "      <th>2017-08-01</th>\n",
              "      <td>174</td>\n",
              "      <td>50</td>\n",
              "      <td>885.34</td>\n",
              "      <td>3.480000</td>\n",
              "      <td>17.706800</td>\n",
              "    </tr>\n",
              "    <tr>\n",
              "      <th>2017-09-01</th>\n",
              "      <td>223</td>\n",
              "      <td>54</td>\n",
              "      <td>1931.30</td>\n",
              "      <td>4.129630</td>\n",
              "      <td>35.764815</td>\n",
              "    </tr>\n",
              "    <tr>\n",
              "      <th>2017-10-01</th>\n",
              "      <td>292</td>\n",
              "      <td>88</td>\n",
              "      <td>2068.58</td>\n",
              "      <td>3.318182</td>\n",
              "      <td>23.506591</td>\n",
              "    </tr>\n",
              "    <tr>\n",
              "      <th>...</th>\n",
              "      <th>...</th>\n",
              "      <td>...</td>\n",
              "      <td>...</td>\n",
              "      <td>...</td>\n",
              "      <td>...</td>\n",
              "      <td>...</td>\n",
              "    </tr>\n",
              "    <tr>\n",
              "      <th rowspan=\"2\" valign=\"top\">2018-03-01</th>\n",
              "      <th>2018-04-01</th>\n",
              "      <td>178</td>\n",
              "      <td>90</td>\n",
              "      <td>1063.05</td>\n",
              "      <td>1.977778</td>\n",
              "      <td>11.811667</td>\n",
              "    </tr>\n",
              "    <tr>\n",
              "      <th>2018-05-01</th>\n",
              "      <td>176</td>\n",
              "      <td>58</td>\n",
              "      <td>1114.87</td>\n",
              "      <td>3.034483</td>\n",
              "      <td>19.221897</td>\n",
              "    </tr>\n",
              "    <tr>\n",
              "      <th rowspan=\"2\" valign=\"top\">2018-04-01</th>\n",
              "      <th>2018-04-01</th>\n",
              "      <td>2375</td>\n",
              "      <td>2276</td>\n",
              "      <td>10600.69</td>\n",
              "      <td>1.043497</td>\n",
              "      <td>4.657597</td>\n",
              "    </tr>\n",
              "    <tr>\n",
              "      <th>2018-05-01</th>\n",
              "      <td>195</td>\n",
              "      <td>69</td>\n",
              "      <td>1209.92</td>\n",
              "      <td>2.826087</td>\n",
              "      <td>17.535072</td>\n",
              "    </tr>\n",
              "    <tr>\n",
              "      <th>2018-05-01</th>\n",
              "      <th>2018-05-01</th>\n",
              "      <td>2941</td>\n",
              "      <td>2988</td>\n",
              "      <td>13925.76</td>\n",
              "      <td>0.984270</td>\n",
              "      <td>4.660562</td>\n",
              "    </tr>\n",
              "  </tbody>\n",
              "</table>\n",
              "<p>78 rows × 5 columns</p>\n",
              "</div>"
            ],
            "text/plain": [
              "                               orders_count  users_nunique   revenue  \\\n",
              "first_order_month order_month                                          \n",
              "2017-06-01        2017-06-01           2245           2023   9557.49   \n",
              "                  2017-07-01            176             61    981.82   \n",
              "                  2017-08-01            174             50    885.34   \n",
              "                  2017-09-01            223             54   1931.30   \n",
              "                  2017-10-01            292             88   2068.58   \n",
              "...                                     ...            ...       ...   \n",
              "2018-03-01        2018-04-01            178             90   1063.05   \n",
              "                  2018-05-01            176             58   1114.87   \n",
              "2018-04-01        2018-04-01           2375           2276  10600.69   \n",
              "                  2018-05-01            195             69   1209.92   \n",
              "2018-05-01        2018-05-01           2941           2988  13925.76   \n",
              "\n",
              "                               orders_per_user  revenue_per_user  \n",
              "first_order_month order_month                                     \n",
              "2017-06-01        2017-06-01          1.109738          4.724414  \n",
              "                  2017-07-01          2.885246         16.095410  \n",
              "                  2017-08-01          3.480000         17.706800  \n",
              "                  2017-09-01          4.129630         35.764815  \n",
              "                  2017-10-01          3.318182         23.506591  \n",
              "...                                        ...               ...  \n",
              "2018-03-01        2018-04-01          1.977778         11.811667  \n",
              "                  2018-05-01          3.034483         19.221897  \n",
              "2018-04-01        2018-04-01          1.043497          4.657597  \n",
              "                  2018-05-01          2.826087         17.535072  \n",
              "2018-05-01        2018-05-01          0.984270          4.660562  \n",
              "\n",
              "[78 rows x 5 columns]"
            ]
          },
          "metadata": {
            "tags": []
          }
        },
        {
          "output_type": "execute_result",
          "data": {
            "text/html": [
              "<div>\n",
              "<style scoped>\n",
              "    .dataframe tbody tr th:only-of-type {\n",
              "        vertical-align: middle;\n",
              "    }\n",
              "\n",
              "    .dataframe tbody tr th {\n",
              "        vertical-align: top;\n",
              "    }\n",
              "\n",
              "    .dataframe thead th {\n",
              "        text-align: right;\n",
              "    }\n",
              "</style>\n",
              "<table border=\"1\" class=\"dataframe\">\n",
              "  <thead>\n",
              "    <tr style=\"text-align: right;\">\n",
              "      <th>order_month</th>\n",
              "      <th>2017-06-01</th>\n",
              "      <th>2017-07-01</th>\n",
              "      <th>2017-08-01</th>\n",
              "      <th>2017-09-01</th>\n",
              "      <th>2017-10-01</th>\n",
              "      <th>2017-11-01</th>\n",
              "      <th>2017-12-01</th>\n",
              "      <th>2018-01-01</th>\n",
              "      <th>2018-02-01</th>\n",
              "      <th>2018-03-01</th>\n",
              "      <th>2018-04-01</th>\n",
              "      <th>2018-05-01</th>\n",
              "    </tr>\n",
              "    <tr>\n",
              "      <th>first_order_month</th>\n",
              "      <th></th>\n",
              "      <th></th>\n",
              "      <th></th>\n",
              "      <th></th>\n",
              "      <th></th>\n",
              "      <th></th>\n",
              "      <th></th>\n",
              "      <th></th>\n",
              "      <th></th>\n",
              "      <th></th>\n",
              "      <th></th>\n",
              "      <th></th>\n",
              "    </tr>\n",
              "  </thead>\n",
              "  <tbody>\n",
              "    <tr>\n",
              "      <th>2017-06-01</th>\n",
              "      <td>4.72441</td>\n",
              "      <td>16.0954</td>\n",
              "      <td>17.7068</td>\n",
              "      <td>35.7648</td>\n",
              "      <td>23.5066</td>\n",
              "      <td>22.2078</td>\n",
              "      <td>31.0119</td>\n",
              "      <td>25.0332</td>\n",
              "      <td>19.2957</td>\n",
              "      <td>27.2336</td>\n",
              "      <td>25.6813</td>\n",
              "      <td>9.804151</td>\n",
              "    </tr>\n",
              "    <tr>\n",
              "      <th>2017-07-01</th>\n",
              "      <td></td>\n",
              "      <td>6.01022</td>\n",
              "      <td>12.3963</td>\n",
              "      <td>21.036</td>\n",
              "      <td>10.7861</td>\n",
              "      <td>6.93816</td>\n",
              "      <td>7.89684</td>\n",
              "      <td>6.42111</td>\n",
              "      <td>6.99282</td>\n",
              "      <td>7.38214</td>\n",
              "      <td>12.8618</td>\n",
              "      <td>11.513846</td>\n",
              "    </tr>\n",
              "    <tr>\n",
              "      <th>2017-08-01</th>\n",
              "      <td></td>\n",
              "      <td></td>\n",
              "      <td>5.27652</td>\n",
              "      <td>11.1488</td>\n",
              "      <td>11.8513</td>\n",
              "      <td>12.183</td>\n",
              "      <td>16.9212</td>\n",
              "      <td>12.1391</td>\n",
              "      <td>9.62033</td>\n",
              "      <td>12.6105</td>\n",
              "      <td>21.07</td>\n",
              "      <td>8.307419</td>\n",
              "    </tr>\n",
              "    <tr>\n",
              "      <th>2017-09-01</th>\n",
              "      <td></td>\n",
              "      <td></td>\n",
              "      <td></td>\n",
              "      <td>5.64453</td>\n",
              "      <td>22.1884</td>\n",
              "      <td>13.4452</td>\n",
              "      <td>138.669</td>\n",
              "      <td>19.8815</td>\n",
              "      <td>26.095</td>\n",
              "      <td>27.4371</td>\n",
              "      <td>16.9614</td>\n",
              "      <td>11.044651</td>\n",
              "    </tr>\n",
              "    <tr>\n",
              "      <th>2017-10-01</th>\n",
              "      <td></td>\n",
              "      <td></td>\n",
              "      <td></td>\n",
              "      <td></td>\n",
              "      <td>5.00373</td>\n",
              "      <td>11.2874</td>\n",
              "      <td>6.75325</td>\n",
              "      <td>7.41315</td>\n",
              "      <td>7.0728</td>\n",
              "      <td>7.25514</td>\n",
              "      <td>6.57321</td>\n",
              "      <td>7.479701</td>\n",
              "    </tr>\n",
              "    <tr>\n",
              "      <th>2017-11-01</th>\n",
              "      <td></td>\n",
              "      <td></td>\n",
              "      <td></td>\n",
              "      <td></td>\n",
              "      <td></td>\n",
              "      <td>5.15468</td>\n",
              "      <td>7.33905</td>\n",
              "      <td>6.78658</td>\n",
              "      <td>12.5107</td>\n",
              "      <td>7.45728</td>\n",
              "      <td>4.58083</td>\n",
              "      <td>7.564839</td>\n",
              "    </tr>\n",
              "    <tr>\n",
              "      <th>2017-12-01</th>\n",
              "      <td></td>\n",
              "      <td></td>\n",
              "      <td></td>\n",
              "      <td></td>\n",
              "      <td></td>\n",
              "      <td></td>\n",
              "      <td>4.73819</td>\n",
              "      <td>7.81658</td>\n",
              "      <td>39.366</td>\n",
              "      <td>48.1351</td>\n",
              "      <td>27.4314</td>\n",
              "      <td>23.518413</td>\n",
              "    </tr>\n",
              "    <tr>\n",
              "      <th>2018-01-01</th>\n",
              "      <td></td>\n",
              "      <td></td>\n",
              "      <td></td>\n",
              "      <td></td>\n",
              "      <td></td>\n",
              "      <td></td>\n",
              "      <td></td>\n",
              "      <td>4.13564</td>\n",
              "      <td>8.72123</td>\n",
              "      <td>12.3655</td>\n",
              "      <td>11.1998</td>\n",
              "      <td>4.699556</td>\n",
              "    </tr>\n",
              "    <tr>\n",
              "      <th>2018-02-01</th>\n",
              "      <td></td>\n",
              "      <td></td>\n",
              "      <td></td>\n",
              "      <td></td>\n",
              "      <td></td>\n",
              "      <td></td>\n",
              "      <td></td>\n",
              "      <td></td>\n",
              "      <td>4.15699</td>\n",
              "      <td>8.61</td>\n",
              "      <td>4.94241</td>\n",
              "      <td>6.941026</td>\n",
              "    </tr>\n",
              "    <tr>\n",
              "      <th>2018-03-01</th>\n",
              "      <td></td>\n",
              "      <td></td>\n",
              "      <td></td>\n",
              "      <td></td>\n",
              "      <td></td>\n",
              "      <td></td>\n",
              "      <td></td>\n",
              "      <td></td>\n",
              "      <td></td>\n",
              "      <td>4.8388</td>\n",
              "      <td>11.8117</td>\n",
              "      <td>19.221897</td>\n",
              "    </tr>\n",
              "    <tr>\n",
              "      <th>2018-04-01</th>\n",
              "      <td></td>\n",
              "      <td></td>\n",
              "      <td></td>\n",
              "      <td></td>\n",
              "      <td></td>\n",
              "      <td></td>\n",
              "      <td></td>\n",
              "      <td></td>\n",
              "      <td></td>\n",
              "      <td></td>\n",
              "      <td>4.6576</td>\n",
              "      <td>17.535072</td>\n",
              "    </tr>\n",
              "    <tr>\n",
              "      <th>2018-05-01</th>\n",
              "      <td></td>\n",
              "      <td></td>\n",
              "      <td></td>\n",
              "      <td></td>\n",
              "      <td></td>\n",
              "      <td></td>\n",
              "      <td></td>\n",
              "      <td></td>\n",
              "      <td></td>\n",
              "      <td></td>\n",
              "      <td></td>\n",
              "      <td>4.660562</td>\n",
              "    </tr>\n",
              "  </tbody>\n",
              "</table>\n",
              "</div>"
            ],
            "text/plain": [
              "order_month       2017-06-01 2017-07-01 2017-08-01 2017-09-01 2017-10-01  \\\n",
              "first_order_month                                                          \n",
              "2017-06-01           4.72441    16.0954    17.7068    35.7648    23.5066   \n",
              "2017-07-01                      6.01022    12.3963     21.036    10.7861   \n",
              "2017-08-01                                 5.27652    11.1488    11.8513   \n",
              "2017-09-01                                            5.64453    22.1884   \n",
              "2017-10-01                                                       5.00373   \n",
              "2017-11-01                                                                 \n",
              "2017-12-01                                                                 \n",
              "2018-01-01                                                                 \n",
              "2018-02-01                                                                 \n",
              "2018-03-01                                                                 \n",
              "2018-04-01                                                                 \n",
              "2018-05-01                                                                 \n",
              "\n",
              "order_month       2017-11-01 2017-12-01 2018-01-01 2018-02-01 2018-03-01  \\\n",
              "first_order_month                                                          \n",
              "2017-06-01           22.2078    31.0119    25.0332    19.2957    27.2336   \n",
              "2017-07-01           6.93816    7.89684    6.42111    6.99282    7.38214   \n",
              "2017-08-01            12.183    16.9212    12.1391    9.62033    12.6105   \n",
              "2017-09-01           13.4452    138.669    19.8815     26.095    27.4371   \n",
              "2017-10-01           11.2874    6.75325    7.41315     7.0728    7.25514   \n",
              "2017-11-01           5.15468    7.33905    6.78658    12.5107    7.45728   \n",
              "2017-12-01                      4.73819    7.81658     39.366    48.1351   \n",
              "2018-01-01                                 4.13564    8.72123    12.3655   \n",
              "2018-02-01                                            4.15699       8.61   \n",
              "2018-03-01                                                        4.8388   \n",
              "2018-04-01                                                                 \n",
              "2018-05-01                                                                 \n",
              "\n",
              "order_month       2018-04-01  2018-05-01  \n",
              "first_order_month                         \n",
              "2017-06-01           25.6813    9.804151  \n",
              "2017-07-01           12.8618   11.513846  \n",
              "2017-08-01             21.07    8.307419  \n",
              "2017-09-01           16.9614   11.044651  \n",
              "2017-10-01           6.57321    7.479701  \n",
              "2017-11-01           4.58083    7.564839  \n",
              "2017-12-01           27.4314   23.518413  \n",
              "2018-01-01           11.1998    4.699556  \n",
              "2018-02-01           4.94241    6.941026  \n",
              "2018-03-01           11.8117   19.221897  \n",
              "2018-04-01            4.6576   17.535072  \n",
              "2018-05-01                      4.660562  "
            ]
          },
          "metadata": {
            "tags": []
          },
          "execution_count": 33
        }
      ]
    },
    {
      "cell_type": "markdown",
      "metadata": {
        "id": "7iXbwr2w0AEz"
      },
      "source": [
        "* Средний чек первой покупки в каждой когорте меньше следующего.\n",
        "* Средний чек июньской когорты почти ежемесячно (кроме декабря, апреля и мая) больше среднего чека других когорт. Возможно, данные пользователи попали в какую-то программу лояльности/акцию/рассылку, которая повлияла на последующие покупки.\n",
        "* В декабре выделяется средний чек сентябрьской когорты - 138.7 на покупателя. В целом, в декабре средний чек почти всех когорт выше предыдущего - высокий предновогодний сезон в самом разгаре.\n",
        "* В декабрьской когорте, начиная с февраля, наблюдаются высокие значения среднего чека - возможно, данные пользователи стали участниками удачной маркетинговой кампании."
      ]
    },
    {
      "cell_type": "markdown",
      "metadata": {
        "id": "h5YlXvjeaQaw"
      },
      "source": [
        "**LTV**"
      ]
    },
    {
      "cell_type": "markdown",
      "metadata": {
        "id": "piwYY0-SaQRI"
      },
      "source": [
        "Рассчитаем итоговую сумму денег, которую пользователь приносит со всех своих покупок."
      ]
    },
    {
      "cell_type": "code",
      "metadata": {
        "colab": {
          "base_uri": "https://localhost:8080/",
          "height": 470
        },
        "id": "mKIjBg2UaV3X",
        "outputId": "46655706-c64a-4933-9032-9d5bf9dfcdd7"
      },
      "source": [
        "# Месяц первой покупки каждого пользователя:\n",
        "first_orders = orders.groupby('uid').agg({'order_month': 'min'}).reset_index()\n",
        "first_orders.columns = ['uid', 'first_order_month']\n",
        "\n",
        "# Посчитаем количество новых покупателей `n_buyers` за каждый месяц:\n",
        "cohort_sizes = first_orders.groupby('first_order_month').agg({'uid': 'nunique'}).reset_index()\n",
        "cohort_sizes.columns = ['first_order_month', 'n_buyers']\n",
        "#display(cohort_sizes.head())\n",
        "\n",
        "cohorts = orders.groupby(['first_order_month','order_month']).agg({'revenue': 'sum'}).reset_index()\n",
        "#display(cohorts.head())\n",
        "\n",
        "report = pd.merge(cohort_sizes, cohorts, on='first_order_month')\n",
        "\n",
        "report['age'] = (report['order_month'] - report['first_order_month']) / np.timedelta64(1, 'M')\n",
        "report['age'] = report['age'].round().astype('int')\n",
        "report['ltv'] = report['revenue'] / report['n_buyers']\n",
        "\n",
        "#display(report.head())\n",
        "\n",
        "output = report.pivot_table(index='first_order_month', \n",
        "                            columns='age', \n",
        "                            values='ltv', \n",
        "                            aggfunc='mean')\n",
        "\n",
        "print('Средняя сумма денег, которую приносит пользователь с течением времени (накопительная)')\n",
        "display(output.cumsum(axis=1).round(2).fillna(''))"
      ],
      "execution_count": 34,
      "outputs": [
        {
          "output_type": "stream",
          "text": [
            "Средняя сумма денег, которую приносит пользователь с течением времени (накопительная)\n"
          ],
          "name": "stdout"
        },
        {
          "output_type": "display_data",
          "data": {
            "text/html": [
              "<div>\n",
              "<style scoped>\n",
              "    .dataframe tbody tr th:only-of-type {\n",
              "        vertical-align: middle;\n",
              "    }\n",
              "\n",
              "    .dataframe tbody tr th {\n",
              "        vertical-align: top;\n",
              "    }\n",
              "\n",
              "    .dataframe thead th {\n",
              "        text-align: right;\n",
              "    }\n",
              "</style>\n",
              "<table border=\"1\" class=\"dataframe\">\n",
              "  <thead>\n",
              "    <tr style=\"text-align: right;\">\n",
              "      <th>age</th>\n",
              "      <th>0</th>\n",
              "      <th>1</th>\n",
              "      <th>2</th>\n",
              "      <th>3</th>\n",
              "      <th>4</th>\n",
              "      <th>5</th>\n",
              "      <th>6</th>\n",
              "      <th>7</th>\n",
              "      <th>8</th>\n",
              "      <th>9</th>\n",
              "      <th>10</th>\n",
              "      <th>11</th>\n",
              "    </tr>\n",
              "    <tr>\n",
              "      <th>first_order_month</th>\n",
              "      <th></th>\n",
              "      <th></th>\n",
              "      <th></th>\n",
              "      <th></th>\n",
              "      <th></th>\n",
              "      <th></th>\n",
              "      <th></th>\n",
              "      <th></th>\n",
              "      <th></th>\n",
              "      <th></th>\n",
              "      <th></th>\n",
              "      <th></th>\n",
              "    </tr>\n",
              "  </thead>\n",
              "  <tbody>\n",
              "    <tr>\n",
              "      <th>2017-06-01</th>\n",
              "      <td>4.72</td>\n",
              "      <td>5.21</td>\n",
              "      <td>5.65</td>\n",
              "      <td>6.6</td>\n",
              "      <td>7.62</td>\n",
              "      <td>8.36</td>\n",
              "      <td>9.31</td>\n",
              "      <td>9.89</td>\n",
              "      <td>10.45</td>\n",
              "      <td>11.05</td>\n",
              "      <td>11.62</td>\n",
              "      <td>11.88</td>\n",
              "    </tr>\n",
              "    <tr>\n",
              "      <th>2017-07-01</th>\n",
              "      <td>6.01</td>\n",
              "      <td>6.35</td>\n",
              "      <td>6.97</td>\n",
              "      <td>7.33</td>\n",
              "      <td>7.5</td>\n",
              "      <td>7.66</td>\n",
              "      <td>7.78</td>\n",
              "      <td>7.92</td>\n",
              "      <td>8.08</td>\n",
              "      <td>8.23</td>\n",
              "      <td>8.39</td>\n",
              "      <td></td>\n",
              "    </tr>\n",
              "    <tr>\n",
              "      <th>2017-08-01</th>\n",
              "      <td>5.28</td>\n",
              "      <td>5.75</td>\n",
              "      <td>6.21</td>\n",
              "      <td>6.6</td>\n",
              "      <td>7.09</td>\n",
              "      <td>7.38</td>\n",
              "      <td>7.59</td>\n",
              "      <td>7.99</td>\n",
              "      <td>8.28</td>\n",
              "      <td>8.47</td>\n",
              "      <td></td>\n",
              "      <td></td>\n",
              "    </tr>\n",
              "    <tr>\n",
              "      <th>2017-09-01</th>\n",
              "      <td>5.64</td>\n",
              "      <td>6.76</td>\n",
              "      <td>7.28</td>\n",
              "      <td>11.26</td>\n",
              "      <td>11.66</td>\n",
              "      <td>12.31</td>\n",
              "      <td>13.01</td>\n",
              "      <td>13.25</td>\n",
              "      <td>13.44</td>\n",
              "      <td></td>\n",
              "      <td></td>\n",
              "      <td></td>\n",
              "    </tr>\n",
              "    <tr>\n",
              "      <th>2017-10-01</th>\n",
              "      <td>5.00</td>\n",
              "      <td>5.54</td>\n",
              "      <td>5.73</td>\n",
              "      <td>5.89</td>\n",
              "      <td>6.04</td>\n",
              "      <td>6.16</td>\n",
              "      <td>6.24</td>\n",
              "      <td>6.36</td>\n",
              "      <td></td>\n",
              "      <td></td>\n",
              "      <td></td>\n",
              "      <td></td>\n",
              "    </tr>\n",
              "    <tr>\n",
              "      <th>2017-11-01</th>\n",
              "      <td>5.15</td>\n",
              "      <td>5.55</td>\n",
              "      <td>5.75</td>\n",
              "      <td>6.08</td>\n",
              "      <td>6.23</td>\n",
              "      <td>6.28</td>\n",
              "      <td>6.4</td>\n",
              "      <td></td>\n",
              "      <td></td>\n",
              "      <td></td>\n",
              "      <td></td>\n",
              "      <td></td>\n",
              "    </tr>\n",
              "    <tr>\n",
              "      <th>2017-12-01</th>\n",
              "      <td>4.74</td>\n",
              "      <td>5</td>\n",
              "      <td>5.92</td>\n",
              "      <td>6.99</td>\n",
              "      <td>7.3</td>\n",
              "      <td>7.64</td>\n",
              "      <td></td>\n",
              "      <td></td>\n",
              "      <td></td>\n",
              "      <td></td>\n",
              "      <td></td>\n",
              "      <td></td>\n",
              "    </tr>\n",
              "    <tr>\n",
              "      <th>2018-01-01</th>\n",
              "      <td>4.14</td>\n",
              "      <td>4.43</td>\n",
              "      <td>4.73</td>\n",
              "      <td>4.88</td>\n",
              "      <td>4.94</td>\n",
              "      <td></td>\n",
              "      <td></td>\n",
              "      <td></td>\n",
              "      <td></td>\n",
              "      <td></td>\n",
              "      <td></td>\n",
              "      <td></td>\n",
              "    </tr>\n",
              "    <tr>\n",
              "      <th>2018-02-01</th>\n",
              "      <td>4.16</td>\n",
              "      <td>4.44</td>\n",
              "      <td>4.51</td>\n",
              "      <td>4.59</td>\n",
              "      <td></td>\n",
              "      <td></td>\n",
              "      <td></td>\n",
              "      <td></td>\n",
              "      <td></td>\n",
              "      <td></td>\n",
              "      <td></td>\n",
              "      <td></td>\n",
              "    </tr>\n",
              "    <tr>\n",
              "      <th>2018-03-01</th>\n",
              "      <td>4.84</td>\n",
              "      <td>5.14</td>\n",
              "      <td>5.46</td>\n",
              "      <td></td>\n",
              "      <td></td>\n",
              "      <td></td>\n",
              "      <td></td>\n",
              "      <td></td>\n",
              "      <td></td>\n",
              "      <td></td>\n",
              "      <td></td>\n",
              "      <td></td>\n",
              "    </tr>\n",
              "    <tr>\n",
              "      <th>2018-04-01</th>\n",
              "      <td>4.66</td>\n",
              "      <td>5.19</td>\n",
              "      <td></td>\n",
              "      <td></td>\n",
              "      <td></td>\n",
              "      <td></td>\n",
              "      <td></td>\n",
              "      <td></td>\n",
              "      <td></td>\n",
              "      <td></td>\n",
              "      <td></td>\n",
              "      <td></td>\n",
              "    </tr>\n",
              "    <tr>\n",
              "      <th>2018-05-01</th>\n",
              "      <td>4.66</td>\n",
              "      <td></td>\n",
              "      <td></td>\n",
              "      <td></td>\n",
              "      <td></td>\n",
              "      <td></td>\n",
              "      <td></td>\n",
              "      <td></td>\n",
              "      <td></td>\n",
              "      <td></td>\n",
              "      <td></td>\n",
              "      <td></td>\n",
              "    </tr>\n",
              "  </tbody>\n",
              "</table>\n",
              "</div>"
            ],
            "text/plain": [
              "age                  0     1     2      3      4      5      6      7      8   \\\n",
              "first_order_month                                                               \n",
              "2017-06-01         4.72  5.21  5.65    6.6   7.62   8.36   9.31   9.89  10.45   \n",
              "2017-07-01         6.01  6.35  6.97   7.33    7.5   7.66   7.78   7.92   8.08   \n",
              "2017-08-01         5.28  5.75  6.21    6.6   7.09   7.38   7.59   7.99   8.28   \n",
              "2017-09-01         5.64  6.76  7.28  11.26  11.66  12.31  13.01  13.25  13.44   \n",
              "2017-10-01         5.00  5.54  5.73   5.89   6.04   6.16   6.24   6.36          \n",
              "2017-11-01         5.15  5.55  5.75   6.08   6.23   6.28    6.4                 \n",
              "2017-12-01         4.74     5  5.92   6.99    7.3   7.64                        \n",
              "2018-01-01         4.14  4.43  4.73   4.88   4.94                               \n",
              "2018-02-01         4.16  4.44  4.51   4.59                                      \n",
              "2018-03-01         4.84  5.14  5.46                                             \n",
              "2018-04-01         4.66  5.19                                                   \n",
              "2018-05-01         4.66                                                         \n",
              "\n",
              "age                   9      10     11  \n",
              "first_order_month                       \n",
              "2017-06-01         11.05  11.62  11.88  \n",
              "2017-07-01          8.23   8.39         \n",
              "2017-08-01          8.47                \n",
              "2017-09-01                              \n",
              "2017-10-01                              \n",
              "2017-11-01                              \n",
              "2017-12-01                              \n",
              "2018-01-01                              \n",
              "2018-02-01                              \n",
              "2018-03-01                              \n",
              "2018-04-01                              \n",
              "2018-05-01                              "
            ]
          },
          "metadata": {
            "tags": []
          }
        }
      ]
    },
    {
      "cell_type": "code",
      "metadata": {
        "colab": {
          "base_uri": "https://localhost:8080/",
          "height": 771
        },
        "id": "tPmBeCFNaVz5",
        "outputId": "e1c790a6-0e92-48d9-94a0-c05fa8e3b9b4"
      },
      "source": [
        "# Итоговый LTV по когортам:\n",
        "report.groupby('first_order_month')['ltv'].sum().plot(figsize=(10,5), grid=True, style='o-', title='Итоговый LTV по когортам')\n",
        "display(report.groupby('first_order_month')['ltv'].sum().reset_index())"
      ],
      "execution_count": 35,
      "outputs": [
        {
          "output_type": "display_data",
          "data": {
            "text/html": [
              "<div>\n",
              "<style scoped>\n",
              "    .dataframe tbody tr th:only-of-type {\n",
              "        vertical-align: middle;\n",
              "    }\n",
              "\n",
              "    .dataframe tbody tr th {\n",
              "        vertical-align: top;\n",
              "    }\n",
              "\n",
              "    .dataframe thead th {\n",
              "        text-align: right;\n",
              "    }\n",
              "</style>\n",
              "<table border=\"1\" class=\"dataframe\">\n",
              "  <thead>\n",
              "    <tr style=\"text-align: right;\">\n",
              "      <th></th>\n",
              "      <th>first_order_month</th>\n",
              "      <th>ltv</th>\n",
              "    </tr>\n",
              "  </thead>\n",
              "  <tbody>\n",
              "    <tr>\n",
              "      <th>0</th>\n",
              "      <td>2017-06-01</td>\n",
              "      <td>11.879234</td>\n",
              "    </tr>\n",
              "    <tr>\n",
              "      <th>1</th>\n",
              "      <td>2017-07-01</td>\n",
              "      <td>8.386854</td>\n",
              "    </tr>\n",
              "    <tr>\n",
              "      <th>2</th>\n",
              "      <td>2017-08-01</td>\n",
              "      <td>8.471723</td>\n",
              "    </tr>\n",
              "    <tr>\n",
              "      <th>3</th>\n",
              "      <td>2017-09-01</td>\n",
              "      <td>13.435227</td>\n",
              "    </tr>\n",
              "    <tr>\n",
              "      <th>4</th>\n",
              "      <td>2017-10-01</td>\n",
              "      <td>6.360242</td>\n",
              "    </tr>\n",
              "    <tr>\n",
              "      <th>5</th>\n",
              "      <td>2017-11-01</td>\n",
              "      <td>6.395244</td>\n",
              "    </tr>\n",
              "    <tr>\n",
              "      <th>6</th>\n",
              "      <td>2017-12-01</td>\n",
              "      <td>7.639913</td>\n",
              "    </tr>\n",
              "    <tr>\n",
              "      <th>7</th>\n",
              "      <td>2018-01-01</td>\n",
              "      <td>4.940151</td>\n",
              "    </tr>\n",
              "    <tr>\n",
              "      <th>8</th>\n",
              "      <td>2018-02-01</td>\n",
              "      <td>4.587921</td>\n",
              "    </tr>\n",
              "    <tr>\n",
              "      <th>9</th>\n",
              "      <td>2018-03-01</td>\n",
              "      <td>5.455253</td>\n",
              "    </tr>\n",
              "    <tr>\n",
              "      <th>10</th>\n",
              "      <td>2018-04-01</td>\n",
              "      <td>5.189196</td>\n",
              "    </tr>\n",
              "    <tr>\n",
              "      <th>11</th>\n",
              "      <td>2018-05-01</td>\n",
              "      <td>4.660562</td>\n",
              "    </tr>\n",
              "  </tbody>\n",
              "</table>\n",
              "</div>"
            ],
            "text/plain": [
              "   first_order_month        ltv\n",
              "0         2017-06-01  11.879234\n",
              "1         2017-07-01   8.386854\n",
              "2         2017-08-01   8.471723\n",
              "3         2017-09-01  13.435227\n",
              "4         2017-10-01   6.360242\n",
              "5         2017-11-01   6.395244\n",
              "6         2017-12-01   7.639913\n",
              "7         2018-01-01   4.940151\n",
              "8         2018-02-01   4.587921\n",
              "9         2018-03-01   5.455253\n",
              "10        2018-04-01   5.189196\n",
              "11        2018-05-01   4.660562"
            ]
          },
          "metadata": {
            "tags": []
          }
        },
        {
          "output_type": "display_data",
          "data": {
            "image/png": "[encoded data removed]",
            "text/plain": [
              "<Figure size 720x360 with 1 Axes>"
            ]
          },
          "metadata": {
            "tags": []
          }
        }
      ]
    },
    {
      "cell_type": "markdown",
      "metadata": {
        "id": "mezCfivQakhk"
      },
      "source": [
        "\n",
        "Такой подсчёт не слишком информативен, т.к. не учитывает продолжительность жизни когорт. Подсчитаем и сравним средние показатели шести первых когорт вплоть до их седьмого месяца жизни (0-6)."
      ]
    },
    {
      "cell_type": "code",
      "metadata": {
        "colab": {
          "base_uri": "https://localhost:8080/",
          "height": 583
        },
        "id": "XFR0NuO5aVuJ",
        "outputId": "f51f71f5-05e4-4d73-9528-d40a9b6e2b77"
      },
      "source": [
        "display(report.query('(first_order_month < \"2017-12-01\") & (age < 7)').groupby('first_order_month')['ltv'].sum().reset_index())\n",
        "\n",
        "report.query('(first_order_month < \"2017-12-01\") & (age < 7)').groupby('first_order_month')['ltv'].sum().plot(figsize=(10,5), grid=True, style='o-', title='Итоговый LTV по когортам (первые 6 когорт до седьмого месяца жизни включительно)')\n",
        "plt.show()"
      ],
      "execution_count": 36,
      "outputs": [
        {
          "output_type": "display_data",
          "data": {
            "text/html": [
              "<div>\n",
              "<style scoped>\n",
              "    .dataframe tbody tr th:only-of-type {\n",
              "        vertical-align: middle;\n",
              "    }\n",
              "\n",
              "    .dataframe tbody tr th {\n",
              "        vertical-align: top;\n",
              "    }\n",
              "\n",
              "    .dataframe thead th {\n",
              "        text-align: right;\n",
              "    }\n",
              "</style>\n",
              "<table border=\"1\" class=\"dataframe\">\n",
              "  <thead>\n",
              "    <tr style=\"text-align: right;\">\n",
              "      <th></th>\n",
              "      <th>first_order_month</th>\n",
              "      <th>ltv</th>\n",
              "    </tr>\n",
              "  </thead>\n",
              "  <tbody>\n",
              "    <tr>\n",
              "      <th>0</th>\n",
              "      <td>2017-06-01</td>\n",
              "      <td>9.310524</td>\n",
              "    </tr>\n",
              "    <tr>\n",
              "      <th>1</th>\n",
              "      <td>2017-07-01</td>\n",
              "      <td>7.780983</td>\n",
              "    </tr>\n",
              "    <tr>\n",
              "      <th>2</th>\n",
              "      <td>2017-08-01</td>\n",
              "      <td>7.586526</td>\n",
              "    </tr>\n",
              "    <tr>\n",
              "      <th>3</th>\n",
              "      <td>2017-09-01</td>\n",
              "      <td>13.008071</td>\n",
              "    </tr>\n",
              "    <tr>\n",
              "      <th>4</th>\n",
              "      <td>2017-10-01</td>\n",
              "      <td>6.244772</td>\n",
              "    </tr>\n",
              "    <tr>\n",
              "      <th>5</th>\n",
              "      <td>2017-11-01</td>\n",
              "      <td>6.395244</td>\n",
              "    </tr>\n",
              "  </tbody>\n",
              "</table>\n",
              "</div>"
            ],
            "text/plain": [
              "  first_order_month        ltv\n",
              "0        2017-06-01   9.310524\n",
              "1        2017-07-01   7.780983\n",
              "2        2017-08-01   7.586526\n",
              "3        2017-09-01  13.008071\n",
              "4        2017-10-01   6.244772\n",
              "5        2017-11-01   6.395244"
            ]
          },
          "metadata": {
            "tags": []
          }
        },
        {
          "output_type": "display_data",
          "data": {
            "image/png": "[encoded data removed]",
            "text/plain": [
              "<Figure size 720x360 with 1 Axes>"
            ]
          },
          "metadata": {
            "tags": []
          }
        }
      ]
    },
    {
      "cell_type": "markdown",
      "metadata": {
        "id": "K8JYHtHdauap"
      },
      "source": [
        "* Больше всего прибыли в среднем принесли пользователи сентябрьской когорты (за счёт крупной покупки в декабре).\n",
        "* Не принимая в расчёт сентябрьскую когорту, в целом прослеживается снижение прибыли на пользователя от когорте к когорте."
      ]
    },
    {
      "cell_type": "markdown",
      "metadata": {
        "id": "3VB9wOAlbDRG"
      },
      "source": [
        "Рассчитаем **САС** (стоимость привлечения клиента) каждой когорты."
      ]
    },
    {
      "cell_type": "code",
      "metadata": {
        "colab": {
          "base_uri": "https://localhost:8080/"
        },
        "id": "UBztZ4I5aUr6",
        "outputId": "3ca5bb10-8ae6-4548-f5c8-9aca7ea1341d"
      },
      "source": [
        "# Добавим в таблицу `costs` поле с месяцем расхода:\n",
        "costs['cost_month'] = costs['dt'].astype('datetime64[M]')\n",
        "\n",
        "# Посчитаем расходы за месяц:\n",
        "monthly_costs = costs.groupby('cost_month')['costs'].sum()\n",
        "monthly_costs.head()"
      ],
      "execution_count": 37,
      "outputs": [
        {
          "output_type": "execute_result",
          "data": {
            "text/plain": [
              "cost_month\n",
              "2017-06-01    18015.00\n",
              "2017-07-01    18240.59\n",
              "2017-08-01    14790.54\n",
              "2017-09-01    24368.91\n",
              "2017-10-01    36322.88\n",
              "Name: costs, dtype: float64"
            ]
          },
          "metadata": {
            "tags": []
          },
          "execution_count": 37
        }
      ]
    },
    {
      "cell_type": "code",
      "metadata": {
        "colab": {
          "base_uri": "https://localhost:8080/",
          "height": 204
        },
        "id": "HWz5PhAeaUny",
        "outputId": "a6bf6db1-c278-47bf-d8ea-13e51c050244"
      },
      "source": [
        "# Добавим данные о расходах в отчёт и посчитаем CAC:\n",
        "report_new = pd.merge(report, monthly_costs, left_on='first_order_month', right_on='cost_month')\n",
        "report_new['cac'] = report_new['costs'] / report_new['n_buyers']\n",
        "report_new.head()"
      ],
      "execution_count": 38,
      "outputs": [
        {
          "output_type": "execute_result",
          "data": {
            "text/html": [
              "<div>\n",
              "<style scoped>\n",
              "    .dataframe tbody tr th:only-of-type {\n",
              "        vertical-align: middle;\n",
              "    }\n",
              "\n",
              "    .dataframe tbody tr th {\n",
              "        vertical-align: top;\n",
              "    }\n",
              "\n",
              "    .dataframe thead th {\n",
              "        text-align: right;\n",
              "    }\n",
              "</style>\n",
              "<table border=\"1\" class=\"dataframe\">\n",
              "  <thead>\n",
              "    <tr style=\"text-align: right;\">\n",
              "      <th></th>\n",
              "      <th>first_order_month</th>\n",
              "      <th>n_buyers</th>\n",
              "      <th>order_month</th>\n",
              "      <th>revenue</th>\n",
              "      <th>age</th>\n",
              "      <th>ltv</th>\n",
              "      <th>costs</th>\n",
              "      <th>cac</th>\n",
              "    </tr>\n",
              "  </thead>\n",
              "  <tbody>\n",
              "    <tr>\n",
              "      <th>0</th>\n",
              "      <td>2017-06-01</td>\n",
              "      <td>2023</td>\n",
              "      <td>2017-06-01</td>\n",
              "      <td>9557.49</td>\n",
              "      <td>0</td>\n",
              "      <td>4.724414</td>\n",
              "      <td>18015.0</td>\n",
              "      <td>8.905091</td>\n",
              "    </tr>\n",
              "    <tr>\n",
              "      <th>1</th>\n",
              "      <td>2017-06-01</td>\n",
              "      <td>2023</td>\n",
              "      <td>2017-07-01</td>\n",
              "      <td>981.82</td>\n",
              "      <td>1</td>\n",
              "      <td>0.485329</td>\n",
              "      <td>18015.0</td>\n",
              "      <td>8.905091</td>\n",
              "    </tr>\n",
              "    <tr>\n",
              "      <th>2</th>\n",
              "      <td>2017-06-01</td>\n",
              "      <td>2023</td>\n",
              "      <td>2017-08-01</td>\n",
              "      <td>885.34</td>\n",
              "      <td>2</td>\n",
              "      <td>0.437637</td>\n",
              "      <td>18015.0</td>\n",
              "      <td>8.905091</td>\n",
              "    </tr>\n",
              "    <tr>\n",
              "      <th>3</th>\n",
              "      <td>2017-06-01</td>\n",
              "      <td>2023</td>\n",
              "      <td>2017-09-01</td>\n",
              "      <td>1931.30</td>\n",
              "      <td>3</td>\n",
              "      <td>0.954671</td>\n",
              "      <td>18015.0</td>\n",
              "      <td>8.905091</td>\n",
              "    </tr>\n",
              "    <tr>\n",
              "      <th>4</th>\n",
              "      <td>2017-06-01</td>\n",
              "      <td>2023</td>\n",
              "      <td>2017-10-01</td>\n",
              "      <td>2068.58</td>\n",
              "      <td>4</td>\n",
              "      <td>1.022531</td>\n",
              "      <td>18015.0</td>\n",
              "      <td>8.905091</td>\n",
              "    </tr>\n",
              "  </tbody>\n",
              "</table>\n",
              "</div>"
            ],
            "text/plain": [
              "  first_order_month  n_buyers order_month  revenue  age       ltv    costs  \\\n",
              "0        2017-06-01      2023  2017-06-01  9557.49    0  4.724414  18015.0   \n",
              "1        2017-06-01      2023  2017-07-01   981.82    1  0.485329  18015.0   \n",
              "2        2017-06-01      2023  2017-08-01   885.34    2  0.437637  18015.0   \n",
              "3        2017-06-01      2023  2017-09-01  1931.30    3  0.954671  18015.0   \n",
              "4        2017-06-01      2023  2017-10-01  2068.58    4  1.022531  18015.0   \n",
              "\n",
              "        cac  \n",
              "0  8.905091  \n",
              "1  8.905091  \n",
              "2  8.905091  \n",
              "3  8.905091  \n",
              "4  8.905091  "
            ]
          },
          "metadata": {
            "tags": []
          },
          "execution_count": 38
        }
      ]
    },
    {
      "cell_type": "markdown",
      "metadata": {
        "id": "mw65TZONbxiL"
      },
      "source": [
        "Рассчитаем **ROMI** (возврат на инвестиции) по каждой когорте."
      ]
    },
    {
      "cell_type": "code",
      "metadata": {
        "colab": {
          "base_uri": "https://localhost:8080/",
          "height": 470
        },
        "id": "w8UI2KK_aUji",
        "outputId": "5d9c4e3b-f014-4bd5-98e1-08d2d4d40daf"
      },
      "source": [
        "# Поделим LTV на CAC:\n",
        "report_new['romi'] = report_new['ltv'] / report_new['cac']\n",
        "output = report_new.pivot_table(\n",
        "        index='first_order_month', \n",
        "        columns='age', \n",
        "        values='romi', \n",
        "        aggfunc='mean')\n",
        "\n",
        "print('Накопительный ROMI:')\n",
        "output.cumsum(axis=1).round(2).fillna('')"
      ],
      "execution_count": 39,
      "outputs": [
        {
          "output_type": "stream",
          "text": [
            "Накопительный ROMI:\n"
          ],
          "name": "stdout"
        },
        {
          "output_type": "execute_result",
          "data": {
            "text/html": [
              "<div>\n",
              "<style scoped>\n",
              "    .dataframe tbody tr th:only-of-type {\n",
              "        vertical-align: middle;\n",
              "    }\n",
              "\n",
              "    .dataframe tbody tr th {\n",
              "        vertical-align: top;\n",
              "    }\n",
              "\n",
              "    .dataframe thead th {\n",
              "        text-align: right;\n",
              "    }\n",
              "</style>\n",
              "<table border=\"1\" class=\"dataframe\">\n",
              "  <thead>\n",
              "    <tr style=\"text-align: right;\">\n",
              "      <th>age</th>\n",
              "      <th>0</th>\n",
              "      <th>1</th>\n",
              "      <th>2</th>\n",
              "      <th>3</th>\n",
              "      <th>4</th>\n",
              "      <th>5</th>\n",
              "      <th>6</th>\n",
              "      <th>7</th>\n",
              "      <th>8</th>\n",
              "      <th>9</th>\n",
              "      <th>10</th>\n",
              "      <th>11</th>\n",
              "    </tr>\n",
              "    <tr>\n",
              "      <th>first_order_month</th>\n",
              "      <th></th>\n",
              "      <th></th>\n",
              "      <th></th>\n",
              "      <th></th>\n",
              "      <th></th>\n",
              "      <th></th>\n",
              "      <th></th>\n",
              "      <th></th>\n",
              "      <th></th>\n",
              "      <th></th>\n",
              "      <th></th>\n",
              "      <th></th>\n",
              "    </tr>\n",
              "  </thead>\n",
              "  <tbody>\n",
              "    <tr>\n",
              "      <th>2017-06-01</th>\n",
              "      <td>0.53</td>\n",
              "      <td>0.59</td>\n",
              "      <td>0.63</td>\n",
              "      <td>0.74</td>\n",
              "      <td>0.86</td>\n",
              "      <td>0.94</td>\n",
              "      <td>1.05</td>\n",
              "      <td>1.11</td>\n",
              "      <td>1.17</td>\n",
              "      <td>1.24</td>\n",
              "      <td>1.31</td>\n",
              "      <td>1.33</td>\n",
              "    </tr>\n",
              "    <tr>\n",
              "      <th>2017-07-01</th>\n",
              "      <td>0.63</td>\n",
              "      <td>0.67</td>\n",
              "      <td>0.73</td>\n",
              "      <td>0.77</td>\n",
              "      <td>0.79</td>\n",
              "      <td>0.81</td>\n",
              "      <td>0.82</td>\n",
              "      <td>0.84</td>\n",
              "      <td>0.85</td>\n",
              "      <td>0.87</td>\n",
              "      <td>0.88</td>\n",
              "      <td></td>\n",
              "    </tr>\n",
              "    <tr>\n",
              "      <th>2017-08-01</th>\n",
              "      <td>0.49</td>\n",
              "      <td>0.53</td>\n",
              "      <td>0.57</td>\n",
              "      <td>0.61</td>\n",
              "      <td>0.66</td>\n",
              "      <td>0.68</td>\n",
              "      <td>0.7</td>\n",
              "      <td>0.74</td>\n",
              "      <td>0.77</td>\n",
              "      <td>0.78</td>\n",
              "      <td></td>\n",
              "      <td></td>\n",
              "    </tr>\n",
              "    <tr>\n",
              "      <th>2017-09-01</th>\n",
              "      <td>0.60</td>\n",
              "      <td>0.72</td>\n",
              "      <td>0.77</td>\n",
              "      <td>1.19</td>\n",
              "      <td>1.23</td>\n",
              "      <td>1.3</td>\n",
              "      <td>1.38</td>\n",
              "      <td>1.4</td>\n",
              "      <td>1.42</td>\n",
              "      <td></td>\n",
              "      <td></td>\n",
              "      <td></td>\n",
              "    </tr>\n",
              "    <tr>\n",
              "      <th>2017-10-01</th>\n",
              "      <td>0.60</td>\n",
              "      <td>0.66</td>\n",
              "      <td>0.68</td>\n",
              "      <td>0.7</td>\n",
              "      <td>0.72</td>\n",
              "      <td>0.74</td>\n",
              "      <td>0.75</td>\n",
              "      <td>0.76</td>\n",
              "      <td></td>\n",
              "      <td></td>\n",
              "      <td></td>\n",
              "      <td></td>\n",
              "    </tr>\n",
              "    <tr>\n",
              "      <th>2017-11-01</th>\n",
              "      <td>0.55</td>\n",
              "      <td>0.6</td>\n",
              "      <td>0.62</td>\n",
              "      <td>0.65</td>\n",
              "      <td>0.67</td>\n",
              "      <td>0.68</td>\n",
              "      <td>0.69</td>\n",
              "      <td></td>\n",
              "      <td></td>\n",
              "      <td></td>\n",
              "      <td></td>\n",
              "      <td></td>\n",
              "    </tr>\n",
              "    <tr>\n",
              "      <th>2017-12-01</th>\n",
              "      <td>0.54</td>\n",
              "      <td>0.57</td>\n",
              "      <td>0.68</td>\n",
              "      <td>0.8</td>\n",
              "      <td>0.84</td>\n",
              "      <td>0.87</td>\n",
              "      <td></td>\n",
              "      <td></td>\n",
              "      <td></td>\n",
              "      <td></td>\n",
              "      <td></td>\n",
              "      <td></td>\n",
              "    </tr>\n",
              "    <tr>\n",
              "      <th>2018-01-01</th>\n",
              "      <td>0.42</td>\n",
              "      <td>0.45</td>\n",
              "      <td>0.48</td>\n",
              "      <td>0.49</td>\n",
              "      <td>0.5</td>\n",
              "      <td></td>\n",
              "      <td></td>\n",
              "      <td></td>\n",
              "      <td></td>\n",
              "      <td></td>\n",
              "      <td></td>\n",
              "      <td></td>\n",
              "    </tr>\n",
              "    <tr>\n",
              "      <th>2018-02-01</th>\n",
              "      <td>0.46</td>\n",
              "      <td>0.49</td>\n",
              "      <td>0.5</td>\n",
              "      <td>0.51</td>\n",
              "      <td></td>\n",
              "      <td></td>\n",
              "      <td></td>\n",
              "      <td></td>\n",
              "      <td></td>\n",
              "      <td></td>\n",
              "      <td></td>\n",
              "      <td></td>\n",
              "    </tr>\n",
              "    <tr>\n",
              "      <th>2018-03-01</th>\n",
              "      <td>0.56</td>\n",
              "      <td>0.6</td>\n",
              "      <td>0.63</td>\n",
              "      <td></td>\n",
              "      <td></td>\n",
              "      <td></td>\n",
              "      <td></td>\n",
              "      <td></td>\n",
              "      <td></td>\n",
              "      <td></td>\n",
              "      <td></td>\n",
              "      <td></td>\n",
              "    </tr>\n",
              "    <tr>\n",
              "      <th>2018-04-01</th>\n",
              "      <td>0.48</td>\n",
              "      <td>0.53</td>\n",
              "      <td></td>\n",
              "      <td></td>\n",
              "      <td></td>\n",
              "      <td></td>\n",
              "      <td></td>\n",
              "      <td></td>\n",
              "      <td></td>\n",
              "      <td></td>\n",
              "      <td></td>\n",
              "      <td></td>\n",
              "    </tr>\n",
              "    <tr>\n",
              "      <th>2018-05-01</th>\n",
              "      <td>0.63</td>\n",
              "      <td></td>\n",
              "      <td></td>\n",
              "      <td></td>\n",
              "      <td></td>\n",
              "      <td></td>\n",
              "      <td></td>\n",
              "      <td></td>\n",
              "      <td></td>\n",
              "      <td></td>\n",
              "      <td></td>\n",
              "      <td></td>\n",
              "    </tr>\n",
              "  </tbody>\n",
              "</table>\n",
              "</div>"
            ],
            "text/plain": [
              "age                  0     1     2     3     4     5     6     7     8     9   \\\n",
              "first_order_month                                                               \n",
              "2017-06-01         0.53  0.59  0.63  0.74  0.86  0.94  1.05  1.11  1.17  1.24   \n",
              "2017-07-01         0.63  0.67  0.73  0.77  0.79  0.81  0.82  0.84  0.85  0.87   \n",
              "2017-08-01         0.49  0.53  0.57  0.61  0.66  0.68   0.7  0.74  0.77  0.78   \n",
              "2017-09-01         0.60  0.72  0.77  1.19  1.23   1.3  1.38   1.4  1.42         \n",
              "2017-10-01         0.60  0.66  0.68   0.7  0.72  0.74  0.75  0.76               \n",
              "2017-11-01         0.55   0.6  0.62  0.65  0.67  0.68  0.69                     \n",
              "2017-12-01         0.54  0.57  0.68   0.8  0.84  0.87                           \n",
              "2018-01-01         0.42  0.45  0.48  0.49   0.5                                 \n",
              "2018-02-01         0.46  0.49   0.5  0.51                                       \n",
              "2018-03-01         0.56   0.6  0.63                                             \n",
              "2018-04-01         0.48  0.53                                                   \n",
              "2018-05-01         0.63                                                         \n",
              "\n",
              "age                  10    11  \n",
              "first_order_month              \n",
              "2017-06-01         1.31  1.33  \n",
              "2017-07-01         0.88        \n",
              "2017-08-01                     \n",
              "2017-09-01                     \n",
              "2017-10-01                     \n",
              "2017-11-01                     \n",
              "2017-12-01                     \n",
              "2018-01-01                     \n",
              "2018-02-01                     \n",
              "2018-03-01                     \n",
              "2018-04-01                     \n",
              "2018-05-01                     "
            ]
          },
          "metadata": {
            "tags": []
          },
          "execution_count": 39
        }
      ]
    },
    {
      "cell_type": "markdown",
      "metadata": {
        "id": "mR-auztNchTL"
      },
      "source": [
        "Первая (июньская) когорта окупилась на 7-й месяц жизни, сентябрьская когорта - на 3-й месяц жизни (хорошо, что есть Новый Год), остальные окупиться не успели."
      ]
    },
    {
      "cell_type": "markdown",
      "metadata": {
        "id": "1myO0-BOdgre"
      },
      "source": [
        "## 3.3. Маркетинг "
      ]
    },
    {
      "cell_type": "markdown",
      "metadata": {
        "id": "2HQ8UaRvdlaI"
      },
      "source": [
        "Оценим финансовые результаты работы сервиса за рассматриваемый период."
      ]
    },
    {
      "cell_type": "code",
      "metadata": {
        "colab": {
          "base_uri": "https://localhost:8080/",
          "height": 861
        },
        "id": "X6za_shJaUfP",
        "outputId": "1b28c43d-9baf-403c-b758-84cbbdec24f5"
      },
      "source": [
        "# Сгруппируем затраты и заказы по месяцу:\n",
        "gross_profit_per_month = orders.groupby('order_month').agg(revunue=('revenue','sum')).reset_index()\n",
        "costs_per_month = costs.groupby('cost_month').agg(costs=('costs','sum')).reset_index()\n",
        "\n",
        "# Объединим ежемесячные затраты с выручкой и посчитаем результат:\n",
        "#totals_per_month = gross_profit_per_month.set_index('order_month').join(costs_per_month.set_index('cost_month'))\n",
        "totals_per_month = gross_profit_per_month.merge(costs_per_month, how='outer',  left_on='order_month', right_on='cost_month')\n",
        "totals_per_month['total'] = totals_per_month['revunue'] - totals_per_month['costs']\n",
        "totals_per_month.drop(['cost_month'], axis='columns', inplace=True)\n",
        "totals_per_month = totals_per_month.rename(columns={'order_month': 'month'})\n",
        "\n",
        "display(totals_per_month)\n",
        "print('Суммарная выручка:', round(totals_per_month['revunue'].sum(), 2))\n",
        "print('Суммарная выручка:', round(gross_profit_per_month['revunue'].sum(), 2))\n",
        "print('Суммарные затраты:', round(totals_per_month['costs'].sum(), 2))\n",
        "print('Суммарные затраты:', round(costs_per_month['costs'].sum(), 2))\n",
        "print('Суммарный результат:', round(totals_per_month['revunue'].sum() - totals_per_month['costs'].sum(), 2))\n",
        "\n",
        "totals_per_month = totals_per_month.set_index('month')\n",
        "totals_per_month.plot(figsize=(10,5), grid=True, style='o-', title='Выручка/Затраты и Результат')\n",
        "plt.xlabel('месяц')\n",
        "plt.ylabel('сумма')\n",
        "plt.show()"
      ],
      "execution_count": 40,
      "outputs": [
        {
          "output_type": "display_data",
          "data": {
            "text/html": [
              "<div>\n",
              "<style scoped>\n",
              "    .dataframe tbody tr th:only-of-type {\n",
              "        vertical-align: middle;\n",
              "    }\n",
              "\n",
              "    .dataframe tbody tr th {\n",
              "        vertical-align: top;\n",
              "    }\n",
              "\n",
              "    .dataframe thead th {\n",
              "        text-align: right;\n",
              "    }\n",
              "</style>\n",
              "<table border=\"1\" class=\"dataframe\">\n",
              "  <thead>\n",
              "    <tr style=\"text-align: right;\">\n",
              "      <th></th>\n",
              "      <th>month</th>\n",
              "      <th>revunue</th>\n",
              "      <th>costs</th>\n",
              "      <th>total</th>\n",
              "    </tr>\n",
              "  </thead>\n",
              "  <tbody>\n",
              "    <tr>\n",
              "      <th>0</th>\n",
              "      <td>2017-06-01</td>\n",
              "      <td>9557.49</td>\n",
              "      <td>18015.00</td>\n",
              "      <td>-8457.51</td>\n",
              "    </tr>\n",
              "    <tr>\n",
              "      <th>1</th>\n",
              "      <td>2017-07-01</td>\n",
              "      <td>12539.47</td>\n",
              "      <td>18240.59</td>\n",
              "      <td>-5701.12</td>\n",
              "    </tr>\n",
              "    <tr>\n",
              "      <th>2</th>\n",
              "      <td>2017-08-01</td>\n",
              "      <td>8758.78</td>\n",
              "      <td>14790.54</td>\n",
              "      <td>-6031.76</td>\n",
              "    </tr>\n",
              "    <tr>\n",
              "      <th>3</th>\n",
              "      <td>2017-09-01</td>\n",
              "      <td>18345.51</td>\n",
              "      <td>24368.91</td>\n",
              "      <td>-6023.40</td>\n",
              "    </tr>\n",
              "    <tr>\n",
              "      <th>4</th>\n",
              "      <td>2017-10-01</td>\n",
              "      <td>27987.70</td>\n",
              "      <td>36322.88</td>\n",
              "      <td>-8335.18</td>\n",
              "    </tr>\n",
              "    <tr>\n",
              "      <th>5</th>\n",
              "      <td>2017-11-01</td>\n",
              "      <td>27069.93</td>\n",
              "      <td>37907.88</td>\n",
              "      <td>-10837.95</td>\n",
              "    </tr>\n",
              "    <tr>\n",
              "      <th>6</th>\n",
              "      <td>2017-12-01</td>\n",
              "      <td>36388.60</td>\n",
              "      <td>38315.35</td>\n",
              "      <td>-1926.75</td>\n",
              "    </tr>\n",
              "    <tr>\n",
              "      <th>7</th>\n",
              "      <td>2018-01-01</td>\n",
              "      <td>19417.13</td>\n",
              "      <td>33518.52</td>\n",
              "      <td>-14101.39</td>\n",
              "    </tr>\n",
              "    <tr>\n",
              "      <th>8</th>\n",
              "      <td>2018-02-01</td>\n",
              "      <td>25560.54</td>\n",
              "      <td>32723.03</td>\n",
              "      <td>-7162.49</td>\n",
              "    </tr>\n",
              "    <tr>\n",
              "      <th>9</th>\n",
              "      <td>2018-03-01</td>\n",
              "      <td>28834.59</td>\n",
              "      <td>30415.27</td>\n",
              "      <td>-1580.68</td>\n",
              "    </tr>\n",
              "    <tr>\n",
              "      <th>10</th>\n",
              "      <td>2018-04-01</td>\n",
              "      <td>16858.06</td>\n",
              "      <td>22289.38</td>\n",
              "      <td>-5431.32</td>\n",
              "    </tr>\n",
              "    <tr>\n",
              "      <th>11</th>\n",
              "      <td>2018-05-01</td>\n",
              "      <td>20735.98</td>\n",
              "      <td>22224.27</td>\n",
              "      <td>-1488.29</td>\n",
              "    </tr>\n",
              "  </tbody>\n",
              "</table>\n",
              "</div>"
            ],
            "text/plain": [
              "        month   revunue     costs     total\n",
              "0  2017-06-01   9557.49  18015.00  -8457.51\n",
              "1  2017-07-01  12539.47  18240.59  -5701.12\n",
              "2  2017-08-01   8758.78  14790.54  -6031.76\n",
              "3  2017-09-01  18345.51  24368.91  -6023.40\n",
              "4  2017-10-01  27987.70  36322.88  -8335.18\n",
              "5  2017-11-01  27069.93  37907.88 -10837.95\n",
              "6  2017-12-01  36388.60  38315.35  -1926.75\n",
              "7  2018-01-01  19417.13  33518.52 -14101.39\n",
              "8  2018-02-01  25560.54  32723.03  -7162.49\n",
              "9  2018-03-01  28834.59  30415.27  -1580.68\n",
              "10 2018-04-01  16858.06  22289.38  -5431.32\n",
              "11 2018-05-01  20735.98  22224.27  -1488.29"
            ]
          },
          "metadata": {
            "tags": []
          }
        },
        {
          "output_type": "stream",
          "text": [
            "Суммарная выручка: 252053.78\n",
            "Суммарная выручка: 252053.78\n",
            "Суммарные затраты: 329131.62\n",
            "Суммарные затраты: 329131.62\n",
            "Суммарный результат: -77077.84\n"
          ],
          "name": "stdout"
        },
        {
          "output_type": "display_data",
          "data": {
            "image/png": "[encoded data removed]",
            "text/plain": [
              "<Figure size 720x360 with 1 Axes>"
            ]
          },
          "metadata": {
            "tags": []
          }
        }
      ]
    },
    {
      "cell_type": "markdown",
      "metadata": {
        "id": "iTQdUlQzdrRe"
      },
      "source": [
        "* За рассматриваемый период сервис сработал с убытком в -77077.84\n",
        "* Самые хорошие результаты с точки зрения разницы прибыли и убытков наблюдаются в декабре и марте."
      ]
    },
    {
      "cell_type": "code",
      "metadata": {
        "colab": {
          "base_uri": "https://localhost:8080/",
          "height": 521
        },
        "id": "wxVfzwNpaUbd",
        "outputId": "7dd95897-412f-4236-b4cd-e6381ded7273"
      },
      "source": [
        "# Рассмотрим суммарные затраты на рекламные источники:\n",
        "source_costs = costs.groupby('source_id')['costs'].sum()\n",
        "display(source_costs.sort_values(ascending=False))\n",
        "\n",
        "source_costs.plot(figsize=(10,5), grid=True, kind='bar', title='Суммарные затраты на рекламные источники')\n",
        "plt.xlabel('источник')\n",
        "plt.ylabel('затраты')\n",
        "plt.show()"
      ],
      "execution_count": 41,
      "outputs": [
        {
          "output_type": "display_data",
          "data": {
            "text/plain": [
              "source_id\n",
              "3     141321.63\n",
              "4      61073.60\n",
              "5      51757.10\n",
              "2      42806.04\n",
              "1      20833.27\n",
              "10      5822.49\n",
              "9       5517.49\n",
              "Name: costs, dtype: float64"
            ]
          },
          "metadata": {
            "tags": []
          }
        },
        {
          "output_type": "display_data",
          "data": {
            "image/png": "[encoded data removed]",
            "text/plain": [
              "<Figure size 720x360 with 1 Axes>"
            ]
          },
          "metadata": {
            "tags": []
          }
        }
      ]
    },
    {
      "cell_type": "markdown",
      "metadata": {
        "id": "-zPwgRxnd1Ll"
      },
      "source": [
        "\n",
        "* Больше всего денег было потрачено на 3-й рекламный источник, почти в 2 раза меньше - на 4-й, и в 3 раза меньше - на 5-й.\n",
        "* На 6-й, 7-й и 8-й рекламные источники деньги в рассматриваемый период не тратились."
      ]
    },
    {
      "cell_type": "markdown",
      "metadata": {
        "id": "zJMzsCYXd58u"
      },
      "source": [
        "Подсчитаем стоимость привлечения покупателя по каждому источнику."
      ]
    },
    {
      "cell_type": "code",
      "metadata": {
        "colab": {
          "base_uri": "https://localhost:8080/",
          "height": 204
        },
        "id": "TIQc1ypAaUXL",
        "outputId": "429cd8f6-98a9-47ae-b2c2-06507ae4debe"
      },
      "source": [
        "# Составим справочник с источниками, через которые пользователи впервые попали на площадку сервиса:\n",
        "source_per_user = visits.groupby(['uid','source_id']).agg({'start_ts':'min'}).reset_index()\n",
        "source_per_user = source_per_user.sort_values(['uid','start_ts'], ascending=[True,True]).drop_duplicates('uid')\n",
        "source_per_user.drop(['start_ts'], axis='columns', inplace=True)\n",
        "\n",
        "display(source_per_user.head(5))"
      ],
      "execution_count": 42,
      "outputs": [
        {
          "output_type": "display_data",
          "data": {
            "text/html": [
              "<div>\n",
              "<style scoped>\n",
              "    .dataframe tbody tr th:only-of-type {\n",
              "        vertical-align: middle;\n",
              "    }\n",
              "\n",
              "    .dataframe tbody tr th {\n",
              "        vertical-align: top;\n",
              "    }\n",
              "\n",
              "    .dataframe thead th {\n",
              "        text-align: right;\n",
              "    }\n",
              "</style>\n",
              "<table border=\"1\" class=\"dataframe\">\n",
              "  <thead>\n",
              "    <tr style=\"text-align: right;\">\n",
              "      <th></th>\n",
              "      <th>uid</th>\n",
              "      <th>source_id</th>\n",
              "    </tr>\n",
              "  </thead>\n",
              "  <tbody>\n",
              "    <tr>\n",
              "      <th>0</th>\n",
              "      <td>11863502262781</td>\n",
              "      <td>3</td>\n",
              "    </tr>\n",
              "    <tr>\n",
              "      <th>1</th>\n",
              "      <td>49537067089222</td>\n",
              "      <td>2</td>\n",
              "    </tr>\n",
              "    <tr>\n",
              "      <th>2</th>\n",
              "      <td>297729379853735</td>\n",
              "      <td>3</td>\n",
              "    </tr>\n",
              "    <tr>\n",
              "      <th>3</th>\n",
              "      <td>313578113262317</td>\n",
              "      <td>2</td>\n",
              "    </tr>\n",
              "    <tr>\n",
              "      <th>4</th>\n",
              "      <td>325320750514679</td>\n",
              "      <td>5</td>\n",
              "    </tr>\n",
              "  </tbody>\n",
              "</table>\n",
              "</div>"
            ],
            "text/plain": [
              "               uid  source_id\n",
              "0   11863502262781          3\n",
              "1   49537067089222          2\n",
              "2  297729379853735          3\n",
              "3  313578113262317          2\n",
              "4  325320750514679          5"
            ]
          },
          "metadata": {
            "tags": []
          }
        }
      ]
    },
    {
      "cell_type": "code",
      "metadata": {
        "colab": {
          "base_uri": "https://localhost:8080/",
          "height": 204
        },
        "id": "9NaE86_raUS8",
        "outputId": "ca171e7b-5ba2-4474-d091-c07bf61999a6"
      },
      "source": [
        "# Добавим в таблицу с заказами информацию о рекламном источнике, через который пользователь впервые попал на сервис:\n",
        "orders = orders.merge(source_per_user, on='uid', how='left')\n",
        "display(orders.head())"
      ],
      "execution_count": 43,
      "outputs": [
        {
          "output_type": "display_data",
          "data": {
            "text/html": [
              "<div>\n",
              "<style scoped>\n",
              "    .dataframe tbody tr th:only-of-type {\n",
              "        vertical-align: middle;\n",
              "    }\n",
              "\n",
              "    .dataframe tbody tr th {\n",
              "        vertical-align: top;\n",
              "    }\n",
              "\n",
              "    .dataframe thead th {\n",
              "        text-align: right;\n",
              "    }\n",
              "</style>\n",
              "<table border=\"1\" class=\"dataframe\">\n",
              "  <thead>\n",
              "    <tr style=\"text-align: right;\">\n",
              "      <th></th>\n",
              "      <th>buy_ts</th>\n",
              "      <th>revenue</th>\n",
              "      <th>uid</th>\n",
              "      <th>first_order_date</th>\n",
              "      <th>first_order_month</th>\n",
              "      <th>order_month</th>\n",
              "      <th>source_id</th>\n",
              "    </tr>\n",
              "  </thead>\n",
              "  <tbody>\n",
              "    <tr>\n",
              "      <th>0</th>\n",
              "      <td>2017-06-01 00:10:00</td>\n",
              "      <td>17.00</td>\n",
              "      <td>10329302124590727494</td>\n",
              "      <td>2017-06-01 00:10:00</td>\n",
              "      <td>2017-06-01</td>\n",
              "      <td>2017-06-01</td>\n",
              "      <td>1</td>\n",
              "    </tr>\n",
              "    <tr>\n",
              "      <th>1</th>\n",
              "      <td>2017-06-01 00:25:00</td>\n",
              "      <td>0.55</td>\n",
              "      <td>11627257723692907447</td>\n",
              "      <td>2017-06-01 00:25:00</td>\n",
              "      <td>2017-06-01</td>\n",
              "      <td>2017-06-01</td>\n",
              "      <td>2</td>\n",
              "    </tr>\n",
              "    <tr>\n",
              "      <th>2</th>\n",
              "      <td>2017-06-01 00:27:00</td>\n",
              "      <td>0.37</td>\n",
              "      <td>17903680561304213844</td>\n",
              "      <td>2017-06-01 00:27:00</td>\n",
              "      <td>2017-06-01</td>\n",
              "      <td>2017-06-01</td>\n",
              "      <td>2</td>\n",
              "    </tr>\n",
              "    <tr>\n",
              "      <th>3</th>\n",
              "      <td>2017-06-01 00:29:00</td>\n",
              "      <td>0.55</td>\n",
              "      <td>16109239769442553005</td>\n",
              "      <td>2017-06-01 00:29:00</td>\n",
              "      <td>2017-06-01</td>\n",
              "      <td>2017-06-01</td>\n",
              "      <td>2</td>\n",
              "    </tr>\n",
              "    <tr>\n",
              "      <th>4</th>\n",
              "      <td>2017-06-01 07:58:00</td>\n",
              "      <td>0.37</td>\n",
              "      <td>14200605875248379450</td>\n",
              "      <td>2017-06-01 07:58:00</td>\n",
              "      <td>2017-06-01</td>\n",
              "      <td>2017-06-01</td>\n",
              "      <td>3</td>\n",
              "    </tr>\n",
              "  </tbody>\n",
              "</table>\n",
              "</div>"
            ],
            "text/plain": [
              "               buy_ts  revenue                   uid    first_order_date  \\\n",
              "0 2017-06-01 00:10:00    17.00  10329302124590727494 2017-06-01 00:10:00   \n",
              "1 2017-06-01 00:25:00     0.55  11627257723692907447 2017-06-01 00:25:00   \n",
              "2 2017-06-01 00:27:00     0.37  17903680561304213844 2017-06-01 00:27:00   \n",
              "3 2017-06-01 00:29:00     0.55  16109239769442553005 2017-06-01 00:29:00   \n",
              "4 2017-06-01 07:58:00     0.37  14200605875248379450 2017-06-01 07:58:00   \n",
              "\n",
              "  first_order_month order_month  source_id  \n",
              "0        2017-06-01  2017-06-01          1  \n",
              "1        2017-06-01  2017-06-01          2  \n",
              "2        2017-06-01  2017-06-01          2  \n",
              "3        2017-06-01  2017-06-01          2  \n",
              "4        2017-06-01  2017-06-01          3  "
            ]
          },
          "metadata": {
            "tags": []
          }
        }
      ]
    },
    {
      "cell_type": "code",
      "metadata": {
        "colab": {
          "base_uri": "https://localhost:8080/",
          "height": 670
        },
        "id": "dQADvGvjaUP4",
        "outputId": "2e59d2ae-00e4-47f1-e0f3-138e1c85b5bf"
      },
      "source": [
        "# Подсчитаем количество покупателей из каждого источника, а также суммарную выручку по источнику:\n",
        "source_result = orders.groupby('source_id').agg({'revenue':'sum','uid':'nunique'}).reset_index()\n",
        "source_result.columns = ('source_id','revenue','nusers')\n",
        "\n",
        "# Добавим затраты:\n",
        "source_result = source_result.merge(source_costs, on='source_id', how='outer')\n",
        "\n",
        "# Рассчитаем среднюю стоимость привлечения пользователя по источнику:\n",
        "source_result['costs_per_user'] = source_result['costs'] / source_result['nusers']\n",
        "\n",
        "# Рассчитаем среднюю выручку с каждого пользователя по источнику:\n",
        "source_result['revenue_per_user'] = source_result['revenue'] / source_result['nusers']\n",
        "\n",
        "source_result = source_result.set_index('source_id')\n",
        "display(source_result)\n",
        "\n",
        "source_result[['revenue','costs']].plot(figsize=(10,5), grid=True, kind='bar', title='Выручка и затраты на рекламные источники')\n",
        "plt.xlabel('рекламный источник')\n",
        "plt.ylabel('сумма')\n",
        "plt.show()"
      ],
      "execution_count": 44,
      "outputs": [
        {
          "output_type": "display_data",
          "data": {
            "text/html": [
              "<div>\n",
              "<style scoped>\n",
              "    .dataframe tbody tr th:only-of-type {\n",
              "        vertical-align: middle;\n",
              "    }\n",
              "\n",
              "    .dataframe tbody tr th {\n",
              "        vertical-align: top;\n",
              "    }\n",
              "\n",
              "    .dataframe thead th {\n",
              "        text-align: right;\n",
              "    }\n",
              "</style>\n",
              "<table border=\"1\" class=\"dataframe\">\n",
              "  <thead>\n",
              "    <tr style=\"text-align: right;\">\n",
              "      <th></th>\n",
              "      <th>revenue</th>\n",
              "      <th>nusers</th>\n",
              "      <th>costs</th>\n",
              "      <th>costs_per_user</th>\n",
              "      <th>revenue_per_user</th>\n",
              "    </tr>\n",
              "    <tr>\n",
              "      <th>source_id</th>\n",
              "      <th></th>\n",
              "      <th></th>\n",
              "      <th></th>\n",
              "      <th></th>\n",
              "      <th></th>\n",
              "    </tr>\n",
              "  </thead>\n",
              "  <tbody>\n",
              "    <tr>\n",
              "      <th>1</th>\n",
              "      <td>31090.55</td>\n",
              "      <td>2899</td>\n",
              "      <td>20833.27</td>\n",
              "      <td>7.186364</td>\n",
              "      <td>10.724577</td>\n",
              "    </tr>\n",
              "    <tr>\n",
              "      <th>2</th>\n",
              "      <td>46923.61</td>\n",
              "      <td>3506</td>\n",
              "      <td>42806.04</td>\n",
              "      <td>12.209367</td>\n",
              "      <td>13.383802</td>\n",
              "    </tr>\n",
              "    <tr>\n",
              "      <th>3</th>\n",
              "      <td>54511.24</td>\n",
              "      <td>10473</td>\n",
              "      <td>141321.63</td>\n",
              "      <td>13.493901</td>\n",
              "      <td>5.204931</td>\n",
              "    </tr>\n",
              "    <tr>\n",
              "      <th>4</th>\n",
              "      <td>56693.41</td>\n",
              "      <td>10295</td>\n",
              "      <td>61073.60</td>\n",
              "      <td>5.932356</td>\n",
              "      <td>5.506888</td>\n",
              "    </tr>\n",
              "    <tr>\n",
              "      <th>5</th>\n",
              "      <td>52624.02</td>\n",
              "      <td>6931</td>\n",
              "      <td>51757.10</td>\n",
              "      <td>7.467479</td>\n",
              "      <td>7.592558</td>\n",
              "    </tr>\n",
              "    <tr>\n",
              "      <th>7</th>\n",
              "      <td>1.22</td>\n",
              "      <td>1</td>\n",
              "      <td>NaN</td>\n",
              "      <td>NaN</td>\n",
              "      <td>1.220000</td>\n",
              "    </tr>\n",
              "    <tr>\n",
              "      <th>9</th>\n",
              "      <td>5759.40</td>\n",
              "      <td>1088</td>\n",
              "      <td>5517.49</td>\n",
              "      <td>5.071222</td>\n",
              "      <td>5.293566</td>\n",
              "    </tr>\n",
              "    <tr>\n",
              "      <th>10</th>\n",
              "      <td>4450.33</td>\n",
              "      <td>1329</td>\n",
              "      <td>5822.49</td>\n",
              "      <td>4.381106</td>\n",
              "      <td>3.348631</td>\n",
              "    </tr>\n",
              "  </tbody>\n",
              "</table>\n",
              "</div>"
            ],
            "text/plain": [
              "            revenue  nusers      costs  costs_per_user  revenue_per_user\n",
              "source_id                                                               \n",
              "1          31090.55    2899   20833.27        7.186364         10.724577\n",
              "2          46923.61    3506   42806.04       12.209367         13.383802\n",
              "3          54511.24   10473  141321.63       13.493901          5.204931\n",
              "4          56693.41   10295   61073.60        5.932356          5.506888\n",
              "5          52624.02    6931   51757.10        7.467479          7.592558\n",
              "7              1.22       1        NaN             NaN          1.220000\n",
              "9           5759.40    1088    5517.49        5.071222          5.293566\n",
              "10          4450.33    1329    5822.49        4.381106          3.348631"
            ]
          },
          "metadata": {
            "tags": []
          }
        },
        {
          "output_type": "display_data",
          "data": {
            "image/png": "[encoded data removed]",
            "text/plain": [
              "<Figure size 720x360 with 1 Axes>"
            ]
          },
          "metadata": {
            "tags": []
          }
        }
      ]
    },
    {
      "cell_type": "markdown",
      "metadata": {
        "id": "98b8fjnceS42"
      },
      "source": [
        "* Связь между затратами и выручкой по источнику не наблюдается.\n",
        "* Больше всего покупателей пришло из 3-го, 4-го и 5-го рекламного источника."
      ]
    },
    {
      "cell_type": "code",
      "metadata": {
        "colab": {
          "base_uri": "https://localhost:8080/",
          "height": 359
        },
        "id": "xsyr7gS1aUKV",
        "outputId": "183d0534-9dc1-459b-fd05-9517341dd184"
      },
      "source": [
        "# Посмотрим график средней стоимости привлечения и средней выручки с покупателя по источнику:\n",
        "source_result[['costs_per_user', 'revenue_per_user']].plot(figsize=(10,5), grid=True, kind='bar', title='Стоимость привлечения и выручка с покупателя по источнику')\n",
        "plt.xlabel('рекламный источник')\n",
        "plt.ylabel('сумма')\n",
        "plt.show()"
      ],
      "execution_count": 45,
      "outputs": [
        {
          "output_type": "display_data",
          "data": {
            "image/png": "[encoded data removed]",
            "text/plain": [
              "<Figure size 720x360 with 1 Axes>"
            ]
          },
          "metadata": {
            "tags": []
          }
        }
      ]
    },
    {
      "cell_type": "markdown",
      "metadata": {
        "id": "rCs4pFUNeZyB"
      },
      "source": [
        "\n",
        "* Наибольшей отдачей отличаются 1-й и 2-й рекламные источники. 5-й и 9-й тоже в плюсе, но небольшом.\n",
        "* Затраты на 3-й источник явно не оправдали себя."
      ]
    },
    {
      "cell_type": "markdown",
      "metadata": {
        "id": "ODdlcjtVefff"
      },
      "source": [
        "Посчитаем ROI (окупаемость расходов) по рекламным источникам."
      ]
    },
    {
      "cell_type": "code",
      "metadata": {
        "colab": {
          "base_uri": "https://localhost:8080/"
        },
        "id": "0i7byjJqeQ9P",
        "outputId": "6a82b409-0868-45a9-fbf7-72c61481c0e5"
      },
      "source": [
        "source_result['roi'] = source_result['revenue'] / source_result['costs'] # точка окупаемости: 100%\n",
        "print(round(source_result['roi'] * 100),2)"
      ],
      "execution_count": 46,
      "outputs": [
        {
          "output_type": "stream",
          "text": [
            "source_id\n",
            "1     149.0\n",
            "2     110.0\n",
            "3      39.0\n",
            "4      93.0\n",
            "5     102.0\n",
            "7       NaN\n",
            "9     104.0\n",
            "10     76.0\n",
            "Name: roi, dtype: float64 2\n"
          ],
          "name": "stdout"
        }
      ]
    },
    {
      "cell_type": "markdown",
      "metadata": {
        "id": "KPUkJYCnelQu"
      },
      "source": [
        "* Окупились только 1-й, 2-й, 9-й и 5-й источники.\n",
        "* Самым невыгодным оказался 3-й источник - вложения в него окупились только на 39%."
      ]
    },
    {
      "cell_type": "markdown",
      "metadata": {
        "id": "Hb2eQlzKeqSm"
      },
      "source": [
        "\n",
        "Рассмотрим статистику использования платформ."
      ]
    },
    {
      "cell_type": "code",
      "metadata": {
        "colab": {
          "base_uri": "https://localhost:8080/",
          "height": 142
        },
        "id": "mnVEeAGTeQ4I",
        "outputId": "96f9cac1-5dde-4d22-f19b-1bd8a160d634"
      },
      "source": [
        "visits.groupby(['device']).agg({'uid':'count', 'session_duration_sec':'mean'})"
      ],
      "execution_count": 47,
      "outputs": [
        {
          "output_type": "execute_result",
          "data": {
            "text/html": [
              "<div>\n",
              "<style scoped>\n",
              "    .dataframe tbody tr th:only-of-type {\n",
              "        vertical-align: middle;\n",
              "    }\n",
              "\n",
              "    .dataframe tbody tr th {\n",
              "        vertical-align: top;\n",
              "    }\n",
              "\n",
              "    .dataframe thead th {\n",
              "        text-align: right;\n",
              "    }\n",
              "</style>\n",
              "<table border=\"1\" class=\"dataframe\">\n",
              "  <thead>\n",
              "    <tr style=\"text-align: right;\">\n",
              "      <th></th>\n",
              "      <th>uid</th>\n",
              "      <th>session_duration_sec</th>\n",
              "    </tr>\n",
              "    <tr>\n",
              "      <th>device</th>\n",
              "      <th></th>\n",
              "      <th></th>\n",
              "    </tr>\n",
              "  </thead>\n",
              "  <tbody>\n",
              "    <tr>\n",
              "      <th>desktop</th>\n",
              "      <td>262567</td>\n",
              "      <td>703.946977</td>\n",
              "    </tr>\n",
              "    <tr>\n",
              "      <th>touch</th>\n",
              "      <td>96833</td>\n",
              "      <td>479.619407</td>\n",
              "    </tr>\n",
              "  </tbody>\n",
              "</table>\n",
              "</div>"
            ],
            "text/plain": [
              "            uid  session_duration_sec\n",
              "device                               \n",
              "desktop  262567            703.946977\n",
              "touch     96833            479.619407"
            ]
          },
          "metadata": {
            "tags": []
          },
          "execution_count": 47
        }
      ]
    },
    {
      "cell_type": "markdown",
      "metadata": {
        "id": "ubPGNSB4ew9h"
      },
      "source": [
        "* Больше 70% пользователей заходят на Афишу через компьютер.\n",
        "* Средняя продолжительность посещений через компьютер почти в 1.5 раза выше, чем через телефон."
      ]
    },
    {
      "cell_type": "code",
      "metadata": {
        "colab": {
          "base_uri": "https://localhost:8080/",
          "height": 160
        },
        "id": "4Oo0gvckeQzR",
        "outputId": "b3332134-37b1-48a6-ff4b-68cf619f5685"
      },
      "source": [
        "print('Средняя продолжительность сессии (зависимость от платформы и источника):')\n",
        "visits.pivot_table(index='device', columns='source_id', values='session_duration_sec', aggfunc='mean')"
      ],
      "execution_count": 48,
      "outputs": [
        {
          "output_type": "stream",
          "text": [
            "Средняя продолжительность сессии (зависимость от платформы и источника):\n"
          ],
          "name": "stdout"
        },
        {
          "output_type": "execute_result",
          "data": {
            "text/html": [
              "<div>\n",
              "<style scoped>\n",
              "    .dataframe tbody tr th:only-of-type {\n",
              "        vertical-align: middle;\n",
              "    }\n",
              "\n",
              "    .dataframe tbody tr th {\n",
              "        vertical-align: top;\n",
              "    }\n",
              "\n",
              "    .dataframe thead th {\n",
              "        text-align: right;\n",
              "    }\n",
              "</style>\n",
              "<table border=\"1\" class=\"dataframe\">\n",
              "  <thead>\n",
              "    <tr style=\"text-align: right;\">\n",
              "      <th>source_id</th>\n",
              "      <th>1</th>\n",
              "      <th>2</th>\n",
              "      <th>3</th>\n",
              "      <th>4</th>\n",
              "      <th>5</th>\n",
              "      <th>6</th>\n",
              "      <th>7</th>\n",
              "      <th>9</th>\n",
              "      <th>10</th>\n",
              "    </tr>\n",
              "    <tr>\n",
              "      <th>device</th>\n",
              "      <th></th>\n",
              "      <th></th>\n",
              "      <th></th>\n",
              "      <th></th>\n",
              "      <th></th>\n",
              "      <th></th>\n",
              "      <th></th>\n",
              "      <th></th>\n",
              "      <th></th>\n",
              "    </tr>\n",
              "  </thead>\n",
              "  <tbody>\n",
              "    <tr>\n",
              "      <th>desktop</th>\n",
              "      <td>1132.429404</td>\n",
              "      <td>924.798519</td>\n",
              "      <td>616.623060</td>\n",
              "      <td>615.062212</td>\n",
              "      <td>573.544529</td>\n",
              "      <td>1608.0</td>\n",
              "      <td>642.857143</td>\n",
              "      <td>612.250618</td>\n",
              "      <td>736.028777</td>\n",
              "    </tr>\n",
              "    <tr>\n",
              "      <th>touch</th>\n",
              "      <td>746.105596</td>\n",
              "      <td>606.039866</td>\n",
              "      <td>429.546866</td>\n",
              "      <td>450.478743</td>\n",
              "      <td>387.555536</td>\n",
              "      <td>180.0</td>\n",
              "      <td>480.000000</td>\n",
              "      <td>445.312223</td>\n",
              "      <td>458.493604</td>\n",
              "    </tr>\n",
              "  </tbody>\n",
              "</table>\n",
              "</div>"
            ],
            "text/plain": [
              "source_id           1           2           3           4           5   \\\n",
              "device                                                                   \n",
              "desktop    1132.429404  924.798519  616.623060  615.062212  573.544529   \n",
              "touch       746.105596  606.039866  429.546866  450.478743  387.555536   \n",
              "\n",
              "source_id      6           7           9           10  \n",
              "device                                                 \n",
              "desktop    1608.0  642.857143  612.250618  736.028777  \n",
              "touch       180.0  480.000000  445.312223  458.493604  "
            ]
          },
          "metadata": {
            "tags": []
          },
          "execution_count": 48
        }
      ]
    },
    {
      "cell_type": "markdown",
      "metadata": {
        "id": "wL1vaaKVe5oo"
      },
      "source": [
        "* Пользователи, зашедшие с компьютера, в среднем пользуются сервисом дольше тех, кто зашёл с телефона - по всем рекламным источникам.\n",
        "* Максимальная продолжительность наблюдается среди пользователей, зашедших на сервис с компьютера через 6-й рекламный источник. Там же наблюдается минимальная продолжительность среди тех, кто вошёл с телефона."
      ]
    },
    {
      "cell_type": "markdown",
      "metadata": {
        "id": "aFA5XAd-fCrE"
      },
      "source": [
        "# 4. Общий вывод "
      ]
    },
    {
      "cell_type": "markdown",
      "metadata": {
        "id": "98zRIUesfFdE"
      },
      "source": [
        "Итак, мы детально исследовали доступные данные и определили следующие показатели работы сервиса:\n",
        "\n",
        "**Посещаемость:**\n",
        "\n",
        "* В среднем на пользователя приходится в 1.28 сесиий в месяц, т.е. из четырёх человек только один заходит на Афишу два раза в месяц, остальные - единожды.\n",
        "* Среднее количество уникальных пользователей в месяц - 23230, количество сессий - 29959. По неделям и дням показатели следующие:\n",
        "* Среднее количество пользователей в неделю - 5715, среднее количество сессий - 6780.\n",
        "* Среднее количесво пользователей в день - 900, сессий - 990.\n",
        "\n",
        "**Продолжительность сессии:** \n",
        "\n",
        "Чаще всего сессия пользователя длится 60 секунд вне зависимости от платформы. При этом средняя продолжительность сессии на компьютере в 2 раза больше, чем на другой платформе (360 против 180 секунд).\n",
        "\n",
        "**Показатели удержания пользователя:**\n",
        "\n",
        "* Sticky factor:\n",
        " * DAU/WAU (week sticky factor): 15.88%\n",
        " * DAU/MAU (month sticky factor): 3.91% Вероятность того, что новый привлеченный пользователь останется в продукте (month sticky factor) - довольно мала.\n",
        " * Retention Rate (коэффициент удержания) также крайне низкий и с течением времени падает (как внутри когорты, так и от когорты к когорте).\n",
        "\n",
        "**Продажи:**\n",
        "\n",
        "* Доля пользователей, совершивших хотя бы одну покупку: 16.01%\n",
        "* Большинство пользователей совершают покупку в день своей первой сессии.\n",
        "* После первого месяца количество покупателей в когорте резко снижается.\n",
        "* Оставшиеся в сервисе покупатели совершают максимум 1.5-2 покупки в месяц\n",
        "* При этом лояльные пользователи первой когорты (те, кто в итоге совершил более одной покупки) покупали почти в 2 раза больше пользователей из других когорт.\n",
        "\n",
        "*Средний чек*\n",
        "\n",
        "* Средний чек первой покупки в каждой когорте меньше следующего.\n",
        "* Средний чек июньской когорты почти ежемесячно (кроме декабря, апреля и мая) больше среднего чека других когорт. Возможно, данные пользователи попали в какую-то программу лояльности/акцию/рассылку, которая повлияла на последующие покупки.\n",
        "* В декабре выделяется средний чек сентябрьской когорты - 138.7 на покупателя. * В целом, в декабре средний чек почти всех когорт выше предыдущего - высокий предновогодний сезон в самом разгаре.\n",
        "* В декабрьской когорте, начиная с февраля, наблюдаются высокие значения среднего чека - возможно, данные пользователи стали участниками удачной маркетинговой кампании.\n",
        "\n",
        "*LTV по когортам*\n",
        "\n",
        "* Больше всего прибыли в среднем принесли пользователи сентябрьской когорты (за счёт крупной покупки в декабре).\n",
        "* Не принимая в расчёт сентябрьскую когорту, в целом прослеживается снижение прибыли на пользователя от когорте к когорте.\n",
        "* Первая (июньская) когорта окупилась на 7-й месяц жизни, сентябрьская когорта - на 3-й месяц жизни (хорошо, что есть Новый Год), остальные окупиться не успели.\n",
        "\n",
        "**Маркетинг:**\n",
        "\n",
        "* За рассматриваемый период сервис сработал с убытком в -77077.84\n",
        "* Самые хорошие результаты с точки зрения разницы прибыли и убытков наблюдаются в декабре и марте (там убыток был минимальным).\n",
        "\n",
        "*Рекламные источники*\n",
        "\n",
        "* Больше всего денег было потрачено на 3-й рекламный источник, почти в 2 раза меньше - на 4-й, и в 3 раза меньше - на 5-й.\n",
        "* На 6-й, 7-й и 8-й рекламные источники деньги в рассматриваемый период не тратились.\n",
        "\n",
        "*Выручка и затраты на рекламные источники:*\n",
        "\n",
        "* Связь между затратами и выручкой по источнику не наблюдается.\n",
        "* Больше всего покупателей пришло из 3-го, 4-го и 5-го рекламного источника.\n",
        "\n",
        "*Стоимость привлечения и выручка с покупателя по источнику:*\n",
        "\n",
        "* Наибольшей отдачей отличаются 1-й и 2-й рекламные источники. 5-й и 9-й тоже в плюсе, но небольшом.\n",
        "* Затраты на 3-й источник явно не оправдали себя.\n",
        "\n",
        "*ROI:*\n",
        "* Окупились только 1-й, 2-й, 9-й и 5-й источники.\n",
        "* Самым невыгодным оказался 3-й источник - вложения в него окупились только на 39%.\n",
        "\n",
        "**Платформы**\n",
        "\n",
        "* Более 70% пользователей заходят на Афишу через компьютер.\n",
        "* Средняя продолжительность посещений через компьютер почти в 1.5 раза больше, чем через телефон.\n",
        "* Пользователи, зашедшие с компьютера, в среднем пользуются сервисом дольше тех, кто зашёл с телефона - по всем рекламным источникам.\n",
        "* Максимальная продолжительность наблюдается среди пользователей, зашедших на сервис с компьютера через 6-й рекламный источник. Там же наблюдается минимальная продолжительность среди тех, кто вошёл с телефона.\n",
        "\n",
        "**Итоги**\n",
        "\n",
        "За рассматриваемый период сервис сработал с убытком, коэффициент удержания пользователей крайне низкий - есть над чем поработать.\n",
        "\n",
        "Имеет смысл обратить внимание на пользователей, совершивших первую покупку в июне 2017 года - их ежемесячный средний чек выше средних чеков почти всех остальных когорт - возможно, имела место какая-то маркетинговая кампания, показавшая хорошие результаты. То же касается и декабрьской когорты, в которой, начиная с февраля, наблюдаются высокие значения среднего чека.\n",
        "\n",
        "Учитывая, что большинство покупателей попали на сервис через 3-й, 4-й и 5-й рекламные источники, а окупился из них только 5-й, стоит вложится именно в него. Также стоит обратить внимание на 1-й и 2-й рекламные источники, окупившиеся в рассматриваемый период.\n",
        "\n",
        "Т.к. более 70% пользователей заходят на Афишу через компьютер и средняя продолжительность сессии выше именно на этой платформе, стоит ориентироваться на неё."
      ]
    }
  ]
}